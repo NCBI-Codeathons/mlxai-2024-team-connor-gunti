{
 "cells": [
  {
   "cell_type": "raw",
   "id": "703eef2f-5756-4734-9ff3-d5a2ad0c3e3c",
   "metadata": {},
   "source": [
    "needs at least n1-highmem-8 (52GB RAM)"
   ]
  },
  {
   "cell_type": "raw",
   "id": "44e096cd-d319-41c4-9260-9fc15eed2c10",
   "metadata": {},
   "source": [
    "!pip3 install rouge-score"
   ]
  },
  {
   "cell_type": "code",
   "execution_count": 1,
   "id": "adad5cb8-e005-4fe1-91fb-ffe9ac3eb275",
   "metadata": {},
   "outputs": [],
   "source": [
    "#from rouge import Rouge\n",
    "from nltk.metrics.distance import jaccard_distance\n",
    "from rouge_score import rouge_scorer"
   ]
  },
  {
   "cell_type": "code",
   "execution_count": 2,
   "id": "93863984-5216-46e7-b003-ed3be8bdae78",
   "metadata": {},
   "outputs": [],
   "source": [
    "import os\n",
    "import re\n",
    "import sys\n",
    "import pandas as pd\n",
    "import numpy as np\n",
    "import multiprocessing as mp\n",
    "import tqdm as progressbar"
   ]
  },
  {
   "cell_type": "code",
   "execution_count": 3,
   "id": "095095b6-9057-400e-a314-b1d463086d43",
   "metadata": {},
   "outputs": [],
   "source": [
    "df = pd.read_csv('../preprocessed/attribute.seqs.tsv', sep = '\\t', names=['name', 'text'], dtype=object, encoding='utf-8').dropna()"
   ]
  },
  {
   "cell_type": "code",
   "execution_count": 11,
   "id": "1f18f4b0-249a-43d0-b21c-d4d82133dbd7",
   "metadata": {},
   "outputs": [],
   "source": [
    "classes=df.groupby(by=[\"name\"]).count().reset_index()\n",
    "sorted_classes = classes.sort_values(by='text', ascending=False).name.tolist()"
   ]
  },
  {
   "cell_type": "code",
   "execution_count": 5,
   "id": "2987099f-d44c-4879-9195-221a407f84a8",
   "metadata": {},
   "outputs": [],
   "source": [
    "!mkdir -p ../attributes/ ../scores"
   ]
  },
  {
   "cell_type": "code",
   "execution_count": 6,
   "id": "0ed1d24d-9704-4260-9409-a7d0edb381fe",
   "metadata": {},
   "outputs": [],
   "source": [
    "rouger1 = rouge_scorer.RougeScorer(['rouge1'], use_stemmer=True)"
   ]
  },
  {
   "cell_type": "code",
   "execution_count": 7,
   "id": "c85133b8-b3ff-4e6a-b1d4-cbb127c2841e",
   "metadata": {},
   "outputs": [],
   "source": [
    "def dump_attributes():\n",
    "    for a in sorted_classes:\n",
    "        data = df[df.name == a].text.to_frame()\n",
    "        \n",
    "        if data.shape[0] < 1:\n",
    "            print(f'WARNING: {a} has zero elements?!')\n",
    "            continue\n",
    "        \n",
    "        data.to_csv(f'../attributes/{a}.entries.tsv', sep = '\\t', index=False, header=False)\n",
    "dump_attributes()"
   ]
  },
  {
   "cell_type": "code",
   "execution_count": 8,
   "id": "c3c21dd3-08a4-4b0f-8646-3db4eb1c4fe8",
   "metadata": {},
   "outputs": [
    {
     "name": "stdout",
     "output_type": "stream",
     "text": [
      "-rw-r--r-- 1 juno juno 780776 Feb 29 04:09 ../attributes/description_sam.entries.tsv\n",
      "-rw-r--r-- 1 juno juno 331733 Feb 29 04:09 ../attributes/misc_param_sam.entries.tsv\n",
      "-rw-r--r-- 1 juno juno 115265 Feb 29 04:09 ../attributes/bio_material_sam.entries.tsv\n"
     ]
    }
   ],
   "source": [
    "!ls -altr ../attributes/*.entries.tsv|head -3"
   ]
  },
  {
   "cell_type": "code",
   "execution_count": 9,
   "id": "f68521e7-fc64-45e6-b4ba-bb446ff2679e",
   "metadata": {},
   "outputs": [],
   "source": [
    "def r_scorer(a):\n",
    "    chunk = pd.read_csv(f'../attributes/{a}.entries.tsv', sep = '\\t', names=['text'])\n",
    "\n",
    "    sentences = chunk.text.values.tolist()\n",
    "    dim = len(sentences)\n",
    "\n",
    "    rou = np.zeros((dim, dim)).astype(np.float32)\n",
    "\n",
    "    tokens = [set(s.split()) for s in sentences]\n",
    "\n",
    "    for i, j in zip(*np.tril_indices(dim, -1)):\n",
    "        rou[i, j] = rouger1.score(sentences[j], sentences[i])['rouge1'].precision\n",
    "            \n",
    "    np.save(f'../scores/{a}.rouge1.scores', rou, allow_pickle = False)"
   ]
  },
  {
   "cell_type": "code",
   "execution_count": 21,
   "id": "1b20c2c4-b739-49e7-a0ad-bc12c4e6ef31",
   "metadata": {},
   "outputs": [],
   "source": [
    "def j_scorer(a):\n",
    "    chunk = pd.read_csv(f'../attributes/{a}.entries.tsv', sep = '\\t', names=['text'])\n",
    "\n",
    "    sentences = chunk.text.values.tolist()\n",
    "    dim = len(sentences)\n",
    "\n",
    "    jac = np.zeros((dim, dim)).astype(np.float32)\n",
    "\n",
    "    tokens = [set(s.split()) for s in sentences]\n",
    "\n",
    "    for i, j in zip(*np.tril_indices(dim, -1)):\n",
    "        jac[i, j] = 1 - jaccard_distance(tokens[j], tokens[i])\n",
    "            \n",
    "    np.save(f'../scores/{a}.jaccard.scores.tsv', jac, allow_pickle = False)"
   ]
  },
  {
   "cell_type": "raw",
   "id": "74944354-9ef4-4ef8-9cc7-d9bea4510e5e",
   "metadata": {},
   "source": [
    "To parallize use something like\n",
    "while read line; do echo - $line -; python3 scorer.py --score rouge --attr $line & done <a.list\n",
    "while read line; do echo - $line -; python3 scorer.py --score jaccard --attr $line & done <a.list"
   ]
  }
 ],
 "metadata": {
  "kernelspec": {
   "display_name": "Python 3 (ipykernel)",
   "language": "python",
   "name": "python3"
  },
  "language_info": {
   "codemirror_mode": {
    "name": "ipython",
    "version": 3
   },
   "file_extension": ".py",
   "mimetype": "text/x-python",
   "name": "python",
   "nbconvert_exporter": "python",
   "pygments_lexer": "ipython3",
   "version": "3.10.12"
  }
 },
 "nbformat": 4,
 "nbformat_minor": 5
}
