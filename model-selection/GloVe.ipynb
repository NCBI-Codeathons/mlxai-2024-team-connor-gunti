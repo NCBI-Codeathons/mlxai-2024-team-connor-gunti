{
 "cells": [
  {
   "cell_type": "code",
   "execution_count": 1,
   "id": "d6263262-2101-4900-b5fd-3f681ce083e2",
   "metadata": {},
   "outputs": [],
   "source": [
    "import os\n",
    "import re\n",
    "import sys\n",
    "import pandas as pd\n",
    "import numpy as np\n",
    "import torchtext\n",
    "import seaborn as sns\n",
    "import matplotlib.pyplot as plt\n",
    "import pickle\n",
    "from nltk.tokenize import word_tokenize\n",
    "from tqdm import tqdm as progressbar\n",
    "from scipy.spatial import distance"
   ]
  },
  {
   "cell_type": "markdown",
   "id": "4fcdbd6f-cbb2-438b-9d27-fbc8422da95c",
   "metadata": {},
   "source": [
    "### Loading preprocessed deduped data"
   ]
  },
  {
   "cell_type": "code",
   "execution_count": 2,
   "id": "710dae4f-33e9-4002-84eb-13c871064183",
   "metadata": {},
   "outputs": [],
   "source": [
    "df = pd.read_csv('../preprocessed/attribute.seqs.tsv', sep = '\\t', names=['name', 'text'], dtype=object, encoding='utf-8').dropna()"
   ]
  },
  {
   "cell_type": "code",
   "execution_count": 3,
   "id": "6d2432ea-3a96-4e05-850b-a046dde16ef0",
   "metadata": {},
   "outputs": [
    {
     "data": {
      "text/html": [
       "<div>\n",
       "<style scoped>\n",
       "    .dataframe tbody tr th:only-of-type {\n",
       "        vertical-align: middle;\n",
       "    }\n",
       "\n",
       "    .dataframe tbody tr th {\n",
       "        vertical-align: top;\n",
       "    }\n",
       "\n",
       "    .dataframe thead th {\n",
       "        text-align: right;\n",
       "    }\n",
       "</style>\n",
       "<table border=\"1\" class=\"dataframe\">\n",
       "  <thead>\n",
       "    <tr style=\"text-align: right;\">\n",
       "      <th></th>\n",
       "      <th>name</th>\n",
       "      <th>text</th>\n",
       "    </tr>\n",
       "  </thead>\n",
       "  <tbody>\n",
       "    <tr>\n",
       "      <th>22</th>\n",
       "      <td>isolate_run</td>\n",
       "      <td>4483</td>\n",
       "    </tr>\n",
       "    <tr>\n",
       "      <th>29</th>\n",
       "      <td>sample_comment_sam</td>\n",
       "      <td>5003</td>\n",
       "    </tr>\n",
       "    <tr>\n",
       "      <th>0</th>\n",
       "      <td>bio_material_sam</td>\n",
       "      <td>9295</td>\n",
       "    </tr>\n",
       "    <tr>\n",
       "      <th>24</th>\n",
       "      <td>misc_param_sam</td>\n",
       "      <td>10739</td>\n",
       "    </tr>\n",
       "    <tr>\n",
       "      <th>10</th>\n",
       "      <td>description_sam</td>\n",
       "      <td>17233</td>\n",
       "    </tr>\n",
       "  </tbody>\n",
       "</table>\n",
       "</div>"
      ],
      "text/plain": [
       "                  name   text\n",
       "22         isolate_run   4483\n",
       "29  sample_comment_sam   5003\n",
       "0     bio_material_sam   9295\n",
       "24      misc_param_sam  10739\n",
       "10     description_sam  17233"
      ]
     },
     "execution_count": 3,
     "metadata": {},
     "output_type": "execute_result"
    }
   ],
   "source": [
    "classes=df.groupby(by=[\"name\"]).count().reset_index()\n",
    "classes_sorted = classes.sort_values(by='text', ascending=True) #.name.values\n",
    "classes_sorted.tail(5)"
   ]
  },
  {
   "cell_type": "markdown",
   "id": "8851c189-71b2-46f7-bf90-6d0af6748dfd",
   "metadata": {},
   "source": [
    "### Loading pretrained FASTEXT"
   ]
  },
  {
   "cell_type": "code",
   "execution_count": 4,
   "id": "59f5b2cd-bb2d-46ab-bf3c-fe2ea691172a",
   "metadata": {},
   "outputs": [],
   "source": [
    "NAMESPACE='glove'"
   ]
  },
  {
   "cell_type": "code",
   "execution_count": 9,
   "id": "f269fb1b-496c-4bc1-b806-4489a4440e7a",
   "metadata": {},
   "outputs": [
    {
     "name": "stderr",
     "output_type": "stream",
     "text": [
      ".vector_cache/glove.6B.zip: 862MB [02:40, 5.37MB/s]                               \n",
      "100%|█████████▉| 399999/400000 [00:11<00:00, 35459.07it/s]\n"
     ]
    }
   ],
   "source": [
    "pretrained_vectors = torchtext.vocab.GloVe(name='6B', dim=50)"
   ]
  },
  {
   "cell_type": "markdown",
   "id": "1f76e460-4aef-4c17-8e9d-caf45adbe03c",
   "metadata": {},
   "source": [
    "### Making directories to keep results"
   ]
  },
  {
   "cell_type": "code",
   "execution_count": 10,
   "id": "ad2c9f4e-70b8-4e06-89e2-ababa25283a6",
   "metadata": {},
   "outputs": [],
   "source": [
    "!mkdir -p ../results/$NAMESPACE-similarity-matrix ../results/$NAMESPACE-similar-pairs"
   ]
  },
  {
   "cell_type": "code",
   "execution_count": 11,
   "id": "23aee1bc-26b5-4bb5-8936-03d867d72815",
   "metadata": {},
   "outputs": [
    {
     "name": "stdout",
     "output_type": "stream",
     "text": [
      "../results/glove-similar-pairs:\n",
      "total 0\n",
      "\n",
      "../results/glove-similarity-matrix:\n",
      "total 0\n"
     ]
    }
   ],
   "source": [
    "!ls -l ../results/$NAMESPACE-similarity-matrix ../results/$NAMESPACE-similar-pairs"
   ]
  },
  {
   "cell_type": "markdown",
   "id": "148c1f67-ac14-4080-949b-b592a8bb58e3",
   "metadata": {},
   "source": [
    "## Checking vocabulary overlap  \n",
    "Looks like FASTTEXT has n-gram vocab to expore, here we will consider just plane unigram/word."
   ]
  },
  {
   "cell_type": "code",
   "execution_count": 12,
   "id": "b24e9984-ae97-479e-ace2-98ee4cb1dc0f",
   "metadata": {},
   "outputs": [
    {
     "name": "stdout",
     "output_type": "stream",
     "text": [
      "The autoreload extension is already loaded. To reload it, use:\n",
      "  %reload_ext autoreload\n"
     ]
    }
   ],
   "source": [
    "%load_ext autoreload\n",
    "%autoreload 2\n",
    "\n",
    "from vocaverlap import VocabOverlap"
   ]
  },
  {
   "cell_type": "code",
   "execution_count": 13,
   "id": "cc09a4de-fc00-4b02-8e0b-be08dc2aac88",
   "metadata": {},
   "outputs": [
    {
     "name": "stdout",
     "output_type": "stream",
     "text": [
      "CPU times: user 269 ms, sys: 11.9 ms, total: 281 ms\n",
      "Wall time: 280 ms\n"
     ]
    }
   ],
   "source": [
    "%%time        \n",
    "def if_oov(t):\n",
    "    return t not in pretrained_vectors\n",
    "\n",
    "vo = VocabOverlap(df[['name', 'text']].values).apply(if_oov)\n",
    "\n",
    "with open(f'../preprocessed/attribute.token-freqs.{NAMESPACE}.info.pickle', 'wb') as f:\n",
    "    pickle.dump(vo.info, f, protocol=pickle.HIGHEST_PROTOCOL)"
   ]
  },
  {
   "cell_type": "raw",
   "id": "01b91b3c-3635-4fdf-8637-b14738b68ef6",
   "metadata": {
    "scrolled": true
   },
   "source": [
    "!ls -l ../preprocessed/attribute.token-freqs.*"
   ]
  },
  {
   "cell_type": "code",
   "execution_count": 14,
   "id": "efee5e68-0032-4262-a820-9cdf19df5456",
   "metadata": {},
   "outputs": [],
   "source": [
    "distribution = []\n",
    "\n",
    "for k, v in vo.info.items():\n",
    "    distribution.append([k, 1-v['oov_tokens']/v['tokens'], 1-v['oov_uniq']/v['uniq']])\n",
    "\n",
    "distribution = sorted(distribution, key=lambda x :x[2], reverse=True)\n",
    "df_distribution = pd.DataFrame(distribution, columns = ['name', 'r_tokens', 'r_uniq'])"
   ]
  },
  {
   "cell_type": "code",
   "execution_count": 15,
   "id": "e3b25660-8648-4a7a-9610-a3076a1dacad",
   "metadata": {},
   "outputs": [
    {
     "data": {
      "image/png": "[encoded data removed]",
      "text/plain": [
       "<Figure size 1500x500 with 1 Axes>"
      ]
     },
     "metadata": {},
     "output_type": "display_data"
    }
   ],
   "source": [
    "plt.figure(figsize=(15,5))\n",
    "plt.plot(df_distribution['r_uniq'])\n",
    "plt.plot(df_distribution['r_tokens'])\n",
    "plt.title('Pretrained FastText vocabulary fitness')\n",
    "plt.xticks(range(0, df_distribution.shape[0]), df_distribution['name'], rotation='vertical')\n",
    "plt.legend(['Tokens Uniq/OOV ratio', 'Token Total/OOV ratio'], loc='lower left')\n",
    "plt.show()"
   ]
  },
  {
   "cell_type": "code",
   "execution_count": 16,
   "id": "48a4f248-5767-45c5-aaf7-e67dd7cae78c",
   "metadata": {},
   "outputs": [],
   "source": [
    "good_overlap = df_distribution[df_distribution.r_uniq>0.75]\n",
    "good_overlap.to_csv(f'../preprocessed/attribute.{NAMESPACE}.75.overlap.tsv', sep = '\\t', index=False, header=False)"
   ]
  },
  {
   "cell_type": "markdown",
   "id": "0edcbee6-f0a5-46b1-a5a2-027bdda8984f",
   "metadata": {},
   "source": [
    "### Making similarity matrixes and top similar pairs per attribute"
   ]
  },
  {
   "cell_type": "raw",
   "id": "e5515cc5-7312-4f4c-b068-913dfccda3e5",
   "metadata": {},
   "source": [
    "import warnings\n",
    "warnings.filterwarnings(\"ignore\", category=DeprecationWarning)"
   ]
  },
  {
   "cell_type": "code",
   "execution_count": 17,
   "id": "69c9fe82-d213-47f9-9216-46900978dec8",
   "metadata": {},
   "outputs": [],
   "source": [
    "def get_norm_sentence_vector(sentence):\n",
    "    vec = np.sum(np.stack([pretrained_vectors[t].numpy() for t in sentence.split()]), axis=0)\n",
    "    norm = np.linalg.norm(vec)\n",
    "    if norm>0:\n",
    "        return vec/norm\n",
    "    return vec\n",
    "\n",
    "def get_mean_sentence_vector(sentence):\n",
    "    return np.mean(np.stack([pretrained_vectors[t].numpy() for t in sentence.split()]), axis=0)"
   ]
  },
  {
   "cell_type": "code",
   "execution_count": 18,
   "id": "8ce43b94-59bc-4411-843b-1949c160cb10",
   "metadata": {},
   "outputs": [],
   "source": [
    "def embed(row):\n",
    "    return get_mean_sentence_vector(row.text)"
   ]
  },
  {
   "cell_type": "code",
   "execution_count": 19,
   "id": "ab8c7de4-d58a-4979-9e15-0edcc71de43a",
   "metadata": {},
   "outputs": [
    {
     "name": "stdout",
     "output_type": "stream",
     "text": [
      " description_sam                                             : 100%|██████████| 42/42 [02:22<00:00,  3.40s/it]\n",
      "CPU times: user 2min 27s, sys: 8.59 s, total: 2min 36s\n",
      "Wall time: 2min 22s\n"
     ]
    }
   ],
   "source": [
    "%%time\n",
    "for a in (pb := progressbar(classes_sorted.name.values, total=len(classes_sorted), file=sys.stdout)):\n",
    "    pb.set_description(f' {a:60s}')\n",
    "    \n",
    "    data = df[df.name == a]\n",
    "\n",
    "    # skipping misc_param_sam for time sake\n",
    "    if data.shape[0] < 1 or a == 'misc_param_sam':\n",
    "        continue\n",
    "    \n",
    "    sentences = data.text.values.tolist()\n",
    "    embeddings = data.apply(embed, axis=1, result_type='expand')\n",
    "    embeddings = embeddings/np.linalg.norm(embeddings, axis=1, keepdims=True)\n",
    "    matrix = np.matmul(embeddings, embeddings.T)\n",
    "    \n",
    "    np.save(f'../results/{NAMESPACE}-similarity-matrix/{NAMESPACE}-{a}.similarity-score-matrix', matrix, allow_pickle = False)\n",
    "\n",
    "    scores = []\n",
    "    x = np.tril(matrix, k=-1)\n",
    "    for r, c in zip(*np.where(x>0.7)):\n",
    "        scores.append([a, x[r, c], sentences[r], sentences[c]])\n",
    "        \n",
    "    pd.DataFrame(scores, columns=['attr', \n",
    "                                  'score', \n",
    "                                  's1', \n",
    "                                  's2']).to_csv(f'../results/{NAMESPACE}-similar-pairs/{NAMESPACE}-{a}.similar-pairs.tsv', sep = '\\t', index=False)\n"
   ]
  },
  {
   "cell_type": "code",
   "execution_count": 20,
   "id": "6244ffb4-1bfa-4b0a-8c95-b9d3d2ef5551",
   "metadata": {},
   "outputs": [
    {
     "name": "stdout",
     "output_type": "stream",
     "text": [
      "../results/glove-similarity-matrix/glove-bio_material_sam.similarity-score-matrix.npy\n",
      "../results/glove-similarity-matrix/glove-biological_material_preprocessing_sam.similarity-score-matrix.npy\n",
      "../results/glove-similarity-matrix/glove-collection_label_sam.similarity-score-matrix.npy\n",
      "../results/glove-similarity-matrix/glove-comments_sam.similarity-score-matrix.npy\n",
      "../results/glove-similarity-matrix/glove-conductivity_sam.similarity-score-matrix.npy\n",
      "../results/glove-similarity-matrix/glove-corrected_species_name_sam.similarity-score-matrix.npy\n",
      "../results/glove-similarity-matrix/glove-coverage_sam.similarity-score-matrix.npy\n",
      "../results/glove-similarity-matrix/glove-date_of_birth_sam.similarity-score-matrix.npy\n",
      "../results/glove-similarity-matrix/glove-derived_from_sam.similarity-score-matrix.npy\n",
      "../results/glove-similarity-matrix/glove-description_exp.similarity-score-matrix.npy\n",
      "../results/glove-similarity-matrix/glove-description_sam.similarity-score-matrix.npy\n",
      "../results/glove-similarity-matrix/glove-descriptor_sam.similarity-score-matrix.npy\n",
      "../results/glove-similarity-matrix/glove-details_sam.similarity-score-matrix.npy\n",
      "../results/glove-similarity-matrix/glove-diagnostic_pcr_ct_value_1_sam.similarity-score-matrix.npy\n",
      "../results/glove-similarity-matrix/glove-dissolved_oxygen_sam.similarity-score-matrix.npy\n",
      "../results/glove-similarity-matrix/glove-experimental_factor__rna_interference_exp.similarity-score-matrix.npy\n",
      "../results/glove-similarity-matrix/glove-experimental_factor__strain_exp.similarity-score-matrix.npy\n",
      "../results/glove-similarity-matrix/glove-extra_info_sam.similarity-score-matrix.npy\n",
      "../results/glove-similarity-matrix/glove-fiber_sam.similarity-score-matrix.npy\n",
      "../results/glove-similarity-matrix/glove-glucose_sam.similarity-score-matrix.npy\n",
      "../results/glove-similarity-matrix/glove-host_exp.similarity-score-matrix.npy\n",
      "../results/glove-similarity-matrix/glove-host_scietific_nam_sam.similarity-score-matrix.npy\n",
      "../results/glove-similarity-matrix/glove-isolate_run.similarity-score-matrix.npy\n",
      "../results/glove-similarity-matrix/glove-isolation_site_sam.similarity-score-matrix.npy\n",
      "../results/glove-similarity-matrix/glove-mlst__scheme_sam.similarity-score-matrix.npy\n",
      "../results/glove-similarity-matrix/glove-nitrate_sam.similarity-score-matrix.npy\n",
      "../results/glove-similarity-matrix/glove-redox_potential_sam.similarity-score-matrix.npy\n",
      "../results/glove-similarity-matrix/glove-replicate_group_sam.similarity-score-matrix.npy\n",
      "../results/glove-similarity-matrix/glove-sample_comment_sam.similarity-score-matrix.npy\n",
      "../results/glove-similarity-matrix/glove-sampling_date_run.similarity-score-matrix.npy\n",
      "../results/glove-similarity-matrix/glove-sequence_sam.similarity-score-matrix.npy\n",
      "../results/glove-similarity-matrix/glove-single_cell_sam.similarity-score-matrix.npy\n",
      "../results/glove-similarity-matrix/glove-specimen_sam.similarity-score-matrix.npy\n",
      "../results/glove-similarity-matrix/glove-subsrc_note_sam.similarity-score-matrix.npy\n",
      "../results/glove-similarity-matrix/glove-symptom_sam.similarity-score-matrix.npy\n",
      "../results/glove-similarity-matrix/glove-taxonomy_species_sam.similarity-score-matrix.npy\n",
      "../results/glove-similarity-matrix/glove-time_of_collection_sam.similarity-score-matrix.npy\n",
      "../results/glove-similarity-matrix/glove-tretment_sam.similarity-score-matrix.npy\n",
      "../results/glove-similarity-matrix/glove-tumor_size_sam.similarity-score-matrix.npy\n",
      "../results/glove-similarity-matrix/glove-water_content_sam.similarity-score-matrix.npy\n",
      "../results/glove-similarity-matrix/glove-ww_surv_target_1_conc_sam.similarity-score-matrix.npy\n"
     ]
    }
   ],
   "source": [
    "!ls ../results/$NAMESPACE-similarity-matrix/*"
   ]
  },
  {
   "cell_type": "code",
   "execution_count": null,
   "id": "eb17dd61-4a42-41bc-a3db-9dc16cb6ddad",
   "metadata": {},
   "outputs": [],
   "source": []
  }
 ],
 "metadata": {
  "availableInstances": [
   {
    "_defaultOrder": 0,
    "_isFastLaunch": true,
    "category": "General purpose",
    "gpuNum": 0,
    "hideHardwareSpecs": false,
    "memoryGiB": 4,
    "name": "ml.t3.medium",
    "vcpuNum": 2
   },
   {
    "_defaultOrder": 1,
    "_isFastLaunch": false,
    "category": "General purpose",
    "gpuNum": 0,
    "hideHardwareSpecs": false,
    "memoryGiB": 8,
    "name": "ml.t3.large",
    "vcpuNum": 2
   },
   {
    "_defaultOrder": 2,
    "_isFastLaunch": false,
    "category": "General purpose",
    "gpuNum": 0,
    "hideHardwareSpecs": false,
    "memoryGiB": 16,
    "name": "ml.t3.xlarge",
    "vcpuNum": 4
   },
   {
    "_defaultOrder": 3,
    "_isFastLaunch": false,
    "category": "General purpose",
    "gpuNum": 0,
    "hideHardwareSpecs": false,
    "memoryGiB": 32,
    "name": "ml.t3.2xlarge",
    "vcpuNum": 8
   },
   {
    "_defaultOrder": 4,
    "_isFastLaunch": true,
    "category": "General purpose",
    "gpuNum": 0,
    "hideHardwareSpecs": false,
    "memoryGiB": 8,
    "name": "ml.m5.large",
    "vcpuNum": 2
   },
   {
    "_defaultOrder": 5,
    "_isFastLaunch": false,
    "category": "General purpose",
    "gpuNum": 0,
    "hideHardwareSpecs": false,
    "memoryGiB": 16,
    "name": "ml.m5.xlarge",
    "vcpuNum": 4
   },
   {
    "_defaultOrder": 6,
    "_isFastLaunch": false,
    "category": "General purpose",
    "gpuNum": 0,
    "hideHardwareSpecs": false,
    "memoryGiB": 32,
    "name": "ml.m5.2xlarge",
    "vcpuNum": 8
   },
   {
    "_defaultOrder": 7,
    "_isFastLaunch": false,
    "category": "General purpose",
    "gpuNum": 0,
    "hideHardwareSpecs": false,
    "memoryGiB": 64,
    "name": "ml.m5.4xlarge",
    "vcpuNum": 16
   },
   {
    "_defaultOrder": 8,
    "_isFastLaunch": false,
    "category": "General purpose",
    "gpuNum": 0,
    "hideHardwareSpecs": false,
    "memoryGiB": 128,
    "name": "ml.m5.8xlarge",
    "vcpuNum": 32
   },
   {
    "_defaultOrder": 9,
    "_isFastLaunch": false,
    "category": "General purpose",
    "gpuNum": 0,
    "hideHardwareSpecs": false,
    "memoryGiB": 192,
    "name": "ml.m5.12xlarge",
    "vcpuNum": 48
   },
   {
    "_defaultOrder": 10,
    "_isFastLaunch": false,
    "category": "General purpose",
    "gpuNum": 0,
    "hideHardwareSpecs": false,
    "memoryGiB": 256,
    "name": "ml.m5.16xlarge",
    "vcpuNum": 64
   },
   {
    "_defaultOrder": 11,
    "_isFastLaunch": false,
    "category": "General purpose",
    "gpuNum": 0,
    "hideHardwareSpecs": false,
    "memoryGiB": 384,
    "name": "ml.m5.24xlarge",
    "vcpuNum": 96
   },
   {
    "_defaultOrder": 12,
    "_isFastLaunch": false,
    "category": "General purpose",
    "gpuNum": 0,
    "hideHardwareSpecs": false,
    "memoryGiB": 8,
    "name": "ml.m5d.large",
    "vcpuNum": 2
   },
   {
    "_defaultOrder": 13,
    "_isFastLaunch": false,
    "category": "General purpose",
    "gpuNum": 0,
    "hideHardwareSpecs": false,
    "memoryGiB": 16,
    "name": "ml.m5d.xlarge",
    "vcpuNum": 4
   },
   {
    "_defaultOrder": 14,
    "_isFastLaunch": false,
    "category": "General purpose",
    "gpuNum": 0,
    "hideHardwareSpecs": false,
    "memoryGiB": 32,
    "name": "ml.m5d.2xlarge",
    "vcpuNum": 8
   },
   {
    "_defaultOrder": 15,
    "_isFastLaunch": false,
    "category": "General purpose",
    "gpuNum": 0,
    "hideHardwareSpecs": false,
    "memoryGiB": 64,
    "name": "ml.m5d.4xlarge",
    "vcpuNum": 16
   },
   {
    "_defaultOrder": 16,
    "_isFastLaunch": false,
    "category": "General purpose",
    "gpuNum": 0,
    "hideHardwareSpecs": false,
    "memoryGiB": 128,
    "name": "ml.m5d.8xlarge",
    "vcpuNum": 32
   },
   {
    "_defaultOrder": 17,
    "_isFastLaunch": false,
    "category": "General purpose",
    "gpuNum": 0,
    "hideHardwareSpecs": false,
    "memoryGiB": 192,
    "name": "ml.m5d.12xlarge",
    "vcpuNum": 48
   },
   {
    "_defaultOrder": 18,
    "_isFastLaunch": false,
    "category": "General purpose",
    "gpuNum": 0,
    "hideHardwareSpecs": false,
    "memoryGiB": 256,
    "name": "ml.m5d.16xlarge",
    "vcpuNum": 64
   },
   {
    "_defaultOrder": 19,
    "_isFastLaunch": false,
    "category": "General purpose",
    "gpuNum": 0,
    "hideHardwareSpecs": false,
    "memoryGiB": 384,
    "name": "ml.m5d.24xlarge",
    "vcpuNum": 96
   },
   {
    "_defaultOrder": 20,
    "_isFastLaunch": false,
    "category": "General purpose",
    "gpuNum": 0,
    "hideHardwareSpecs": true,
    "memoryGiB": 0,
    "name": "ml.geospatial.interactive",
    "supportedImageNames": [
     "sagemaker-geospatial-v1-0"
    ],
    "vcpuNum": 0
   },
   {
    "_defaultOrder": 21,
    "_isFastLaunch": true,
    "category": "Compute optimized",
    "gpuNum": 0,
    "hideHardwareSpecs": false,
    "memoryGiB": 4,
    "name": "ml.c5.large",
    "vcpuNum": 2
   },
   {
    "_defaultOrder": 22,
    "_isFastLaunch": false,
    "category": "Compute optimized",
    "gpuNum": 0,
    "hideHardwareSpecs": false,
    "memoryGiB": 8,
    "name": "ml.c5.xlarge",
    "vcpuNum": 4
   },
   {
    "_defaultOrder": 23,
    "_isFastLaunch": false,
    "category": "Compute optimized",
    "gpuNum": 0,
    "hideHardwareSpecs": false,
    "memoryGiB": 16,
    "name": "ml.c5.2xlarge",
    "vcpuNum": 8
   },
   {
    "_defaultOrder": 24,
    "_isFastLaunch": false,
    "category": "Compute optimized",
    "gpuNum": 0,
    "hideHardwareSpecs": false,
    "memoryGiB": 32,
    "name": "ml.c5.4xlarge",
    "vcpuNum": 16
   },
   {
    "_defaultOrder": 25,
    "_isFastLaunch": false,
    "category": "Compute optimized",
    "gpuNum": 0,
    "hideHardwareSpecs": false,
    "memoryGiB": 72,
    "name": "ml.c5.9xlarge",
    "vcpuNum": 36
   },
   {
    "_defaultOrder": 26,
    "_isFastLaunch": false,
    "category": "Compute optimized",
    "gpuNum": 0,
    "hideHardwareSpecs": false,
    "memoryGiB": 96,
    "name": "ml.c5.12xlarge",
    "vcpuNum": 48
   },
   {
    "_defaultOrder": 27,
    "_isFastLaunch": false,
    "category": "Compute optimized",
    "gpuNum": 0,
    "hideHardwareSpecs": false,
    "memoryGiB": 144,
    "name": "ml.c5.18xlarge",
    "vcpuNum": 72
   },
   {
    "_defaultOrder": 28,
    "_isFastLaunch": false,
    "category": "Compute optimized",
    "gpuNum": 0,
    "hideHardwareSpecs": false,
    "memoryGiB": 192,
    "name": "ml.c5.24xlarge",
    "vcpuNum": 96
   },
   {
    "_defaultOrder": 29,
    "_isFastLaunch": true,
    "category": "Accelerated computing",
    "gpuNum": 1,
    "hideHardwareSpecs": false,
    "memoryGiB": 16,
    "name": "ml.g4dn.xlarge",
    "vcpuNum": 4
   },
   {
    "_defaultOrder": 30,
    "_isFastLaunch": false,
    "category": "Accelerated computing",
    "gpuNum": 1,
    "hideHardwareSpecs": false,
    "memoryGiB": 32,
    "name": "ml.g4dn.2xlarge",
    "vcpuNum": 8
   },
   {
    "_defaultOrder": 31,
    "_isFastLaunch": false,
    "category": "Accelerated computing",
    "gpuNum": 1,
    "hideHardwareSpecs": false,
    "memoryGiB": 64,
    "name": "ml.g4dn.4xlarge",
    "vcpuNum": 16
   },
   {
    "_defaultOrder": 32,
    "_isFastLaunch": false,
    "category": "Accelerated computing",
    "gpuNum": 1,
    "hideHardwareSpecs": false,
    "memoryGiB": 128,
    "name": "ml.g4dn.8xlarge",
    "vcpuNum": 32
   },
   {
    "_defaultOrder": 33,
    "_isFastLaunch": false,
    "category": "Accelerated computing",
    "gpuNum": 4,
    "hideHardwareSpecs": false,
    "memoryGiB": 192,
    "name": "ml.g4dn.12xlarge",
    "vcpuNum": 48
   },
   {
    "_defaultOrder": 34,
    "_isFastLaunch": false,
    "category": "Accelerated computing",
    "gpuNum": 1,
    "hideHardwareSpecs": false,
    "memoryGiB": 256,
    "name": "ml.g4dn.16xlarge",
    "vcpuNum": 64
   },
   {
    "_defaultOrder": 35,
    "_isFastLaunch": false,
    "category": "Accelerated computing",
    "gpuNum": 1,
    "hideHardwareSpecs": false,
    "memoryGiB": 61,
    "name": "ml.p3.2xlarge",
    "vcpuNum": 8
   },
   {
    "_defaultOrder": 36,
    "_isFastLaunch": false,
    "category": "Accelerated computing",
    "gpuNum": 4,
    "hideHardwareSpecs": false,
    "memoryGiB": 244,
    "name": "ml.p3.8xlarge",
    "vcpuNum": 32
   },
   {
    "_defaultOrder": 37,
    "_isFastLaunch": false,
    "category": "Accelerated computing",
    "gpuNum": 8,
    "hideHardwareSpecs": false,
    "memoryGiB": 488,
    "name": "ml.p3.16xlarge",
    "vcpuNum": 64
   },
   {
    "_defaultOrder": 38,
    "_isFastLaunch": false,
    "category": "Accelerated computing",
    "gpuNum": 8,
    "hideHardwareSpecs": false,
    "memoryGiB": 768,
    "name": "ml.p3dn.24xlarge",
    "vcpuNum": 96
   },
   {
    "_defaultOrder": 39,
    "_isFastLaunch": false,
    "category": "Memory Optimized",
    "gpuNum": 0,
    "hideHardwareSpecs": false,
    "memoryGiB": 16,
    "name": "ml.r5.large",
    "vcpuNum": 2
   },
   {
    "_defaultOrder": 40,
    "_isFastLaunch": false,
    "category": "Memory Optimized",
    "gpuNum": 0,
    "hideHardwareSpecs": false,
    "memoryGiB": 32,
    "name": "ml.r5.xlarge",
    "vcpuNum": 4
   },
   {
    "_defaultOrder": 41,
    "_isFastLaunch": false,
    "category": "Memory Optimized",
    "gpuNum": 0,
    "hideHardwareSpecs": false,
    "memoryGiB": 64,
    "name": "ml.r5.2xlarge",
    "vcpuNum": 8
   },
   {
    "_defaultOrder": 42,
    "_isFastLaunch": false,
    "category": "Memory Optimized",
    "gpuNum": 0,
    "hideHardwareSpecs": false,
    "memoryGiB": 128,
    "name": "ml.r5.4xlarge",
    "vcpuNum": 16
   },
   {
    "_defaultOrder": 43,
    "_isFastLaunch": false,
    "category": "Memory Optimized",
    "gpuNum": 0,
    "hideHardwareSpecs": false,
    "memoryGiB": 256,
    "name": "ml.r5.8xlarge",
    "vcpuNum": 32
   },
   {
    "_defaultOrder": 44,
    "_isFastLaunch": false,
    "category": "Memory Optimized",
    "gpuNum": 0,
    "hideHardwareSpecs": false,
    "memoryGiB": 384,
    "name": "ml.r5.12xlarge",
    "vcpuNum": 48
   },
   {
    "_defaultOrder": 45,
    "_isFastLaunch": false,
    "category": "Memory Optimized",
    "gpuNum": 0,
    "hideHardwareSpecs": false,
    "memoryGiB": 512,
    "name": "ml.r5.16xlarge",
    "vcpuNum": 64
   },
   {
    "_defaultOrder": 46,
    "_isFastLaunch": false,
    "category": "Memory Optimized",
    "gpuNum": 0,
    "hideHardwareSpecs": false,
    "memoryGiB": 768,
    "name": "ml.r5.24xlarge",
    "vcpuNum": 96
   },
   {
    "_defaultOrder": 47,
    "_isFastLaunch": false,
    "category": "Accelerated computing",
    "gpuNum": 1,
    "hideHardwareSpecs": false,
    "memoryGiB": 16,
    "name": "ml.g5.xlarge",
    "vcpuNum": 4
   },
   {
    "_defaultOrder": 48,
    "_isFastLaunch": false,
    "category": "Accelerated computing",
    "gpuNum": 1,
    "hideHardwareSpecs": false,
    "memoryGiB": 32,
    "name": "ml.g5.2xlarge",
    "vcpuNum": 8
   },
   {
    "_defaultOrder": 49,
    "_isFastLaunch": false,
    "category": "Accelerated computing",
    "gpuNum": 1,
    "hideHardwareSpecs": false,
    "memoryGiB": 64,
    "name": "ml.g5.4xlarge",
    "vcpuNum": 16
   },
   {
    "_defaultOrder": 50,
    "_isFastLaunch": false,
    "category": "Accelerated computing",
    "gpuNum": 1,
    "hideHardwareSpecs": false,
    "memoryGiB": 128,
    "name": "ml.g5.8xlarge",
    "vcpuNum": 32
   },
   {
    "_defaultOrder": 51,
    "_isFastLaunch": false,
    "category": "Accelerated computing",
    "gpuNum": 1,
    "hideHardwareSpecs": false,
    "memoryGiB": 256,
    "name": "ml.g5.16xlarge",
    "vcpuNum": 64
   },
   {
    "_defaultOrder": 52,
    "_isFastLaunch": false,
    "category": "Accelerated computing",
    "gpuNum": 4,
    "hideHardwareSpecs": false,
    "memoryGiB": 192,
    "name": "ml.g5.12xlarge",
    "vcpuNum": 48
   },
   {
    "_defaultOrder": 53,
    "_isFastLaunch": false,
    "category": "Accelerated computing",
    "gpuNum": 4,
    "hideHardwareSpecs": false,
    "memoryGiB": 384,
    "name": "ml.g5.24xlarge",
    "vcpuNum": 96
   },
   {
    "_defaultOrder": 54,
    "_isFastLaunch": false,
    "category": "Accelerated computing",
    "gpuNum": 8,
    "hideHardwareSpecs": false,
    "memoryGiB": 768,
    "name": "ml.g5.48xlarge",
    "vcpuNum": 192
   },
   {
    "_defaultOrder": 55,
    "_isFastLaunch": false,
    "category": "Accelerated computing",
    "gpuNum": 8,
    "hideHardwareSpecs": false,
    "memoryGiB": 1152,
    "name": "ml.p4d.24xlarge",
    "vcpuNum": 96
   },
   {
    "_defaultOrder": 56,
    "_isFastLaunch": false,
    "category": "Accelerated computing",
    "gpuNum": 8,
    "hideHardwareSpecs": false,
    "memoryGiB": 1152,
    "name": "ml.p4de.24xlarge",
    "vcpuNum": 96
   },
   {
    "_defaultOrder": 57,
    "_isFastLaunch": false,
    "category": "Accelerated computing",
    "gpuNum": 0,
    "hideHardwareSpecs": false,
    "memoryGiB": 32,
    "name": "ml.trn1.2xlarge",
    "vcpuNum": 8
   },
   {
    "_defaultOrder": 58,
    "_isFastLaunch": false,
    "category": "Accelerated computing",
    "gpuNum": 0,
    "hideHardwareSpecs": false,
    "memoryGiB": 512,
    "name": "ml.trn1.32xlarge",
    "vcpuNum": 128
   },
   {
    "_defaultOrder": 59,
    "_isFastLaunch": false,
    "category": "Accelerated computing",
    "gpuNum": 0,
    "hideHardwareSpecs": false,
    "memoryGiB": 512,
    "name": "ml.trn1n.32xlarge",
    "vcpuNum": 128
   }
  ],
  "instance_type": "ml.t3.medium",
  "kernelspec": {
   "display_name": "Python 3 (ipykernel)",
   "language": "python",
   "name": "python3"
  },
  "language_info": {
   "codemirror_mode": {
    "name": "ipython",
    "version": 3
   },
   "file_extension": ".py",
   "mimetype": "text/x-python",
   "name": "python",
   "nbconvert_exporter": "python",
   "pygments_lexer": "ipython3",
   "version": "3.10.13"
  }
 },
 "nbformat": 4,
 "nbformat_minor": 5
}
