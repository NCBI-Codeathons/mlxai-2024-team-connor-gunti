{
 "cells": [
  {
   "cell_type": "code",
   "execution_count": 79,
   "id": "176ef5e3-1a98-42d5-8381-47d5fd1ead2d",
   "metadata": {},
   "outputs": [
    {
     "name": "stdout",
     "output_type": "stream",
     "text": [
      "Reading package lists... Done\n",
      "Building dependency tree... Done\n",
      "Reading state information... Done\n",
      "Suggested packages:\n",
      "  mcl-doc\n",
      "The following NEW packages will be installed:\n",
      "  mcl\n",
      "0 upgraded, 1 newly installed, 0 to remove and 10 not upgraded.\n",
      "Need to get 627 kB of archives.\n",
      "After this operation, 4852 kB of additional disk space will be used.\n",
      "Get:1 http://archive.ubuntu.com/ubuntu jammy/universe amd64 mcl amd64 1:14-137+ds-9build2 [627 kB]\n",
      "Fetched 627 kB in 1s (883 kB/s)\n",
      "debconf: delaying package configuration, since apt-utils is not installed\n",
      "Selecting previously unselected package mcl.\n",
      "(Reading database ... 13635 files and directories currently installed.)\n",
      "Preparing to unpack .../mcl_1%3a14-137+ds-9build2_amd64.deb ...\n",
      "Unpacking mcl (1:14-137+ds-9build2) ...\n",
      "Setting up mcl (1:14-137+ds-9build2) ...\n"
     ]
    }
   ],
   "source": [
    "!sudo apt-get install mcl"
   ]
  },
  {
   "cell_type": "code",
   "execution_count": 170,
   "id": "492a552a-268c-4cd6-8492-3752a85fe758",
   "metadata": {},
   "outputs": [],
   "source": [
    "import pickle\n",
    "import numpy as np\n",
    "import pandas as pd\n",
    "import plotly.express as px\n",
    "import seaborn as sns\n",
    "from sklearn.cluster import DBSCAN\n",
    "from sklearn.metrics import silhouette_score\n",
    "fasttext_vocab = pickle.load(open('./preprocessed/attribute.token-freqs.fasttext.info.pickle', \"rb\"))\n",
    "sbert_vocab = pickle.load(open('./preprocessed/attribute.token-freqs.sbert.info.pickle', \"rb\"))"
   ]
  },
  {
   "cell_type": "code",
   "execution_count": 52,
   "id": "3fffec6c-56a3-4f91-bef2-2da035484a40",
   "metadata": {},
   "outputs": [
    {
     "name": "stdout",
     "output_type": "stream",
     "text": [
      "df1 84       model                                  field  tokens  uniq_tokens  \\\n",
      "0  fasttext                       bio_material_sam   13213         9629   \n",
      "1  fasttext  biological_material_preprocessing_sam     306          115   \n",
      "2  fasttext                   collection_label_sam    1511         1485   \n",
      "3  fasttext                           comments_sam    2479         1015   \n",
      "4  fasttext                       conductivity_sam      47           22   \n",
      "\n",
      "   %tokens_found  %uniq_found  \n",
      "0      27.798380     6.013085  \n",
      "1      90.849673    80.000000  \n",
      "2       3.309067     1.952862  \n",
      "3      80.153288    55.665025  \n",
      "4      87.234043    72.727273  \n",
      "df2 168       model                                  field        measure      value\n",
      "0  fasttext                       bio_material_sam  %tokens_found  27.798380\n",
      "1  fasttext                       bio_material_sam    %uniq_found   6.013085\n",
      "2  fasttext  biological_material_preprocessing_sam  %tokens_found  90.849673\n",
      "3  fasttext  biological_material_preprocessing_sam    %uniq_found  80.000000\n",
      "4  fasttext                   collection_label_sam  %tokens_found   3.309067\n"
     ]
    }
   ],
   "source": [
    "vocab_df1 = pd.DataFrame(columns=['model', 'field', 'tokens', 'uniq_tokens', '%tokens_found', '%uniq_found'])\n",
    "vocab_df2 = pd.DataFrame(columns=['model', 'field', 'measure', 'value'])\n",
    "for m, d in [('fasttext', fasttext_vocab), ('sbert', sbert_vocab)]:\n",
    "    for k, v in d.items():\n",
    "        i1 = vocab_df1.index.size\n",
    "        i2 = vocab_df2.index.size\n",
    "        field = k\n",
    "        tokens = v['tokens']\n",
    "        uniq = v['uniq']\n",
    "        oovt = v['oov_tokens']\n",
    "        oovu = v['oov_uniq']\n",
    "        pcntid = 100*(tokens-oovt)/tokens\n",
    "        pcntuid = 100*(uniq-oovu)/uniq\n",
    "        vocab_df1.loc[i1] = [m, field, tokens, uniq, pcntid, pcntuid]\n",
    "        vocab_df2.loc[i2] = [m, field, '%tokens_found', pcntid]\n",
    "        vocab_df2.loc[i2+1] = [m, field, '%uniq_found', pcntuid]\n",
    "print('df1', vocab_df1.index.size, vocab_df1.head())\n",
    "print('df2', vocab_df2.index.size, vocab_df2.head())"
   ]
  },
  {
   "cell_type": "code",
   "execution_count": 53,
   "id": "516930c2-007f-4386-adbb-072a20f38cb9",
   "metadata": {},
   "outputs": [],
   "source": [
    "sns.set_theme(context='notebook', style='darkgrid', palette='deep', font='sans-serif', font_scale=1, color_codes=True, rc=None)"
   ]
  },
  {
   "cell_type": "code",
   "execution_count": 54,
   "id": "30b77620-d56e-4c85-a3ff-81bdc0f92769",
   "metadata": {},
   "outputs": [
    {
     "data": {
      "application/vnd.plotly.v1+json": {
       "config": {
        "plotlyServerURL": "https://plot.ly"
       },
       "data": [
        {
         "customdata": [
          [
           "bio_material_sam"
          ],
          [
           "biological_material_preprocessing_sam"
          ],
          [
           "collection_label_sam"
          ],
          [
           "comments_sam"
          ],
          [
           "conductivity_sam"
          ],
          [
           "corrected_species_name_sam"
          ],
          [
           "coverage_sam"
          ],
          [
           "date_of_birth_sam"
          ],
          [
           "derived_from_sam"
          ],
          [
           "description_exp"
          ],
          [
           "description_sam"
          ],
          [
           "descriptor_sam"
          ],
          [
           "details_sam"
          ],
          [
           "diagnostic_pcr_ct_value_1_sam"
          ],
          [
           "dissolved_oxygen_sam"
          ],
          [
           "experimental_factor__rna_interference_exp"
          ],
          [
           "experimental_factor__strain_exp"
          ],
          [
           "extra_info_sam"
          ],
          [
           "fiber_sam"
          ],
          [
           "glucose_sam"
          ],
          [
           "host_exp"
          ],
          [
           "host_scietific_nam_sam"
          ],
          [
           "isolate_run"
          ],
          [
           "isolation_site_sam"
          ],
          [
           "misc_param_sam"
          ],
          [
           "mlst__scheme_sam"
          ],
          [
           "nitrate_sam"
          ],
          [
           "redox_potential_sam"
          ],
          [
           "replicate_group_sam"
          ],
          [
           "sample_comment_sam"
          ],
          [
           "sampling_date_run"
          ],
          [
           "sequence_sam"
          ],
          [
           "single_cell_sam"
          ],
          [
           "specimen_sam"
          ],
          [
           "subsrc_note_sam"
          ],
          [
           "symptom_sam"
          ],
          [
           "taxonomy_species_sam"
          ],
          [
           "time_of_collection_sam"
          ],
          [
           "tretment_sam"
          ],
          [
           "tumor_size_sam"
          ],
          [
           "water_content_sam"
          ],
          [
           "ww_surv_target_1_conc_sam"
          ]
         ],
         "hovertemplate": "model=fasttext<br>%uniq_found=%{x}<br>%tokens_found=%{y}<br>field=%{customdata[0]}<extra></extra>",
         "legendgroup": "fasttext",
         "marker": {
          "color": "#636efa",
          "symbol": "circle"
         },
         "mode": "markers",
         "name": "fasttext",
         "orientation": "v",
         "showlegend": true,
         "type": "scatter",
         "x": [
          6.0130854709731025,
          80,
          1.9528619528619529,
          55.66502463054187,
          72.72727272727273,
          91.0989010989011,
          51.61290322580645,
          0.3368623676612127,
          13.93939393939394,
          1.1300853842290306,
          23.42067281003664,
          2.099236641221374,
          12.462235649546828,
          5.28169014084507,
          8.536585365853659,
          24.86263736263736,
          12.015137180700094,
          97.14285714285714,
          18,
          23.728813559322035,
          71.42857142857143,
          98.43423799582463,
          0.5786779434676163,
          91.25,
          7.151583497791561,
          10.606060606060606,
          21.85185185185185,
          88.88888888888889,
          8.866995073891626,
          46.59637863855146,
          2.8629856850715747,
          5.7007125890736345,
          100,
          2.7267508610792195,
          29.96926229508197,
          81.81818181818181,
          99.66178128523111,
          1.4314928425357873,
          70.60998151571164,
          4.5,
          14.117647058823529,
          10.714285714285714
         ],
         "xaxis": "x",
         "y": [
          27.79838038295618,
          90.84967320261438,
          3.3090668431502315,
          80.15328761597418,
          87.23404255319149,
          92.85714285714286,
          77.27272727272727,
          0.41936713686618377,
          86.77341522263654,
          21.734397677793904,
          72.05112319130227,
          68.7024099222859,
          60.76325411334552,
          53.197893152746424,
          17.12707182320442,
          65.54621848739495,
          19.38046068308181,
          97.91666666666667,
          19.607843137254903,
          34.78260869565217,
          81.81818181818181,
          98.76847290640394,
          8.77730149010002,
          95.62356038170451,
          47.431054023422746,
          46.103896103896105,
          43.717277486910994,
          94.11764705882354,
          28.231292517006803,
          81.23941252898706,
          5.189620758483034,
          5.755395683453237,
          100,
          6.064801993907505,
          88.7878161394804,
          82.79069767441861,
          99.71751412429379,
          24.391285775309697,
          89.00883218842002,
          28.571428571428573,
          21.80851063829787,
          13.793103448275861
         ],
         "yaxis": "y"
        },
        {
         "customdata": [
          [
           "bio_material_sam"
          ],
          [
           "biological_material_preprocessing_sam"
          ],
          [
           "collection_label_sam"
          ],
          [
           "comments_sam"
          ],
          [
           "conductivity_sam"
          ],
          [
           "corrected_species_name_sam"
          ],
          [
           "coverage_sam"
          ],
          [
           "date_of_birth_sam"
          ],
          [
           "derived_from_sam"
          ],
          [
           "description_exp"
          ],
          [
           "description_sam"
          ],
          [
           "descriptor_sam"
          ],
          [
           "details_sam"
          ],
          [
           "diagnostic_pcr_ct_value_1_sam"
          ],
          [
           "dissolved_oxygen_sam"
          ],
          [
           "experimental_factor__rna_interference_exp"
          ],
          [
           "experimental_factor__strain_exp"
          ],
          [
           "extra_info_sam"
          ],
          [
           "fiber_sam"
          ],
          [
           "glucose_sam"
          ],
          [
           "host_exp"
          ],
          [
           "host_scietific_nam_sam"
          ],
          [
           "isolate_run"
          ],
          [
           "isolation_site_sam"
          ],
          [
           "misc_param_sam"
          ],
          [
           "mlst__scheme_sam"
          ],
          [
           "nitrate_sam"
          ],
          [
           "redox_potential_sam"
          ],
          [
           "replicate_group_sam"
          ],
          [
           "sample_comment_sam"
          ],
          [
           "sampling_date_run"
          ],
          [
           "sequence_sam"
          ],
          [
           "single_cell_sam"
          ],
          [
           "specimen_sam"
          ],
          [
           "subsrc_note_sam"
          ],
          [
           "symptom_sam"
          ],
          [
           "taxonomy_species_sam"
          ],
          [
           "time_of_collection_sam"
          ],
          [
           "tretment_sam"
          ],
          [
           "tumor_size_sam"
          ],
          [
           "water_content_sam"
          ],
          [
           "ww_surv_target_1_conc_sam"
          ]
         ],
         "hovertemplate": "model=sbert<br>%uniq_found=%{x}<br>%tokens_found=%{y}<br>field=%{customdata[0]}<extra></extra>",
         "legendgroup": "sbert",
         "marker": {
          "color": "#EF553B",
          "symbol": "circle"
         },
         "mode": "markers",
         "name": "sbert",
         "orientation": "v",
         "showlegend": true,
         "type": "scatter",
         "x": [
          12.87776508464015,
          80,
          44.98316498316498,
          67.98029556650246,
          72.72727272727273,
          87.36263736263736,
          48.38709677419355,
          0.9624639076034649,
          14.848484848484848,
          7.659467604218985,
          33.601643166426115,
          4.3893129770992365,
          39.50151057401813,
          4.929577464788732,
          10.365853658536585,
          21.016483516483518,
          13.15042573320719,
          91.42857142857143,
          18,
          27.11864406779661,
          100,
          87.160751565762,
          11.640329401290897,
          90.234375,
          32.40296964570999,
          15.656565656565656,
          23.333333333333332,
          72.22222222222223,
          24.137931034482758,
          51.2491404996562,
          2.8629856850715747,
          58.66983372921615,
          100,
          3.960964408725603,
          30.43032786885246,
          72.72727272727273,
          87.82412626832019,
          1.5337423312883436,
          79.66728280961183,
          5.25,
          12.941176470588236,
          34.285714285714285
         ],
         "xaxis": "x",
         "y": [
          28.207068795882844,
          86.60130718954248,
          45.665122435473194,
          82.53327954820492,
          82.97872340425532,
          86.5079365079365,
          68.18181818181819,
          0.9912314144109798,
          84.84316736126344,
          26.433236574746008,
          75.2478215684707,
          71.4184786874951,
          72.8290676416819,
          53.04740406320542,
          17.679558011049725,
          63.02521008403362,
          19.698173153296267,
          92.70833333333333,
          19.607843137254903,
          37.68115942028985,
          100,
          86.45320197044335,
          18.922229026331905,
          94.9654491609082,
          68.83803767067839,
          48.268398268398265,
          40.31413612565445,
          85.29411764705883,
          32.993197278911566,
          82.9005147772314,
          5.189620758483034,
          45.68345323741007,
          100,
          6.56327887011908,
          88.74646819654056,
          75.81395348837209,
          87.09981167608287,
          24.41264416915848,
          86.26104023552503,
          29.128014842300555,
          20.21276595744681,
          36.55172413793103
         ],
         "yaxis": "y"
        }
       ],
       "layout": {
        "autosize": true,
        "legend": {
         "title": {
          "text": "model"
         },
         "tracegroupgap": 0
        },
        "margin": {
         "t": 60
        },
        "template": {
         "data": {
          "bar": [
           {
            "error_x": {
             "color": "#2a3f5f"
            },
            "error_y": {
             "color": "#2a3f5f"
            },
            "marker": {
             "line": {
              "color": "#E5ECF6",
              "width": 0.5
             },
             "pattern": {
              "fillmode": "overlay",
              "size": 10,
              "solidity": 0.2
             }
            },
            "type": "bar"
           }
          ],
          "barpolar": [
           {
            "marker": {
             "line": {
              "color": "#E5ECF6",
              "width": 0.5
             },
             "pattern": {
              "fillmode": "overlay",
              "size": 10,
              "solidity": 0.2
             }
            },
            "type": "barpolar"
           }
          ],
          "carpet": [
           {
            "aaxis": {
             "endlinecolor": "#2a3f5f",
             "gridcolor": "white",
             "linecolor": "white",
             "minorgridcolor": "white",
             "startlinecolor": "#2a3f5f"
            },
            "baxis": {
             "endlinecolor": "#2a3f5f",
             "gridcolor": "white",
             "linecolor": "white",
             "minorgridcolor": "white",
             "startlinecolor": "#2a3f5f"
            },
            "type": "carpet"
           }
          ],
          "choropleth": [
           {
            "colorbar": {
             "outlinewidth": 0,
             "ticks": ""
            },
            "type": "choropleth"
           }
          ],
          "contour": [
           {
            "colorbar": {
             "outlinewidth": 0,
             "ticks": ""
            },
            "colorscale": [
             [
              0,
              "#0d0887"
             ],
             [
              0.1111111111111111,
              "#46039f"
             ],
             [
              0.2222222222222222,
              "#7201a8"
             ],
             [
              0.3333333333333333,
              "#9c179e"
             ],
             [
              0.4444444444444444,
              "#bd3786"
             ],
             [
              0.5555555555555556,
              "#d8576b"
             ],
             [
              0.6666666666666666,
              "#ed7953"
             ],
             [
              0.7777777777777778,
              "#fb9f3a"
             ],
             [
              0.8888888888888888,
              "#fdca26"
             ],
             [
              1,
              "#f0f921"
             ]
            ],
            "type": "contour"
           }
          ],
          "contourcarpet": [
           {
            "colorbar": {
             "outlinewidth": 0,
             "ticks": ""
            },
            "type": "contourcarpet"
           }
          ],
          "heatmap": [
           {
            "colorbar": {
             "outlinewidth": 0,
             "ticks": ""
            },
            "colorscale": [
             [
              0,
              "#0d0887"
             ],
             [
              0.1111111111111111,
              "#46039f"
             ],
             [
              0.2222222222222222,
              "#7201a8"
             ],
             [
              0.3333333333333333,
              "#9c179e"
             ],
             [
              0.4444444444444444,
              "#bd3786"
             ],
             [
              0.5555555555555556,
              "#d8576b"
             ],
             [
              0.6666666666666666,
              "#ed7953"
             ],
             [
              0.7777777777777778,
              "#fb9f3a"
             ],
             [
              0.8888888888888888,
              "#fdca26"
             ],
             [
              1,
              "#f0f921"
             ]
            ],
            "type": "heatmap"
           }
          ],
          "heatmapgl": [
           {
            "colorbar": {
             "outlinewidth": 0,
             "ticks": ""
            },
            "colorscale": [
             [
              0,
              "#0d0887"
             ],
             [
              0.1111111111111111,
              "#46039f"
             ],
             [
              0.2222222222222222,
              "#7201a8"
             ],
             [
              0.3333333333333333,
              "#9c179e"
             ],
             [
              0.4444444444444444,
              "#bd3786"
             ],
             [
              0.5555555555555556,
              "#d8576b"
             ],
             [
              0.6666666666666666,
              "#ed7953"
             ],
             [
              0.7777777777777778,
              "#fb9f3a"
             ],
             [
              0.8888888888888888,
              "#fdca26"
             ],
             [
              1,
              "#f0f921"
             ]
            ],
            "type": "heatmapgl"
           }
          ],
          "histogram": [
           {
            "marker": {
             "pattern": {
              "fillmode": "overlay",
              "size": 10,
              "solidity": 0.2
             }
            },
            "type": "histogram"
           }
          ],
          "histogram2d": [
           {
            "colorbar": {
             "outlinewidth": 0,
             "ticks": ""
            },
            "colorscale": [
             [
              0,
              "#0d0887"
             ],
             [
              0.1111111111111111,
              "#46039f"
             ],
             [
              0.2222222222222222,
              "#7201a8"
             ],
             [
              0.3333333333333333,
              "#9c179e"
             ],
             [
              0.4444444444444444,
              "#bd3786"
             ],
             [
              0.5555555555555556,
              "#d8576b"
             ],
             [
              0.6666666666666666,
              "#ed7953"
             ],
             [
              0.7777777777777778,
              "#fb9f3a"
             ],
             [
              0.8888888888888888,
              "#fdca26"
             ],
             [
              1,
              "#f0f921"
             ]
            ],
            "type": "histogram2d"
           }
          ],
          "histogram2dcontour": [
           {
            "colorbar": {
             "outlinewidth": 0,
             "ticks": ""
            },
            "colorscale": [
             [
              0,
              "#0d0887"
             ],
             [
              0.1111111111111111,
              "#46039f"
             ],
             [
              0.2222222222222222,
              "#7201a8"
             ],
             [
              0.3333333333333333,
              "#9c179e"
             ],
             [
              0.4444444444444444,
              "#bd3786"
             ],
             [
              0.5555555555555556,
              "#d8576b"
             ],
             [
              0.6666666666666666,
              "#ed7953"
             ],
             [
              0.7777777777777778,
              "#fb9f3a"
             ],
             [
              0.8888888888888888,
              "#fdca26"
             ],
             [
              1,
              "#f0f921"
             ]
            ],
            "type": "histogram2dcontour"
           }
          ],
          "mesh3d": [
           {
            "colorbar": {
             "outlinewidth": 0,
             "ticks": ""
            },
            "type": "mesh3d"
           }
          ],
          "parcoords": [
           {
            "line": {
             "colorbar": {
              "outlinewidth": 0,
              "ticks": ""
             }
            },
            "type": "parcoords"
           }
          ],
          "pie": [
           {
            "automargin": true,
            "type": "pie"
           }
          ],
          "scatter": [
           {
            "fillpattern": {
             "fillmode": "overlay",
             "size": 10,
             "solidity": 0.2
            },
            "type": "scatter"
           }
          ],
          "scatter3d": [
           {
            "line": {
             "colorbar": {
              "outlinewidth": 0,
              "ticks": ""
             }
            },
            "marker": {
             "colorbar": {
              "outlinewidth": 0,
              "ticks": ""
             }
            },
            "type": "scatter3d"
           }
          ],
          "scattercarpet": [
           {
            "marker": {
             "colorbar": {
              "outlinewidth": 0,
              "ticks": ""
             }
            },
            "type": "scattercarpet"
           }
          ],
          "scattergeo": [
           {
            "marker": {
             "colorbar": {
              "outlinewidth": 0,
              "ticks": ""
             }
            },
            "type": "scattergeo"
           }
          ],
          "scattergl": [
           {
            "marker": {
             "colorbar": {
              "outlinewidth": 0,
              "ticks": ""
             }
            },
            "type": "scattergl"
           }
          ],
          "scattermapbox": [
           {
            "marker": {
             "colorbar": {
              "outlinewidth": 0,
              "ticks": ""
             }
            },
            "type": "scattermapbox"
           }
          ],
          "scatterpolar": [
           {
            "marker": {
             "colorbar": {
              "outlinewidth": 0,
              "ticks": ""
             }
            },
            "type": "scatterpolar"
           }
          ],
          "scatterpolargl": [
           {
            "marker": {
             "colorbar": {
              "outlinewidth": 0,
              "ticks": ""
             }
            },
            "type": "scatterpolargl"
           }
          ],
          "scatterternary": [
           {
            "marker": {
             "colorbar": {
              "outlinewidth": 0,
              "ticks": ""
             }
            },
            "type": "scatterternary"
           }
          ],
          "surface": [
           {
            "colorbar": {
             "outlinewidth": 0,
             "ticks": ""
            },
            "colorscale": [
             [
              0,
              "#0d0887"
             ],
             [
              0.1111111111111111,
              "#46039f"
             ],
             [
              0.2222222222222222,
              "#7201a8"
             ],
             [
              0.3333333333333333,
              "#9c179e"
             ],
             [
              0.4444444444444444,
              "#bd3786"
             ],
             [
              0.5555555555555556,
              "#d8576b"
             ],
             [
              0.6666666666666666,
              "#ed7953"
             ],
             [
              0.7777777777777778,
              "#fb9f3a"
             ],
             [
              0.8888888888888888,
              "#fdca26"
             ],
             [
              1,
              "#f0f921"
             ]
            ],
            "type": "surface"
           }
          ],
          "table": [
           {
            "cells": {
             "fill": {
              "color": "#EBF0F8"
             },
             "line": {
              "color": "white"
             }
            },
            "header": {
             "fill": {
              "color": "#C8D4E3"
             },
             "line": {
              "color": "white"
             }
            },
            "type": "table"
           }
          ]
         },
         "layout": {
          "annotationdefaults": {
           "arrowcolor": "#2a3f5f",
           "arrowhead": 0,
           "arrowwidth": 1
          },
          "autotypenumbers": "strict",
          "coloraxis": {
           "colorbar": {
            "outlinewidth": 0,
            "ticks": ""
           }
          },
          "colorscale": {
           "diverging": [
            [
             0,
             "#8e0152"
            ],
            [
             0.1,
             "#c51b7d"
            ],
            [
             0.2,
             "#de77ae"
            ],
            [
             0.3,
             "#f1b6da"
            ],
            [
             0.4,
             "#fde0ef"
            ],
            [
             0.5,
             "#f7f7f7"
            ],
            [
             0.6,
             "#e6f5d0"
            ],
            [
             0.7,
             "#b8e186"
            ],
            [
             0.8,
             "#7fbc41"
            ],
            [
             0.9,
             "#4d9221"
            ],
            [
             1,
             "#276419"
            ]
           ],
           "sequential": [
            [
             0,
             "#0d0887"
            ],
            [
             0.1111111111111111,
             "#46039f"
            ],
            [
             0.2222222222222222,
             "#7201a8"
            ],
            [
             0.3333333333333333,
             "#9c179e"
            ],
            [
             0.4444444444444444,
             "#bd3786"
            ],
            [
             0.5555555555555556,
             "#d8576b"
            ],
            [
             0.6666666666666666,
             "#ed7953"
            ],
            [
             0.7777777777777778,
             "#fb9f3a"
            ],
            [
             0.8888888888888888,
             "#fdca26"
            ],
            [
             1,
             "#f0f921"
            ]
           ],
           "sequentialminus": [
            [
             0,
             "#0d0887"
            ],
            [
             0.1111111111111111,
             "#46039f"
            ],
            [
             0.2222222222222222,
             "#7201a8"
            ],
            [
             0.3333333333333333,
             "#9c179e"
            ],
            [
             0.4444444444444444,
             "#bd3786"
            ],
            [
             0.5555555555555556,
             "#d8576b"
            ],
            [
             0.6666666666666666,
             "#ed7953"
            ],
            [
             0.7777777777777778,
             "#fb9f3a"
            ],
            [
             0.8888888888888888,
             "#fdca26"
            ],
            [
             1,
             "#f0f921"
            ]
           ]
          },
          "colorway": [
           "#636efa",
           "#EF553B",
           "#00cc96",
           "#ab63fa",
           "#FFA15A",
           "#19d3f3",
           "#FF6692",
           "#B6E880",
           "#FF97FF",
           "#FECB52"
          ],
          "font": {
           "color": "#2a3f5f"
          },
          "geo": {
           "bgcolor": "white",
           "lakecolor": "white",
           "landcolor": "#E5ECF6",
           "showlakes": true,
           "showland": true,
           "subunitcolor": "white"
          },
          "hoverlabel": {
           "align": "left"
          },
          "hovermode": "closest",
          "mapbox": {
           "style": "light"
          },
          "paper_bgcolor": "white",
          "plot_bgcolor": "#E5ECF6",
          "polar": {
           "angularaxis": {
            "gridcolor": "white",
            "linecolor": "white",
            "ticks": ""
           },
           "bgcolor": "#E5ECF6",
           "radialaxis": {
            "gridcolor": "white",
            "linecolor": "white",
            "ticks": ""
           }
          },
          "scene": {
           "xaxis": {
            "backgroundcolor": "#E5ECF6",
            "gridcolor": "white",
            "gridwidth": 2,
            "linecolor": "white",
            "showbackground": true,
            "ticks": "",
            "zerolinecolor": "white"
           },
           "yaxis": {
            "backgroundcolor": "#E5ECF6",
            "gridcolor": "white",
            "gridwidth": 2,
            "linecolor": "white",
            "showbackground": true,
            "ticks": "",
            "zerolinecolor": "white"
           },
           "zaxis": {
            "backgroundcolor": "#E5ECF6",
            "gridcolor": "white",
            "gridwidth": 2,
            "linecolor": "white",
            "showbackground": true,
            "ticks": "",
            "zerolinecolor": "white"
           }
          },
          "shapedefaults": {
           "line": {
            "color": "#2a3f5f"
           }
          },
          "ternary": {
           "aaxis": {
            "gridcolor": "white",
            "linecolor": "white",
            "ticks": ""
           },
           "baxis": {
            "gridcolor": "white",
            "linecolor": "white",
            "ticks": ""
           },
           "bgcolor": "#E5ECF6",
           "caxis": {
            "gridcolor": "white",
            "linecolor": "white",
            "ticks": ""
           }
          },
          "title": {
           "x": 0.05
          },
          "xaxis": {
           "automargin": true,
           "gridcolor": "white",
           "linecolor": "white",
           "ticks": "",
           "title": {
            "standoff": 15
           },
           "zerolinecolor": "white",
           "zerolinewidth": 2
          },
          "yaxis": {
           "automargin": true,
           "gridcolor": "white",
           "linecolor": "white",
           "ticks": "",
           "title": {
            "standoff": 15
           },
           "zerolinecolor": "white",
           "zerolinewidth": 2
          }
         }
        },
        "xaxis": {
         "anchor": "y",
         "autorange": true,
         "domain": [
          0,
          1
         ],
         "range": [
          -5.582040506722326,
          105.91890287438353
         ],
         "title": {
          "text": "%uniq_found"
         },
         "type": "linear"
        },
        "yaxis": {
         "anchor": "x",
         "autorange": true,
         "domain": [
          0,
          1
         ],
         "range": [
          -7.29094433153919,
          107.71031146840538
         ],
         "title": {
          "text": "%tokens_found"
         },
         "type": "linear"
        }
       }
      },
      "image/png": "[encoded data removed]",
      "text/html": [
       "<div>                            <div id=\"d4d28f4f-49d2-4d48-a265-979b057c72e5\" class=\"plotly-graph-div\" style=\"height:525px; width:100%;\"></div>            <script type=\"text/javascript\">                require([\"plotly\"], function(Plotly) {                    window.PLOTLYENV=window.PLOTLYENV || {};                                    if (document.getElementById(\"d4d28f4f-49d2-4d48-a265-979b057c72e5\")) {                    Plotly.newPlot(                        \"d4d28f4f-49d2-4d48-a265-979b057c72e5\",                        [{\"customdata\":[[\"bio_material_sam\"],[\"biological_material_preprocessing_sam\"],[\"collection_label_sam\"],[\"comments_sam\"],[\"conductivity_sam\"],[\"corrected_species_name_sam\"],[\"coverage_sam\"],[\"date_of_birth_sam\"],[\"derived_from_sam\"],[\"description_exp\"],[\"description_sam\"],[\"descriptor_sam\"],[\"details_sam\"],[\"diagnostic_pcr_ct_value_1_sam\"],[\"dissolved_oxygen_sam\"],[\"experimental_factor__rna_interference_exp\"],[\"experimental_factor__strain_exp\"],[\"extra_info_sam\"],[\"fiber_sam\"],[\"glucose_sam\"],[\"host_exp\"],[\"host_scietific_nam_sam\"],[\"isolate_run\"],[\"isolation_site_sam\"],[\"misc_param_sam\"],[\"mlst__scheme_sam\"],[\"nitrate_sam\"],[\"redox_potential_sam\"],[\"replicate_group_sam\"],[\"sample_comment_sam\"],[\"sampling_date_run\"],[\"sequence_sam\"],[\"single_cell_sam\"],[\"specimen_sam\"],[\"subsrc_note_sam\"],[\"symptom_sam\"],[\"taxonomy_species_sam\"],[\"time_of_collection_sam\"],[\"tretment_sam\"],[\"tumor_size_sam\"],[\"water_content_sam\"],[\"ww_surv_target_1_conc_sam\"]],\"hovertemplate\":\"model=fasttext\\u003cbr\\u003e%uniq_found=%{x}\\u003cbr\\u003e%tokens_found=%{y}\\u003cbr\\u003efield=%{customdata[0]}\\u003cextra\\u003e\\u003c\\u002fextra\\u003e\",\"legendgroup\":\"fasttext\",\"marker\":{\"color\":\"#636efa\",\"symbol\":\"circle\"},\"mode\":\"markers\",\"name\":\"fasttext\",\"orientation\":\"v\",\"showlegend\":true,\"x\":[6.0130854709731025,80.0,1.9528619528619529,55.66502463054187,72.72727272727273,91.0989010989011,51.61290322580645,0.3368623676612127,13.93939393939394,1.1300853842290306,23.42067281003664,2.099236641221374,12.462235649546828,5.28169014084507,8.536585365853659,24.86263736263736,12.015137180700094,97.14285714285714,18.0,23.728813559322035,71.42857142857143,98.43423799582463,0.5786779434676163,91.25,7.151583497791561,10.606060606060606,21.85185185185185,88.88888888888889,8.866995073891626,46.59637863855146,2.8629856850715747,5.7007125890736345,100.0,2.7267508610792195,29.96926229508197,81.81818181818181,99.66178128523111,1.4314928425357873,70.60998151571164,4.5,14.117647058823529,10.714285714285714],\"xaxis\":\"x\",\"y\":[27.79838038295618,90.84967320261438,3.3090668431502315,80.15328761597418,87.23404255319149,92.85714285714286,77.27272727272727,0.41936713686618377,86.77341522263654,21.734397677793904,72.05112319130227,68.7024099222859,60.76325411334552,53.197893152746424,17.12707182320442,65.54621848739495,19.38046068308181,97.91666666666667,19.607843137254903,34.78260869565217,81.81818181818181,98.76847290640394,8.77730149010002,95.62356038170451,47.431054023422746,46.103896103896105,43.717277486910994,94.11764705882354,28.231292517006803,81.23941252898706,5.189620758483034,5.755395683453237,100.0,6.064801993907505,88.7878161394804,82.79069767441861,99.71751412429379,24.391285775309697,89.00883218842002,28.571428571428573,21.80851063829787,13.793103448275861],\"yaxis\":\"y\",\"type\":\"scatter\"},{\"customdata\":[[\"bio_material_sam\"],[\"biological_material_preprocessing_sam\"],[\"collection_label_sam\"],[\"comments_sam\"],[\"conductivity_sam\"],[\"corrected_species_name_sam\"],[\"coverage_sam\"],[\"date_of_birth_sam\"],[\"derived_from_sam\"],[\"description_exp\"],[\"description_sam\"],[\"descriptor_sam\"],[\"details_sam\"],[\"diagnostic_pcr_ct_value_1_sam\"],[\"dissolved_oxygen_sam\"],[\"experimental_factor__rna_interference_exp\"],[\"experimental_factor__strain_exp\"],[\"extra_info_sam\"],[\"fiber_sam\"],[\"glucose_sam\"],[\"host_exp\"],[\"host_scietific_nam_sam\"],[\"isolate_run\"],[\"isolation_site_sam\"],[\"misc_param_sam\"],[\"mlst__scheme_sam\"],[\"nitrate_sam\"],[\"redox_potential_sam\"],[\"replicate_group_sam\"],[\"sample_comment_sam\"],[\"sampling_date_run\"],[\"sequence_sam\"],[\"single_cell_sam\"],[\"specimen_sam\"],[\"subsrc_note_sam\"],[\"symptom_sam\"],[\"taxonomy_species_sam\"],[\"time_of_collection_sam\"],[\"tretment_sam\"],[\"tumor_size_sam\"],[\"water_content_sam\"],[\"ww_surv_target_1_conc_sam\"]],\"hovertemplate\":\"model=sbert\\u003cbr\\u003e%uniq_found=%{x}\\u003cbr\\u003e%tokens_found=%{y}\\u003cbr\\u003efield=%{customdata[0]}\\u003cextra\\u003e\\u003c\\u002fextra\\u003e\",\"legendgroup\":\"sbert\",\"marker\":{\"color\":\"#EF553B\",\"symbol\":\"circle\"},\"mode\":\"markers\",\"name\":\"sbert\",\"orientation\":\"v\",\"showlegend\":true,\"x\":[12.87776508464015,80.0,44.98316498316498,67.98029556650246,72.72727272727273,87.36263736263736,48.38709677419355,0.9624639076034649,14.848484848484848,7.659467604218985,33.601643166426115,4.3893129770992365,39.50151057401813,4.929577464788732,10.365853658536585,21.016483516483518,13.15042573320719,91.42857142857143,18.0,27.11864406779661,100.0,87.160751565762,11.640329401290897,90.234375,32.40296964570999,15.656565656565656,23.333333333333332,72.22222222222223,24.137931034482758,51.2491404996562,2.8629856850715747,58.66983372921615,100.0,3.960964408725603,30.43032786885246,72.72727272727273,87.82412626832019,1.5337423312883436,79.66728280961183,5.25,12.941176470588236,34.285714285714285],\"xaxis\":\"x\",\"y\":[28.207068795882844,86.60130718954248,45.665122435473194,82.53327954820492,82.97872340425532,86.5079365079365,68.18181818181819,0.9912314144109798,84.84316736126344,26.433236574746008,75.2478215684707,71.4184786874951,72.8290676416819,53.04740406320542,17.679558011049725,63.02521008403362,19.698173153296267,92.70833333333333,19.607843137254903,37.68115942028985,100.0,86.45320197044335,18.922229026331905,94.9654491609082,68.83803767067839,48.268398268398265,40.31413612565445,85.29411764705883,32.993197278911566,82.9005147772314,5.189620758483034,45.68345323741007,100.0,6.56327887011908,88.74646819654056,75.81395348837209,87.09981167608287,24.41264416915848,86.26104023552503,29.128014842300555,20.21276595744681,36.55172413793103],\"yaxis\":\"y\",\"type\":\"scatter\"}],                        {\"template\":{\"data\":{\"histogram2dcontour\":[{\"type\":\"histogram2dcontour\",\"colorbar\":{\"outlinewidth\":0,\"ticks\":\"\"},\"colorscale\":[[0.0,\"#0d0887\"],[0.1111111111111111,\"#46039f\"],[0.2222222222222222,\"#7201a8\"],[0.3333333333333333,\"#9c179e\"],[0.4444444444444444,\"#bd3786\"],[0.5555555555555556,\"#d8576b\"],[0.6666666666666666,\"#ed7953\"],[0.7777777777777778,\"#fb9f3a\"],[0.8888888888888888,\"#fdca26\"],[1.0,\"#f0f921\"]]}],\"choropleth\":[{\"type\":\"choropleth\",\"colorbar\":{\"outlinewidth\":0,\"ticks\":\"\"}}],\"histogram2d\":[{\"type\":\"histogram2d\",\"colorbar\":{\"outlinewidth\":0,\"ticks\":\"\"},\"colorscale\":[[0.0,\"#0d0887\"],[0.1111111111111111,\"#46039f\"],[0.2222222222222222,\"#7201a8\"],[0.3333333333333333,\"#9c179e\"],[0.4444444444444444,\"#bd3786\"],[0.5555555555555556,\"#d8576b\"],[0.6666666666666666,\"#ed7953\"],[0.7777777777777778,\"#fb9f3a\"],[0.8888888888888888,\"#fdca26\"],[1.0,\"#f0f921\"]]}],\"heatmap\":[{\"type\":\"heatmap\",\"colorbar\":{\"outlinewidth\":0,\"ticks\":\"\"},\"colorscale\":[[0.0,\"#0d0887\"],[0.1111111111111111,\"#46039f\"],[0.2222222222222222,\"#7201a8\"],[0.3333333333333333,\"#9c179e\"],[0.4444444444444444,\"#bd3786\"],[0.5555555555555556,\"#d8576b\"],[0.6666666666666666,\"#ed7953\"],[0.7777777777777778,\"#fb9f3a\"],[0.8888888888888888,\"#fdca26\"],[1.0,\"#f0f921\"]]}],\"heatmapgl\":[{\"type\":\"heatmapgl\",\"colorbar\":{\"outlinewidth\":0,\"ticks\":\"\"},\"colorscale\":[[0.0,\"#0d0887\"],[0.1111111111111111,\"#46039f\"],[0.2222222222222222,\"#7201a8\"],[0.3333333333333333,\"#9c179e\"],[0.4444444444444444,\"#bd3786\"],[0.5555555555555556,\"#d8576b\"],[0.6666666666666666,\"#ed7953\"],[0.7777777777777778,\"#fb9f3a\"],[0.8888888888888888,\"#fdca26\"],[1.0,\"#f0f921\"]]}],\"contourcarpet\":[{\"type\":\"contourcarpet\",\"colorbar\":{\"outlinewidth\":0,\"ticks\":\"\"}}],\"contour\":[{\"type\":\"contour\",\"colorbar\":{\"outlinewidth\":0,\"ticks\":\"\"},\"colorscale\":[[0.0,\"#0d0887\"],[0.1111111111111111,\"#46039f\"],[0.2222222222222222,\"#7201a8\"],[0.3333333333333333,\"#9c179e\"],[0.4444444444444444,\"#bd3786\"],[0.5555555555555556,\"#d8576b\"],[0.6666666666666666,\"#ed7953\"],[0.7777777777777778,\"#fb9f3a\"],[0.8888888888888888,\"#fdca26\"],[1.0,\"#f0f921\"]]}],\"surface\":[{\"type\":\"surface\",\"colorbar\":{\"outlinewidth\":0,\"ticks\":\"\"},\"colorscale\":[[0.0,\"#0d0887\"],[0.1111111111111111,\"#46039f\"],[0.2222222222222222,\"#7201a8\"],[0.3333333333333333,\"#9c179e\"],[0.4444444444444444,\"#bd3786\"],[0.5555555555555556,\"#d8576b\"],[0.6666666666666666,\"#ed7953\"],[0.7777777777777778,\"#fb9f3a\"],[0.8888888888888888,\"#fdca26\"],[1.0,\"#f0f921\"]]}],\"mesh3d\":[{\"type\":\"mesh3d\",\"colorbar\":{\"outlinewidth\":0,\"ticks\":\"\"}}],\"scatter\":[{\"fillpattern\":{\"fillmode\":\"overlay\",\"size\":10,\"solidity\":0.2},\"type\":\"scatter\"}],\"parcoords\":[{\"type\":\"parcoords\",\"line\":{\"colorbar\":{\"outlinewidth\":0,\"ticks\":\"\"}}}],\"scatterpolargl\":[{\"type\":\"scatterpolargl\",\"marker\":{\"colorbar\":{\"outlinewidth\":0,\"ticks\":\"\"}}}],\"bar\":[{\"error_x\":{\"color\":\"#2a3f5f\"},\"error_y\":{\"color\":\"#2a3f5f\"},\"marker\":{\"line\":{\"color\":\"#E5ECF6\",\"width\":0.5},\"pattern\":{\"fillmode\":\"overlay\",\"size\":10,\"solidity\":0.2}},\"type\":\"bar\"}],\"scattergeo\":[{\"type\":\"scattergeo\",\"marker\":{\"colorbar\":{\"outlinewidth\":0,\"ticks\":\"\"}}}],\"scatterpolar\":[{\"type\":\"scatterpolar\",\"marker\":{\"colorbar\":{\"outlinewidth\":0,\"ticks\":\"\"}}}],\"histogram\":[{\"marker\":{\"pattern\":{\"fillmode\":\"overlay\",\"size\":10,\"solidity\":0.2}},\"type\":\"histogram\"}],\"scattergl\":[{\"type\":\"scattergl\",\"marker\":{\"colorbar\":{\"outlinewidth\":0,\"ticks\":\"\"}}}],\"scatter3d\":[{\"type\":\"scatter3d\",\"line\":{\"colorbar\":{\"outlinewidth\":0,\"ticks\":\"\"}},\"marker\":{\"colorbar\":{\"outlinewidth\":0,\"ticks\":\"\"}}}],\"scattermapbox\":[{\"type\":\"scattermapbox\",\"marker\":{\"colorbar\":{\"outlinewidth\":0,\"ticks\":\"\"}}}],\"scatterternary\":[{\"type\":\"scatterternary\",\"marker\":{\"colorbar\":{\"outlinewidth\":0,\"ticks\":\"\"}}}],\"scattercarpet\":[{\"type\":\"scattercarpet\",\"marker\":{\"colorbar\":{\"outlinewidth\":0,\"ticks\":\"\"}}}],\"carpet\":[{\"aaxis\":{\"endlinecolor\":\"#2a3f5f\",\"gridcolor\":\"white\",\"linecolor\":\"white\",\"minorgridcolor\":\"white\",\"startlinecolor\":\"#2a3f5f\"},\"baxis\":{\"endlinecolor\":\"#2a3f5f\",\"gridcolor\":\"white\",\"linecolor\":\"white\",\"minorgridcolor\":\"white\",\"startlinecolor\":\"#2a3f5f\"},\"type\":\"carpet\"}],\"table\":[{\"cells\":{\"fill\":{\"color\":\"#EBF0F8\"},\"line\":{\"color\":\"white\"}},\"header\":{\"fill\":{\"color\":\"#C8D4E3\"},\"line\":{\"color\":\"white\"}},\"type\":\"table\"}],\"barpolar\":[{\"marker\":{\"line\":{\"color\":\"#E5ECF6\",\"width\":0.5},\"pattern\":{\"fillmode\":\"overlay\",\"size\":10,\"solidity\":0.2}},\"type\":\"barpolar\"}],\"pie\":[{\"automargin\":true,\"type\":\"pie\"}]},\"layout\":{\"autotypenumbers\":\"strict\",\"colorway\":[\"#636efa\",\"#EF553B\",\"#00cc96\",\"#ab63fa\",\"#FFA15A\",\"#19d3f3\",\"#FF6692\",\"#B6E880\",\"#FF97FF\",\"#FECB52\"],\"font\":{\"color\":\"#2a3f5f\"},\"hovermode\":\"closest\",\"hoverlabel\":{\"align\":\"left\"},\"paper_bgcolor\":\"white\",\"plot_bgcolor\":\"#E5ECF6\",\"polar\":{\"bgcolor\":\"#E5ECF6\",\"angularaxis\":{\"gridcolor\":\"white\",\"linecolor\":\"white\",\"ticks\":\"\"},\"radialaxis\":{\"gridcolor\":\"white\",\"linecolor\":\"white\",\"ticks\":\"\"}},\"ternary\":{\"bgcolor\":\"#E5ECF6\",\"aaxis\":{\"gridcolor\":\"white\",\"linecolor\":\"white\",\"ticks\":\"\"},\"baxis\":{\"gridcolor\":\"white\",\"linecolor\":\"white\",\"ticks\":\"\"},\"caxis\":{\"gridcolor\":\"white\",\"linecolor\":\"white\",\"ticks\":\"\"}},\"coloraxis\":{\"colorbar\":{\"outlinewidth\":0,\"ticks\":\"\"}},\"colorscale\":{\"sequential\":[[0.0,\"#0d0887\"],[0.1111111111111111,\"#46039f\"],[0.2222222222222222,\"#7201a8\"],[0.3333333333333333,\"#9c179e\"],[0.4444444444444444,\"#bd3786\"],[0.5555555555555556,\"#d8576b\"],[0.6666666666666666,\"#ed7953\"],[0.7777777777777778,\"#fb9f3a\"],[0.8888888888888888,\"#fdca26\"],[1.0,\"#f0f921\"]],\"sequentialminus\":[[0.0,\"#0d0887\"],[0.1111111111111111,\"#46039f\"],[0.2222222222222222,\"#7201a8\"],[0.3333333333333333,\"#9c179e\"],[0.4444444444444444,\"#bd3786\"],[0.5555555555555556,\"#d8576b\"],[0.6666666666666666,\"#ed7953\"],[0.7777777777777778,\"#fb9f3a\"],[0.8888888888888888,\"#fdca26\"],[1.0,\"#f0f921\"]],\"diverging\":[[0,\"#8e0152\"],[0.1,\"#c51b7d\"],[0.2,\"#de77ae\"],[0.3,\"#f1b6da\"],[0.4,\"#fde0ef\"],[0.5,\"#f7f7f7\"],[0.6,\"#e6f5d0\"],[0.7,\"#b8e186\"],[0.8,\"#7fbc41\"],[0.9,\"#4d9221\"],[1,\"#276419\"]]},\"xaxis\":{\"gridcolor\":\"white\",\"linecolor\":\"white\",\"ticks\":\"\",\"title\":{\"standoff\":15},\"zerolinecolor\":\"white\",\"automargin\":true,\"zerolinewidth\":2},\"yaxis\":{\"gridcolor\":\"white\",\"linecolor\":\"white\",\"ticks\":\"\",\"title\":{\"standoff\":15},\"zerolinecolor\":\"white\",\"automargin\":true,\"zerolinewidth\":2},\"scene\":{\"xaxis\":{\"backgroundcolor\":\"#E5ECF6\",\"gridcolor\":\"white\",\"linecolor\":\"white\",\"showbackground\":true,\"ticks\":\"\",\"zerolinecolor\":\"white\",\"gridwidth\":2},\"yaxis\":{\"backgroundcolor\":\"#E5ECF6\",\"gridcolor\":\"white\",\"linecolor\":\"white\",\"showbackground\":true,\"ticks\":\"\",\"zerolinecolor\":\"white\",\"gridwidth\":2},\"zaxis\":{\"backgroundcolor\":\"#E5ECF6\",\"gridcolor\":\"white\",\"linecolor\":\"white\",\"showbackground\":true,\"ticks\":\"\",\"zerolinecolor\":\"white\",\"gridwidth\":2}},\"shapedefaults\":{\"line\":{\"color\":\"#2a3f5f\"}},\"annotationdefaults\":{\"arrowcolor\":\"#2a3f5f\",\"arrowhead\":0,\"arrowwidth\":1},\"geo\":{\"bgcolor\":\"white\",\"landcolor\":\"#E5ECF6\",\"subunitcolor\":\"white\",\"showland\":true,\"showlakes\":true,\"lakecolor\":\"white\"},\"title\":{\"x\":0.05},\"mapbox\":{\"style\":\"light\"}}},\"xaxis\":{\"anchor\":\"y\",\"domain\":[0.0,1.0],\"title\":{\"text\":\"%uniq_found\"}},\"yaxis\":{\"anchor\":\"x\",\"domain\":[0.0,1.0],\"title\":{\"text\":\"%tokens_found\"}},\"legend\":{\"title\":{\"text\":\"model\"},\"tracegroupgap\":0},\"margin\":{\"t\":60}},                        {\"responsive\": true}                    ).then(function(){\n",
       "                            \n",
       "var gd = document.getElementById('d4d28f4f-49d2-4d48-a265-979b057c72e5');\n",
       "var x = new MutationObserver(function (mutations, observer) {{\n",
       "        var display = window.getComputedStyle(gd).display;\n",
       "        if (!display || display === 'none') {{\n",
       "            console.log([gd, 'removed!']);\n",
       "            Plotly.purge(gd);\n",
       "            observer.disconnect();\n",
       "        }}\n",
       "}});\n",
       "\n",
       "// Listen for the removal of the full notebook cells\n",
       "var notebookContainer = gd.closest('#notebook-container');\n",
       "if (notebookContainer) {{\n",
       "    x.observe(notebookContainer, {childList: true});\n",
       "}}\n",
       "\n",
       "// Listen for the clearing of the current output cell\n",
       "var outputEl = gd.closest('.output');\n",
       "if (outputEl) {{\n",
       "    x.observe(outputEl, {childList: true});\n",
       "}}\n",
       "\n",
       "                        })                };                });            </script>        </div>"
      ]
     },
     "metadata": {},
     "output_type": "display_data"
    }
   ],
   "source": [
    "fig = px.scatter(vocab_df1, x='%uniq_found', y='%tokens_found', color='model', hover_data=['field', '%tokens_found', '%uniq_found'])\n",
    "fig.show()"
   ]
  },
  {
   "cell_type": "code",
   "execution_count": 55,
   "id": "29736faa-18ba-4571-8b3f-f89ecfb78161",
   "metadata": {
    "scrolled": true
   },
   "outputs": [
    {
     "data": {
      "application/vnd.plotly.v1+json": {
       "config": {
        "plotlyServerURL": "https://plot.ly"
       },
       "data": [
        {
         "alignmentgroup": "True",
         "box": {
          "visible": true
         },
         "customdata": [
          [
           "bio_material_sam",
           "%tokens_found"
          ],
          [
           "biological_material_preprocessing_sam",
           "%tokens_found"
          ],
          [
           "collection_label_sam",
           "%tokens_found"
          ],
          [
           "comments_sam",
           "%tokens_found"
          ],
          [
           "conductivity_sam",
           "%tokens_found"
          ],
          [
           "corrected_species_name_sam",
           "%tokens_found"
          ],
          [
           "coverage_sam",
           "%tokens_found"
          ],
          [
           "date_of_birth_sam",
           "%tokens_found"
          ],
          [
           "derived_from_sam",
           "%tokens_found"
          ],
          [
           "description_exp",
           "%tokens_found"
          ],
          [
           "description_sam",
           "%tokens_found"
          ],
          [
           "descriptor_sam",
           "%tokens_found"
          ],
          [
           "details_sam",
           "%tokens_found"
          ],
          [
           "diagnostic_pcr_ct_value_1_sam",
           "%tokens_found"
          ],
          [
           "dissolved_oxygen_sam",
           "%tokens_found"
          ],
          [
           "experimental_factor__rna_interference_exp",
           "%tokens_found"
          ],
          [
           "experimental_factor__strain_exp",
           "%tokens_found"
          ],
          [
           "extra_info_sam",
           "%tokens_found"
          ],
          [
           "fiber_sam",
           "%tokens_found"
          ],
          [
           "glucose_sam",
           "%tokens_found"
          ],
          [
           "host_exp",
           "%tokens_found"
          ],
          [
           "host_scietific_nam_sam",
           "%tokens_found"
          ],
          [
           "isolate_run",
           "%tokens_found"
          ],
          [
           "isolation_site_sam",
           "%tokens_found"
          ],
          [
           "misc_param_sam",
           "%tokens_found"
          ],
          [
           "mlst__scheme_sam",
           "%tokens_found"
          ],
          [
           "nitrate_sam",
           "%tokens_found"
          ],
          [
           "redox_potential_sam",
           "%tokens_found"
          ],
          [
           "replicate_group_sam",
           "%tokens_found"
          ],
          [
           "sample_comment_sam",
           "%tokens_found"
          ],
          [
           "sampling_date_run",
           "%tokens_found"
          ],
          [
           "sequence_sam",
           "%tokens_found"
          ],
          [
           "single_cell_sam",
           "%tokens_found"
          ],
          [
           "specimen_sam",
           "%tokens_found"
          ],
          [
           "subsrc_note_sam",
           "%tokens_found"
          ],
          [
           "symptom_sam",
           "%tokens_found"
          ],
          [
           "taxonomy_species_sam",
           "%tokens_found"
          ],
          [
           "time_of_collection_sam",
           "%tokens_found"
          ],
          [
           "tretment_sam",
           "%tokens_found"
          ],
          [
           "tumor_size_sam",
           "%tokens_found"
          ],
          [
           "water_content_sam",
           "%tokens_found"
          ],
          [
           "ww_surv_target_1_conc_sam",
           "%tokens_found"
          ],
          [
           "bio_material_sam",
           "%tokens_found"
          ],
          [
           "biological_material_preprocessing_sam",
           "%tokens_found"
          ],
          [
           "collection_label_sam",
           "%tokens_found"
          ],
          [
           "comments_sam",
           "%tokens_found"
          ],
          [
           "conductivity_sam",
           "%tokens_found"
          ],
          [
           "corrected_species_name_sam",
           "%tokens_found"
          ],
          [
           "coverage_sam",
           "%tokens_found"
          ],
          [
           "date_of_birth_sam",
           "%tokens_found"
          ],
          [
           "derived_from_sam",
           "%tokens_found"
          ],
          [
           "description_exp",
           "%tokens_found"
          ],
          [
           "description_sam",
           "%tokens_found"
          ],
          [
           "descriptor_sam",
           "%tokens_found"
          ],
          [
           "details_sam",
           "%tokens_found"
          ],
          [
           "diagnostic_pcr_ct_value_1_sam",
           "%tokens_found"
          ],
          [
           "dissolved_oxygen_sam",
           "%tokens_found"
          ],
          [
           "experimental_factor__rna_interference_exp",
           "%tokens_found"
          ],
          [
           "experimental_factor__strain_exp",
           "%tokens_found"
          ],
          [
           "extra_info_sam",
           "%tokens_found"
          ],
          [
           "fiber_sam",
           "%tokens_found"
          ],
          [
           "glucose_sam",
           "%tokens_found"
          ],
          [
           "host_exp",
           "%tokens_found"
          ],
          [
           "host_scietific_nam_sam",
           "%tokens_found"
          ],
          [
           "isolate_run",
           "%tokens_found"
          ],
          [
           "isolation_site_sam",
           "%tokens_found"
          ],
          [
           "misc_param_sam",
           "%tokens_found"
          ],
          [
           "mlst__scheme_sam",
           "%tokens_found"
          ],
          [
           "nitrate_sam",
           "%tokens_found"
          ],
          [
           "redox_potential_sam",
           "%tokens_found"
          ],
          [
           "replicate_group_sam",
           "%tokens_found"
          ],
          [
           "sample_comment_sam",
           "%tokens_found"
          ],
          [
           "sampling_date_run",
           "%tokens_found"
          ],
          [
           "sequence_sam",
           "%tokens_found"
          ],
          [
           "single_cell_sam",
           "%tokens_found"
          ],
          [
           "specimen_sam",
           "%tokens_found"
          ],
          [
           "subsrc_note_sam",
           "%tokens_found"
          ],
          [
           "symptom_sam",
           "%tokens_found"
          ],
          [
           "taxonomy_species_sam",
           "%tokens_found"
          ],
          [
           "time_of_collection_sam",
           "%tokens_found"
          ],
          [
           "tretment_sam",
           "%tokens_found"
          ],
          [
           "tumor_size_sam",
           "%tokens_found"
          ],
          [
           "water_content_sam",
           "%tokens_found"
          ],
          [
           "ww_surv_target_1_conc_sam",
           "%tokens_found"
          ]
         ],
         "hovertemplate": "measure=%{customdata[1]}<br>model=%{x}<br>value=%{y}<br>field=%{customdata[0]}<extra></extra>",
         "legendgroup": "%tokens_found",
         "marker": {
          "color": "#636efa"
         },
         "name": "%tokens_found",
         "offsetgroup": "%tokens_found",
         "orientation": "v",
         "points": "all",
         "scalegroup": "True",
         "showlegend": true,
         "type": "violin",
         "x": [
          "fasttext",
          "fasttext",
          "fasttext",
          "fasttext",
          "fasttext",
          "fasttext",
          "fasttext",
          "fasttext",
          "fasttext",
          "fasttext",
          "fasttext",
          "fasttext",
          "fasttext",
          "fasttext",
          "fasttext",
          "fasttext",
          "fasttext",
          "fasttext",
          "fasttext",
          "fasttext",
          "fasttext",
          "fasttext",
          "fasttext",
          "fasttext",
          "fasttext",
          "fasttext",
          "fasttext",
          "fasttext",
          "fasttext",
          "fasttext",
          "fasttext",
          "fasttext",
          "fasttext",
          "fasttext",
          "fasttext",
          "fasttext",
          "fasttext",
          "fasttext",
          "fasttext",
          "fasttext",
          "fasttext",
          "fasttext",
          "sbert",
          "sbert",
          "sbert",
          "sbert",
          "sbert",
          "sbert",
          "sbert",
          "sbert",
          "sbert",
          "sbert",
          "sbert",
          "sbert",
          "sbert",
          "sbert",
          "sbert",
          "sbert",
          "sbert",
          "sbert",
          "sbert",
          "sbert",
          "sbert",
          "sbert",
          "sbert",
          "sbert",
          "sbert",
          "sbert",
          "sbert",
          "sbert",
          "sbert",
          "sbert",
          "sbert",
          "sbert",
          "sbert",
          "sbert",
          "sbert",
          "sbert",
          "sbert",
          "sbert",
          "sbert",
          "sbert",
          "sbert",
          "sbert"
         ],
         "x0": " ",
         "xaxis": "x",
         "y": [
          27.79838038295618,
          90.84967320261438,
          3.3090668431502315,
          80.15328761597418,
          87.23404255319149,
          92.85714285714286,
          77.27272727272727,
          0.41936713686618377,
          86.77341522263654,
          21.734397677793904,
          72.05112319130227,
          68.7024099222859,
          60.76325411334552,
          53.197893152746424,
          17.12707182320442,
          65.54621848739495,
          19.38046068308181,
          97.91666666666667,
          19.607843137254903,
          34.78260869565217,
          81.81818181818181,
          98.76847290640394,
          8.77730149010002,
          95.62356038170451,
          47.431054023422746,
          46.103896103896105,
          43.717277486910994,
          94.11764705882354,
          28.231292517006803,
          81.23941252898706,
          5.189620758483034,
          5.755395683453237,
          100,
          6.064801993907505,
          88.7878161394804,
          82.79069767441861,
          99.71751412429379,
          24.391285775309697,
          89.00883218842002,
          28.571428571428573,
          21.80851063829787,
          13.793103448275861,
          28.207068795882844,
          86.60130718954248,
          45.665122435473194,
          82.53327954820492,
          82.97872340425532,
          86.5079365079365,
          68.18181818181819,
          0.9912314144109798,
          84.84316736126344,
          26.433236574746008,
          75.2478215684707,
          71.4184786874951,
          72.8290676416819,
          53.04740406320542,
          17.679558011049725,
          63.02521008403362,
          19.698173153296267,
          92.70833333333333,
          19.607843137254903,
          37.68115942028985,
          100,
          86.45320197044335,
          18.922229026331905,
          94.9654491609082,
          68.83803767067839,
          48.268398268398265,
          40.31413612565445,
          85.29411764705883,
          32.993197278911566,
          82.9005147772314,
          5.189620758483034,
          45.68345323741007,
          100,
          6.56327887011908,
          88.74646819654056,
          75.81395348837209,
          87.09981167608287,
          24.41264416915848,
          86.26104023552503,
          29.128014842300555,
          20.21276595744681,
          36.55172413793103
         ],
         "y0": " ",
         "yaxis": "y"
        },
        {
         "alignmentgroup": "True",
         "box": {
          "visible": true
         },
         "customdata": [
          [
           "bio_material_sam",
           "%uniq_found"
          ],
          [
           "biological_material_preprocessing_sam",
           "%uniq_found"
          ],
          [
           "collection_label_sam",
           "%uniq_found"
          ],
          [
           "comments_sam",
           "%uniq_found"
          ],
          [
           "conductivity_sam",
           "%uniq_found"
          ],
          [
           "corrected_species_name_sam",
           "%uniq_found"
          ],
          [
           "coverage_sam",
           "%uniq_found"
          ],
          [
           "date_of_birth_sam",
           "%uniq_found"
          ],
          [
           "derived_from_sam",
           "%uniq_found"
          ],
          [
           "description_exp",
           "%uniq_found"
          ],
          [
           "description_sam",
           "%uniq_found"
          ],
          [
           "descriptor_sam",
           "%uniq_found"
          ],
          [
           "details_sam",
           "%uniq_found"
          ],
          [
           "diagnostic_pcr_ct_value_1_sam",
           "%uniq_found"
          ],
          [
           "dissolved_oxygen_sam",
           "%uniq_found"
          ],
          [
           "experimental_factor__rna_interference_exp",
           "%uniq_found"
          ],
          [
           "experimental_factor__strain_exp",
           "%uniq_found"
          ],
          [
           "extra_info_sam",
           "%uniq_found"
          ],
          [
           "fiber_sam",
           "%uniq_found"
          ],
          [
           "glucose_sam",
           "%uniq_found"
          ],
          [
           "host_exp",
           "%uniq_found"
          ],
          [
           "host_scietific_nam_sam",
           "%uniq_found"
          ],
          [
           "isolate_run",
           "%uniq_found"
          ],
          [
           "isolation_site_sam",
           "%uniq_found"
          ],
          [
           "misc_param_sam",
           "%uniq_found"
          ],
          [
           "mlst__scheme_sam",
           "%uniq_found"
          ],
          [
           "nitrate_sam",
           "%uniq_found"
          ],
          [
           "redox_potential_sam",
           "%uniq_found"
          ],
          [
           "replicate_group_sam",
           "%uniq_found"
          ],
          [
           "sample_comment_sam",
           "%uniq_found"
          ],
          [
           "sampling_date_run",
           "%uniq_found"
          ],
          [
           "sequence_sam",
           "%uniq_found"
          ],
          [
           "single_cell_sam",
           "%uniq_found"
          ],
          [
           "specimen_sam",
           "%uniq_found"
          ],
          [
           "subsrc_note_sam",
           "%uniq_found"
          ],
          [
           "symptom_sam",
           "%uniq_found"
          ],
          [
           "taxonomy_species_sam",
           "%uniq_found"
          ],
          [
           "time_of_collection_sam",
           "%uniq_found"
          ],
          [
           "tretment_sam",
           "%uniq_found"
          ],
          [
           "tumor_size_sam",
           "%uniq_found"
          ],
          [
           "water_content_sam",
           "%uniq_found"
          ],
          [
           "ww_surv_target_1_conc_sam",
           "%uniq_found"
          ],
          [
           "bio_material_sam",
           "%uniq_found"
          ],
          [
           "biological_material_preprocessing_sam",
           "%uniq_found"
          ],
          [
           "collection_label_sam",
           "%uniq_found"
          ],
          [
           "comments_sam",
           "%uniq_found"
          ],
          [
           "conductivity_sam",
           "%uniq_found"
          ],
          [
           "corrected_species_name_sam",
           "%uniq_found"
          ],
          [
           "coverage_sam",
           "%uniq_found"
          ],
          [
           "date_of_birth_sam",
           "%uniq_found"
          ],
          [
           "derived_from_sam",
           "%uniq_found"
          ],
          [
           "description_exp",
           "%uniq_found"
          ],
          [
           "description_sam",
           "%uniq_found"
          ],
          [
           "descriptor_sam",
           "%uniq_found"
          ],
          [
           "details_sam",
           "%uniq_found"
          ],
          [
           "diagnostic_pcr_ct_value_1_sam",
           "%uniq_found"
          ],
          [
           "dissolved_oxygen_sam",
           "%uniq_found"
          ],
          [
           "experimental_factor__rna_interference_exp",
           "%uniq_found"
          ],
          [
           "experimental_factor__strain_exp",
           "%uniq_found"
          ],
          [
           "extra_info_sam",
           "%uniq_found"
          ],
          [
           "fiber_sam",
           "%uniq_found"
          ],
          [
           "glucose_sam",
           "%uniq_found"
          ],
          [
           "host_exp",
           "%uniq_found"
          ],
          [
           "host_scietific_nam_sam",
           "%uniq_found"
          ],
          [
           "isolate_run",
           "%uniq_found"
          ],
          [
           "isolation_site_sam",
           "%uniq_found"
          ],
          [
           "misc_param_sam",
           "%uniq_found"
          ],
          [
           "mlst__scheme_sam",
           "%uniq_found"
          ],
          [
           "nitrate_sam",
           "%uniq_found"
          ],
          [
           "redox_potential_sam",
           "%uniq_found"
          ],
          [
           "replicate_group_sam",
           "%uniq_found"
          ],
          [
           "sample_comment_sam",
           "%uniq_found"
          ],
          [
           "sampling_date_run",
           "%uniq_found"
          ],
          [
           "sequence_sam",
           "%uniq_found"
          ],
          [
           "single_cell_sam",
           "%uniq_found"
          ],
          [
           "specimen_sam",
           "%uniq_found"
          ],
          [
           "subsrc_note_sam",
           "%uniq_found"
          ],
          [
           "symptom_sam",
           "%uniq_found"
          ],
          [
           "taxonomy_species_sam",
           "%uniq_found"
          ],
          [
           "time_of_collection_sam",
           "%uniq_found"
          ],
          [
           "tretment_sam",
           "%uniq_found"
          ],
          [
           "tumor_size_sam",
           "%uniq_found"
          ],
          [
           "water_content_sam",
           "%uniq_found"
          ],
          [
           "ww_surv_target_1_conc_sam",
           "%uniq_found"
          ]
         ],
         "hovertemplate": "measure=%{customdata[1]}<br>model=%{x}<br>value=%{y}<br>field=%{customdata[0]}<extra></extra>",
         "legendgroup": "%uniq_found",
         "marker": {
          "color": "#EF553B"
         },
         "name": "%uniq_found",
         "offsetgroup": "%uniq_found",
         "orientation": "v",
         "points": "all",
         "scalegroup": "True",
         "showlegend": true,
         "type": "violin",
         "x": [
          "fasttext",
          "fasttext",
          "fasttext",
          "fasttext",
          "fasttext",
          "fasttext",
          "fasttext",
          "fasttext",
          "fasttext",
          "fasttext",
          "fasttext",
          "fasttext",
          "fasttext",
          "fasttext",
          "fasttext",
          "fasttext",
          "fasttext",
          "fasttext",
          "fasttext",
          "fasttext",
          "fasttext",
          "fasttext",
          "fasttext",
          "fasttext",
          "fasttext",
          "fasttext",
          "fasttext",
          "fasttext",
          "fasttext",
          "fasttext",
          "fasttext",
          "fasttext",
          "fasttext",
          "fasttext",
          "fasttext",
          "fasttext",
          "fasttext",
          "fasttext",
          "fasttext",
          "fasttext",
          "fasttext",
          "fasttext",
          "sbert",
          "sbert",
          "sbert",
          "sbert",
          "sbert",
          "sbert",
          "sbert",
          "sbert",
          "sbert",
          "sbert",
          "sbert",
          "sbert",
          "sbert",
          "sbert",
          "sbert",
          "sbert",
          "sbert",
          "sbert",
          "sbert",
          "sbert",
          "sbert",
          "sbert",
          "sbert",
          "sbert",
          "sbert",
          "sbert",
          "sbert",
          "sbert",
          "sbert",
          "sbert",
          "sbert",
          "sbert",
          "sbert",
          "sbert",
          "sbert",
          "sbert",
          "sbert",
          "sbert",
          "sbert",
          "sbert",
          "sbert",
          "sbert"
         ],
         "x0": " ",
         "xaxis": "x",
         "y": [
          6.0130854709731025,
          80,
          1.9528619528619529,
          55.66502463054187,
          72.72727272727273,
          91.0989010989011,
          51.61290322580645,
          0.3368623676612127,
          13.93939393939394,
          1.1300853842290306,
          23.42067281003664,
          2.099236641221374,
          12.462235649546828,
          5.28169014084507,
          8.536585365853659,
          24.86263736263736,
          12.015137180700094,
          97.14285714285714,
          18,
          23.728813559322035,
          71.42857142857143,
          98.43423799582463,
          0.5786779434676163,
          91.25,
          7.151583497791561,
          10.606060606060606,
          21.85185185185185,
          88.88888888888889,
          8.866995073891626,
          46.59637863855146,
          2.8629856850715747,
          5.7007125890736345,
          100,
          2.7267508610792195,
          29.96926229508197,
          81.81818181818181,
          99.66178128523111,
          1.4314928425357873,
          70.60998151571164,
          4.5,
          14.117647058823529,
          10.714285714285714,
          12.87776508464015,
          80,
          44.98316498316498,
          67.98029556650246,
          72.72727272727273,
          87.36263736263736,
          48.38709677419355,
          0.9624639076034649,
          14.848484848484848,
          7.659467604218985,
          33.601643166426115,
          4.3893129770992365,
          39.50151057401813,
          4.929577464788732,
          10.365853658536585,
          21.016483516483518,
          13.15042573320719,
          91.42857142857143,
          18,
          27.11864406779661,
          100,
          87.160751565762,
          11.640329401290897,
          90.234375,
          32.40296964570999,
          15.656565656565656,
          23.333333333333332,
          72.22222222222223,
          24.137931034482758,
          51.2491404996562,
          2.8629856850715747,
          58.66983372921615,
          100,
          3.960964408725603,
          30.43032786885246,
          72.72727272727273,
          87.82412626832019,
          1.5337423312883436,
          79.66728280961183,
          5.25,
          12.941176470588236,
          34.285714285714285
         ],
         "y0": " ",
         "yaxis": "y"
        }
       ],
       "layout": {
        "autosize": true,
        "legend": {
         "title": {
          "text": "measure"
         },
         "tracegroupgap": 0
        },
        "margin": {
         "t": 60
        },
        "template": {
         "data": {
          "bar": [
           {
            "error_x": {
             "color": "#2a3f5f"
            },
            "error_y": {
             "color": "#2a3f5f"
            },
            "marker": {
             "line": {
              "color": "#E5ECF6",
              "width": 0.5
             },
             "pattern": {
              "fillmode": "overlay",
              "size": 10,
              "solidity": 0.2
             }
            },
            "type": "bar"
           }
          ],
          "barpolar": [
           {
            "marker": {
             "line": {
              "color": "#E5ECF6",
              "width": 0.5
             },
             "pattern": {
              "fillmode": "overlay",
              "size": 10,
              "solidity": 0.2
             }
            },
            "type": "barpolar"
           }
          ],
          "carpet": [
           {
            "aaxis": {
             "endlinecolor": "#2a3f5f",
             "gridcolor": "white",
             "linecolor": "white",
             "minorgridcolor": "white",
             "startlinecolor": "#2a3f5f"
            },
            "baxis": {
             "endlinecolor": "#2a3f5f",
             "gridcolor": "white",
             "linecolor": "white",
             "minorgridcolor": "white",
             "startlinecolor": "#2a3f5f"
            },
            "type": "carpet"
           }
          ],
          "choropleth": [
           {
            "colorbar": {
             "outlinewidth": 0,
             "ticks": ""
            },
            "type": "choropleth"
           }
          ],
          "contour": [
           {
            "colorbar": {
             "outlinewidth": 0,
             "ticks": ""
            },
            "colorscale": [
             [
              0,
              "#0d0887"
             ],
             [
              0.1111111111111111,
              "#46039f"
             ],
             [
              0.2222222222222222,
              "#7201a8"
             ],
             [
              0.3333333333333333,
              "#9c179e"
             ],
             [
              0.4444444444444444,
              "#bd3786"
             ],
             [
              0.5555555555555556,
              "#d8576b"
             ],
             [
              0.6666666666666666,
              "#ed7953"
             ],
             [
              0.7777777777777778,
              "#fb9f3a"
             ],
             [
              0.8888888888888888,
              "#fdca26"
             ],
             [
              1,
              "#f0f921"
             ]
            ],
            "type": "contour"
           }
          ],
          "contourcarpet": [
           {
            "colorbar": {
             "outlinewidth": 0,
             "ticks": ""
            },
            "type": "contourcarpet"
           }
          ],
          "heatmap": [
           {
            "colorbar": {
             "outlinewidth": 0,
             "ticks": ""
            },
            "colorscale": [
             [
              0,
              "#0d0887"
             ],
             [
              0.1111111111111111,
              "#46039f"
             ],
             [
              0.2222222222222222,
              "#7201a8"
             ],
             [
              0.3333333333333333,
              "#9c179e"
             ],
             [
              0.4444444444444444,
              "#bd3786"
             ],
             [
              0.5555555555555556,
              "#d8576b"
             ],
             [
              0.6666666666666666,
              "#ed7953"
             ],
             [
              0.7777777777777778,
              "#fb9f3a"
             ],
             [
              0.8888888888888888,
              "#fdca26"
             ],
             [
              1,
              "#f0f921"
             ]
            ],
            "type": "heatmap"
           }
          ],
          "heatmapgl": [
           {
            "colorbar": {
             "outlinewidth": 0,
             "ticks": ""
            },
            "colorscale": [
             [
              0,
              "#0d0887"
             ],
             [
              0.1111111111111111,
              "#46039f"
             ],
             [
              0.2222222222222222,
              "#7201a8"
             ],
             [
              0.3333333333333333,
              "#9c179e"
             ],
             [
              0.4444444444444444,
              "#bd3786"
             ],
             [
              0.5555555555555556,
              "#d8576b"
             ],
             [
              0.6666666666666666,
              "#ed7953"
             ],
             [
              0.7777777777777778,
              "#fb9f3a"
             ],
             [
              0.8888888888888888,
              "#fdca26"
             ],
             [
              1,
              "#f0f921"
             ]
            ],
            "type": "heatmapgl"
           }
          ],
          "histogram": [
           {
            "marker": {
             "pattern": {
              "fillmode": "overlay",
              "size": 10,
              "solidity": 0.2
             }
            },
            "type": "histogram"
           }
          ],
          "histogram2d": [
           {
            "colorbar": {
             "outlinewidth": 0,
             "ticks": ""
            },
            "colorscale": [
             [
              0,
              "#0d0887"
             ],
             [
              0.1111111111111111,
              "#46039f"
             ],
             [
              0.2222222222222222,
              "#7201a8"
             ],
             [
              0.3333333333333333,
              "#9c179e"
             ],
             [
              0.4444444444444444,
              "#bd3786"
             ],
             [
              0.5555555555555556,
              "#d8576b"
             ],
             [
              0.6666666666666666,
              "#ed7953"
             ],
             [
              0.7777777777777778,
              "#fb9f3a"
             ],
             [
              0.8888888888888888,
              "#fdca26"
             ],
             [
              1,
              "#f0f921"
             ]
            ],
            "type": "histogram2d"
           }
          ],
          "histogram2dcontour": [
           {
            "colorbar": {
             "outlinewidth": 0,
             "ticks": ""
            },
            "colorscale": [
             [
              0,
              "#0d0887"
             ],
             [
              0.1111111111111111,
              "#46039f"
             ],
             [
              0.2222222222222222,
              "#7201a8"
             ],
             [
              0.3333333333333333,
              "#9c179e"
             ],
             [
              0.4444444444444444,
              "#bd3786"
             ],
             [
              0.5555555555555556,
              "#d8576b"
             ],
             [
              0.6666666666666666,
              "#ed7953"
             ],
             [
              0.7777777777777778,
              "#fb9f3a"
             ],
             [
              0.8888888888888888,
              "#fdca26"
             ],
             [
              1,
              "#f0f921"
             ]
            ],
            "type": "histogram2dcontour"
           }
          ],
          "mesh3d": [
           {
            "colorbar": {
             "outlinewidth": 0,
             "ticks": ""
            },
            "type": "mesh3d"
           }
          ],
          "parcoords": [
           {
            "line": {
             "colorbar": {
              "outlinewidth": 0,
              "ticks": ""
             }
            },
            "type": "parcoords"
           }
          ],
          "pie": [
           {
            "automargin": true,
            "type": "pie"
           }
          ],
          "scatter": [
           {
            "fillpattern": {
             "fillmode": "overlay",
             "size": 10,
             "solidity": 0.2
            },
            "type": "scatter"
           }
          ],
          "scatter3d": [
           {
            "line": {
             "colorbar": {
              "outlinewidth": 0,
              "ticks": ""
             }
            },
            "marker": {
             "colorbar": {
              "outlinewidth": 0,
              "ticks": ""
             }
            },
            "type": "scatter3d"
           }
          ],
          "scattercarpet": [
           {
            "marker": {
             "colorbar": {
              "outlinewidth": 0,
              "ticks": ""
             }
            },
            "type": "scattercarpet"
           }
          ],
          "scattergeo": [
           {
            "marker": {
             "colorbar": {
              "outlinewidth": 0,
              "ticks": ""
             }
            },
            "type": "scattergeo"
           }
          ],
          "scattergl": [
           {
            "marker": {
             "colorbar": {
              "outlinewidth": 0,
              "ticks": ""
             }
            },
            "type": "scattergl"
           }
          ],
          "scattermapbox": [
           {
            "marker": {
             "colorbar": {
              "outlinewidth": 0,
              "ticks": ""
             }
            },
            "type": "scattermapbox"
           }
          ],
          "scatterpolar": [
           {
            "marker": {
             "colorbar": {
              "outlinewidth": 0,
              "ticks": ""
             }
            },
            "type": "scatterpolar"
           }
          ],
          "scatterpolargl": [
           {
            "marker": {
             "colorbar": {
              "outlinewidth": 0,
              "ticks": ""
             }
            },
            "type": "scatterpolargl"
           }
          ],
          "scatterternary": [
           {
            "marker": {
             "colorbar": {
              "outlinewidth": 0,
              "ticks": ""
             }
            },
            "type": "scatterternary"
           }
          ],
          "surface": [
           {
            "colorbar": {
             "outlinewidth": 0,
             "ticks": ""
            },
            "colorscale": [
             [
              0,
              "#0d0887"
             ],
             [
              0.1111111111111111,
              "#46039f"
             ],
             [
              0.2222222222222222,
              "#7201a8"
             ],
             [
              0.3333333333333333,
              "#9c179e"
             ],
             [
              0.4444444444444444,
              "#bd3786"
             ],
             [
              0.5555555555555556,
              "#d8576b"
             ],
             [
              0.6666666666666666,
              "#ed7953"
             ],
             [
              0.7777777777777778,
              "#fb9f3a"
             ],
             [
              0.8888888888888888,
              "#fdca26"
             ],
             [
              1,
              "#f0f921"
             ]
            ],
            "type": "surface"
           }
          ],
          "table": [
           {
            "cells": {
             "fill": {
              "color": "#EBF0F8"
             },
             "line": {
              "color": "white"
             }
            },
            "header": {
             "fill": {
              "color": "#C8D4E3"
             },
             "line": {
              "color": "white"
             }
            },
            "type": "table"
           }
          ]
         },
         "layout": {
          "annotationdefaults": {
           "arrowcolor": "#2a3f5f",
           "arrowhead": 0,
           "arrowwidth": 1
          },
          "autotypenumbers": "strict",
          "coloraxis": {
           "colorbar": {
            "outlinewidth": 0,
            "ticks": ""
           }
          },
          "colorscale": {
           "diverging": [
            [
             0,
             "#8e0152"
            ],
            [
             0.1,
             "#c51b7d"
            ],
            [
             0.2,
             "#de77ae"
            ],
            [
             0.3,
             "#f1b6da"
            ],
            [
             0.4,
             "#fde0ef"
            ],
            [
             0.5,
             "#f7f7f7"
            ],
            [
             0.6,
             "#e6f5d0"
            ],
            [
             0.7,
             "#b8e186"
            ],
            [
             0.8,
             "#7fbc41"
            ],
            [
             0.9,
             "#4d9221"
            ],
            [
             1,
             "#276419"
            ]
           ],
           "sequential": [
            [
             0,
             "#0d0887"
            ],
            [
             0.1111111111111111,
             "#46039f"
            ],
            [
             0.2222222222222222,
             "#7201a8"
            ],
            [
             0.3333333333333333,
             "#9c179e"
            ],
            [
             0.4444444444444444,
             "#bd3786"
            ],
            [
             0.5555555555555556,
             "#d8576b"
            ],
            [
             0.6666666666666666,
             "#ed7953"
            ],
            [
             0.7777777777777778,
             "#fb9f3a"
            ],
            [
             0.8888888888888888,
             "#fdca26"
            ],
            [
             1,
             "#f0f921"
            ]
           ],
           "sequentialminus": [
            [
             0,
             "#0d0887"
            ],
            [
             0.1111111111111111,
             "#46039f"
            ],
            [
             0.2222222222222222,
             "#7201a8"
            ],
            [
             0.3333333333333333,
             "#9c179e"
            ],
            [
             0.4444444444444444,
             "#bd3786"
            ],
            [
             0.5555555555555556,
             "#d8576b"
            ],
            [
             0.6666666666666666,
             "#ed7953"
            ],
            [
             0.7777777777777778,
             "#fb9f3a"
            ],
            [
             0.8888888888888888,
             "#fdca26"
            ],
            [
             1,
             "#f0f921"
            ]
           ]
          },
          "colorway": [
           "#636efa",
           "#EF553B",
           "#00cc96",
           "#ab63fa",
           "#FFA15A",
           "#19d3f3",
           "#FF6692",
           "#B6E880",
           "#FF97FF",
           "#FECB52"
          ],
          "font": {
           "color": "#2a3f5f"
          },
          "geo": {
           "bgcolor": "white",
           "lakecolor": "white",
           "landcolor": "#E5ECF6",
           "showlakes": true,
           "showland": true,
           "subunitcolor": "white"
          },
          "hoverlabel": {
           "align": "left"
          },
          "hovermode": "closest",
          "mapbox": {
           "style": "light"
          },
          "paper_bgcolor": "white",
          "plot_bgcolor": "#E5ECF6",
          "polar": {
           "angularaxis": {
            "gridcolor": "white",
            "linecolor": "white",
            "ticks": ""
           },
           "bgcolor": "#E5ECF6",
           "radialaxis": {
            "gridcolor": "white",
            "linecolor": "white",
            "ticks": ""
           }
          },
          "scene": {
           "xaxis": {
            "backgroundcolor": "#E5ECF6",
            "gridcolor": "white",
            "gridwidth": 2,
            "linecolor": "white",
            "showbackground": true,
            "ticks": "",
            "zerolinecolor": "white"
           },
           "yaxis": {
            "backgroundcolor": "#E5ECF6",
            "gridcolor": "white",
            "gridwidth": 2,
            "linecolor": "white",
            "showbackground": true,
            "ticks": "",
            "zerolinecolor": "white"
           },
           "zaxis": {
            "backgroundcolor": "#E5ECF6",
            "gridcolor": "white",
            "gridwidth": 2,
            "linecolor": "white",
            "showbackground": true,
            "ticks": "",
            "zerolinecolor": "white"
           }
          },
          "shapedefaults": {
           "line": {
            "color": "#2a3f5f"
           }
          },
          "ternary": {
           "aaxis": {
            "gridcolor": "white",
            "linecolor": "white",
            "ticks": ""
           },
           "baxis": {
            "gridcolor": "white",
            "linecolor": "white",
            "ticks": ""
           },
           "bgcolor": "#E5ECF6",
           "caxis": {
            "gridcolor": "white",
            "linecolor": "white",
            "ticks": ""
           }
          },
          "title": {
           "x": 0.05
          },
          "xaxis": {
           "automargin": true,
           "gridcolor": "white",
           "linecolor": "white",
           "ticks": "",
           "title": {
            "standoff": 15
           },
           "zerolinecolor": "white",
           "zerolinewidth": 2
          },
          "yaxis": {
           "automargin": true,
           "gridcolor": "white",
           "linecolor": "white",
           "ticks": "",
           "title": {
            "standoff": 15
           },
           "zerolinecolor": "white",
           "zerolinewidth": 2
          }
         }
        },
        "violinmode": "group",
        "xaxis": {
         "anchor": "y",
         "autorange": true,
         "domain": [
          0,
          1
         ],
         "range": [
          -0.6548020984081042,
          1.6134106367583212
         ],
         "title": {
          "text": "model"
         },
         "type": "category"
        },
        "yaxis": {
         "anchor": "x",
         "autorange": true,
         "domain": [
          0,
          1
         ],
         "range": [
          -45.308540473767266,
          145.64540284142848
         ],
         "title": {
          "text": "value"
         },
         "type": "linear"
        }
       }
      },
      "image/png": "[encoded data removed]",
      "text/html": [
       "<div>                            <div id=\"444af5a1-01c1-4bde-8375-4c92f49de1b0\" class=\"plotly-graph-div\" style=\"height:525px; width:100%;\"></div>            <script type=\"text/javascript\">                require([\"plotly\"], function(Plotly) {                    window.PLOTLYENV=window.PLOTLYENV || {};                                    if (document.getElementById(\"444af5a1-01c1-4bde-8375-4c92f49de1b0\")) {                    Plotly.newPlot(                        \"444af5a1-01c1-4bde-8375-4c92f49de1b0\",                        [{\"alignmentgroup\":\"True\",\"box\":{\"visible\":true},\"customdata\":[[\"bio_material_sam\",\"%tokens_found\"],[\"biological_material_preprocessing_sam\",\"%tokens_found\"],[\"collection_label_sam\",\"%tokens_found\"],[\"comments_sam\",\"%tokens_found\"],[\"conductivity_sam\",\"%tokens_found\"],[\"corrected_species_name_sam\",\"%tokens_found\"],[\"coverage_sam\",\"%tokens_found\"],[\"date_of_birth_sam\",\"%tokens_found\"],[\"derived_from_sam\",\"%tokens_found\"],[\"description_exp\",\"%tokens_found\"],[\"description_sam\",\"%tokens_found\"],[\"descriptor_sam\",\"%tokens_found\"],[\"details_sam\",\"%tokens_found\"],[\"diagnostic_pcr_ct_value_1_sam\",\"%tokens_found\"],[\"dissolved_oxygen_sam\",\"%tokens_found\"],[\"experimental_factor__rna_interference_exp\",\"%tokens_found\"],[\"experimental_factor__strain_exp\",\"%tokens_found\"],[\"extra_info_sam\",\"%tokens_found\"],[\"fiber_sam\",\"%tokens_found\"],[\"glucose_sam\",\"%tokens_found\"],[\"host_exp\",\"%tokens_found\"],[\"host_scietific_nam_sam\",\"%tokens_found\"],[\"isolate_run\",\"%tokens_found\"],[\"isolation_site_sam\",\"%tokens_found\"],[\"misc_param_sam\",\"%tokens_found\"],[\"mlst__scheme_sam\",\"%tokens_found\"],[\"nitrate_sam\",\"%tokens_found\"],[\"redox_potential_sam\",\"%tokens_found\"],[\"replicate_group_sam\",\"%tokens_found\"],[\"sample_comment_sam\",\"%tokens_found\"],[\"sampling_date_run\",\"%tokens_found\"],[\"sequence_sam\",\"%tokens_found\"],[\"single_cell_sam\",\"%tokens_found\"],[\"specimen_sam\",\"%tokens_found\"],[\"subsrc_note_sam\",\"%tokens_found\"],[\"symptom_sam\",\"%tokens_found\"],[\"taxonomy_species_sam\",\"%tokens_found\"],[\"time_of_collection_sam\",\"%tokens_found\"],[\"tretment_sam\",\"%tokens_found\"],[\"tumor_size_sam\",\"%tokens_found\"],[\"water_content_sam\",\"%tokens_found\"],[\"ww_surv_target_1_conc_sam\",\"%tokens_found\"],[\"bio_material_sam\",\"%tokens_found\"],[\"biological_material_preprocessing_sam\",\"%tokens_found\"],[\"collection_label_sam\",\"%tokens_found\"],[\"comments_sam\",\"%tokens_found\"],[\"conductivity_sam\",\"%tokens_found\"],[\"corrected_species_name_sam\",\"%tokens_found\"],[\"coverage_sam\",\"%tokens_found\"],[\"date_of_birth_sam\",\"%tokens_found\"],[\"derived_from_sam\",\"%tokens_found\"],[\"description_exp\",\"%tokens_found\"],[\"description_sam\",\"%tokens_found\"],[\"descriptor_sam\",\"%tokens_found\"],[\"details_sam\",\"%tokens_found\"],[\"diagnostic_pcr_ct_value_1_sam\",\"%tokens_found\"],[\"dissolved_oxygen_sam\",\"%tokens_found\"],[\"experimental_factor__rna_interference_exp\",\"%tokens_found\"],[\"experimental_factor__strain_exp\",\"%tokens_found\"],[\"extra_info_sam\",\"%tokens_found\"],[\"fiber_sam\",\"%tokens_found\"],[\"glucose_sam\",\"%tokens_found\"],[\"host_exp\",\"%tokens_found\"],[\"host_scietific_nam_sam\",\"%tokens_found\"],[\"isolate_run\",\"%tokens_found\"],[\"isolation_site_sam\",\"%tokens_found\"],[\"misc_param_sam\",\"%tokens_found\"],[\"mlst__scheme_sam\",\"%tokens_found\"],[\"nitrate_sam\",\"%tokens_found\"],[\"redox_potential_sam\",\"%tokens_found\"],[\"replicate_group_sam\",\"%tokens_found\"],[\"sample_comment_sam\",\"%tokens_found\"],[\"sampling_date_run\",\"%tokens_found\"],[\"sequence_sam\",\"%tokens_found\"],[\"single_cell_sam\",\"%tokens_found\"],[\"specimen_sam\",\"%tokens_found\"],[\"subsrc_note_sam\",\"%tokens_found\"],[\"symptom_sam\",\"%tokens_found\"],[\"taxonomy_species_sam\",\"%tokens_found\"],[\"time_of_collection_sam\",\"%tokens_found\"],[\"tretment_sam\",\"%tokens_found\"],[\"tumor_size_sam\",\"%tokens_found\"],[\"water_content_sam\",\"%tokens_found\"],[\"ww_surv_target_1_conc_sam\",\"%tokens_found\"]],\"hovertemplate\":\"measure=%{customdata[1]}\\u003cbr\\u003emodel=%{x}\\u003cbr\\u003evalue=%{y}\\u003cbr\\u003efield=%{customdata[0]}\\u003cextra\\u003e\\u003c\\u002fextra\\u003e\",\"legendgroup\":\"%tokens_found\",\"marker\":{\"color\":\"#636efa\"},\"name\":\"%tokens_found\",\"offsetgroup\":\"%tokens_found\",\"orientation\":\"v\",\"points\":\"all\",\"scalegroup\":\"True\",\"showlegend\":true,\"x\":[\"fasttext\",\"fasttext\",\"fasttext\",\"fasttext\",\"fasttext\",\"fasttext\",\"fasttext\",\"fasttext\",\"fasttext\",\"fasttext\",\"fasttext\",\"fasttext\",\"fasttext\",\"fasttext\",\"fasttext\",\"fasttext\",\"fasttext\",\"fasttext\",\"fasttext\",\"fasttext\",\"fasttext\",\"fasttext\",\"fasttext\",\"fasttext\",\"fasttext\",\"fasttext\",\"fasttext\",\"fasttext\",\"fasttext\",\"fasttext\",\"fasttext\",\"fasttext\",\"fasttext\",\"fasttext\",\"fasttext\",\"fasttext\",\"fasttext\",\"fasttext\",\"fasttext\",\"fasttext\",\"fasttext\",\"fasttext\",\"sbert\",\"sbert\",\"sbert\",\"sbert\",\"sbert\",\"sbert\",\"sbert\",\"sbert\",\"sbert\",\"sbert\",\"sbert\",\"sbert\",\"sbert\",\"sbert\",\"sbert\",\"sbert\",\"sbert\",\"sbert\",\"sbert\",\"sbert\",\"sbert\",\"sbert\",\"sbert\",\"sbert\",\"sbert\",\"sbert\",\"sbert\",\"sbert\",\"sbert\",\"sbert\",\"sbert\",\"sbert\",\"sbert\",\"sbert\",\"sbert\",\"sbert\",\"sbert\",\"sbert\",\"sbert\",\"sbert\",\"sbert\",\"sbert\"],\"x0\":\" \",\"xaxis\":\"x\",\"y\":[27.79838038295618,90.84967320261438,3.3090668431502315,80.15328761597418,87.23404255319149,92.85714285714286,77.27272727272727,0.41936713686618377,86.77341522263654,21.734397677793904,72.05112319130227,68.7024099222859,60.76325411334552,53.197893152746424,17.12707182320442,65.54621848739495,19.38046068308181,97.91666666666667,19.607843137254903,34.78260869565217,81.81818181818181,98.76847290640394,8.77730149010002,95.62356038170451,47.431054023422746,46.103896103896105,43.717277486910994,94.11764705882354,28.231292517006803,81.23941252898706,5.189620758483034,5.755395683453237,100.0,6.064801993907505,88.7878161394804,82.79069767441861,99.71751412429379,24.391285775309697,89.00883218842002,28.571428571428573,21.80851063829787,13.793103448275861,28.207068795882844,86.60130718954248,45.665122435473194,82.53327954820492,82.97872340425532,86.5079365079365,68.18181818181819,0.9912314144109798,84.84316736126344,26.433236574746008,75.2478215684707,71.4184786874951,72.8290676416819,53.04740406320542,17.679558011049725,63.02521008403362,19.698173153296267,92.70833333333333,19.607843137254903,37.68115942028985,100.0,86.45320197044335,18.922229026331905,94.9654491609082,68.83803767067839,48.268398268398265,40.31413612565445,85.29411764705883,32.993197278911566,82.9005147772314,5.189620758483034,45.68345323741007,100.0,6.56327887011908,88.74646819654056,75.81395348837209,87.09981167608287,24.41264416915848,86.26104023552503,29.128014842300555,20.21276595744681,36.55172413793103],\"y0\":\" \",\"yaxis\":\"y\",\"type\":\"violin\"},{\"alignmentgroup\":\"True\",\"box\":{\"visible\":true},\"customdata\":[[\"bio_material_sam\",\"%uniq_found\"],[\"biological_material_preprocessing_sam\",\"%uniq_found\"],[\"collection_label_sam\",\"%uniq_found\"],[\"comments_sam\",\"%uniq_found\"],[\"conductivity_sam\",\"%uniq_found\"],[\"corrected_species_name_sam\",\"%uniq_found\"],[\"coverage_sam\",\"%uniq_found\"],[\"date_of_birth_sam\",\"%uniq_found\"],[\"derived_from_sam\",\"%uniq_found\"],[\"description_exp\",\"%uniq_found\"],[\"description_sam\",\"%uniq_found\"],[\"descriptor_sam\",\"%uniq_found\"],[\"details_sam\",\"%uniq_found\"],[\"diagnostic_pcr_ct_value_1_sam\",\"%uniq_found\"],[\"dissolved_oxygen_sam\",\"%uniq_found\"],[\"experimental_factor__rna_interference_exp\",\"%uniq_found\"],[\"experimental_factor__strain_exp\",\"%uniq_found\"],[\"extra_info_sam\",\"%uniq_found\"],[\"fiber_sam\",\"%uniq_found\"],[\"glucose_sam\",\"%uniq_found\"],[\"host_exp\",\"%uniq_found\"],[\"host_scietific_nam_sam\",\"%uniq_found\"],[\"isolate_run\",\"%uniq_found\"],[\"isolation_site_sam\",\"%uniq_found\"],[\"misc_param_sam\",\"%uniq_found\"],[\"mlst__scheme_sam\",\"%uniq_found\"],[\"nitrate_sam\",\"%uniq_found\"],[\"redox_potential_sam\",\"%uniq_found\"],[\"replicate_group_sam\",\"%uniq_found\"],[\"sample_comment_sam\",\"%uniq_found\"],[\"sampling_date_run\",\"%uniq_found\"],[\"sequence_sam\",\"%uniq_found\"],[\"single_cell_sam\",\"%uniq_found\"],[\"specimen_sam\",\"%uniq_found\"],[\"subsrc_note_sam\",\"%uniq_found\"],[\"symptom_sam\",\"%uniq_found\"],[\"taxonomy_species_sam\",\"%uniq_found\"],[\"time_of_collection_sam\",\"%uniq_found\"],[\"tretment_sam\",\"%uniq_found\"],[\"tumor_size_sam\",\"%uniq_found\"],[\"water_content_sam\",\"%uniq_found\"],[\"ww_surv_target_1_conc_sam\",\"%uniq_found\"],[\"bio_material_sam\",\"%uniq_found\"],[\"biological_material_preprocessing_sam\",\"%uniq_found\"],[\"collection_label_sam\",\"%uniq_found\"],[\"comments_sam\",\"%uniq_found\"],[\"conductivity_sam\",\"%uniq_found\"],[\"corrected_species_name_sam\",\"%uniq_found\"],[\"coverage_sam\",\"%uniq_found\"],[\"date_of_birth_sam\",\"%uniq_found\"],[\"derived_from_sam\",\"%uniq_found\"],[\"description_exp\",\"%uniq_found\"],[\"description_sam\",\"%uniq_found\"],[\"descriptor_sam\",\"%uniq_found\"],[\"details_sam\",\"%uniq_found\"],[\"diagnostic_pcr_ct_value_1_sam\",\"%uniq_found\"],[\"dissolved_oxygen_sam\",\"%uniq_found\"],[\"experimental_factor__rna_interference_exp\",\"%uniq_found\"],[\"experimental_factor__strain_exp\",\"%uniq_found\"],[\"extra_info_sam\",\"%uniq_found\"],[\"fiber_sam\",\"%uniq_found\"],[\"glucose_sam\",\"%uniq_found\"],[\"host_exp\",\"%uniq_found\"],[\"host_scietific_nam_sam\",\"%uniq_found\"],[\"isolate_run\",\"%uniq_found\"],[\"isolation_site_sam\",\"%uniq_found\"],[\"misc_param_sam\",\"%uniq_found\"],[\"mlst__scheme_sam\",\"%uniq_found\"],[\"nitrate_sam\",\"%uniq_found\"],[\"redox_potential_sam\",\"%uniq_found\"],[\"replicate_group_sam\",\"%uniq_found\"],[\"sample_comment_sam\",\"%uniq_found\"],[\"sampling_date_run\",\"%uniq_found\"],[\"sequence_sam\",\"%uniq_found\"],[\"single_cell_sam\",\"%uniq_found\"],[\"specimen_sam\",\"%uniq_found\"],[\"subsrc_note_sam\",\"%uniq_found\"],[\"symptom_sam\",\"%uniq_found\"],[\"taxonomy_species_sam\",\"%uniq_found\"],[\"time_of_collection_sam\",\"%uniq_found\"],[\"tretment_sam\",\"%uniq_found\"],[\"tumor_size_sam\",\"%uniq_found\"],[\"water_content_sam\",\"%uniq_found\"],[\"ww_surv_target_1_conc_sam\",\"%uniq_found\"]],\"hovertemplate\":\"measure=%{customdata[1]}\\u003cbr\\u003emodel=%{x}\\u003cbr\\u003evalue=%{y}\\u003cbr\\u003efield=%{customdata[0]}\\u003cextra\\u003e\\u003c\\u002fextra\\u003e\",\"legendgroup\":\"%uniq_found\",\"marker\":{\"color\":\"#EF553B\"},\"name\":\"%uniq_found\",\"offsetgroup\":\"%uniq_found\",\"orientation\":\"v\",\"points\":\"all\",\"scalegroup\":\"True\",\"showlegend\":true,\"x\":[\"fasttext\",\"fasttext\",\"fasttext\",\"fasttext\",\"fasttext\",\"fasttext\",\"fasttext\",\"fasttext\",\"fasttext\",\"fasttext\",\"fasttext\",\"fasttext\",\"fasttext\",\"fasttext\",\"fasttext\",\"fasttext\",\"fasttext\",\"fasttext\",\"fasttext\",\"fasttext\",\"fasttext\",\"fasttext\",\"fasttext\",\"fasttext\",\"fasttext\",\"fasttext\",\"fasttext\",\"fasttext\",\"fasttext\",\"fasttext\",\"fasttext\",\"fasttext\",\"fasttext\",\"fasttext\",\"fasttext\",\"fasttext\",\"fasttext\",\"fasttext\",\"fasttext\",\"fasttext\",\"fasttext\",\"fasttext\",\"sbert\",\"sbert\",\"sbert\",\"sbert\",\"sbert\",\"sbert\",\"sbert\",\"sbert\",\"sbert\",\"sbert\",\"sbert\",\"sbert\",\"sbert\",\"sbert\",\"sbert\",\"sbert\",\"sbert\",\"sbert\",\"sbert\",\"sbert\",\"sbert\",\"sbert\",\"sbert\",\"sbert\",\"sbert\",\"sbert\",\"sbert\",\"sbert\",\"sbert\",\"sbert\",\"sbert\",\"sbert\",\"sbert\",\"sbert\",\"sbert\",\"sbert\",\"sbert\",\"sbert\",\"sbert\",\"sbert\",\"sbert\",\"sbert\"],\"x0\":\" \",\"xaxis\":\"x\",\"y\":[6.0130854709731025,80.0,1.9528619528619529,55.66502463054187,72.72727272727273,91.0989010989011,51.61290322580645,0.3368623676612127,13.93939393939394,1.1300853842290306,23.42067281003664,2.099236641221374,12.462235649546828,5.28169014084507,8.536585365853659,24.86263736263736,12.015137180700094,97.14285714285714,18.0,23.728813559322035,71.42857142857143,98.43423799582463,0.5786779434676163,91.25,7.151583497791561,10.606060606060606,21.85185185185185,88.88888888888889,8.866995073891626,46.59637863855146,2.8629856850715747,5.7007125890736345,100.0,2.7267508610792195,29.96926229508197,81.81818181818181,99.66178128523111,1.4314928425357873,70.60998151571164,4.5,14.117647058823529,10.714285714285714,12.87776508464015,80.0,44.98316498316498,67.98029556650246,72.72727272727273,87.36263736263736,48.38709677419355,0.9624639076034649,14.848484848484848,7.659467604218985,33.601643166426115,4.3893129770992365,39.50151057401813,4.929577464788732,10.365853658536585,21.016483516483518,13.15042573320719,91.42857142857143,18.0,27.11864406779661,100.0,87.160751565762,11.640329401290897,90.234375,32.40296964570999,15.656565656565656,23.333333333333332,72.22222222222223,24.137931034482758,51.2491404996562,2.8629856850715747,58.66983372921615,100.0,3.960964408725603,30.43032786885246,72.72727272727273,87.82412626832019,1.5337423312883436,79.66728280961183,5.25,12.941176470588236,34.285714285714285],\"y0\":\" \",\"yaxis\":\"y\",\"type\":\"violin\"}],                        {\"template\":{\"data\":{\"histogram2dcontour\":[{\"type\":\"histogram2dcontour\",\"colorbar\":{\"outlinewidth\":0,\"ticks\":\"\"},\"colorscale\":[[0.0,\"#0d0887\"],[0.1111111111111111,\"#46039f\"],[0.2222222222222222,\"#7201a8\"],[0.3333333333333333,\"#9c179e\"],[0.4444444444444444,\"#bd3786\"],[0.5555555555555556,\"#d8576b\"],[0.6666666666666666,\"#ed7953\"],[0.7777777777777778,\"#fb9f3a\"],[0.8888888888888888,\"#fdca26\"],[1.0,\"#f0f921\"]]}],\"choropleth\":[{\"type\":\"choropleth\",\"colorbar\":{\"outlinewidth\":0,\"ticks\":\"\"}}],\"histogram2d\":[{\"type\":\"histogram2d\",\"colorbar\":{\"outlinewidth\":0,\"ticks\":\"\"},\"colorscale\":[[0.0,\"#0d0887\"],[0.1111111111111111,\"#46039f\"],[0.2222222222222222,\"#7201a8\"],[0.3333333333333333,\"#9c179e\"],[0.4444444444444444,\"#bd3786\"],[0.5555555555555556,\"#d8576b\"],[0.6666666666666666,\"#ed7953\"],[0.7777777777777778,\"#fb9f3a\"],[0.8888888888888888,\"#fdca26\"],[1.0,\"#f0f921\"]]}],\"heatmap\":[{\"type\":\"heatmap\",\"colorbar\":{\"outlinewidth\":0,\"ticks\":\"\"},\"colorscale\":[[0.0,\"#0d0887\"],[0.1111111111111111,\"#46039f\"],[0.2222222222222222,\"#7201a8\"],[0.3333333333333333,\"#9c179e\"],[0.4444444444444444,\"#bd3786\"],[0.5555555555555556,\"#d8576b\"],[0.6666666666666666,\"#ed7953\"],[0.7777777777777778,\"#fb9f3a\"],[0.8888888888888888,\"#fdca26\"],[1.0,\"#f0f921\"]]}],\"heatmapgl\":[{\"type\":\"heatmapgl\",\"colorbar\":{\"outlinewidth\":0,\"ticks\":\"\"},\"colorscale\":[[0.0,\"#0d0887\"],[0.1111111111111111,\"#46039f\"],[0.2222222222222222,\"#7201a8\"],[0.3333333333333333,\"#9c179e\"],[0.4444444444444444,\"#bd3786\"],[0.5555555555555556,\"#d8576b\"],[0.6666666666666666,\"#ed7953\"],[0.7777777777777778,\"#fb9f3a\"],[0.8888888888888888,\"#fdca26\"],[1.0,\"#f0f921\"]]}],\"contourcarpet\":[{\"type\":\"contourcarpet\",\"colorbar\":{\"outlinewidth\":0,\"ticks\":\"\"}}],\"contour\":[{\"type\":\"contour\",\"colorbar\":{\"outlinewidth\":0,\"ticks\":\"\"},\"colorscale\":[[0.0,\"#0d0887\"],[0.1111111111111111,\"#46039f\"],[0.2222222222222222,\"#7201a8\"],[0.3333333333333333,\"#9c179e\"],[0.4444444444444444,\"#bd3786\"],[0.5555555555555556,\"#d8576b\"],[0.6666666666666666,\"#ed7953\"],[0.7777777777777778,\"#fb9f3a\"],[0.8888888888888888,\"#fdca26\"],[1.0,\"#f0f921\"]]}],\"surface\":[{\"type\":\"surface\",\"colorbar\":{\"outlinewidth\":0,\"ticks\":\"\"},\"colorscale\":[[0.0,\"#0d0887\"],[0.1111111111111111,\"#46039f\"],[0.2222222222222222,\"#7201a8\"],[0.3333333333333333,\"#9c179e\"],[0.4444444444444444,\"#bd3786\"],[0.5555555555555556,\"#d8576b\"],[0.6666666666666666,\"#ed7953\"],[0.7777777777777778,\"#fb9f3a\"],[0.8888888888888888,\"#fdca26\"],[1.0,\"#f0f921\"]]}],\"mesh3d\":[{\"type\":\"mesh3d\",\"colorbar\":{\"outlinewidth\":0,\"ticks\":\"\"}}],\"scatter\":[{\"fillpattern\":{\"fillmode\":\"overlay\",\"size\":10,\"solidity\":0.2},\"type\":\"scatter\"}],\"parcoords\":[{\"type\":\"parcoords\",\"line\":{\"colorbar\":{\"outlinewidth\":0,\"ticks\":\"\"}}}],\"scatterpolargl\":[{\"type\":\"scatterpolargl\",\"marker\":{\"colorbar\":{\"outlinewidth\":0,\"ticks\":\"\"}}}],\"bar\":[{\"error_x\":{\"color\":\"#2a3f5f\"},\"error_y\":{\"color\":\"#2a3f5f\"},\"marker\":{\"line\":{\"color\":\"#E5ECF6\",\"width\":0.5},\"pattern\":{\"fillmode\":\"overlay\",\"size\":10,\"solidity\":0.2}},\"type\":\"bar\"}],\"scattergeo\":[{\"type\":\"scattergeo\",\"marker\":{\"colorbar\":{\"outlinewidth\":0,\"ticks\":\"\"}}}],\"scatterpolar\":[{\"type\":\"scatterpolar\",\"marker\":{\"colorbar\":{\"outlinewidth\":0,\"ticks\":\"\"}}}],\"histogram\":[{\"marker\":{\"pattern\":{\"fillmode\":\"overlay\",\"size\":10,\"solidity\":0.2}},\"type\":\"histogram\"}],\"scattergl\":[{\"type\":\"scattergl\",\"marker\":{\"colorbar\":{\"outlinewidth\":0,\"ticks\":\"\"}}}],\"scatter3d\":[{\"type\":\"scatter3d\",\"line\":{\"colorbar\":{\"outlinewidth\":0,\"ticks\":\"\"}},\"marker\":{\"colorbar\":{\"outlinewidth\":0,\"ticks\":\"\"}}}],\"scattermapbox\":[{\"type\":\"scattermapbox\",\"marker\":{\"colorbar\":{\"outlinewidth\":0,\"ticks\":\"\"}}}],\"scatterternary\":[{\"type\":\"scatterternary\",\"marker\":{\"colorbar\":{\"outlinewidth\":0,\"ticks\":\"\"}}}],\"scattercarpet\":[{\"type\":\"scattercarpet\",\"marker\":{\"colorbar\":{\"outlinewidth\":0,\"ticks\":\"\"}}}],\"carpet\":[{\"aaxis\":{\"endlinecolor\":\"#2a3f5f\",\"gridcolor\":\"white\",\"linecolor\":\"white\",\"minorgridcolor\":\"white\",\"startlinecolor\":\"#2a3f5f\"},\"baxis\":{\"endlinecolor\":\"#2a3f5f\",\"gridcolor\":\"white\",\"linecolor\":\"white\",\"minorgridcolor\":\"white\",\"startlinecolor\":\"#2a3f5f\"},\"type\":\"carpet\"}],\"table\":[{\"cells\":{\"fill\":{\"color\":\"#EBF0F8\"},\"line\":{\"color\":\"white\"}},\"header\":{\"fill\":{\"color\":\"#C8D4E3\"},\"line\":{\"color\":\"white\"}},\"type\":\"table\"}],\"barpolar\":[{\"marker\":{\"line\":{\"color\":\"#E5ECF6\",\"width\":0.5},\"pattern\":{\"fillmode\":\"overlay\",\"size\":10,\"solidity\":0.2}},\"type\":\"barpolar\"}],\"pie\":[{\"automargin\":true,\"type\":\"pie\"}]},\"layout\":{\"autotypenumbers\":\"strict\",\"colorway\":[\"#636efa\",\"#EF553B\",\"#00cc96\",\"#ab63fa\",\"#FFA15A\",\"#19d3f3\",\"#FF6692\",\"#B6E880\",\"#FF97FF\",\"#FECB52\"],\"font\":{\"color\":\"#2a3f5f\"},\"hovermode\":\"closest\",\"hoverlabel\":{\"align\":\"left\"},\"paper_bgcolor\":\"white\",\"plot_bgcolor\":\"#E5ECF6\",\"polar\":{\"bgcolor\":\"#E5ECF6\",\"angularaxis\":{\"gridcolor\":\"white\",\"linecolor\":\"white\",\"ticks\":\"\"},\"radialaxis\":{\"gridcolor\":\"white\",\"linecolor\":\"white\",\"ticks\":\"\"}},\"ternary\":{\"bgcolor\":\"#E5ECF6\",\"aaxis\":{\"gridcolor\":\"white\",\"linecolor\":\"white\",\"ticks\":\"\"},\"baxis\":{\"gridcolor\":\"white\",\"linecolor\":\"white\",\"ticks\":\"\"},\"caxis\":{\"gridcolor\":\"white\",\"linecolor\":\"white\",\"ticks\":\"\"}},\"coloraxis\":{\"colorbar\":{\"outlinewidth\":0,\"ticks\":\"\"}},\"colorscale\":{\"sequential\":[[0.0,\"#0d0887\"],[0.1111111111111111,\"#46039f\"],[0.2222222222222222,\"#7201a8\"],[0.3333333333333333,\"#9c179e\"],[0.4444444444444444,\"#bd3786\"],[0.5555555555555556,\"#d8576b\"],[0.6666666666666666,\"#ed7953\"],[0.7777777777777778,\"#fb9f3a\"],[0.8888888888888888,\"#fdca26\"],[1.0,\"#f0f921\"]],\"sequentialminus\":[[0.0,\"#0d0887\"],[0.1111111111111111,\"#46039f\"],[0.2222222222222222,\"#7201a8\"],[0.3333333333333333,\"#9c179e\"],[0.4444444444444444,\"#bd3786\"],[0.5555555555555556,\"#d8576b\"],[0.6666666666666666,\"#ed7953\"],[0.7777777777777778,\"#fb9f3a\"],[0.8888888888888888,\"#fdca26\"],[1.0,\"#f0f921\"]],\"diverging\":[[0,\"#8e0152\"],[0.1,\"#c51b7d\"],[0.2,\"#de77ae\"],[0.3,\"#f1b6da\"],[0.4,\"#fde0ef\"],[0.5,\"#f7f7f7\"],[0.6,\"#e6f5d0\"],[0.7,\"#b8e186\"],[0.8,\"#7fbc41\"],[0.9,\"#4d9221\"],[1,\"#276419\"]]},\"xaxis\":{\"gridcolor\":\"white\",\"linecolor\":\"white\",\"ticks\":\"\",\"title\":{\"standoff\":15},\"zerolinecolor\":\"white\",\"automargin\":true,\"zerolinewidth\":2},\"yaxis\":{\"gridcolor\":\"white\",\"linecolor\":\"white\",\"ticks\":\"\",\"title\":{\"standoff\":15},\"zerolinecolor\":\"white\",\"automargin\":true,\"zerolinewidth\":2},\"scene\":{\"xaxis\":{\"backgroundcolor\":\"#E5ECF6\",\"gridcolor\":\"white\",\"linecolor\":\"white\",\"showbackground\":true,\"ticks\":\"\",\"zerolinecolor\":\"white\",\"gridwidth\":2},\"yaxis\":{\"backgroundcolor\":\"#E5ECF6\",\"gridcolor\":\"white\",\"linecolor\":\"white\",\"showbackground\":true,\"ticks\":\"\",\"zerolinecolor\":\"white\",\"gridwidth\":2},\"zaxis\":{\"backgroundcolor\":\"#E5ECF6\",\"gridcolor\":\"white\",\"linecolor\":\"white\",\"showbackground\":true,\"ticks\":\"\",\"zerolinecolor\":\"white\",\"gridwidth\":2}},\"shapedefaults\":{\"line\":{\"color\":\"#2a3f5f\"}},\"annotationdefaults\":{\"arrowcolor\":\"#2a3f5f\",\"arrowhead\":0,\"arrowwidth\":1},\"geo\":{\"bgcolor\":\"white\",\"landcolor\":\"#E5ECF6\",\"subunitcolor\":\"white\",\"showland\":true,\"showlakes\":true,\"lakecolor\":\"white\"},\"title\":{\"x\":0.05},\"mapbox\":{\"style\":\"light\"}}},\"xaxis\":{\"anchor\":\"y\",\"domain\":[0.0,1.0],\"title\":{\"text\":\"model\"}},\"yaxis\":{\"anchor\":\"x\",\"domain\":[0.0,1.0],\"title\":{\"text\":\"value\"}},\"legend\":{\"title\":{\"text\":\"measure\"},\"tracegroupgap\":0},\"margin\":{\"t\":60},\"violinmode\":\"group\"},                        {\"responsive\": true}                    ).then(function(){\n",
       "                            \n",
       "var gd = document.getElementById('444af5a1-01c1-4bde-8375-4c92f49de1b0');\n",
       "var x = new MutationObserver(function (mutations, observer) {{\n",
       "        var display = window.getComputedStyle(gd).display;\n",
       "        if (!display || display === 'none') {{\n",
       "            console.log([gd, 'removed!']);\n",
       "            Plotly.purge(gd);\n",
       "            observer.disconnect();\n",
       "        }}\n",
       "}});\n",
       "\n",
       "// Listen for the removal of the full notebook cells\n",
       "var notebookContainer = gd.closest('#notebook-container');\n",
       "if (notebookContainer) {{\n",
       "    x.observe(notebookContainer, {childList: true});\n",
       "}}\n",
       "\n",
       "// Listen for the clearing of the current output cell\n",
       "var outputEl = gd.closest('.output');\n",
       "if (outputEl) {{\n",
       "    x.observe(outputEl, {childList: true});\n",
       "}}\n",
       "\n",
       "                        })                };                });            </script>        </div>"
      ]
     },
     "metadata": {},
     "output_type": "display_data"
    }
   ],
   "source": [
    "fig = px.violin(vocab_df2, y=\"value\", x=\"model\", color=\"measure\", box=True, points=\"all\",\n",
    "          hover_data=vocab_df2.columns)\n",
    "fig.show()"
   ]
  },
  {
   "cell_type": "code",
   "execution_count": 215,
   "id": "c85c9809-c371-4858-83e6-0733036974c2",
   "metadata": {},
   "outputs": [
    {
     "name": "stdout",
     "output_type": "stream",
     "text": [
      "bio_material_sam results not found at ./results/fasttext-similarity-matrix/fasttext-bio_material_sam.similarity-score-matrix.npy\n",
      "biological_material_preprocessing_sam results not found at ./results/fasttext-similarity-matrix/fasttext-biological_material_preprocessing_sam.similarity-score-matrix.npy\n",
      "collection_label_sam results not found at ./results/fasttext-similarity-matrix/fasttext-collection_label_sam.similarity-score-matrix.npy\n",
      "comments_sam results not found at ./results/fasttext-similarity-matrix/fasttext-comments_sam.similarity-score-matrix.npy\n",
      "conductivity_sam results not found at ./results/fasttext-similarity-matrix/fasttext-conductivity_sam.similarity-score-matrix.npy\n",
      "corrected_species_name_sam results not found at ./results/fasttext-similarity-matrix/fasttext-corrected_species_name_sam.similarity-score-matrix.npy\n",
      "coverage_sam results not found at ./results/fasttext-similarity-matrix/fasttext-coverage_sam.similarity-score-matrix.npy\n",
      "date_of_birth_sam results not found at ./results/fasttext-similarity-matrix/fasttext-date_of_birth_sam.similarity-score-matrix.npy\n",
      "derived_from_sam results not found at ./results/fasttext-similarity-matrix/fasttext-derived_from_sam.similarity-score-matrix.npy\n",
      "description_exp results not found at ./results/fasttext-similarity-matrix/fasttext-description_exp.similarity-score-matrix.npy\n",
      "description_sam results not found at ./results/fasttext-similarity-matrix/fasttext-description_sam.similarity-score-matrix.npy\n",
      "descriptor_sam results not found at ./results/fasttext-similarity-matrix/fasttext-descriptor_sam.similarity-score-matrix.npy\n",
      "details_sam results not found at ./results/fasttext-similarity-matrix/fasttext-details_sam.similarity-score-matrix.npy\n",
      "diagnostic_pcr_ct_value_1_sam results not found at ./results/fasttext-similarity-matrix/fasttext-diagnostic_pcr_ct_value_1_sam.similarity-score-matrix.npy\n",
      "dissolved_oxygen_sam results not found at ./results/fasttext-similarity-matrix/fasttext-dissolved_oxygen_sam.similarity-score-matrix.npy\n",
      "experimental_factor__rna_interference_exp results not found at ./results/fasttext-similarity-matrix/fasttext-experimental_factor__rna_interference_exp.similarity-score-matrix.npy\n",
      "experimental_factor__strain_exp results not found at ./results/fasttext-similarity-matrix/fasttext-experimental_factor__strain_exp.similarity-score-matrix.npy\n",
      "extra_info_sam results not found at ./results/fasttext-similarity-matrix/fasttext-extra_info_sam.similarity-score-matrix.npy\n",
      "fiber_sam results not found at ./results/fasttext-similarity-matrix/fasttext-fiber_sam.similarity-score-matrix.npy\n",
      "glucose_sam results not found at ./results/fasttext-similarity-matrix/fasttext-glucose_sam.similarity-score-matrix.npy\n",
      "host_exp results not found at ./results/fasttext-similarity-matrix/fasttext-host_exp.similarity-score-matrix.npy\n",
      "host_scietific_nam_sam results not found at ./results/fasttext-similarity-matrix/fasttext-host_scietific_nam_sam.similarity-score-matrix.npy\n",
      "isolate_run results not found at ./results/fasttext-similarity-matrix/fasttext-isolate_run.similarity-score-matrix.npy\n",
      "isolation_site_sam results not found at ./results/fasttext-similarity-matrix/fasttext-isolation_site_sam.similarity-score-matrix.npy\n",
      "misc_param_sam results not found at ./results/fasttext-similarity-matrix/fasttext-misc_param_sam.similarity-score-matrix.npy\n",
      "mlst__scheme_sam results not found at ./results/fasttext-similarity-matrix/fasttext-mlst__scheme_sam.similarity-score-matrix.npy\n",
      "nitrate_sam results not found at ./results/fasttext-similarity-matrix/fasttext-nitrate_sam.similarity-score-matrix.npy\n",
      "redox_potential_sam results not found at ./results/fasttext-similarity-matrix/fasttext-redox_potential_sam.similarity-score-matrix.npy\n",
      "replicate_group_sam results not found at ./results/fasttext-similarity-matrix/fasttext-replicate_group_sam.similarity-score-matrix.npy\n",
      "sample_comment_sam results not found at ./results/fasttext-similarity-matrix/fasttext-sample_comment_sam.similarity-score-matrix.npy\n",
      "sampling_date_run results not found at ./results/fasttext-similarity-matrix/fasttext-sampling_date_run.similarity-score-matrix.npy\n",
      "sequence_sam results not found at ./results/fasttext-similarity-matrix/fasttext-sequence_sam.similarity-score-matrix.npy\n",
      "single_cell_sam results not found at ./results/fasttext-similarity-matrix/fasttext-single_cell_sam.similarity-score-matrix.npy\n",
      "specimen_sam results not found at ./results/fasttext-similarity-matrix/fasttext-specimen_sam.similarity-score-matrix.npy\n",
      "subsrc_note_sam results not found at ./results/fasttext-similarity-matrix/fasttext-subsrc_note_sam.similarity-score-matrix.npy\n",
      "symptom_sam results not found at ./results/fasttext-similarity-matrix/fasttext-symptom_sam.similarity-score-matrix.npy\n",
      "taxonomy_species_sam results not found at ./results/fasttext-similarity-matrix/fasttext-taxonomy_species_sam.similarity-score-matrix.npy\n",
      "time_of_collection_sam results not found at ./results/fasttext-similarity-matrix/fasttext-time_of_collection_sam.similarity-score-matrix.npy\n",
      "tretment_sam results not found at ./results/fasttext-similarity-matrix/fasttext-tretment_sam.similarity-score-matrix.npy\n",
      "tumor_size_sam results not found at ./results/fasttext-similarity-matrix/fasttext-tumor_size_sam.similarity-score-matrix.npy\n",
      "water_content_sam results not found at ./results/fasttext-similarity-matrix/fasttext-water_content_sam.similarity-score-matrix.npy\n",
      "ww_surv_target_1_conc_sam results not found at ./results/fasttext-similarity-matrix/fasttext-ww_surv_target_1_conc_sam.similarity-score-matrix.npy\n"
     ]
    }
   ],
   "source": [
    "groupings_dict = {}\n",
    "for a in vocab_df.field.unique():\n",
    "    try:\n",
    "        f = \"./results/fasttext-similarity-matrix/fasttext-{attribute}.similarity-score-matrix.npy\".format(attribute=a)\n",
    "        test2_np = np.load(f)\n",
    "        test2_np = np.nan_to_num(test2_np)\n",
    "        test2 = pd.DataFrame(test2_np)\n",
    "        test2_md = pd.read_csv(\"./attributes/{attributes}.entries.tsv\".format(attribute=a), sep='\\t', header=None)\n",
    "        clustering = DBSCAN(eps=1+test2.quantile(q=1).quantile(q=1), min_samples=2).fit(test2_np)\n",
    "        labels = clustering.labels_\n",
    "        no_clusters = len(np.unique(labels) )\n",
    "        no_noise = np.sum(np.array(labels) == -1, axis=0)\n",
    "        test2['labels'] = labels\n",
    "        test2 = test2[['labels']]\n",
    "        for i in test2.index:\n",
    "            test2.at[i, 'Value'] = test2_md[0].loc[i]\n",
    "        groupings = [test2[test2.labels==i].Value.to_list() for i in test2.labels.unique()]\n",
    "        groupings_dict.update({a: groupings})\n",
    "        ss = silhouette_score(test2_np, labels)\n",
    "        print(a)\n",
    "        print(test2.max().max(), test2.min().min(), test2.mean().mean(), test2.quantile(q=0.5).quantile(q=0.5))\n",
    "        print('Estimated no. of clusters: %d' % no_clusters)\n",
    "        print('Estimated no. of noise points: %d' % no_noise)\n",
    "        print(clustering)\n",
    "        print('silhouette score:', ss)\n",
    "    except:\n",
    "        print(a, 'results not found at', \"./results/fasttext-similarity-matrix/fasttext-{attribute}.similarity-score-matrix.npy\".format(attribute=a))\n",
    "        continue"
   ]
  },
  {
   "cell_type": "code",
   "execution_count": 197,
   "id": "b44b4804-75c3-465a-a332-10f8693bf742",
   "metadata": {},
   "outputs": [
    {
     "name": "stdout",
     "output_type": "stream",
     "text": [
      "1.0000007 0.0 0.55982876 0.5921931564807892\n"
     ]
    }
   ],
   "source": [
    "test2 = pd.DataFrame(np.load(f'./results/fasttext-similarity-matrix/fasttext-host_scietific_nam_sam.similarity-score-matrix.npy')).fillna(0)\n",
    "test2_np = np.load(f'./results/fasttext-similarity-matrix/fasttext-host_scietific_nam_sam.similarity-score-matrix.npy')\n",
    "test2_np = np.nan_to_num(test2_np)\n",
    "test2_md = pd.read_csv(f'./attributes/host_scietific_nam_sam.entries.tsv', sep='\\t', header=None)\n",
    "print(test2.max().max(), test2.min().min(), test2.mean().mean(), test2.quantile(q=0.5).quantile(q=0.5))\n",
    "#test2.head()"
   ]
  },
  {
   "cell_type": "code",
   "execution_count": 198,
   "id": "05fbe212-b372-4b35-8551-bfd204233a02",
   "metadata": {},
   "outputs": [
    {
     "name": "stdout",
     "output_type": "stream",
     "text": [
      "Estimated no. of clusters: 3\n",
      "Estimated no. of noise points: 3\n"
     ]
    },
    {
     "data": {
      "text/html": [
       "<style>#sk-container-id-41 {color: black;}#sk-container-id-41 pre{padding: 0;}#sk-container-id-41 div.sk-toggleable {background-color: white;}#sk-container-id-41 label.sk-toggleable__label {cursor: pointer;display: block;width: 100%;margin-bottom: 0;padding: 0.3em;box-sizing: border-box;text-align: center;}#sk-container-id-41 label.sk-toggleable__label-arrow:before {content: \"▸\";float: left;margin-right: 0.25em;color: #696969;}#sk-container-id-41 label.sk-toggleable__label-arrow:hover:before {color: black;}#sk-container-id-41 div.sk-estimator:hover label.sk-toggleable__label-arrow:before {color: black;}#sk-container-id-41 div.sk-toggleable__content {max-height: 0;max-width: 0;overflow: hidden;text-align: left;background-color: #f0f8ff;}#sk-container-id-41 div.sk-toggleable__content pre {margin: 0.2em;color: black;border-radius: 0.25em;background-color: #f0f8ff;}#sk-container-id-41 input.sk-toggleable__control:checked~div.sk-toggleable__content {max-height: 200px;max-width: 100%;overflow: auto;}#sk-container-id-41 input.sk-toggleable__control:checked~label.sk-toggleable__label-arrow:before {content: \"▾\";}#sk-container-id-41 div.sk-estimator input.sk-toggleable__control:checked~label.sk-toggleable__label {background-color: #d4ebff;}#sk-container-id-41 div.sk-label input.sk-toggleable__control:checked~label.sk-toggleable__label {background-color: #d4ebff;}#sk-container-id-41 input.sk-hidden--visually {border: 0;clip: rect(1px 1px 1px 1px);clip: rect(1px, 1px, 1px, 1px);height: 1px;margin: -1px;overflow: hidden;padding: 0;position: absolute;width: 1px;}#sk-container-id-41 div.sk-estimator {font-family: monospace;background-color: #f0f8ff;border: 1px dotted black;border-radius: 0.25em;box-sizing: border-box;margin-bottom: 0.5em;}#sk-container-id-41 div.sk-estimator:hover {background-color: #d4ebff;}#sk-container-id-41 div.sk-parallel-item::after {content: \"\";width: 100%;border-bottom: 1px solid gray;flex-grow: 1;}#sk-container-id-41 div.sk-label:hover label.sk-toggleable__label {background-color: #d4ebff;}#sk-container-id-41 div.sk-serial::before {content: \"\";position: absolute;border-left: 1px solid gray;box-sizing: border-box;top: 0;bottom: 0;left: 50%;z-index: 0;}#sk-container-id-41 div.sk-serial {display: flex;flex-direction: column;align-items: center;background-color: white;padding-right: 0.2em;padding-left: 0.2em;position: relative;}#sk-container-id-41 div.sk-item {position: relative;z-index: 1;}#sk-container-id-41 div.sk-parallel {display: flex;align-items: stretch;justify-content: center;background-color: white;position: relative;}#sk-container-id-41 div.sk-item::before, #sk-container-id-41 div.sk-parallel-item::before {content: \"\";position: absolute;border-left: 1px solid gray;box-sizing: border-box;top: 0;bottom: 0;left: 50%;z-index: -1;}#sk-container-id-41 div.sk-parallel-item {display: flex;flex-direction: column;z-index: 1;position: relative;background-color: white;}#sk-container-id-41 div.sk-parallel-item:first-child::after {align-self: flex-end;width: 50%;}#sk-container-id-41 div.sk-parallel-item:last-child::after {align-self: flex-start;width: 50%;}#sk-container-id-41 div.sk-parallel-item:only-child::after {width: 0;}#sk-container-id-41 div.sk-dashed-wrapped {border: 1px dashed gray;margin: 0 0.4em 0.5em 0.4em;box-sizing: border-box;padding-bottom: 0.4em;background-color: white;}#sk-container-id-41 div.sk-label label {font-family: monospace;font-weight: bold;display: inline-block;line-height: 1.2em;}#sk-container-id-41 div.sk-label-container {text-align: center;}#sk-container-id-41 div.sk-container {/* jupyter's `normalize.less` sets `[hidden] { display: none; }` but bootstrap.min.css set `[hidden] { display: none !important; }` so we also need the `!important` here to be able to override the default hidden behavior on the sphinx rendered scikit-learn.org. See: https://github.com/scikit-learn/scikit-learn/issues/21755 */display: inline-block !important;position: relative;}#sk-container-id-41 div.sk-text-repr-fallback {display: none;}</style><div id=\"sk-container-id-41\" class=\"sk-top-container\"><div class=\"sk-text-repr-fallback\"><pre>DBSCAN(eps=2.0000007152557373, min_samples=2)</pre><b>In a Jupyter environment, please rerun this cell to show the HTML representation or trust the notebook. <br />On GitHub, the HTML representation is unable to render, please try loading this page with nbviewer.org.</b></div><div class=\"sk-container\" hidden><div class=\"sk-item\"><div class=\"sk-estimator sk-toggleable\"><input class=\"sk-toggleable__control sk-hidden--visually\" id=\"sk-estimator-id-41\" type=\"checkbox\" checked><label for=\"sk-estimator-id-41\" class=\"sk-toggleable__label sk-toggleable__label-arrow\">DBSCAN</label><div class=\"sk-toggleable__content\"><pre>DBSCAN(eps=2.0000007152557373, min_samples=2)</pre></div></div></div></div></div>"
      ],
      "text/plain": [
       "DBSCAN(eps=2.0000007152557373, min_samples=2)"
      ]
     },
     "execution_count": 198,
     "metadata": {},
     "output_type": "execute_result"
    }
   ],
   "source": [
    "clustering = DBSCAN(eps=1+test2.quantile(q=1).quantile(q=1), min_samples=2).fit(test2_np)\n",
    "labels = clustering.labels_\n",
    "no_clusters = len(np.unique(labels) )\n",
    "no_noise = np.sum(np.array(labels) == -1, axis=0)\n",
    "print('Estimated no. of clusters: %d' % no_clusters)\n",
    "print('Estimated no. of noise points: %d' % no_noise)\n",
    "clustering"
   ]
  },
  {
   "cell_type": "code",
   "execution_count": 199,
   "id": "9c174efc-e18f-4fc4-ad1b-60850a820552",
   "metadata": {},
   "outputs": [
    {
     "name": "stdout",
     "output_type": "stream",
     "text": [
      "['nestor notabilis', 'paroaria coronata', 'urocitellus parryii', 'tamandua tetradactyla', 'gallirallus australis greyi', 'apteryx australis mantelli', 'parahyaena brunnea', 'alouatta pigra', 'podargus strigoides', 'desmodus rotundus', 'bovicola caprae', 'ovis aries', 'cervus nippon', 'loxodonta africana', 'agelaius phoeniceus', 'lipoptena', 'casuarius casuarius', 'aceros corrugatus', 'rhea americana', 'geospiza difficilis septentrionalis', 'speothos venaticus', 'panthera onca', 'eudyptula minor minor', 'hypargos niveoguttatus', 'halcyon albiventris', 'buteo jamaicensis', 'empidomax minimus', 'camaroptera brachyura', 'shinisaurus crocodilurus', 'crocodylus rhombifer', 'strigops habroptilus', 'ammodramus maritimus', 'prionailurus viverrinus', 'hylomantis lemur or atelopus zeteki', 'phyllastrephus cerviniventris', 'struthio camelus', 'equus grevyi', 'tragulus napu', 'lemur catta', 'ninox novaeseelandiae', 'cercomela familiaris', 'anthropoides paradiseus', 'manis temmincki', 'tremarctos ornatus', 'eremophilla alpestris', 'diceros bicornis michaeli', 'sturnira lilium', 'ardeotis kori', 'centropus superciliosus', 'anas aucklandica chlorotis', 'sylvia borin', 'petromyzon marinus', 'suricata suricatta', 'ixodes ricinus', 'ammodramus bairdii', 'lonchura fringilloides', 'cacatua galerita', 'varecia rubra', 'capra hircus', 'ailurus fulgens', 'merops pusillus', 'calamonastes stierlingi', 'calcarius ornatus', 'elephas maximus', 'tragelaphus strepsiceros', 'laniarius ferrugineus', 'pteromys volans', 'anas aucklandica nesiotis', 'pytilia melba', 'elephas maximus maximus', 'batis capensis', 'ploceus velatus', 'estrilda astrild', 'treron calvus', 'todiramphus cinnamominus', 'bubo lacteus', 'lamprotornis chalybaeus', 'anolis allisoni', 'coendou prehensilis', 'lanius collurio', 'streptopelia capicola', 'icteria virens', 'geospiza difficilis', 'panthera leo', 'ursus arctos syriacus', 'ducula bicolor', 'equus burchellii', 'anthus novaeseelandiae', 'alisterus scapularis', 'gorilla gorilla gorilla', 'malacochersus tornieri', 'cyanoramphus unicolor', 'pronolagus rupestris', 'anthreptes collaris', 'chondestes grammacus', 'ceratobatrachus guentheri', 'felis margarita', 'gerbillurus paeba', 'numida meleagris', 'cariama cristata', 'orycteropus afer', 'sarcophilus harrisii', 'chordeiles minor', 'hylomyscus stella', 'ara ararauna arini', 'merops boehmi', 'macroscelides proboscideus', 'boa constrictor', 'eudocimus ruber', 'pogona vitticeps', 'sarcoramphus papa', 'piranga rubra', 'passer domesticus', 'tolypeutes matacus', 'morelia viridis', 'lampropeltis getula', 'ixobrychus sturmii', 'aves sp', 'himantopus himantopus', 'ploceus ocularis', 'glaucidium perlatum', 'myotis lucifugus', 'nestor meridionalis', 'erethizon dorsatum', 'passerina ciris', 'charadrius obscurus', 'myrmecophaga tridactyla', 'mabuya sp', 'hippotragus niger', 'papio hamadryas', 'tockus erythrorhynchus', 'pongo abelii', 'oreothlypis ruficapilla', 'mystacina tuberculata', 'branchiostoma floridae', 'giraffa camelopardalis reticulata', 'dumetella carolinensis', 'iguana iguana', 'dromaius novaehollandiae', 'ornithodoros moubata', 'capra hircus hircus saanen', 'contopus virens', 'vireo gilvus', 'oryx gazella', 'graphiurus murinus', 'phacochoerus africanus', 'crocidura denti', 'lycaon pictus', 'estrilda melanotis', 'neophoca cinerea', 'equus caballus', 'spiza americana', 'rhacodactylus leachianus', 'rhinoceros unicornis', 'leontopithecus chrysomelas', 'tragelaphus eurycerus isaaci', 'tachycineta bicolor', 'zoothera gurneyi', 'anthernis melanura', 'urocitellus richardsonii', 'plegadis chihi', 'pheucticus chrysogaster', 'anolis barbatus', 'chrysolophus pictus', 'cacatua leadbeateri leadbeateri', 'equus zebra hartmannae', 'erythropygia paena', 'gerbilliscus brantsii', 'sheppardia sharpei', 'ramphastos toco', 'crax alberti', 'menacanthus eurysternus', 'papio papio', 'phoenicopterus chilensis', 'falco subbuteo', 'pyrocephalus rubinus', 'nyctereutes procyonoides', 'potos flavus', 'pediculus humanus', 'melursus ursinus', 'addax nasomaculatus', 'cisticola erythrops', 'molothrus ater', 'saimiri boliviensis', 'muscicapa adusta', 'basiliscus plumifrons', 'elephantulus intufi', 'tragelaphus imberbis', 'athene cunicularia', 'rhyticeros undulatus', 'phoenicopterus ruber', 'tyto alba alba', 'bucorvus leadbeateri', 'sturnella neglecta', 'ramphocelus carbo', 'callorhinus ursinus', 'cercopithecus cephus', 'picoides pubescens', 'spizella pallida', 'cistothorus palustris', 'dolichonyx oryzivorus', 'procyon lotor', 'aldabrachelys gigantea', 'heloderma horridum charlesbogerti', 'cercocebus chrysogaster', 'cervus nippon pseudaxis', 'torgos tracheliotus', 'callosciurus prevosti', 'artibeus jamaicensis', 'rhabdomys pumilio', 'acrocephalus arundinaceus', 'notamacropus parma', 'oryx beisa', 'melopsittacus undulatus platycercini', 'ceratotherium simum', 'praomys jacksoni', 'mustela nigripes', 'cephalophus silvicultor', 'antidorcas marsupialis', 'connochaetes taurinus', 'cinnyricinclus leucogaster', 'oryx leucoryx', 'eudromia elegans', 'corvus corax', 'eudyptula minor novaehollandiae', 'contopus sordidulus', 'aepyceros melampus', 'nestor meridionalis septentrionalis', 'bubulcus ibis', 'callithrix geoffroyi', 'tragelaphus oryx', 'myrsidea', 'pseudopus apodus', 'trichechus manatus latirostris', 'hystrix africaeaustralis', 'notamacropus rufogriseus', 'drymarchon corais', 'corucia zebrata', 'polyplax', 'vulpes zerda', 'charadrius vociferous', 'physignathus cocincinus', 'python molurus bivittatus', 'muscicapa caerulescens', 'tragulus javanicus', 'kerodon rupestris', 'pycnonotus barbatus', 'icterus spurius', 'acrocephalus cinnamomeus', 'helogale parvula', 'xanthocephalus xanthocephalus', 'passer griseus', 'ichthyomyzon fossor', 'bos taurus watusi', 'trachycephalus resinifictrix', 'dryoscopus cubla', 'zalophus californianus', 'hylomyscus denniae', 'dendroica petechia', 'baeolophus atricristatus', 'dracaena guianensis', 'crocidura luna', 'cacatua moluccensis', 'colobus guereza', 'porphyrio hochstetteri', 'serinus canicollis', 'cynictis penicillata', 'mephitis mephitis', 'euplectes capensis', 'hymenolaimus malacorhynchos', 'vidua funerea', 'troglodytes aedon', 'cebus apella', 'hoplopleura', 'urocolius macrourus', 'leontopithecus rosalia', 'lampetra appendix', 'myotis volans', 'cardinalis cardinalis', 'callosciurus prevostii', 'lagonosticta rubricata', 'plethodon shenandoah', 'arctocephalus forsteri', 'uraeginthus angolensis', 'cosmopsarus regius', 'columba livia', 'uroplatus lineatus', 'lasiorhinus latifrons', 'tapirus terrestris', 'dendrocygna viduata', 'arctocephalus tropicalis', 'paradisaea raggiana', 'budorcas taxicolor', 'cercopithecus neglectus', 'eurypyga helias', 'zenaida graysoni', 'platalea ajaja', 'tachyglossus aculeatus aculeatus', 'plecturocebus moloch', 'vidua paradisaea', 'bettongia penicillata', 'sus scrofa scrofa kunekune', 'anas rhynchotis variegata', 'leptailurus serval', 'cacatua haematuropygia', 'caprimulgus pectoralis', 'pseudechis papuanus', 'equus przewalskii', 'mus bufo', 'saguinus oedipus', 'lampropeltis alterna', 'callonetta leucophrys', 'mergellus albellus', 'varecia variegata variegata', 'lama guanicoe', 'equus hemonius', 'psarocolius decumanus', 'canis lupus', 'lepidosauria', 'lagonosticta rhodopareia', 'panthera tigris sumatrae', 'myiarchus crinitus', 'equus burchelli chapmani', 'corallus hortulanus hortulanus', 'ceyx pictus', 'helarctos malayanus', 'panthera uncia', 'laniarius fulleborni', 'trioceros melleri', 'mandrillus leucophaeus', 'choloepus didactylus', 'symphalangus syndactylus', 'seiurus aurocapilla', 'merops apiaster', 'sus cebifrons negrinus', 'eublepharis macularius', 'prosthemadera novaeseelandiae', 'elephas maximus indicus', 'dendrobates tinctorius', 'octodon degus', 'tockus nasutus', 'garrulax leucolophus', 'giraffa camelopardalis', 'trichoglossus haematodus', 'kaupifalco monogrammicus', 'anthus lineiventris', 'geopelia cuneata', 'aonyx cinerea', 'aratinga solstitialis arini', 'ammotragus lervia', 'pyxis arachnoides', 'hyaena hyaena', 'kobus ellipsiprymnus', 'puma yagouaroundi', 'eurycea bislineata', 'pheucticus melanocephalus', 'axis porcinus', 'macaca sylvanus', 'coua cristata cristata', 'euphagus cyanocephalus', 'bothriechis schlegelii', 'grus americana', 'glareola pratincola', 'equus asinus somalicus', 'connochates taurinus', 'procavia capensis', 'anas acuta', 'dacelo novaeguineae', 'pseudois nayaur', 'equus burchellii quagga', 'trachypithecus auratus', 'centropus senegalensis', 'uroplatus fimbriatus', 'pithecia pithecia', 'saguinus labiatus', 'microcebus murinus', 'strix varia', 'dolichotis patagonum', 'manouria impressa', 'lophuromys aquilus', 'lynx rufus', 'ailurus fulgens refulgens', 'polyplectron napoleonis', 'echinops telfairi', 'hypogeomys antimena', 'muntiacus reevesi', 'ateles fusciceps robustus', 'prolemur simus', 'threskiornis aethiopicus', 'coracina pectoralis', 'pongo pygmaeus', 'tyrannus tyrannus', 'lepidobatrachus asper', 'scopus umbretta', 'astrochelys yniphora', 'treron waalia', 'panthera leo krugeri', 'antilope cervicapra', 'aix galericulata', 'mungos mungo', 'chinchilla lanigera', 'caracal caracal', 'dasyprocta azarae', 'nycticebus pygmaeus', 'phalacrocorax punctatus', 'pteropus poliocephalus', 'varanus prasinus', 'oryx dammah', 'muscicapa coerulescens', 'macrotis lagotis sagitta', 'lutra lutra', 'vicugna vicugna', 'necrosyrtes monachus', 'cercopithecus ascanius', 'alcelaphus buselaphus', 'galerella pulverulenta', 'sarkidiornis melanotos', 'columba guinea', 'rollulus roulroul', 'thryothorus ludovicianus', 'mimus polyglottas', 'cyclura collei', 'elaphe schrenckii', 'plethodon cinereus', 'litoria infrafrenata', 'python regius', 'bradornis infuscatus', 'aspidites ramsayi', 'crocuta crocuta', 'hieraaetus wahlbergi', 'tragelaphus eurycerus', 'fukomys damarensis', 'myrmecocichla formicivora', 'corvus albus', 'cryptoprocta ferox', 'pytilia afra', 'acinonyx jubatus', 'choloepus hoffmanni', 'semnopithecus entellus', 'pavo cristata', 'dendrobates azureus', 'rallus limicola', 'mantella aurantiaca', 'macaca silenus', 'cyanopica cyanus', 'phyllobates terribilis', 'falco biarmicus', 'tockus deckeni', 'saguinus geoffroyi', 'testudo hermanni', 'tangara episcopus', 'anatidae sp', 'lanius ludovicianus', 'coturnix coturnix', 'hippotragus equinus', 'connochaetes gnou', 'nerodia sipedon', 'pedostibes hosii', 'dinemellia dinemelli', 'grammomys macmillani', 'saimiri boliviensis boliviensis', 'alligator mississippiensis', 'diceros bicornis', 'plocepasser mahali', 'colobus angolensis', 'kobus leche', 'dryocopus pileatus', 'grus carunculatus', 'dasyprocta leporina', 'dasypus novemcinctus', 'ovis aries aries', 'cercopithecus wolfi wolfi', 'raphicerus campestris', 'aneides aeneus', 'astrochelys radiata', 'phascolarctos cinereus', 'hypogeomys antinena', 'goura victoria', 'helogale hirtula', 'cuora bourreti', 'callithrix argentata', 'anas platyrhynchos', 'prinia flavicans', 'telophorus zeylonus', 'okapia johnstoni', 'varanus albigularis', 'thryomanes bewickii', 'pteronura brasiliensis', 'haliaeetus leucocephalus', 'cairina moschata', 'myiarchus cinerascens', 'hylobates lar', 'stigmochelys pardalis', 'argusianus argus argus', 'indicator variegatus', 'phyllobates bicolor', 'boselaphus tragocamelus', 'heterocephalus glaber', 'anolis smallwoodi', 'ara chloropterus', 'atelopus varius zeteki', 'cyanocorax yncas glaucescens', 'haliaeetus albicilla', 'psittacus erithacus', 'otocyon megalotis', 'balearica pavonina', 'alaudidae sp', 'dasyurus maculatus', 'tragelaphus angasii', 'colobus guereza kikuyensis', 'erythrocebus patas', 'puma concolor', 'camelus dromedarius', 'canis mesomelas', 'otomys tropicalis', 'corynorhinus townsendii', 'camaroptera brevicaudata', 'laniarius atrococcineus', 'saguinus imperator', 'loxodonta africana africana', 'pongo pygmaeus abelii', 'guira guira', 'potos flavus megalotus', 'pseudocheirus peregrinus peregrinus', 'macropus rufus', 'uromastyx aegyptia', 'sylvicapra grimmia', 'arctictis binturong', 'anaxyrus terrestris', 'bos javanicus', 'pongo pygmaeus pygmaeus', 'nephrurus amyae', 'bucorvus abyssinicus', 'eulemur rufus', 'muscicapa striata', 'canis lupus signatus', 'gonocephalus chamaeleuntinus', 'bitis arietans', 'probosciger aterrimus', 'geochelone platynota', 'agapornis fischeri psittaculuni', 'mustela putorius furo', 'ailuropoda melanoleuca', 'chamaeleo calyptratus', 'cabassous unicinctus', 'halcyon malimbica', 'saguinus labiatus labiatus', 'centrochelys sulcata', 'anodorhynchus hyacinthinus', 'psittacus erithacus psittacini', 'alouatta caraya', 'gopherus polyphemus', 'accipiter tachiro', 'strabomantis bufoniformis', 'equus asinus africanus', 'pauxi pauxi', 'aix sponsa', 'glossophaga morenoi', 'eunectes murinus', 'varanus macraei', 'eurycea longicauda', 'drymarchon couperi', 'galictis vittata', 'tupaia belangeri', 'tenrec', 'acryllium vulturinum', 'balantiopteryx plicata', 'incilius signifer', 'parabuteo unicinctus', 'leucopsar rothschildi', 'anas discors', 'theloderma corticale', 'cynomys ludovicianus marmotini', 'atelerix albiventris', 'padda oryzivora']\n",
      "['archeopsylla', 'metazoa', 'eira barbara']\n",
      "['axis axis', 'indicator indicator']\n"
     ]
    }
   ],
   "source": [
    "test2['labels'] = labels\n",
    "test2 = test2[['labels']]\n",
    "for i in test2.index:\n",
    "    test2.at[i, 'Value'] = test2_md[0].loc[i]\n",
    "groupings = [test2[test2.labels==i].Value.to_list() for i in test2.labels.unique()]\n",
    "for g in groupings:\n",
    "    print(g)"
   ]
  },
  {
   "cell_type": "raw",
   "id": "4552b558-94ff-4133-a73a-21eaaafd2860",
   "metadata": {},
   "source": [
    "silhouette_score(test2_np, labels)"
   ]
  },
  {
   "cell_type": "code",
   "execution_count": 212,
   "id": "b5f17ebf-874b-41bb-9d6c-350dd8875e7d",
   "metadata": {},
   "outputs": [
    {
     "data": {
      "text/plain": [
       "array([[1.0000006 , 0.92601496, 0.94068694, 0.9283609 , 0.2380612 ,\n",
       "        0.9560834 , 0.9187934 ,        nan, 0.74370396,        nan,\n",
       "        0.954122  , 0.7348614 , 0.7853339 , 0.74496216, 0.66705626,\n",
       "        0.7427746 , 0.94222206],\n",
       "       [0.92601496, 0.9999997 , 0.95199895, 0.97768366, 0.24184105,\n",
       "        0.96407896, 0.9685608 ,        nan, 0.7800508 ,        nan,\n",
       "        0.965302  , 0.77581817, 0.8183704 , 0.78567207, 0.67850286,\n",
       "        0.7824694 , 0.9774198 ],\n",
       "       [0.94068694, 0.95199895, 0.9999999 , 0.97851163, 0.25170478,\n",
       "        0.96848816, 0.97256124,        nan, 0.7889791 ,        nan,\n",
       "        0.97235715, 0.7865824 , 0.8186468 , 0.7905505 , 0.6901726 ,\n",
       "        0.7930606 , 0.9777442 ],\n",
       "       [0.9283609 , 0.97768366, 0.97851163, 0.99999994, 0.26091295,\n",
       "        0.96530193, 0.98838645,        nan, 0.77667594,        nan,\n",
       "        0.9654849 , 0.7791446 , 0.81923443, 0.78543156, 0.6908491 ,\n",
       "        0.7854268 , 0.9593816 ],\n",
       "       [0.2380612 , 0.24184105, 0.25170478, 0.26091295, 1.0000002 ,\n",
       "        0.25396085, 0.28362224,        nan, 0.22155371,        nan,\n",
       "        0.23923168, 0.22669083, 0.20187922, 0.24560405, 0.18854398,\n",
       "        0.22524479, 0.23333137],\n",
       "       [0.9560834 , 0.96407896, 0.96848816, 0.96530193, 0.25396085,\n",
       "        1.0000002 , 0.9579659 ,        nan, 0.7831456 ,        nan,\n",
       "        0.98279905, 0.78172606, 0.82695496, 0.79505515, 0.6725341 ,\n",
       "        0.7889993 , 0.97104305],\n",
       "       [0.9187934 , 0.9685608 , 0.97256124, 0.98838645, 0.28362224,\n",
       "        0.9579659 , 0.9999999 ,        nan, 0.77831924,        nan,\n",
       "        0.95742166, 0.78609353, 0.8132166 , 0.78703994, 0.6963124 ,\n",
       "        0.79198354, 0.9560372 ],\n",
       "       [       nan,        nan,        nan,        nan,        nan,\n",
       "               nan,        nan,        nan,        nan,        nan,\n",
       "               nan,        nan,        nan,        nan,        nan,\n",
       "               nan,        nan],\n",
       "       [0.74370396, 0.7800508 , 0.7889791 , 0.77667594, 0.22155371,\n",
       "        0.7831456 , 0.77831924,        nan, 1.0000001 ,        nan,\n",
       "        0.7882912 , 0.81922525, 0.8498083 , 0.80439705, 0.7136206 ,\n",
       "        0.8210654 , 0.7956687 ],\n",
       "       [       nan,        nan,        nan,        nan,        nan,\n",
       "               nan,        nan,        nan,        nan,        nan,\n",
       "               nan,        nan,        nan,        nan,        nan,\n",
       "               nan,        nan],\n",
       "       [0.954122  , 0.965302  , 0.97235715, 0.9654849 , 0.23923168,\n",
       "        0.98279905, 0.95742166,        nan, 0.7882912 ,        nan,\n",
       "        1.        , 0.77384996, 0.82206196, 0.7831071 , 0.6713076 ,\n",
       "        0.7808228 , 0.9760558 ],\n",
       "       [0.7348614 , 0.77581817, 0.7865824 , 0.7791446 , 0.22669083,\n",
       "        0.78172606, 0.78609353,        nan, 0.81922525,        nan,\n",
       "        0.77384996, 0.99999994, 0.81541234, 0.844746  , 0.70235103,\n",
       "        0.99723375, 0.7864304 ],\n",
       "       [0.7853339 , 0.8183704 , 0.8186468 , 0.81923443, 0.20187922,\n",
       "        0.82695496, 0.8132166 ,        nan, 0.8498083 ,        nan,\n",
       "        0.82206196, 0.81541234, 0.99999994, 0.8687887 , 0.74169236,\n",
       "        0.819534  , 0.8209003 ],\n",
       "       [0.74496216, 0.78567207, 0.7905505 , 0.78543156, 0.24560405,\n",
       "        0.79505515, 0.78703994,        nan, 0.80439705,        nan,\n",
       "        0.7831071 , 0.844746  , 0.8687887 , 0.99999994, 0.7159884 ,\n",
       "        0.84708506, 0.7939372 ],\n",
       "       [0.66705626, 0.67850286, 0.6901726 , 0.6908491 , 0.18854398,\n",
       "        0.6725341 , 0.6963124 ,        nan, 0.7136206 ,        nan,\n",
       "        0.6713076 , 0.70235103, 0.74169236, 0.7159884 , 1.0000002 ,\n",
       "        0.70384   , 0.68041915],\n",
       "       [0.7427746 , 0.7824694 , 0.7930606 , 0.7854268 , 0.22524479,\n",
       "        0.7889993 , 0.79198354,        nan, 0.8210654 ,        nan,\n",
       "        0.7808228 , 0.99723375, 0.819534  , 0.84708506, 0.70384   ,\n",
       "        0.99999994, 0.79330826],\n",
       "       [0.94222206, 0.9774198 , 0.9777442 , 0.9593816 , 0.23333137,\n",
       "        0.97104305, 0.9560372 ,        nan, 0.7956687 ,        nan,\n",
       "        0.9760558 , 0.7864304 , 0.8209003 , 0.7939372 , 0.68041915,\n",
       "        0.79330826, 1.        ]], dtype=float32)"
      ]
     },
     "execution_count": 212,
     "metadata": {},
     "output_type": "execute_result"
    }
   ],
   "source": [
    "np.load('./results/fasttext-similarity-matrix/fasttext-biological_material_preprocessing_sam.similarity-score-matrix.npy')\n",
    "np.load('./results/fasttext-similarity-matrix/fasttext-biological_material_preprocessing_sam.similarity-score-matrix.npy')"
   ]
  }
 ],
 "metadata": {
  "kernelspec": {
   "display_name": "Python 3 (ipykernel)",
   "language": "python",
   "name": "python3"
  },
  "language_info": {
   "codemirror_mode": {
    "name": "ipython",
    "version": 3
   },
   "file_extension": ".py",
   "mimetype": "text/x-python",
   "name": "python",
   "nbconvert_exporter": "python",
   "pygments_lexer": "ipython3",
   "version": "3.10.13"
  }
 },
 "nbformat": 4,
 "nbformat_minor": 5
}
