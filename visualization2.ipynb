{
 "cells": [
  {
   "cell_type": "code",
   "execution_count": 1,
   "id": "176ef5e3-1a98-42d5-8381-47d5fd1ead2d",
   "metadata": {},
   "outputs": [
    {
     "name": "stdout",
     "output_type": "stream",
     "text": [
      "Reading package lists... Done\n",
      "Building dependency tree... Done\n",
      "Reading state information... Done\n",
      "mcl is already the newest version (1:14-137+ds-9build2).\n",
      "0 upgraded, 0 newly installed, 0 to remove and 10 not upgraded.\n"
     ]
    }
   ],
   "source": [
    "!sudo apt-get install mcl"
   ]
  },
  {
   "cell_type": "code",
   "execution_count": 24,
   "id": "32fe5e5e-38f3-45fd-9de6-d0745f747c6d",
   "metadata": {},
   "outputs": [
    {
     "name": "stdout",
     "output_type": "stream",
     "text": [
      "Requirement already satisfied: kaleido in /opt/conda/lib/python3.10/site-packages (0.2.1)\n",
      "Note: you may need to restart the kernel to use updated packages.\n"
     ]
    }
   ],
   "source": [
    "pip install -U kaleido"
   ]
  },
  {
   "cell_type": "code",
   "execution_count": 25,
   "id": "492a552a-268c-4cd6-8492-3752a85fe758",
   "metadata": {},
   "outputs": [],
   "source": [
    "import os\n",
    "import pickle\n",
    "import numpy as np\n",
    "import matplotlib.pyplot as plt\n",
    "import matplotlib.cm as cm\n",
    "import pandas as pd\n",
    "import plotly.express as px\n",
    "import kaleido\n",
    "import seaborn as sns\n",
    "from sklearn.cluster import DBSCAN\n",
    "from sklearn.metrics import silhouette_score, silhouette_samples\n",
    "fasttext_vocab = pickle.load(open('./preprocessed/attribute.token-freqs.fasttext.info.pickle', \"rb\"))\n",
    "sbert_vocab = pickle.load(open('./preprocessed/attribute.token-freqs.sbert.info.pickle', \"rb\"))\n",
    "pbert_vocab = pickle.load(open('./preprocessed/attribute.token-freqs.pubmedbert.info.pickle', \"rb\"))"
   ]
  },
  {
   "cell_type": "code",
   "execution_count": 29,
   "id": "3fffec6c-56a3-4f91-bef2-2da035484a40",
   "metadata": {},
   "outputs": [
    {
     "name": "stdout",
     "output_type": "stream",
     "text": [
      "df1 126       model                                  field  tokens  uniq_tokens  \\\n",
      "0  fasttext                       bio_material_sam   13213         9629   \n",
      "1  fasttext  biological_material_preprocessing_sam     306          115   \n",
      "2  fasttext                   collection_label_sam    1511         1485   \n",
      "3  fasttext                           comments_sam    2479         1015   \n",
      "4  fasttext                       conductivity_sam      47           22   \n",
      "\n",
      "   %tokens_found  %uniq_found  \n",
      "0      27.798380     6.013085  \n",
      "1      90.849673    80.000000  \n",
      "2       3.309067     1.952862  \n",
      "3      80.153288    55.665025  \n",
      "4      87.234043    72.727273  \n",
      "df2 252       model                                  field        measure      value\n",
      "0  fasttext                       bio_material_sam  %tokens_found  27.798380\n",
      "1  fasttext                       bio_material_sam    %uniq_found   6.013085\n",
      "2  fasttext  biological_material_preprocessing_sam  %tokens_found  90.849673\n",
      "3  fasttext  biological_material_preprocessing_sam    %uniq_found  80.000000\n",
      "4  fasttext                   collection_label_sam  %tokens_found   3.309067\n"
     ]
    }
   ],
   "source": [
    "vocab_df1 = pd.DataFrame(columns=['model', 'field', 'tokens', 'uniq_tokens', '%tokens_found', '%uniq_found'])\n",
    "vocab_df2 = pd.DataFrame(columns=['model', 'field', 'measure', 'value'])\n",
    "for m, d in [('fasttext', fasttext_vocab), ('sbert', sbert_vocab), ('pbert', pbert_vocab)]:\n",
    "    for k, v in d.items():\n",
    "        i1 = vocab_df1.index.size\n",
    "        i2 = vocab_df2.index.size\n",
    "        field = k\n",
    "        tokens = v['tokens']\n",
    "        uniq = v['uniq']\n",
    "        oovt = v['oov_tokens']\n",
    "        oovu = v['oov_uniq']\n",
    "        pcntid = 100*(tokens-oovt)/tokens\n",
    "        pcntuid = 100*(uniq-oovu)/uniq\n",
    "        vocab_df1.loc[i1] = [m, field, tokens, uniq, pcntid, pcntuid]\n",
    "        vocab_df2.loc[i2] = [m, field, '%tokens_found', pcntid]\n",
    "        vocab_df2.loc[i2+1] = [m, field, '%uniq_found', pcntuid]\n",
    "print('df1', vocab_df1.index.size, vocab_df1.head())\n",
    "print('df2', vocab_df2.index.size, vocab_df2.head())"
   ]
  },
  {
   "cell_type": "code",
   "execution_count": 4,
   "id": "516930c2-007f-4386-adbb-072a20f38cb9",
   "metadata": {},
   "outputs": [],
   "source": [
    "sns.set_theme(context='notebook',\n",
    "              style='darkgrid',\n",
    "              palette='deep',\n",
    "              font='sans-serif',\n",
    "              font_scale=1,\n",
    "              color_codes=True, rc=None)"
   ]
  },
  {
   "cell_type": "code",
   "execution_count": 30,
   "id": "30b77620-d56e-4c85-a3ff-81bdc0f92769",
   "metadata": {},
   "outputs": [
    {
     "data": {
      "application/vnd.plotly.v1+json": {
       "config": {
        "plotlyServerURL": "https://plot.ly"
       },
       "data": [
        {
         "customdata": [
          [
           "bio_material_sam"
          ],
          [
           "biological_material_preprocessing_sam"
          ],
          [
           "collection_label_sam"
          ],
          [
           "comments_sam"
          ],
          [
           "conductivity_sam"
          ],
          [
           "corrected_species_name_sam"
          ],
          [
           "coverage_sam"
          ],
          [
           "date_of_birth_sam"
          ],
          [
           "derived_from_sam"
          ],
          [
           "description_exp"
          ],
          [
           "description_sam"
          ],
          [
           "descriptor_sam"
          ],
          [
           "details_sam"
          ],
          [
           "diagnostic_pcr_ct_value_1_sam"
          ],
          [
           "dissolved_oxygen_sam"
          ],
          [
           "experimental_factor__rna_interference_exp"
          ],
          [
           "experimental_factor__strain_exp"
          ],
          [
           "extra_info_sam"
          ],
          [
           "fiber_sam"
          ],
          [
           "glucose_sam"
          ],
          [
           "host_exp"
          ],
          [
           "host_scietific_nam_sam"
          ],
          [
           "isolate_run"
          ],
          [
           "isolation_site_sam"
          ],
          [
           "misc_param_sam"
          ],
          [
           "mlst__scheme_sam"
          ],
          [
           "nitrate_sam"
          ],
          [
           "redox_potential_sam"
          ],
          [
           "replicate_group_sam"
          ],
          [
           "sample_comment_sam"
          ],
          [
           "sampling_date_run"
          ],
          [
           "sequence_sam"
          ],
          [
           "single_cell_sam"
          ],
          [
           "specimen_sam"
          ],
          [
           "subsrc_note_sam"
          ],
          [
           "symptom_sam"
          ],
          [
           "taxonomy_species_sam"
          ],
          [
           "time_of_collection_sam"
          ],
          [
           "tretment_sam"
          ],
          [
           "tumor_size_sam"
          ],
          [
           "water_content_sam"
          ],
          [
           "ww_surv_target_1_conc_sam"
          ]
         ],
         "hovertemplate": "model=fasttext<br>%uniq_found=%{x}<br>%tokens_found=%{y}<br>field=%{customdata[0]}<extra></extra>",
         "legendgroup": "fasttext",
         "marker": {
          "color": "#636efa",
          "symbol": "circle"
         },
         "mode": "markers",
         "name": "fasttext",
         "orientation": "v",
         "showlegend": true,
         "type": "scatter",
         "x": [
          6.0130854709731025,
          80,
          1.9528619528619529,
          55.66502463054187,
          72.72727272727273,
          91.0989010989011,
          51.61290322580645,
          0.3368623676612127,
          13.93939393939394,
          1.1300853842290306,
          23.42067281003664,
          2.099236641221374,
          12.462235649546828,
          5.28169014084507,
          8.536585365853659,
          24.86263736263736,
          12.015137180700094,
          97.14285714285714,
          18,
          23.728813559322035,
          71.42857142857143,
          98.43423799582463,
          0.5786779434676163,
          91.25,
          7.151583497791561,
          10.606060606060606,
          21.85185185185185,
          88.88888888888889,
          8.866995073891626,
          46.59637863855146,
          2.8629856850715747,
          5.7007125890736345,
          100,
          2.7267508610792195,
          29.96926229508197,
          81.81818181818181,
          99.66178128523111,
          1.4314928425357873,
          70.60998151571164,
          4.5,
          14.117647058823529,
          10.714285714285714
         ],
         "xaxis": "x",
         "y": [
          27.79838038295618,
          90.84967320261438,
          3.3090668431502315,
          80.15328761597418,
          87.23404255319149,
          92.85714285714286,
          77.27272727272727,
          0.41936713686618377,
          86.77341522263654,
          21.734397677793904,
          72.05112319130227,
          68.7024099222859,
          60.76325411334552,
          53.197893152746424,
          17.12707182320442,
          65.54621848739495,
          19.38046068308181,
          97.91666666666667,
          19.607843137254903,
          34.78260869565217,
          81.81818181818181,
          98.76847290640394,
          8.77730149010002,
          95.62356038170451,
          47.431054023422746,
          46.103896103896105,
          43.717277486910994,
          94.11764705882354,
          28.231292517006803,
          81.23941252898706,
          5.189620758483034,
          5.755395683453237,
          100,
          6.064801993907505,
          88.7878161394804,
          82.79069767441861,
          99.71751412429379,
          24.391285775309697,
          89.00883218842002,
          28.571428571428573,
          21.80851063829787,
          13.793103448275861
         ],
         "yaxis": "y"
        },
        {
         "customdata": [
          [
           "bio_material_sam"
          ],
          [
           "biological_material_preprocessing_sam"
          ],
          [
           "collection_label_sam"
          ],
          [
           "comments_sam"
          ],
          [
           "conductivity_sam"
          ],
          [
           "corrected_species_name_sam"
          ],
          [
           "coverage_sam"
          ],
          [
           "date_of_birth_sam"
          ],
          [
           "derived_from_sam"
          ],
          [
           "description_exp"
          ],
          [
           "description_sam"
          ],
          [
           "descriptor_sam"
          ],
          [
           "details_sam"
          ],
          [
           "diagnostic_pcr_ct_value_1_sam"
          ],
          [
           "dissolved_oxygen_sam"
          ],
          [
           "experimental_factor__rna_interference_exp"
          ],
          [
           "experimental_factor__strain_exp"
          ],
          [
           "extra_info_sam"
          ],
          [
           "fiber_sam"
          ],
          [
           "glucose_sam"
          ],
          [
           "host_exp"
          ],
          [
           "host_scietific_nam_sam"
          ],
          [
           "isolate_run"
          ],
          [
           "isolation_site_sam"
          ],
          [
           "misc_param_sam"
          ],
          [
           "mlst__scheme_sam"
          ],
          [
           "nitrate_sam"
          ],
          [
           "redox_potential_sam"
          ],
          [
           "replicate_group_sam"
          ],
          [
           "sample_comment_sam"
          ],
          [
           "sampling_date_run"
          ],
          [
           "sequence_sam"
          ],
          [
           "single_cell_sam"
          ],
          [
           "specimen_sam"
          ],
          [
           "subsrc_note_sam"
          ],
          [
           "symptom_sam"
          ],
          [
           "taxonomy_species_sam"
          ],
          [
           "time_of_collection_sam"
          ],
          [
           "tretment_sam"
          ],
          [
           "tumor_size_sam"
          ],
          [
           "water_content_sam"
          ],
          [
           "ww_surv_target_1_conc_sam"
          ]
         ],
         "hovertemplate": "model=sbert<br>%uniq_found=%{x}<br>%tokens_found=%{y}<br>field=%{customdata[0]}<extra></extra>",
         "legendgroup": "sbert",
         "marker": {
          "color": "#EF553B",
          "symbol": "circle"
         },
         "mode": "markers",
         "name": "sbert",
         "orientation": "v",
         "showlegend": true,
         "type": "scatter",
         "x": [
          12.87776508464015,
          80,
          44.98316498316498,
          67.98029556650246,
          72.72727272727273,
          87.36263736263736,
          48.38709677419355,
          0.9624639076034649,
          14.848484848484848,
          7.659467604218985,
          33.601643166426115,
          4.3893129770992365,
          39.50151057401813,
          4.929577464788732,
          10.365853658536585,
          21.016483516483518,
          13.15042573320719,
          91.42857142857143,
          18,
          27.11864406779661,
          100,
          87.160751565762,
          11.640329401290897,
          90.234375,
          32.40296964570999,
          15.656565656565656,
          23.333333333333332,
          72.22222222222223,
          24.137931034482758,
          51.2491404996562,
          2.8629856850715747,
          58.66983372921615,
          100,
          3.960964408725603,
          30.43032786885246,
          72.72727272727273,
          87.82412626832019,
          1.5337423312883436,
          79.66728280961183,
          5.25,
          12.941176470588236,
          34.285714285714285
         ],
         "xaxis": "x",
         "y": [
          28.207068795882844,
          86.60130718954248,
          45.665122435473194,
          82.53327954820492,
          82.97872340425532,
          86.5079365079365,
          68.18181818181819,
          0.9912314144109798,
          84.84316736126344,
          26.433236574746008,
          75.2478215684707,
          71.4184786874951,
          72.8290676416819,
          53.04740406320542,
          17.679558011049725,
          63.02521008403362,
          19.698173153296267,
          92.70833333333333,
          19.607843137254903,
          37.68115942028985,
          100,
          86.45320197044335,
          18.922229026331905,
          94.9654491609082,
          68.83803767067839,
          48.268398268398265,
          40.31413612565445,
          85.29411764705883,
          32.993197278911566,
          82.9005147772314,
          5.189620758483034,
          45.68345323741007,
          100,
          6.56327887011908,
          88.74646819654056,
          75.81395348837209,
          87.09981167608287,
          24.41264416915848,
          86.26104023552503,
          29.128014842300555,
          20.21276595744681,
          36.55172413793103
         ],
         "yaxis": "y"
        },
        {
         "customdata": [
          [
           "bio_material_sam"
          ],
          [
           "biological_material_preprocessing_sam"
          ],
          [
           "collection_label_sam"
          ],
          [
           "comments_sam"
          ],
          [
           "conductivity_sam"
          ],
          [
           "corrected_species_name_sam"
          ],
          [
           "coverage_sam"
          ],
          [
           "date_of_birth_sam"
          ],
          [
           "derived_from_sam"
          ],
          [
           "description_exp"
          ],
          [
           "description_sam"
          ],
          [
           "descriptor_sam"
          ],
          [
           "details_sam"
          ],
          [
           "diagnostic_pcr_ct_value_1_sam"
          ],
          [
           "dissolved_oxygen_sam"
          ],
          [
           "experimental_factor__rna_interference_exp"
          ],
          [
           "experimental_factor__strain_exp"
          ],
          [
           "extra_info_sam"
          ],
          [
           "fiber_sam"
          ],
          [
           "glucose_sam"
          ],
          [
           "host_exp"
          ],
          [
           "host_scietific_nam_sam"
          ],
          [
           "isolate_run"
          ],
          [
           "isolation_site_sam"
          ],
          [
           "misc_param_sam"
          ],
          [
           "mlst__scheme_sam"
          ],
          [
           "nitrate_sam"
          ],
          [
           "redox_potential_sam"
          ],
          [
           "replicate_group_sam"
          ],
          [
           "sample_comment_sam"
          ],
          [
           "sampling_date_run"
          ],
          [
           "sequence_sam"
          ],
          [
           "single_cell_sam"
          ],
          [
           "specimen_sam"
          ],
          [
           "subsrc_note_sam"
          ],
          [
           "symptom_sam"
          ],
          [
           "taxonomy_species_sam"
          ],
          [
           "time_of_collection_sam"
          ],
          [
           "tretment_sam"
          ],
          [
           "tumor_size_sam"
          ],
          [
           "water_content_sam"
          ],
          [
           "ww_surv_target_1_conc_sam"
          ]
         ],
         "hovertemplate": "model=pbert<br>%uniq_found=%{x}<br>%tokens_found=%{y}<br>field=%{customdata[0]}<extra></extra>",
         "legendgroup": "pbert",
         "marker": {
          "color": "#00cc96",
          "symbol": "circle"
         },
         "mode": "markers",
         "name": "pbert",
         "orientation": "v",
         "showlegend": true,
         "type": "scatter",
         "x": [
          41.95658946931145,
          86.95652173913044,
          66.53198653198653,
          82.36453201970443,
          86.36363636363636,
          87.6923076923077,
          51.61290322580645,
          0.9143407122232916,
          46.06060606060606,
          20.165745856353592,
          44.3432885533474,
          11.577608142493638,
          44.86404833836858,
          6.866197183098592,
          12.804878048780488,
          54.67032967032967,
          24.12488174077578,
          94.28571428571429,
          20,
          28.8135593220339,
          100,
          87.05636743215031,
          25.506343200534165,
          90.625,
          43.74588854430974,
          36.36363636363637,
          27.77777777777778,
          77.77777777777777,
          36.45320197044335,
          63.98120559248224,
          2.8629856850715747,
          73.63420427553444,
          100,
          5.711825487944891,
          44.10860655737705,
          78.78787878787878,
          87.4859075535513,
          1.6359918200408998,
          86.13678373382625,
          5.75,
          14.117647058823529,
          34.285714285714285
         ],
         "xaxis": "x",
         "y": [
          53.697116476197685,
          93.13725490196079,
          67.0416942422237,
          90.68172650262203,
          89.36170212765957,
          86.94885361552028,
          77.27272727272727,
          0.9149828440716736,
          91.77451195437595,
          37.88098693759071,
          81.27748021424574,
          72.30551848653741,
          77.53656307129799,
          55.154251316779536,
          19.88950276243094,
          79.6078431372549,
          30.579825258141383,
          95.83333333333333,
          21.568627450980394,
          39.130434782608695,
          100,
          86.45320197044335,
          31.67993468054705,
          95.26159921026654,
          76.48820767445626,
          60.38961038961039,
          44.24083769633508,
          88.23529411764706,
          54.42176870748299,
          89.57781688403533,
          5.189620758483034,
          57.37410071942446,
          100,
          8.889504292439767,
          91.26180139204742,
          79.6124031007752,
          86.91148775894538,
          24.51943613840239,
          91.42950605168465,
          29.499072356215212,
          21.27659574468085,
          36.55172413793103
         ],
         "yaxis": "y"
        }
       ],
       "layout": {
        "autosize": true,
        "legend": {
         "title": {
          "text": "model"
         },
         "tracegroupgap": 0
        },
        "margin": {
         "t": 60
        },
        "template": {
         "data": {
          "bar": [
           {
            "error_x": {
             "color": "#2a3f5f"
            },
            "error_y": {
             "color": "#2a3f5f"
            },
            "marker": {
             "line": {
              "color": "#E5ECF6",
              "width": 0.5
             },
             "pattern": {
              "fillmode": "overlay",
              "size": 10,
              "solidity": 0.2
             }
            },
            "type": "bar"
           }
          ],
          "barpolar": [
           {
            "marker": {
             "line": {
              "color": "#E5ECF6",
              "width": 0.5
             },
             "pattern": {
              "fillmode": "overlay",
              "size": 10,
              "solidity": 0.2
             }
            },
            "type": "barpolar"
           }
          ],
          "carpet": [
           {
            "aaxis": {
             "endlinecolor": "#2a3f5f",
             "gridcolor": "white",
             "linecolor": "white",
             "minorgridcolor": "white",
             "startlinecolor": "#2a3f5f"
            },
            "baxis": {
             "endlinecolor": "#2a3f5f",
             "gridcolor": "white",
             "linecolor": "white",
             "minorgridcolor": "white",
             "startlinecolor": "#2a3f5f"
            },
            "type": "carpet"
           }
          ],
          "choropleth": [
           {
            "colorbar": {
             "outlinewidth": 0,
             "ticks": ""
            },
            "type": "choropleth"
           }
          ],
          "contour": [
           {
            "colorbar": {
             "outlinewidth": 0,
             "ticks": ""
            },
            "colorscale": [
             [
              0,
              "#0d0887"
             ],
             [
              0.1111111111111111,
              "#46039f"
             ],
             [
              0.2222222222222222,
              "#7201a8"
             ],
             [
              0.3333333333333333,
              "#9c179e"
             ],
             [
              0.4444444444444444,
              "#bd3786"
             ],
             [
              0.5555555555555556,
              "#d8576b"
             ],
             [
              0.6666666666666666,
              "#ed7953"
             ],
             [
              0.7777777777777778,
              "#fb9f3a"
             ],
             [
              0.8888888888888888,
              "#fdca26"
             ],
             [
              1,
              "#f0f921"
             ]
            ],
            "type": "contour"
           }
          ],
          "contourcarpet": [
           {
            "colorbar": {
             "outlinewidth": 0,
             "ticks": ""
            },
            "type": "contourcarpet"
           }
          ],
          "heatmap": [
           {
            "colorbar": {
             "outlinewidth": 0,
             "ticks": ""
            },
            "colorscale": [
             [
              0,
              "#0d0887"
             ],
             [
              0.1111111111111111,
              "#46039f"
             ],
             [
              0.2222222222222222,
              "#7201a8"
             ],
             [
              0.3333333333333333,
              "#9c179e"
             ],
             [
              0.4444444444444444,
              "#bd3786"
             ],
             [
              0.5555555555555556,
              "#d8576b"
             ],
             [
              0.6666666666666666,
              "#ed7953"
             ],
             [
              0.7777777777777778,
              "#fb9f3a"
             ],
             [
              0.8888888888888888,
              "#fdca26"
             ],
             [
              1,
              "#f0f921"
             ]
            ],
            "type": "heatmap"
           }
          ],
          "heatmapgl": [
           {
            "colorbar": {
             "outlinewidth": 0,
             "ticks": ""
            },
            "colorscale": [
             [
              0,
              "#0d0887"
             ],
             [
              0.1111111111111111,
              "#46039f"
             ],
             [
              0.2222222222222222,
              "#7201a8"
             ],
             [
              0.3333333333333333,
              "#9c179e"
             ],
             [
              0.4444444444444444,
              "#bd3786"
             ],
             [
              0.5555555555555556,
              "#d8576b"
             ],
             [
              0.6666666666666666,
              "#ed7953"
             ],
             [
              0.7777777777777778,
              "#fb9f3a"
             ],
             [
              0.8888888888888888,
              "#fdca26"
             ],
             [
              1,
              "#f0f921"
             ]
            ],
            "type": "heatmapgl"
           }
          ],
          "histogram": [
           {
            "marker": {
             "pattern": {
              "fillmode": "overlay",
              "size": 10,
              "solidity": 0.2
             }
            },
            "type": "histogram"
           }
          ],
          "histogram2d": [
           {
            "colorbar": {
             "outlinewidth": 0,
             "ticks": ""
            },
            "colorscale": [
             [
              0,
              "#0d0887"
             ],
             [
              0.1111111111111111,
              "#46039f"
             ],
             [
              0.2222222222222222,
              "#7201a8"
             ],
             [
              0.3333333333333333,
              "#9c179e"
             ],
             [
              0.4444444444444444,
              "#bd3786"
             ],
             [
              0.5555555555555556,
              "#d8576b"
             ],
             [
              0.6666666666666666,
              "#ed7953"
             ],
             [
              0.7777777777777778,
              "#fb9f3a"
             ],
             [
              0.8888888888888888,
              "#fdca26"
             ],
             [
              1,
              "#f0f921"
             ]
            ],
            "type": "histogram2d"
           }
          ],
          "histogram2dcontour": [
           {
            "colorbar": {
             "outlinewidth": 0,
             "ticks": ""
            },
            "colorscale": [
             [
              0,
              "#0d0887"
             ],
             [
              0.1111111111111111,
              "#46039f"
             ],
             [
              0.2222222222222222,
              "#7201a8"
             ],
             [
              0.3333333333333333,
              "#9c179e"
             ],
             [
              0.4444444444444444,
              "#bd3786"
             ],
             [
              0.5555555555555556,
              "#d8576b"
             ],
             [
              0.6666666666666666,
              "#ed7953"
             ],
             [
              0.7777777777777778,
              "#fb9f3a"
             ],
             [
              0.8888888888888888,
              "#fdca26"
             ],
             [
              1,
              "#f0f921"
             ]
            ],
            "type": "histogram2dcontour"
           }
          ],
          "mesh3d": [
           {
            "colorbar": {
             "outlinewidth": 0,
             "ticks": ""
            },
            "type": "mesh3d"
           }
          ],
          "parcoords": [
           {
            "line": {
             "colorbar": {
              "outlinewidth": 0,
              "ticks": ""
             }
            },
            "type": "parcoords"
           }
          ],
          "pie": [
           {
            "automargin": true,
            "type": "pie"
           }
          ],
          "scatter": [
           {
            "fillpattern": {
             "fillmode": "overlay",
             "size": 10,
             "solidity": 0.2
            },
            "type": "scatter"
           }
          ],
          "scatter3d": [
           {
            "line": {
             "colorbar": {
              "outlinewidth": 0,
              "ticks": ""
             }
            },
            "marker": {
             "colorbar": {
              "outlinewidth": 0,
              "ticks": ""
             }
            },
            "type": "scatter3d"
           }
          ],
          "scattercarpet": [
           {
            "marker": {
             "colorbar": {
              "outlinewidth": 0,
              "ticks": ""
             }
            },
            "type": "scattercarpet"
           }
          ],
          "scattergeo": [
           {
            "marker": {
             "colorbar": {
              "outlinewidth": 0,
              "ticks": ""
             }
            },
            "type": "scattergeo"
           }
          ],
          "scattergl": [
           {
            "marker": {
             "colorbar": {
              "outlinewidth": 0,
              "ticks": ""
             }
            },
            "type": "scattergl"
           }
          ],
          "scattermapbox": [
           {
            "marker": {
             "colorbar": {
              "outlinewidth": 0,
              "ticks": ""
             }
            },
            "type": "scattermapbox"
           }
          ],
          "scatterpolar": [
           {
            "marker": {
             "colorbar": {
              "outlinewidth": 0,
              "ticks": ""
             }
            },
            "type": "scatterpolar"
           }
          ],
          "scatterpolargl": [
           {
            "marker": {
             "colorbar": {
              "outlinewidth": 0,
              "ticks": ""
             }
            },
            "type": "scatterpolargl"
           }
          ],
          "scatterternary": [
           {
            "marker": {
             "colorbar": {
              "outlinewidth": 0,
              "ticks": ""
             }
            },
            "type": "scatterternary"
           }
          ],
          "surface": [
           {
            "colorbar": {
             "outlinewidth": 0,
             "ticks": ""
            },
            "colorscale": [
             [
              0,
              "#0d0887"
             ],
             [
              0.1111111111111111,
              "#46039f"
             ],
             [
              0.2222222222222222,
              "#7201a8"
             ],
             [
              0.3333333333333333,
              "#9c179e"
             ],
             [
              0.4444444444444444,
              "#bd3786"
             ],
             [
              0.5555555555555556,
              "#d8576b"
             ],
             [
              0.6666666666666666,
              "#ed7953"
             ],
             [
              0.7777777777777778,
              "#fb9f3a"
             ],
             [
              0.8888888888888888,
              "#fdca26"
             ],
             [
              1,
              "#f0f921"
             ]
            ],
            "type": "surface"
           }
          ],
          "table": [
           {
            "cells": {
             "fill": {
              "color": "#EBF0F8"
             },
             "line": {
              "color": "white"
             }
            },
            "header": {
             "fill": {
              "color": "#C8D4E3"
             },
             "line": {
              "color": "white"
             }
            },
            "type": "table"
           }
          ]
         },
         "layout": {
          "annotationdefaults": {
           "arrowcolor": "#2a3f5f",
           "arrowhead": 0,
           "arrowwidth": 1
          },
          "autotypenumbers": "strict",
          "coloraxis": {
           "colorbar": {
            "outlinewidth": 0,
            "ticks": ""
           }
          },
          "colorscale": {
           "diverging": [
            [
             0,
             "#8e0152"
            ],
            [
             0.1,
             "#c51b7d"
            ],
            [
             0.2,
             "#de77ae"
            ],
            [
             0.3,
             "#f1b6da"
            ],
            [
             0.4,
             "#fde0ef"
            ],
            [
             0.5,
             "#f7f7f7"
            ],
            [
             0.6,
             "#e6f5d0"
            ],
            [
             0.7,
             "#b8e186"
            ],
            [
             0.8,
             "#7fbc41"
            ],
            [
             0.9,
             "#4d9221"
            ],
            [
             1,
             "#276419"
            ]
           ],
           "sequential": [
            [
             0,
             "#0d0887"
            ],
            [
             0.1111111111111111,
             "#46039f"
            ],
            [
             0.2222222222222222,
             "#7201a8"
            ],
            [
             0.3333333333333333,
             "#9c179e"
            ],
            [
             0.4444444444444444,
             "#bd3786"
            ],
            [
             0.5555555555555556,
             "#d8576b"
            ],
            [
             0.6666666666666666,
             "#ed7953"
            ],
            [
             0.7777777777777778,
             "#fb9f3a"
            ],
            [
             0.8888888888888888,
             "#fdca26"
            ],
            [
             1,
             "#f0f921"
            ]
           ],
           "sequentialminus": [
            [
             0,
             "#0d0887"
            ],
            [
             0.1111111111111111,
             "#46039f"
            ],
            [
             0.2222222222222222,
             "#7201a8"
            ],
            [
             0.3333333333333333,
             "#9c179e"
            ],
            [
             0.4444444444444444,
             "#bd3786"
            ],
            [
             0.5555555555555556,
             "#d8576b"
            ],
            [
             0.6666666666666666,
             "#ed7953"
            ],
            [
             0.7777777777777778,
             "#fb9f3a"
            ],
            [
             0.8888888888888888,
             "#fdca26"
            ],
            [
             1,
             "#f0f921"
            ]
           ]
          },
          "colorway": [
           "#636efa",
           "#EF553B",
           "#00cc96",
           "#ab63fa",
           "#FFA15A",
           "#19d3f3",
           "#FF6692",
           "#B6E880",
           "#FF97FF",
           "#FECB52"
          ],
          "font": {
           "color": "#2a3f5f"
          },
          "geo": {
           "bgcolor": "white",
           "lakecolor": "white",
           "landcolor": "#E5ECF6",
           "showlakes": true,
           "showland": true,
           "subunitcolor": "white"
          },
          "hoverlabel": {
           "align": "left"
          },
          "hovermode": "closest",
          "mapbox": {
           "style": "light"
          },
          "paper_bgcolor": "white",
          "plot_bgcolor": "#E5ECF6",
          "polar": {
           "angularaxis": {
            "gridcolor": "white",
            "linecolor": "white",
            "ticks": ""
           },
           "bgcolor": "#E5ECF6",
           "radialaxis": {
            "gridcolor": "white",
            "linecolor": "white",
            "ticks": ""
           }
          },
          "scene": {
           "xaxis": {
            "backgroundcolor": "#E5ECF6",
            "gridcolor": "white",
            "gridwidth": 2,
            "linecolor": "white",
            "showbackground": true,
            "ticks": "",
            "zerolinecolor": "white"
           },
           "yaxis": {
            "backgroundcolor": "#E5ECF6",
            "gridcolor": "white",
            "gridwidth": 2,
            "linecolor": "white",
            "showbackground": true,
            "ticks": "",
            "zerolinecolor": "white"
           },
           "zaxis": {
            "backgroundcolor": "#E5ECF6",
            "gridcolor": "white",
            "gridwidth": 2,
            "linecolor": "white",
            "showbackground": true,
            "ticks": "",
            "zerolinecolor": "white"
           }
          },
          "shapedefaults": {
           "line": {
            "color": "#2a3f5f"
           }
          },
          "ternary": {
           "aaxis": {
            "gridcolor": "white",
            "linecolor": "white",
            "ticks": ""
           },
           "baxis": {
            "gridcolor": "white",
            "linecolor": "white",
            "ticks": ""
           },
           "bgcolor": "#E5ECF6",
           "caxis": {
            "gridcolor": "white",
            "linecolor": "white",
            "ticks": ""
           }
          },
          "title": {
           "x": 0.05
          },
          "xaxis": {
           "automargin": true,
           "gridcolor": "white",
           "linecolor": "white",
           "ticks": "",
           "title": {
            "standoff": 15
           },
           "zerolinecolor": "white",
           "zerolinewidth": 2
          },
          "yaxis": {
           "automargin": true,
           "gridcolor": "white",
           "linecolor": "white",
           "ticks": "",
           "title": {
            "standoff": 15
           },
           "zerolinecolor": "white",
           "zerolinewidth": 2
          }
         }
        },
        "xaxis": {
         "anchor": "y",
         "autorange": true,
         "domain": [
          0,
          1
         ],
         "range": [
          -5.582040506722326,
          105.91890287438353
         ],
         "title": {
          "text": "%uniq_found"
         },
         "type": "linear"
        },
        "yaxis": {
         "anchor": "x",
         "autorange": true,
         "domain": [
          0,
          1
         ],
         "range": [
          -7.29094433153919,
          107.71031146840538
         ],
         "title": {
          "text": "%tokens_found"
         },
         "type": "linear"
        }
       }
      },
      "image/png": "[encoded data removed]",
      "text/html": [
       "<div>                            <div id=\"f214da67-0326-4607-9e13-7e1e8d5ef263\" class=\"plotly-graph-div\" style=\"height:525px; width:100%;\"></div>            <script type=\"text/javascript\">                require([\"plotly\"], function(Plotly) {                    window.PLOTLYENV=window.PLOTLYENV || {};                                    if (document.getElementById(\"f214da67-0326-4607-9e13-7e1e8d5ef263\")) {                    Plotly.newPlot(                        \"f214da67-0326-4607-9e13-7e1e8d5ef263\",                        [{\"customdata\":[[\"bio_material_sam\"],[\"biological_material_preprocessing_sam\"],[\"collection_label_sam\"],[\"comments_sam\"],[\"conductivity_sam\"],[\"corrected_species_name_sam\"],[\"coverage_sam\"],[\"date_of_birth_sam\"],[\"derived_from_sam\"],[\"description_exp\"],[\"description_sam\"],[\"descriptor_sam\"],[\"details_sam\"],[\"diagnostic_pcr_ct_value_1_sam\"],[\"dissolved_oxygen_sam\"],[\"experimental_factor__rna_interference_exp\"],[\"experimental_factor__strain_exp\"],[\"extra_info_sam\"],[\"fiber_sam\"],[\"glucose_sam\"],[\"host_exp\"],[\"host_scietific_nam_sam\"],[\"isolate_run\"],[\"isolation_site_sam\"],[\"misc_param_sam\"],[\"mlst__scheme_sam\"],[\"nitrate_sam\"],[\"redox_potential_sam\"],[\"replicate_group_sam\"],[\"sample_comment_sam\"],[\"sampling_date_run\"],[\"sequence_sam\"],[\"single_cell_sam\"],[\"specimen_sam\"],[\"subsrc_note_sam\"],[\"symptom_sam\"],[\"taxonomy_species_sam\"],[\"time_of_collection_sam\"],[\"tretment_sam\"],[\"tumor_size_sam\"],[\"water_content_sam\"],[\"ww_surv_target_1_conc_sam\"]],\"hovertemplate\":\"model=fasttext\\u003cbr\\u003e%uniq_found=%{x}\\u003cbr\\u003e%tokens_found=%{y}\\u003cbr\\u003efield=%{customdata[0]}\\u003cextra\\u003e\\u003c\\u002fextra\\u003e\",\"legendgroup\":\"fasttext\",\"marker\":{\"color\":\"#636efa\",\"symbol\":\"circle\"},\"mode\":\"markers\",\"name\":\"fasttext\",\"orientation\":\"v\",\"showlegend\":true,\"x\":[6.0130854709731025,80.0,1.9528619528619529,55.66502463054187,72.72727272727273,91.0989010989011,51.61290322580645,0.3368623676612127,13.93939393939394,1.1300853842290306,23.42067281003664,2.099236641221374,12.462235649546828,5.28169014084507,8.536585365853659,24.86263736263736,12.015137180700094,97.14285714285714,18.0,23.728813559322035,71.42857142857143,98.43423799582463,0.5786779434676163,91.25,7.151583497791561,10.606060606060606,21.85185185185185,88.88888888888889,8.866995073891626,46.59637863855146,2.8629856850715747,5.7007125890736345,100.0,2.7267508610792195,29.96926229508197,81.81818181818181,99.66178128523111,1.4314928425357873,70.60998151571164,4.5,14.117647058823529,10.714285714285714],\"xaxis\":\"x\",\"y\":[27.79838038295618,90.84967320261438,3.3090668431502315,80.15328761597418,87.23404255319149,92.85714285714286,77.27272727272727,0.41936713686618377,86.77341522263654,21.734397677793904,72.05112319130227,68.7024099222859,60.76325411334552,53.197893152746424,17.12707182320442,65.54621848739495,19.38046068308181,97.91666666666667,19.607843137254903,34.78260869565217,81.81818181818181,98.76847290640394,8.77730149010002,95.62356038170451,47.431054023422746,46.103896103896105,43.717277486910994,94.11764705882354,28.231292517006803,81.23941252898706,5.189620758483034,5.755395683453237,100.0,6.064801993907505,88.7878161394804,82.79069767441861,99.71751412429379,24.391285775309697,89.00883218842002,28.571428571428573,21.80851063829787,13.793103448275861],\"yaxis\":\"y\",\"type\":\"scatter\"},{\"customdata\":[[\"bio_material_sam\"],[\"biological_material_preprocessing_sam\"],[\"collection_label_sam\"],[\"comments_sam\"],[\"conductivity_sam\"],[\"corrected_species_name_sam\"],[\"coverage_sam\"],[\"date_of_birth_sam\"],[\"derived_from_sam\"],[\"description_exp\"],[\"description_sam\"],[\"descriptor_sam\"],[\"details_sam\"],[\"diagnostic_pcr_ct_value_1_sam\"],[\"dissolved_oxygen_sam\"],[\"experimental_factor__rna_interference_exp\"],[\"experimental_factor__strain_exp\"],[\"extra_info_sam\"],[\"fiber_sam\"],[\"glucose_sam\"],[\"host_exp\"],[\"host_scietific_nam_sam\"],[\"isolate_run\"],[\"isolation_site_sam\"],[\"misc_param_sam\"],[\"mlst__scheme_sam\"],[\"nitrate_sam\"],[\"redox_potential_sam\"],[\"replicate_group_sam\"],[\"sample_comment_sam\"],[\"sampling_date_run\"],[\"sequence_sam\"],[\"single_cell_sam\"],[\"specimen_sam\"],[\"subsrc_note_sam\"],[\"symptom_sam\"],[\"taxonomy_species_sam\"],[\"time_of_collection_sam\"],[\"tretment_sam\"],[\"tumor_size_sam\"],[\"water_content_sam\"],[\"ww_surv_target_1_conc_sam\"]],\"hovertemplate\":\"model=sbert\\u003cbr\\u003e%uniq_found=%{x}\\u003cbr\\u003e%tokens_found=%{y}\\u003cbr\\u003efield=%{customdata[0]}\\u003cextra\\u003e\\u003c\\u002fextra\\u003e\",\"legendgroup\":\"sbert\",\"marker\":{\"color\":\"#EF553B\",\"symbol\":\"circle\"},\"mode\":\"markers\",\"name\":\"sbert\",\"orientation\":\"v\",\"showlegend\":true,\"x\":[12.87776508464015,80.0,44.98316498316498,67.98029556650246,72.72727272727273,87.36263736263736,48.38709677419355,0.9624639076034649,14.848484848484848,7.659467604218985,33.601643166426115,4.3893129770992365,39.50151057401813,4.929577464788732,10.365853658536585,21.016483516483518,13.15042573320719,91.42857142857143,18.0,27.11864406779661,100.0,87.160751565762,11.640329401290897,90.234375,32.40296964570999,15.656565656565656,23.333333333333332,72.22222222222223,24.137931034482758,51.2491404996562,2.8629856850715747,58.66983372921615,100.0,3.960964408725603,30.43032786885246,72.72727272727273,87.82412626832019,1.5337423312883436,79.66728280961183,5.25,12.941176470588236,34.285714285714285],\"xaxis\":\"x\",\"y\":[28.207068795882844,86.60130718954248,45.665122435473194,82.53327954820492,82.97872340425532,86.5079365079365,68.18181818181819,0.9912314144109798,84.84316736126344,26.433236574746008,75.2478215684707,71.4184786874951,72.8290676416819,53.04740406320542,17.679558011049725,63.02521008403362,19.698173153296267,92.70833333333333,19.607843137254903,37.68115942028985,100.0,86.45320197044335,18.922229026331905,94.9654491609082,68.83803767067839,48.268398268398265,40.31413612565445,85.29411764705883,32.993197278911566,82.9005147772314,5.189620758483034,45.68345323741007,100.0,6.56327887011908,88.74646819654056,75.81395348837209,87.09981167608287,24.41264416915848,86.26104023552503,29.128014842300555,20.21276595744681,36.55172413793103],\"yaxis\":\"y\",\"type\":\"scatter\"},{\"customdata\":[[\"bio_material_sam\"],[\"biological_material_preprocessing_sam\"],[\"collection_label_sam\"],[\"comments_sam\"],[\"conductivity_sam\"],[\"corrected_species_name_sam\"],[\"coverage_sam\"],[\"date_of_birth_sam\"],[\"derived_from_sam\"],[\"description_exp\"],[\"description_sam\"],[\"descriptor_sam\"],[\"details_sam\"],[\"diagnostic_pcr_ct_value_1_sam\"],[\"dissolved_oxygen_sam\"],[\"experimental_factor__rna_interference_exp\"],[\"experimental_factor__strain_exp\"],[\"extra_info_sam\"],[\"fiber_sam\"],[\"glucose_sam\"],[\"host_exp\"],[\"host_scietific_nam_sam\"],[\"isolate_run\"],[\"isolation_site_sam\"],[\"misc_param_sam\"],[\"mlst__scheme_sam\"],[\"nitrate_sam\"],[\"redox_potential_sam\"],[\"replicate_group_sam\"],[\"sample_comment_sam\"],[\"sampling_date_run\"],[\"sequence_sam\"],[\"single_cell_sam\"],[\"specimen_sam\"],[\"subsrc_note_sam\"],[\"symptom_sam\"],[\"taxonomy_species_sam\"],[\"time_of_collection_sam\"],[\"tretment_sam\"],[\"tumor_size_sam\"],[\"water_content_sam\"],[\"ww_surv_target_1_conc_sam\"]],\"hovertemplate\":\"model=pbert\\u003cbr\\u003e%uniq_found=%{x}\\u003cbr\\u003e%tokens_found=%{y}\\u003cbr\\u003efield=%{customdata[0]}\\u003cextra\\u003e\\u003c\\u002fextra\\u003e\",\"legendgroup\":\"pbert\",\"marker\":{\"color\":\"#00cc96\",\"symbol\":\"circle\"},\"mode\":\"markers\",\"name\":\"pbert\",\"orientation\":\"v\",\"showlegend\":true,\"x\":[41.95658946931145,86.95652173913044,66.53198653198653,82.36453201970443,86.36363636363636,87.6923076923077,51.61290322580645,0.9143407122232916,46.06060606060606,20.165745856353592,44.3432885533474,11.577608142493638,44.86404833836858,6.866197183098592,12.804878048780488,54.67032967032967,24.12488174077578,94.28571428571429,20.0,28.8135593220339,100.0,87.05636743215031,25.506343200534165,90.625,43.74588854430974,36.36363636363637,27.77777777777778,77.77777777777777,36.45320197044335,63.98120559248224,2.8629856850715747,73.63420427553444,100.0,5.711825487944891,44.10860655737705,78.78787878787878,87.4859075535513,1.6359918200408998,86.13678373382625,5.75,14.117647058823529,34.285714285714285],\"xaxis\":\"x\",\"y\":[53.697116476197685,93.13725490196079,67.0416942422237,90.68172650262203,89.36170212765957,86.94885361552028,77.27272727272727,0.9149828440716736,91.77451195437595,37.88098693759071,81.27748021424574,72.30551848653741,77.53656307129799,55.154251316779536,19.88950276243094,79.6078431372549,30.579825258141383,95.83333333333333,21.568627450980394,39.130434782608695,100.0,86.45320197044335,31.67993468054705,95.26159921026654,76.48820767445626,60.38961038961039,44.24083769633508,88.23529411764706,54.42176870748299,89.57781688403533,5.189620758483034,57.37410071942446,100.0,8.889504292439767,91.26180139204742,79.6124031007752,86.91148775894538,24.51943613840239,91.42950605168465,29.499072356215212,21.27659574468085,36.55172413793103],\"yaxis\":\"y\",\"type\":\"scatter\"}],                        {\"template\":{\"data\":{\"histogram2dcontour\":[{\"type\":\"histogram2dcontour\",\"colorbar\":{\"outlinewidth\":0,\"ticks\":\"\"},\"colorscale\":[[0.0,\"#0d0887\"],[0.1111111111111111,\"#46039f\"],[0.2222222222222222,\"#7201a8\"],[0.3333333333333333,\"#9c179e\"],[0.4444444444444444,\"#bd3786\"],[0.5555555555555556,\"#d8576b\"],[0.6666666666666666,\"#ed7953\"],[0.7777777777777778,\"#fb9f3a\"],[0.8888888888888888,\"#fdca26\"],[1.0,\"#f0f921\"]]}],\"choropleth\":[{\"type\":\"choropleth\",\"colorbar\":{\"outlinewidth\":0,\"ticks\":\"\"}}],\"histogram2d\":[{\"type\":\"histogram2d\",\"colorbar\":{\"outlinewidth\":0,\"ticks\":\"\"},\"colorscale\":[[0.0,\"#0d0887\"],[0.1111111111111111,\"#46039f\"],[0.2222222222222222,\"#7201a8\"],[0.3333333333333333,\"#9c179e\"],[0.4444444444444444,\"#bd3786\"],[0.5555555555555556,\"#d8576b\"],[0.6666666666666666,\"#ed7953\"],[0.7777777777777778,\"#fb9f3a\"],[0.8888888888888888,\"#fdca26\"],[1.0,\"#f0f921\"]]}],\"heatmap\":[{\"type\":\"heatmap\",\"colorbar\":{\"outlinewidth\":0,\"ticks\":\"\"},\"colorscale\":[[0.0,\"#0d0887\"],[0.1111111111111111,\"#46039f\"],[0.2222222222222222,\"#7201a8\"],[0.3333333333333333,\"#9c179e\"],[0.4444444444444444,\"#bd3786\"],[0.5555555555555556,\"#d8576b\"],[0.6666666666666666,\"#ed7953\"],[0.7777777777777778,\"#fb9f3a\"],[0.8888888888888888,\"#fdca26\"],[1.0,\"#f0f921\"]]}],\"heatmapgl\":[{\"type\":\"heatmapgl\",\"colorbar\":{\"outlinewidth\":0,\"ticks\":\"\"},\"colorscale\":[[0.0,\"#0d0887\"],[0.1111111111111111,\"#46039f\"],[0.2222222222222222,\"#7201a8\"],[0.3333333333333333,\"#9c179e\"],[0.4444444444444444,\"#bd3786\"],[0.5555555555555556,\"#d8576b\"],[0.6666666666666666,\"#ed7953\"],[0.7777777777777778,\"#fb9f3a\"],[0.8888888888888888,\"#fdca26\"],[1.0,\"#f0f921\"]]}],\"contourcarpet\":[{\"type\":\"contourcarpet\",\"colorbar\":{\"outlinewidth\":0,\"ticks\":\"\"}}],\"contour\":[{\"type\":\"contour\",\"colorbar\":{\"outlinewidth\":0,\"ticks\":\"\"},\"colorscale\":[[0.0,\"#0d0887\"],[0.1111111111111111,\"#46039f\"],[0.2222222222222222,\"#7201a8\"],[0.3333333333333333,\"#9c179e\"],[0.4444444444444444,\"#bd3786\"],[0.5555555555555556,\"#d8576b\"],[0.6666666666666666,\"#ed7953\"],[0.7777777777777778,\"#fb9f3a\"],[0.8888888888888888,\"#fdca26\"],[1.0,\"#f0f921\"]]}],\"surface\":[{\"type\":\"surface\",\"colorbar\":{\"outlinewidth\":0,\"ticks\":\"\"},\"colorscale\":[[0.0,\"#0d0887\"],[0.1111111111111111,\"#46039f\"],[0.2222222222222222,\"#7201a8\"],[0.3333333333333333,\"#9c179e\"],[0.4444444444444444,\"#bd3786\"],[0.5555555555555556,\"#d8576b\"],[0.6666666666666666,\"#ed7953\"],[0.7777777777777778,\"#fb9f3a\"],[0.8888888888888888,\"#fdca26\"],[1.0,\"#f0f921\"]]}],\"mesh3d\":[{\"type\":\"mesh3d\",\"colorbar\":{\"outlinewidth\":0,\"ticks\":\"\"}}],\"scatter\":[{\"fillpattern\":{\"fillmode\":\"overlay\",\"size\":10,\"solidity\":0.2},\"type\":\"scatter\"}],\"parcoords\":[{\"type\":\"parcoords\",\"line\":{\"colorbar\":{\"outlinewidth\":0,\"ticks\":\"\"}}}],\"scatterpolargl\":[{\"type\":\"scatterpolargl\",\"marker\":{\"colorbar\":{\"outlinewidth\":0,\"ticks\":\"\"}}}],\"bar\":[{\"error_x\":{\"color\":\"#2a3f5f\"},\"error_y\":{\"color\":\"#2a3f5f\"},\"marker\":{\"line\":{\"color\":\"#E5ECF6\",\"width\":0.5},\"pattern\":{\"fillmode\":\"overlay\",\"size\":10,\"solidity\":0.2}},\"type\":\"bar\"}],\"scattergeo\":[{\"type\":\"scattergeo\",\"marker\":{\"colorbar\":{\"outlinewidth\":0,\"ticks\":\"\"}}}],\"scatterpolar\":[{\"type\":\"scatterpolar\",\"marker\":{\"colorbar\":{\"outlinewidth\":0,\"ticks\":\"\"}}}],\"histogram\":[{\"marker\":{\"pattern\":{\"fillmode\":\"overlay\",\"size\":10,\"solidity\":0.2}},\"type\":\"histogram\"}],\"scattergl\":[{\"type\":\"scattergl\",\"marker\":{\"colorbar\":{\"outlinewidth\":0,\"ticks\":\"\"}}}],\"scatter3d\":[{\"type\":\"scatter3d\",\"line\":{\"colorbar\":{\"outlinewidth\":0,\"ticks\":\"\"}},\"marker\":{\"colorbar\":{\"outlinewidth\":0,\"ticks\":\"\"}}}],\"scattermapbox\":[{\"type\":\"scattermapbox\",\"marker\":{\"colorbar\":{\"outlinewidth\":0,\"ticks\":\"\"}}}],\"scatterternary\":[{\"type\":\"scatterternary\",\"marker\":{\"colorbar\":{\"outlinewidth\":0,\"ticks\":\"\"}}}],\"scattercarpet\":[{\"type\":\"scattercarpet\",\"marker\":{\"colorbar\":{\"outlinewidth\":0,\"ticks\":\"\"}}}],\"carpet\":[{\"aaxis\":{\"endlinecolor\":\"#2a3f5f\",\"gridcolor\":\"white\",\"linecolor\":\"white\",\"minorgridcolor\":\"white\",\"startlinecolor\":\"#2a3f5f\"},\"baxis\":{\"endlinecolor\":\"#2a3f5f\",\"gridcolor\":\"white\",\"linecolor\":\"white\",\"minorgridcolor\":\"white\",\"startlinecolor\":\"#2a3f5f\"},\"type\":\"carpet\"}],\"table\":[{\"cells\":{\"fill\":{\"color\":\"#EBF0F8\"},\"line\":{\"color\":\"white\"}},\"header\":{\"fill\":{\"color\":\"#C8D4E3\"},\"line\":{\"color\":\"white\"}},\"type\":\"table\"}],\"barpolar\":[{\"marker\":{\"line\":{\"color\":\"#E5ECF6\",\"width\":0.5},\"pattern\":{\"fillmode\":\"overlay\",\"size\":10,\"solidity\":0.2}},\"type\":\"barpolar\"}],\"pie\":[{\"automargin\":true,\"type\":\"pie\"}]},\"layout\":{\"autotypenumbers\":\"strict\",\"colorway\":[\"#636efa\",\"#EF553B\",\"#00cc96\",\"#ab63fa\",\"#FFA15A\",\"#19d3f3\",\"#FF6692\",\"#B6E880\",\"#FF97FF\",\"#FECB52\"],\"font\":{\"color\":\"#2a3f5f\"},\"hovermode\":\"closest\",\"hoverlabel\":{\"align\":\"left\"},\"paper_bgcolor\":\"white\",\"plot_bgcolor\":\"#E5ECF6\",\"polar\":{\"bgcolor\":\"#E5ECF6\",\"angularaxis\":{\"gridcolor\":\"white\",\"linecolor\":\"white\",\"ticks\":\"\"},\"radialaxis\":{\"gridcolor\":\"white\",\"linecolor\":\"white\",\"ticks\":\"\"}},\"ternary\":{\"bgcolor\":\"#E5ECF6\",\"aaxis\":{\"gridcolor\":\"white\",\"linecolor\":\"white\",\"ticks\":\"\"},\"baxis\":{\"gridcolor\":\"white\",\"linecolor\":\"white\",\"ticks\":\"\"},\"caxis\":{\"gridcolor\":\"white\",\"linecolor\":\"white\",\"ticks\":\"\"}},\"coloraxis\":{\"colorbar\":{\"outlinewidth\":0,\"ticks\":\"\"}},\"colorscale\":{\"sequential\":[[0.0,\"#0d0887\"],[0.1111111111111111,\"#46039f\"],[0.2222222222222222,\"#7201a8\"],[0.3333333333333333,\"#9c179e\"],[0.4444444444444444,\"#bd3786\"],[0.5555555555555556,\"#d8576b\"],[0.6666666666666666,\"#ed7953\"],[0.7777777777777778,\"#fb9f3a\"],[0.8888888888888888,\"#fdca26\"],[1.0,\"#f0f921\"]],\"sequentialminus\":[[0.0,\"#0d0887\"],[0.1111111111111111,\"#46039f\"],[0.2222222222222222,\"#7201a8\"],[0.3333333333333333,\"#9c179e\"],[0.4444444444444444,\"#bd3786\"],[0.5555555555555556,\"#d8576b\"],[0.6666666666666666,\"#ed7953\"],[0.7777777777777778,\"#fb9f3a\"],[0.8888888888888888,\"#fdca26\"],[1.0,\"#f0f921\"]],\"diverging\":[[0,\"#8e0152\"],[0.1,\"#c51b7d\"],[0.2,\"#de77ae\"],[0.3,\"#f1b6da\"],[0.4,\"#fde0ef\"],[0.5,\"#f7f7f7\"],[0.6,\"#e6f5d0\"],[0.7,\"#b8e186\"],[0.8,\"#7fbc41\"],[0.9,\"#4d9221\"],[1,\"#276419\"]]},\"xaxis\":{\"gridcolor\":\"white\",\"linecolor\":\"white\",\"ticks\":\"\",\"title\":{\"standoff\":15},\"zerolinecolor\":\"white\",\"automargin\":true,\"zerolinewidth\":2},\"yaxis\":{\"gridcolor\":\"white\",\"linecolor\":\"white\",\"ticks\":\"\",\"title\":{\"standoff\":15},\"zerolinecolor\":\"white\",\"automargin\":true,\"zerolinewidth\":2},\"scene\":{\"xaxis\":{\"backgroundcolor\":\"#E5ECF6\",\"gridcolor\":\"white\",\"linecolor\":\"white\",\"showbackground\":true,\"ticks\":\"\",\"zerolinecolor\":\"white\",\"gridwidth\":2},\"yaxis\":{\"backgroundcolor\":\"#E5ECF6\",\"gridcolor\":\"white\",\"linecolor\":\"white\",\"showbackground\":true,\"ticks\":\"\",\"zerolinecolor\":\"white\",\"gridwidth\":2},\"zaxis\":{\"backgroundcolor\":\"#E5ECF6\",\"gridcolor\":\"white\",\"linecolor\":\"white\",\"showbackground\":true,\"ticks\":\"\",\"zerolinecolor\":\"white\",\"gridwidth\":2}},\"shapedefaults\":{\"line\":{\"color\":\"#2a3f5f\"}},\"annotationdefaults\":{\"arrowcolor\":\"#2a3f5f\",\"arrowhead\":0,\"arrowwidth\":1},\"geo\":{\"bgcolor\":\"white\",\"landcolor\":\"#E5ECF6\",\"subunitcolor\":\"white\",\"showland\":true,\"showlakes\":true,\"lakecolor\":\"white\"},\"title\":{\"x\":0.05},\"mapbox\":{\"style\":\"light\"}}},\"xaxis\":{\"anchor\":\"y\",\"domain\":[0.0,1.0],\"title\":{\"text\":\"%uniq_found\"}},\"yaxis\":{\"anchor\":\"x\",\"domain\":[0.0,1.0],\"title\":{\"text\":\"%tokens_found\"}},\"legend\":{\"title\":{\"text\":\"model\"},\"tracegroupgap\":0},\"margin\":{\"t\":60}},                        {\"responsive\": true}                    ).then(function(){\n",
       "                            \n",
       "var gd = document.getElementById('f214da67-0326-4607-9e13-7e1e8d5ef263');\n",
       "var x = new MutationObserver(function (mutations, observer) {{\n",
       "        var display = window.getComputedStyle(gd).display;\n",
       "        if (!display || display === 'none') {{\n",
       "            console.log([gd, 'removed!']);\n",
       "            Plotly.purge(gd);\n",
       "            observer.disconnect();\n",
       "        }}\n",
       "}});\n",
       "\n",
       "// Listen for the removal of the full notebook cells\n",
       "var notebookContainer = gd.closest('#notebook-container');\n",
       "if (notebookContainer) {{\n",
       "    x.observe(notebookContainer, {childList: true});\n",
       "}}\n",
       "\n",
       "// Listen for the clearing of the current output cell\n",
       "var outputEl = gd.closest('.output');\n",
       "if (outputEl) {{\n",
       "    x.observe(outputEl, {childList: true});\n",
       "}}\n",
       "\n",
       "                        })                };                });            </script>        </div>"
      ]
     },
     "metadata": {},
     "output_type": "display_data"
    }
   ],
   "source": [
    "fig = px.scatter(vocab_df1,\n",
    "                 x='%uniq_found',\n",
    "                 y='%tokens_found',\n",
    "                 color='model',\n",
    "                 hover_data=['field', '%tokens_found', '%uniq_found'])\n",
    "fig.write_image(\"vocab_scatter.png\")\n",
    "fig.show()"
   ]
  },
  {
   "cell_type": "code",
   "execution_count": 31,
   "id": "29736faa-18ba-4571-8b3f-f89ecfb78161",
   "metadata": {
    "scrolled": true
   },
   "outputs": [
    {
     "data": {
      "application/vnd.plotly.v1+json": {
       "config": {
        "plotlyServerURL": "https://plot.ly"
       },
       "data": [
        {
         "alignmentgroup": "True",
         "box": {
          "visible": true
         },
         "customdata": [
          [
           "bio_material_sam",
           "%tokens_found"
          ],
          [
           "biological_material_preprocessing_sam",
           "%tokens_found"
          ],
          [
           "collection_label_sam",
           "%tokens_found"
          ],
          [
           "comments_sam",
           "%tokens_found"
          ],
          [
           "conductivity_sam",
           "%tokens_found"
          ],
          [
           "corrected_species_name_sam",
           "%tokens_found"
          ],
          [
           "coverage_sam",
           "%tokens_found"
          ],
          [
           "date_of_birth_sam",
           "%tokens_found"
          ],
          [
           "derived_from_sam",
           "%tokens_found"
          ],
          [
           "description_exp",
           "%tokens_found"
          ],
          [
           "description_sam",
           "%tokens_found"
          ],
          [
           "descriptor_sam",
           "%tokens_found"
          ],
          [
           "details_sam",
           "%tokens_found"
          ],
          [
           "diagnostic_pcr_ct_value_1_sam",
           "%tokens_found"
          ],
          [
           "dissolved_oxygen_sam",
           "%tokens_found"
          ],
          [
           "experimental_factor__rna_interference_exp",
           "%tokens_found"
          ],
          [
           "experimental_factor__strain_exp",
           "%tokens_found"
          ],
          [
           "extra_info_sam",
           "%tokens_found"
          ],
          [
           "fiber_sam",
           "%tokens_found"
          ],
          [
           "glucose_sam",
           "%tokens_found"
          ],
          [
           "host_exp",
           "%tokens_found"
          ],
          [
           "host_scietific_nam_sam",
           "%tokens_found"
          ],
          [
           "isolate_run",
           "%tokens_found"
          ],
          [
           "isolation_site_sam",
           "%tokens_found"
          ],
          [
           "misc_param_sam",
           "%tokens_found"
          ],
          [
           "mlst__scheme_sam",
           "%tokens_found"
          ],
          [
           "nitrate_sam",
           "%tokens_found"
          ],
          [
           "redox_potential_sam",
           "%tokens_found"
          ],
          [
           "replicate_group_sam",
           "%tokens_found"
          ],
          [
           "sample_comment_sam",
           "%tokens_found"
          ],
          [
           "sampling_date_run",
           "%tokens_found"
          ],
          [
           "sequence_sam",
           "%tokens_found"
          ],
          [
           "single_cell_sam",
           "%tokens_found"
          ],
          [
           "specimen_sam",
           "%tokens_found"
          ],
          [
           "subsrc_note_sam",
           "%tokens_found"
          ],
          [
           "symptom_sam",
           "%tokens_found"
          ],
          [
           "taxonomy_species_sam",
           "%tokens_found"
          ],
          [
           "time_of_collection_sam",
           "%tokens_found"
          ],
          [
           "tretment_sam",
           "%tokens_found"
          ],
          [
           "tumor_size_sam",
           "%tokens_found"
          ],
          [
           "water_content_sam",
           "%tokens_found"
          ],
          [
           "ww_surv_target_1_conc_sam",
           "%tokens_found"
          ],
          [
           "bio_material_sam",
           "%tokens_found"
          ],
          [
           "biological_material_preprocessing_sam",
           "%tokens_found"
          ],
          [
           "collection_label_sam",
           "%tokens_found"
          ],
          [
           "comments_sam",
           "%tokens_found"
          ],
          [
           "conductivity_sam",
           "%tokens_found"
          ],
          [
           "corrected_species_name_sam",
           "%tokens_found"
          ],
          [
           "coverage_sam",
           "%tokens_found"
          ],
          [
           "date_of_birth_sam",
           "%tokens_found"
          ],
          [
           "derived_from_sam",
           "%tokens_found"
          ],
          [
           "description_exp",
           "%tokens_found"
          ],
          [
           "description_sam",
           "%tokens_found"
          ],
          [
           "descriptor_sam",
           "%tokens_found"
          ],
          [
           "details_sam",
           "%tokens_found"
          ],
          [
           "diagnostic_pcr_ct_value_1_sam",
           "%tokens_found"
          ],
          [
           "dissolved_oxygen_sam",
           "%tokens_found"
          ],
          [
           "experimental_factor__rna_interference_exp",
           "%tokens_found"
          ],
          [
           "experimental_factor__strain_exp",
           "%tokens_found"
          ],
          [
           "extra_info_sam",
           "%tokens_found"
          ],
          [
           "fiber_sam",
           "%tokens_found"
          ],
          [
           "glucose_sam",
           "%tokens_found"
          ],
          [
           "host_exp",
           "%tokens_found"
          ],
          [
           "host_scietific_nam_sam",
           "%tokens_found"
          ],
          [
           "isolate_run",
           "%tokens_found"
          ],
          [
           "isolation_site_sam",
           "%tokens_found"
          ],
          [
           "misc_param_sam",
           "%tokens_found"
          ],
          [
           "mlst__scheme_sam",
           "%tokens_found"
          ],
          [
           "nitrate_sam",
           "%tokens_found"
          ],
          [
           "redox_potential_sam",
           "%tokens_found"
          ],
          [
           "replicate_group_sam",
           "%tokens_found"
          ],
          [
           "sample_comment_sam",
           "%tokens_found"
          ],
          [
           "sampling_date_run",
           "%tokens_found"
          ],
          [
           "sequence_sam",
           "%tokens_found"
          ],
          [
           "single_cell_sam",
           "%tokens_found"
          ],
          [
           "specimen_sam",
           "%tokens_found"
          ],
          [
           "subsrc_note_sam",
           "%tokens_found"
          ],
          [
           "symptom_sam",
           "%tokens_found"
          ],
          [
           "taxonomy_species_sam",
           "%tokens_found"
          ],
          [
           "time_of_collection_sam",
           "%tokens_found"
          ],
          [
           "tretment_sam",
           "%tokens_found"
          ],
          [
           "tumor_size_sam",
           "%tokens_found"
          ],
          [
           "water_content_sam",
           "%tokens_found"
          ],
          [
           "ww_surv_target_1_conc_sam",
           "%tokens_found"
          ],
          [
           "bio_material_sam",
           "%tokens_found"
          ],
          [
           "biological_material_preprocessing_sam",
           "%tokens_found"
          ],
          [
           "collection_label_sam",
           "%tokens_found"
          ],
          [
           "comments_sam",
           "%tokens_found"
          ],
          [
           "conductivity_sam",
           "%tokens_found"
          ],
          [
           "corrected_species_name_sam",
           "%tokens_found"
          ],
          [
           "coverage_sam",
           "%tokens_found"
          ],
          [
           "date_of_birth_sam",
           "%tokens_found"
          ],
          [
           "derived_from_sam",
           "%tokens_found"
          ],
          [
           "description_exp",
           "%tokens_found"
          ],
          [
           "description_sam",
           "%tokens_found"
          ],
          [
           "descriptor_sam",
           "%tokens_found"
          ],
          [
           "details_sam",
           "%tokens_found"
          ],
          [
           "diagnostic_pcr_ct_value_1_sam",
           "%tokens_found"
          ],
          [
           "dissolved_oxygen_sam",
           "%tokens_found"
          ],
          [
           "experimental_factor__rna_interference_exp",
           "%tokens_found"
          ],
          [
           "experimental_factor__strain_exp",
           "%tokens_found"
          ],
          [
           "extra_info_sam",
           "%tokens_found"
          ],
          [
           "fiber_sam",
           "%tokens_found"
          ],
          [
           "glucose_sam",
           "%tokens_found"
          ],
          [
           "host_exp",
           "%tokens_found"
          ],
          [
           "host_scietific_nam_sam",
           "%tokens_found"
          ],
          [
           "isolate_run",
           "%tokens_found"
          ],
          [
           "isolation_site_sam",
           "%tokens_found"
          ],
          [
           "misc_param_sam",
           "%tokens_found"
          ],
          [
           "mlst__scheme_sam",
           "%tokens_found"
          ],
          [
           "nitrate_sam",
           "%tokens_found"
          ],
          [
           "redox_potential_sam",
           "%tokens_found"
          ],
          [
           "replicate_group_sam",
           "%tokens_found"
          ],
          [
           "sample_comment_sam",
           "%tokens_found"
          ],
          [
           "sampling_date_run",
           "%tokens_found"
          ],
          [
           "sequence_sam",
           "%tokens_found"
          ],
          [
           "single_cell_sam",
           "%tokens_found"
          ],
          [
           "specimen_sam",
           "%tokens_found"
          ],
          [
           "subsrc_note_sam",
           "%tokens_found"
          ],
          [
           "symptom_sam",
           "%tokens_found"
          ],
          [
           "taxonomy_species_sam",
           "%tokens_found"
          ],
          [
           "time_of_collection_sam",
           "%tokens_found"
          ],
          [
           "tretment_sam",
           "%tokens_found"
          ],
          [
           "tumor_size_sam",
           "%tokens_found"
          ],
          [
           "water_content_sam",
           "%tokens_found"
          ],
          [
           "ww_surv_target_1_conc_sam",
           "%tokens_found"
          ]
         ],
         "hovertemplate": "measure=%{customdata[1]}<br>model=%{x}<br>value=%{y}<br>field=%{customdata[0]}<extra></extra>",
         "legendgroup": "%tokens_found",
         "marker": {
          "color": "#636efa"
         },
         "name": "%tokens_found",
         "offsetgroup": "%tokens_found",
         "orientation": "v",
         "points": "all",
         "scalegroup": "True",
         "showlegend": true,
         "type": "violin",
         "x": [
          "fasttext",
          "fasttext",
          "fasttext",
          "fasttext",
          "fasttext",
          "fasttext",
          "fasttext",
          "fasttext",
          "fasttext",
          "fasttext",
          "fasttext",
          "fasttext",
          "fasttext",
          "fasttext",
          "fasttext",
          "fasttext",
          "fasttext",
          "fasttext",
          "fasttext",
          "fasttext",
          "fasttext",
          "fasttext",
          "fasttext",
          "fasttext",
          "fasttext",
          "fasttext",
          "fasttext",
          "fasttext",
          "fasttext",
          "fasttext",
          "fasttext",
          "fasttext",
          "fasttext",
          "fasttext",
          "fasttext",
          "fasttext",
          "fasttext",
          "fasttext",
          "fasttext",
          "fasttext",
          "fasttext",
          "fasttext",
          "sbert",
          "sbert",
          "sbert",
          "sbert",
          "sbert",
          "sbert",
          "sbert",
          "sbert",
          "sbert",
          "sbert",
          "sbert",
          "sbert",
          "sbert",
          "sbert",
          "sbert",
          "sbert",
          "sbert",
          "sbert",
          "sbert",
          "sbert",
          "sbert",
          "sbert",
          "sbert",
          "sbert",
          "sbert",
          "sbert",
          "sbert",
          "sbert",
          "sbert",
          "sbert",
          "sbert",
          "sbert",
          "sbert",
          "sbert",
          "sbert",
          "sbert",
          "sbert",
          "sbert",
          "sbert",
          "sbert",
          "sbert",
          "sbert",
          "pbert",
          "pbert",
          "pbert",
          "pbert",
          "pbert",
          "pbert",
          "pbert",
          "pbert",
          "pbert",
          "pbert",
          "pbert",
          "pbert",
          "pbert",
          "pbert",
          "pbert",
          "pbert",
          "pbert",
          "pbert",
          "pbert",
          "pbert",
          "pbert",
          "pbert",
          "pbert",
          "pbert",
          "pbert",
          "pbert",
          "pbert",
          "pbert",
          "pbert",
          "pbert",
          "pbert",
          "pbert",
          "pbert",
          "pbert",
          "pbert",
          "pbert",
          "pbert",
          "pbert",
          "pbert",
          "pbert",
          "pbert",
          "pbert"
         ],
         "x0": " ",
         "xaxis": "x",
         "y": [
          27.79838038295618,
          90.84967320261438,
          3.3090668431502315,
          80.15328761597418,
          87.23404255319149,
          92.85714285714286,
          77.27272727272727,
          0.41936713686618377,
          86.77341522263654,
          21.734397677793904,
          72.05112319130227,
          68.7024099222859,
          60.76325411334552,
          53.197893152746424,
          17.12707182320442,
          65.54621848739495,
          19.38046068308181,
          97.91666666666667,
          19.607843137254903,
          34.78260869565217,
          81.81818181818181,
          98.76847290640394,
          8.77730149010002,
          95.62356038170451,
          47.431054023422746,
          46.103896103896105,
          43.717277486910994,
          94.11764705882354,
          28.231292517006803,
          81.23941252898706,
          5.189620758483034,
          5.755395683453237,
          100,
          6.064801993907505,
          88.7878161394804,
          82.79069767441861,
          99.71751412429379,
          24.391285775309697,
          89.00883218842002,
          28.571428571428573,
          21.80851063829787,
          13.793103448275861,
          28.207068795882844,
          86.60130718954248,
          45.665122435473194,
          82.53327954820492,
          82.97872340425532,
          86.5079365079365,
          68.18181818181819,
          0.9912314144109798,
          84.84316736126344,
          26.433236574746008,
          75.2478215684707,
          71.4184786874951,
          72.8290676416819,
          53.04740406320542,
          17.679558011049725,
          63.02521008403362,
          19.698173153296267,
          92.70833333333333,
          19.607843137254903,
          37.68115942028985,
          100,
          86.45320197044335,
          18.922229026331905,
          94.9654491609082,
          68.83803767067839,
          48.268398268398265,
          40.31413612565445,
          85.29411764705883,
          32.993197278911566,
          82.9005147772314,
          5.189620758483034,
          45.68345323741007,
          100,
          6.56327887011908,
          88.74646819654056,
          75.81395348837209,
          87.09981167608287,
          24.41264416915848,
          86.26104023552503,
          29.128014842300555,
          20.21276595744681,
          36.55172413793103,
          53.697116476197685,
          93.13725490196079,
          67.0416942422237,
          90.68172650262203,
          89.36170212765957,
          86.94885361552028,
          77.27272727272727,
          0.9149828440716736,
          91.77451195437595,
          37.88098693759071,
          81.27748021424574,
          72.30551848653741,
          77.53656307129799,
          55.154251316779536,
          19.88950276243094,
          79.6078431372549,
          30.579825258141383,
          95.83333333333333,
          21.568627450980394,
          39.130434782608695,
          100,
          86.45320197044335,
          31.67993468054705,
          95.26159921026654,
          76.48820767445626,
          60.38961038961039,
          44.24083769633508,
          88.23529411764706,
          54.42176870748299,
          89.57781688403533,
          5.189620758483034,
          57.37410071942446,
          100,
          8.889504292439767,
          91.26180139204742,
          79.6124031007752,
          86.91148775894538,
          24.51943613840239,
          91.42950605168465,
          29.499072356215212,
          21.27659574468085,
          36.55172413793103
         ],
         "y0": " ",
         "yaxis": "y"
        },
        {
         "alignmentgroup": "True",
         "box": {
          "visible": true
         },
         "customdata": [
          [
           "bio_material_sam",
           "%uniq_found"
          ],
          [
           "biological_material_preprocessing_sam",
           "%uniq_found"
          ],
          [
           "collection_label_sam",
           "%uniq_found"
          ],
          [
           "comments_sam",
           "%uniq_found"
          ],
          [
           "conductivity_sam",
           "%uniq_found"
          ],
          [
           "corrected_species_name_sam",
           "%uniq_found"
          ],
          [
           "coverage_sam",
           "%uniq_found"
          ],
          [
           "date_of_birth_sam",
           "%uniq_found"
          ],
          [
           "derived_from_sam",
           "%uniq_found"
          ],
          [
           "description_exp",
           "%uniq_found"
          ],
          [
           "description_sam",
           "%uniq_found"
          ],
          [
           "descriptor_sam",
           "%uniq_found"
          ],
          [
           "details_sam",
           "%uniq_found"
          ],
          [
           "diagnostic_pcr_ct_value_1_sam",
           "%uniq_found"
          ],
          [
           "dissolved_oxygen_sam",
           "%uniq_found"
          ],
          [
           "experimental_factor__rna_interference_exp",
           "%uniq_found"
          ],
          [
           "experimental_factor__strain_exp",
           "%uniq_found"
          ],
          [
           "extra_info_sam",
           "%uniq_found"
          ],
          [
           "fiber_sam",
           "%uniq_found"
          ],
          [
           "glucose_sam",
           "%uniq_found"
          ],
          [
           "host_exp",
           "%uniq_found"
          ],
          [
           "host_scietific_nam_sam",
           "%uniq_found"
          ],
          [
           "isolate_run",
           "%uniq_found"
          ],
          [
           "isolation_site_sam",
           "%uniq_found"
          ],
          [
           "misc_param_sam",
           "%uniq_found"
          ],
          [
           "mlst__scheme_sam",
           "%uniq_found"
          ],
          [
           "nitrate_sam",
           "%uniq_found"
          ],
          [
           "redox_potential_sam",
           "%uniq_found"
          ],
          [
           "replicate_group_sam",
           "%uniq_found"
          ],
          [
           "sample_comment_sam",
           "%uniq_found"
          ],
          [
           "sampling_date_run",
           "%uniq_found"
          ],
          [
           "sequence_sam",
           "%uniq_found"
          ],
          [
           "single_cell_sam",
           "%uniq_found"
          ],
          [
           "specimen_sam",
           "%uniq_found"
          ],
          [
           "subsrc_note_sam",
           "%uniq_found"
          ],
          [
           "symptom_sam",
           "%uniq_found"
          ],
          [
           "taxonomy_species_sam",
           "%uniq_found"
          ],
          [
           "time_of_collection_sam",
           "%uniq_found"
          ],
          [
           "tretment_sam",
           "%uniq_found"
          ],
          [
           "tumor_size_sam",
           "%uniq_found"
          ],
          [
           "water_content_sam",
           "%uniq_found"
          ],
          [
           "ww_surv_target_1_conc_sam",
           "%uniq_found"
          ],
          [
           "bio_material_sam",
           "%uniq_found"
          ],
          [
           "biological_material_preprocessing_sam",
           "%uniq_found"
          ],
          [
           "collection_label_sam",
           "%uniq_found"
          ],
          [
           "comments_sam",
           "%uniq_found"
          ],
          [
           "conductivity_sam",
           "%uniq_found"
          ],
          [
           "corrected_species_name_sam",
           "%uniq_found"
          ],
          [
           "coverage_sam",
           "%uniq_found"
          ],
          [
           "date_of_birth_sam",
           "%uniq_found"
          ],
          [
           "derived_from_sam",
           "%uniq_found"
          ],
          [
           "description_exp",
           "%uniq_found"
          ],
          [
           "description_sam",
           "%uniq_found"
          ],
          [
           "descriptor_sam",
           "%uniq_found"
          ],
          [
           "details_sam",
           "%uniq_found"
          ],
          [
           "diagnostic_pcr_ct_value_1_sam",
           "%uniq_found"
          ],
          [
           "dissolved_oxygen_sam",
           "%uniq_found"
          ],
          [
           "experimental_factor__rna_interference_exp",
           "%uniq_found"
          ],
          [
           "experimental_factor__strain_exp",
           "%uniq_found"
          ],
          [
           "extra_info_sam",
           "%uniq_found"
          ],
          [
           "fiber_sam",
           "%uniq_found"
          ],
          [
           "glucose_sam",
           "%uniq_found"
          ],
          [
           "host_exp",
           "%uniq_found"
          ],
          [
           "host_scietific_nam_sam",
           "%uniq_found"
          ],
          [
           "isolate_run",
           "%uniq_found"
          ],
          [
           "isolation_site_sam",
           "%uniq_found"
          ],
          [
           "misc_param_sam",
           "%uniq_found"
          ],
          [
           "mlst__scheme_sam",
           "%uniq_found"
          ],
          [
           "nitrate_sam",
           "%uniq_found"
          ],
          [
           "redox_potential_sam",
           "%uniq_found"
          ],
          [
           "replicate_group_sam",
           "%uniq_found"
          ],
          [
           "sample_comment_sam",
           "%uniq_found"
          ],
          [
           "sampling_date_run",
           "%uniq_found"
          ],
          [
           "sequence_sam",
           "%uniq_found"
          ],
          [
           "single_cell_sam",
           "%uniq_found"
          ],
          [
           "specimen_sam",
           "%uniq_found"
          ],
          [
           "subsrc_note_sam",
           "%uniq_found"
          ],
          [
           "symptom_sam",
           "%uniq_found"
          ],
          [
           "taxonomy_species_sam",
           "%uniq_found"
          ],
          [
           "time_of_collection_sam",
           "%uniq_found"
          ],
          [
           "tretment_sam",
           "%uniq_found"
          ],
          [
           "tumor_size_sam",
           "%uniq_found"
          ],
          [
           "water_content_sam",
           "%uniq_found"
          ],
          [
           "ww_surv_target_1_conc_sam",
           "%uniq_found"
          ],
          [
           "bio_material_sam",
           "%uniq_found"
          ],
          [
           "biological_material_preprocessing_sam",
           "%uniq_found"
          ],
          [
           "collection_label_sam",
           "%uniq_found"
          ],
          [
           "comments_sam",
           "%uniq_found"
          ],
          [
           "conductivity_sam",
           "%uniq_found"
          ],
          [
           "corrected_species_name_sam",
           "%uniq_found"
          ],
          [
           "coverage_sam",
           "%uniq_found"
          ],
          [
           "date_of_birth_sam",
           "%uniq_found"
          ],
          [
           "derived_from_sam",
           "%uniq_found"
          ],
          [
           "description_exp",
           "%uniq_found"
          ],
          [
           "description_sam",
           "%uniq_found"
          ],
          [
           "descriptor_sam",
           "%uniq_found"
          ],
          [
           "details_sam",
           "%uniq_found"
          ],
          [
           "diagnostic_pcr_ct_value_1_sam",
           "%uniq_found"
          ],
          [
           "dissolved_oxygen_sam",
           "%uniq_found"
          ],
          [
           "experimental_factor__rna_interference_exp",
           "%uniq_found"
          ],
          [
           "experimental_factor__strain_exp",
           "%uniq_found"
          ],
          [
           "extra_info_sam",
           "%uniq_found"
          ],
          [
           "fiber_sam",
           "%uniq_found"
          ],
          [
           "glucose_sam",
           "%uniq_found"
          ],
          [
           "host_exp",
           "%uniq_found"
          ],
          [
           "host_scietific_nam_sam",
           "%uniq_found"
          ],
          [
           "isolate_run",
           "%uniq_found"
          ],
          [
           "isolation_site_sam",
           "%uniq_found"
          ],
          [
           "misc_param_sam",
           "%uniq_found"
          ],
          [
           "mlst__scheme_sam",
           "%uniq_found"
          ],
          [
           "nitrate_sam",
           "%uniq_found"
          ],
          [
           "redox_potential_sam",
           "%uniq_found"
          ],
          [
           "replicate_group_sam",
           "%uniq_found"
          ],
          [
           "sample_comment_sam",
           "%uniq_found"
          ],
          [
           "sampling_date_run",
           "%uniq_found"
          ],
          [
           "sequence_sam",
           "%uniq_found"
          ],
          [
           "single_cell_sam",
           "%uniq_found"
          ],
          [
           "specimen_sam",
           "%uniq_found"
          ],
          [
           "subsrc_note_sam",
           "%uniq_found"
          ],
          [
           "symptom_sam",
           "%uniq_found"
          ],
          [
           "taxonomy_species_sam",
           "%uniq_found"
          ],
          [
           "time_of_collection_sam",
           "%uniq_found"
          ],
          [
           "tretment_sam",
           "%uniq_found"
          ],
          [
           "tumor_size_sam",
           "%uniq_found"
          ],
          [
           "water_content_sam",
           "%uniq_found"
          ],
          [
           "ww_surv_target_1_conc_sam",
           "%uniq_found"
          ]
         ],
         "hovertemplate": "measure=%{customdata[1]}<br>model=%{x}<br>value=%{y}<br>field=%{customdata[0]}<extra></extra>",
         "legendgroup": "%uniq_found",
         "marker": {
          "color": "#EF553B"
         },
         "name": "%uniq_found",
         "offsetgroup": "%uniq_found",
         "orientation": "v",
         "points": "all",
         "scalegroup": "True",
         "showlegend": true,
         "type": "violin",
         "x": [
          "fasttext",
          "fasttext",
          "fasttext",
          "fasttext",
          "fasttext",
          "fasttext",
          "fasttext",
          "fasttext",
          "fasttext",
          "fasttext",
          "fasttext",
          "fasttext",
          "fasttext",
          "fasttext",
          "fasttext",
          "fasttext",
          "fasttext",
          "fasttext",
          "fasttext",
          "fasttext",
          "fasttext",
          "fasttext",
          "fasttext",
          "fasttext",
          "fasttext",
          "fasttext",
          "fasttext",
          "fasttext",
          "fasttext",
          "fasttext",
          "fasttext",
          "fasttext",
          "fasttext",
          "fasttext",
          "fasttext",
          "fasttext",
          "fasttext",
          "fasttext",
          "fasttext",
          "fasttext",
          "fasttext",
          "fasttext",
          "sbert",
          "sbert",
          "sbert",
          "sbert",
          "sbert",
          "sbert",
          "sbert",
          "sbert",
          "sbert",
          "sbert",
          "sbert",
          "sbert",
          "sbert",
          "sbert",
          "sbert",
          "sbert",
          "sbert",
          "sbert",
          "sbert",
          "sbert",
          "sbert",
          "sbert",
          "sbert",
          "sbert",
          "sbert",
          "sbert",
          "sbert",
          "sbert",
          "sbert",
          "sbert",
          "sbert",
          "sbert",
          "sbert",
          "sbert",
          "sbert",
          "sbert",
          "sbert",
          "sbert",
          "sbert",
          "sbert",
          "sbert",
          "sbert",
          "pbert",
          "pbert",
          "pbert",
          "pbert",
          "pbert",
          "pbert",
          "pbert",
          "pbert",
          "pbert",
          "pbert",
          "pbert",
          "pbert",
          "pbert",
          "pbert",
          "pbert",
          "pbert",
          "pbert",
          "pbert",
          "pbert",
          "pbert",
          "pbert",
          "pbert",
          "pbert",
          "pbert",
          "pbert",
          "pbert",
          "pbert",
          "pbert",
          "pbert",
          "pbert",
          "pbert",
          "pbert",
          "pbert",
          "pbert",
          "pbert",
          "pbert",
          "pbert",
          "pbert",
          "pbert",
          "pbert",
          "pbert",
          "pbert"
         ],
         "x0": " ",
         "xaxis": "x",
         "y": [
          6.0130854709731025,
          80,
          1.9528619528619529,
          55.66502463054187,
          72.72727272727273,
          91.0989010989011,
          51.61290322580645,
          0.3368623676612127,
          13.93939393939394,
          1.1300853842290306,
          23.42067281003664,
          2.099236641221374,
          12.462235649546828,
          5.28169014084507,
          8.536585365853659,
          24.86263736263736,
          12.015137180700094,
          97.14285714285714,
          18,
          23.728813559322035,
          71.42857142857143,
          98.43423799582463,
          0.5786779434676163,
          91.25,
          7.151583497791561,
          10.606060606060606,
          21.85185185185185,
          88.88888888888889,
          8.866995073891626,
          46.59637863855146,
          2.8629856850715747,
          5.7007125890736345,
          100,
          2.7267508610792195,
          29.96926229508197,
          81.81818181818181,
          99.66178128523111,
          1.4314928425357873,
          70.60998151571164,
          4.5,
          14.117647058823529,
          10.714285714285714,
          12.87776508464015,
          80,
          44.98316498316498,
          67.98029556650246,
          72.72727272727273,
          87.36263736263736,
          48.38709677419355,
          0.9624639076034649,
          14.848484848484848,
          7.659467604218985,
          33.601643166426115,
          4.3893129770992365,
          39.50151057401813,
          4.929577464788732,
          10.365853658536585,
          21.016483516483518,
          13.15042573320719,
          91.42857142857143,
          18,
          27.11864406779661,
          100,
          87.160751565762,
          11.640329401290897,
          90.234375,
          32.40296964570999,
          15.656565656565656,
          23.333333333333332,
          72.22222222222223,
          24.137931034482758,
          51.2491404996562,
          2.8629856850715747,
          58.66983372921615,
          100,
          3.960964408725603,
          30.43032786885246,
          72.72727272727273,
          87.82412626832019,
          1.5337423312883436,
          79.66728280961183,
          5.25,
          12.941176470588236,
          34.285714285714285,
          41.95658946931145,
          86.95652173913044,
          66.53198653198653,
          82.36453201970443,
          86.36363636363636,
          87.6923076923077,
          51.61290322580645,
          0.9143407122232916,
          46.06060606060606,
          20.165745856353592,
          44.3432885533474,
          11.577608142493638,
          44.86404833836858,
          6.866197183098592,
          12.804878048780488,
          54.67032967032967,
          24.12488174077578,
          94.28571428571429,
          20,
          28.8135593220339,
          100,
          87.05636743215031,
          25.506343200534165,
          90.625,
          43.74588854430974,
          36.36363636363637,
          27.77777777777778,
          77.77777777777777,
          36.45320197044335,
          63.98120559248224,
          2.8629856850715747,
          73.63420427553444,
          100,
          5.711825487944891,
          44.10860655737705,
          78.78787878787878,
          87.4859075535513,
          1.6359918200408998,
          86.13678373382625,
          5.75,
          14.117647058823529,
          34.285714285714285
         ],
         "y0": " ",
         "yaxis": "y"
        }
       ],
       "layout": {
        "autosize": true,
        "legend": {
         "title": {
          "text": "measure"
         },
         "tracegroupgap": 0
        },
        "margin": {
         "t": 60
        },
        "template": {
         "data": {
          "bar": [
           {
            "error_x": {
             "color": "#2a3f5f"
            },
            "error_y": {
             "color": "#2a3f5f"
            },
            "marker": {
             "line": {
              "color": "#E5ECF6",
              "width": 0.5
             },
             "pattern": {
              "fillmode": "overlay",
              "size": 10,
              "solidity": 0.2
             }
            },
            "type": "bar"
           }
          ],
          "barpolar": [
           {
            "marker": {
             "line": {
              "color": "#E5ECF6",
              "width": 0.5
             },
             "pattern": {
              "fillmode": "overlay",
              "size": 10,
              "solidity": 0.2
             }
            },
            "type": "barpolar"
           }
          ],
          "carpet": [
           {
            "aaxis": {
             "endlinecolor": "#2a3f5f",
             "gridcolor": "white",
             "linecolor": "white",
             "minorgridcolor": "white",
             "startlinecolor": "#2a3f5f"
            },
            "baxis": {
             "endlinecolor": "#2a3f5f",
             "gridcolor": "white",
             "linecolor": "white",
             "minorgridcolor": "white",
             "startlinecolor": "#2a3f5f"
            },
            "type": "carpet"
           }
          ],
          "choropleth": [
           {
            "colorbar": {
             "outlinewidth": 0,
             "ticks": ""
            },
            "type": "choropleth"
           }
          ],
          "contour": [
           {
            "colorbar": {
             "outlinewidth": 0,
             "ticks": ""
            },
            "colorscale": [
             [
              0,
              "#0d0887"
             ],
             [
              0.1111111111111111,
              "#46039f"
             ],
             [
              0.2222222222222222,
              "#7201a8"
             ],
             [
              0.3333333333333333,
              "#9c179e"
             ],
             [
              0.4444444444444444,
              "#bd3786"
             ],
             [
              0.5555555555555556,
              "#d8576b"
             ],
             [
              0.6666666666666666,
              "#ed7953"
             ],
             [
              0.7777777777777778,
              "#fb9f3a"
             ],
             [
              0.8888888888888888,
              "#fdca26"
             ],
             [
              1,
              "#f0f921"
             ]
            ],
            "type": "contour"
           }
          ],
          "contourcarpet": [
           {
            "colorbar": {
             "outlinewidth": 0,
             "ticks": ""
            },
            "type": "contourcarpet"
           }
          ],
          "heatmap": [
           {
            "colorbar": {
             "outlinewidth": 0,
             "ticks": ""
            },
            "colorscale": [
             [
              0,
              "#0d0887"
             ],
             [
              0.1111111111111111,
              "#46039f"
             ],
             [
              0.2222222222222222,
              "#7201a8"
             ],
             [
              0.3333333333333333,
              "#9c179e"
             ],
             [
              0.4444444444444444,
              "#bd3786"
             ],
             [
              0.5555555555555556,
              "#d8576b"
             ],
             [
              0.6666666666666666,
              "#ed7953"
             ],
             [
              0.7777777777777778,
              "#fb9f3a"
             ],
             [
              0.8888888888888888,
              "#fdca26"
             ],
             [
              1,
              "#f0f921"
             ]
            ],
            "type": "heatmap"
           }
          ],
          "heatmapgl": [
           {
            "colorbar": {
             "outlinewidth": 0,
             "ticks": ""
            },
            "colorscale": [
             [
              0,
              "#0d0887"
             ],
             [
              0.1111111111111111,
              "#46039f"
             ],
             [
              0.2222222222222222,
              "#7201a8"
             ],
             [
              0.3333333333333333,
              "#9c179e"
             ],
             [
              0.4444444444444444,
              "#bd3786"
             ],
             [
              0.5555555555555556,
              "#d8576b"
             ],
             [
              0.6666666666666666,
              "#ed7953"
             ],
             [
              0.7777777777777778,
              "#fb9f3a"
             ],
             [
              0.8888888888888888,
              "#fdca26"
             ],
             [
              1,
              "#f0f921"
             ]
            ],
            "type": "heatmapgl"
           }
          ],
          "histogram": [
           {
            "marker": {
             "pattern": {
              "fillmode": "overlay",
              "size": 10,
              "solidity": 0.2
             }
            },
            "type": "histogram"
           }
          ],
          "histogram2d": [
           {
            "colorbar": {
             "outlinewidth": 0,
             "ticks": ""
            },
            "colorscale": [
             [
              0,
              "#0d0887"
             ],
             [
              0.1111111111111111,
              "#46039f"
             ],
             [
              0.2222222222222222,
              "#7201a8"
             ],
             [
              0.3333333333333333,
              "#9c179e"
             ],
             [
              0.4444444444444444,
              "#bd3786"
             ],
             [
              0.5555555555555556,
              "#d8576b"
             ],
             [
              0.6666666666666666,
              "#ed7953"
             ],
             [
              0.7777777777777778,
              "#fb9f3a"
             ],
             [
              0.8888888888888888,
              "#fdca26"
             ],
             [
              1,
              "#f0f921"
             ]
            ],
            "type": "histogram2d"
           }
          ],
          "histogram2dcontour": [
           {
            "colorbar": {
             "outlinewidth": 0,
             "ticks": ""
            },
            "colorscale": [
             [
              0,
              "#0d0887"
             ],
             [
              0.1111111111111111,
              "#46039f"
             ],
             [
              0.2222222222222222,
              "#7201a8"
             ],
             [
              0.3333333333333333,
              "#9c179e"
             ],
             [
              0.4444444444444444,
              "#bd3786"
             ],
             [
              0.5555555555555556,
              "#d8576b"
             ],
             [
              0.6666666666666666,
              "#ed7953"
             ],
             [
              0.7777777777777778,
              "#fb9f3a"
             ],
             [
              0.8888888888888888,
              "#fdca26"
             ],
             [
              1,
              "#f0f921"
             ]
            ],
            "type": "histogram2dcontour"
           }
          ],
          "mesh3d": [
           {
            "colorbar": {
             "outlinewidth": 0,
             "ticks": ""
            },
            "type": "mesh3d"
           }
          ],
          "parcoords": [
           {
            "line": {
             "colorbar": {
              "outlinewidth": 0,
              "ticks": ""
             }
            },
            "type": "parcoords"
           }
          ],
          "pie": [
           {
            "automargin": true,
            "type": "pie"
           }
          ],
          "scatter": [
           {
            "fillpattern": {
             "fillmode": "overlay",
             "size": 10,
             "solidity": 0.2
            },
            "type": "scatter"
           }
          ],
          "scatter3d": [
           {
            "line": {
             "colorbar": {
              "outlinewidth": 0,
              "ticks": ""
             }
            },
            "marker": {
             "colorbar": {
              "outlinewidth": 0,
              "ticks": ""
             }
            },
            "type": "scatter3d"
           }
          ],
          "scattercarpet": [
           {
            "marker": {
             "colorbar": {
              "outlinewidth": 0,
              "ticks": ""
             }
            },
            "type": "scattercarpet"
           }
          ],
          "scattergeo": [
           {
            "marker": {
             "colorbar": {
              "outlinewidth": 0,
              "ticks": ""
             }
            },
            "type": "scattergeo"
           }
          ],
          "scattergl": [
           {
            "marker": {
             "colorbar": {
              "outlinewidth": 0,
              "ticks": ""
             }
            },
            "type": "scattergl"
           }
          ],
          "scattermapbox": [
           {
            "marker": {
             "colorbar": {
              "outlinewidth": 0,
              "ticks": ""
             }
            },
            "type": "scattermapbox"
           }
          ],
          "scatterpolar": [
           {
            "marker": {
             "colorbar": {
              "outlinewidth": 0,
              "ticks": ""
             }
            },
            "type": "scatterpolar"
           }
          ],
          "scatterpolargl": [
           {
            "marker": {
             "colorbar": {
              "outlinewidth": 0,
              "ticks": ""
             }
            },
            "type": "scatterpolargl"
           }
          ],
          "scatterternary": [
           {
            "marker": {
             "colorbar": {
              "outlinewidth": 0,
              "ticks": ""
             }
            },
            "type": "scatterternary"
           }
          ],
          "surface": [
           {
            "colorbar": {
             "outlinewidth": 0,
             "ticks": ""
            },
            "colorscale": [
             [
              0,
              "#0d0887"
             ],
             [
              0.1111111111111111,
              "#46039f"
             ],
             [
              0.2222222222222222,
              "#7201a8"
             ],
             [
              0.3333333333333333,
              "#9c179e"
             ],
             [
              0.4444444444444444,
              "#bd3786"
             ],
             [
              0.5555555555555556,
              "#d8576b"
             ],
             [
              0.6666666666666666,
              "#ed7953"
             ],
             [
              0.7777777777777778,
              "#fb9f3a"
             ],
             [
              0.8888888888888888,
              "#fdca26"
             ],
             [
              1,
              "#f0f921"
             ]
            ],
            "type": "surface"
           }
          ],
          "table": [
           {
            "cells": {
             "fill": {
              "color": "#EBF0F8"
             },
             "line": {
              "color": "white"
             }
            },
            "header": {
             "fill": {
              "color": "#C8D4E3"
             },
             "line": {
              "color": "white"
             }
            },
            "type": "table"
           }
          ]
         },
         "layout": {
          "annotationdefaults": {
           "arrowcolor": "#2a3f5f",
           "arrowhead": 0,
           "arrowwidth": 1
          },
          "autotypenumbers": "strict",
          "coloraxis": {
           "colorbar": {
            "outlinewidth": 0,
            "ticks": ""
           }
          },
          "colorscale": {
           "diverging": [
            [
             0,
             "#8e0152"
            ],
            [
             0.1,
             "#c51b7d"
            ],
            [
             0.2,
             "#de77ae"
            ],
            [
             0.3,
             "#f1b6da"
            ],
            [
             0.4,
             "#fde0ef"
            ],
            [
             0.5,
             "#f7f7f7"
            ],
            [
             0.6,
             "#e6f5d0"
            ],
            [
             0.7,
             "#b8e186"
            ],
            [
             0.8,
             "#7fbc41"
            ],
            [
             0.9,
             "#4d9221"
            ],
            [
             1,
             "#276419"
            ]
           ],
           "sequential": [
            [
             0,
             "#0d0887"
            ],
            [
             0.1111111111111111,
             "#46039f"
            ],
            [
             0.2222222222222222,
             "#7201a8"
            ],
            [
             0.3333333333333333,
             "#9c179e"
            ],
            [
             0.4444444444444444,
             "#bd3786"
            ],
            [
             0.5555555555555556,
             "#d8576b"
            ],
            [
             0.6666666666666666,
             "#ed7953"
            ],
            [
             0.7777777777777778,
             "#fb9f3a"
            ],
            [
             0.8888888888888888,
             "#fdca26"
            ],
            [
             1,
             "#f0f921"
            ]
           ],
           "sequentialminus": [
            [
             0,
             "#0d0887"
            ],
            [
             0.1111111111111111,
             "#46039f"
            ],
            [
             0.2222222222222222,
             "#7201a8"
            ],
            [
             0.3333333333333333,
             "#9c179e"
            ],
            [
             0.4444444444444444,
             "#bd3786"
            ],
            [
             0.5555555555555556,
             "#d8576b"
            ],
            [
             0.6666666666666666,
             "#ed7953"
            ],
            [
             0.7777777777777778,
             "#fb9f3a"
            ],
            [
             0.8888888888888888,
             "#fdca26"
            ],
            [
             1,
             "#f0f921"
            ]
           ]
          },
          "colorway": [
           "#636efa",
           "#EF553B",
           "#00cc96",
           "#ab63fa",
           "#FFA15A",
           "#19d3f3",
           "#FF6692",
           "#B6E880",
           "#FF97FF",
           "#FECB52"
          ],
          "font": {
           "color": "#2a3f5f"
          },
          "geo": {
           "bgcolor": "white",
           "lakecolor": "white",
           "landcolor": "#E5ECF6",
           "showlakes": true,
           "showland": true,
           "subunitcolor": "white"
          },
          "hoverlabel": {
           "align": "left"
          },
          "hovermode": "closest",
          "mapbox": {
           "style": "light"
          },
          "paper_bgcolor": "white",
          "plot_bgcolor": "#E5ECF6",
          "polar": {
           "angularaxis": {
            "gridcolor": "white",
            "linecolor": "white",
            "ticks": ""
           },
           "bgcolor": "#E5ECF6",
           "radialaxis": {
            "gridcolor": "white",
            "linecolor": "white",
            "ticks": ""
           }
          },
          "scene": {
           "xaxis": {
            "backgroundcolor": "#E5ECF6",
            "gridcolor": "white",
            "gridwidth": 2,
            "linecolor": "white",
            "showbackground": true,
            "ticks": "",
            "zerolinecolor": "white"
           },
           "yaxis": {
            "backgroundcolor": "#E5ECF6",
            "gridcolor": "white",
            "gridwidth": 2,
            "linecolor": "white",
            "showbackground": true,
            "ticks": "",
            "zerolinecolor": "white"
           },
           "zaxis": {
            "backgroundcolor": "#E5ECF6",
            "gridcolor": "white",
            "gridwidth": 2,
            "linecolor": "white",
            "showbackground": true,
            "ticks": "",
            "zerolinecolor": "white"
           }
          },
          "shapedefaults": {
           "line": {
            "color": "#2a3f5f"
           }
          },
          "ternary": {
           "aaxis": {
            "gridcolor": "white",
            "linecolor": "white",
            "ticks": ""
           },
           "baxis": {
            "gridcolor": "white",
            "linecolor": "white",
            "ticks": ""
           },
           "bgcolor": "#E5ECF6",
           "caxis": {
            "gridcolor": "white",
            "linecolor": "white",
            "ticks": ""
           }
          },
          "title": {
           "x": 0.05
          },
          "xaxis": {
           "automargin": true,
           "gridcolor": "white",
           "linecolor": "white",
           "ticks": "",
           "title": {
            "standoff": 15
           },
           "zerolinecolor": "white",
           "zerolinewidth": 2
          },
          "yaxis": {
           "automargin": true,
           "gridcolor": "white",
           "linecolor": "white",
           "ticks": "",
           "title": {
            "standoff": 15
           },
           "zerolinecolor": "white",
           "zerolinewidth": 2
          }
         }
        },
        "violinmode": "group",
        "xaxis": {
         "anchor": "y",
         "autorange": true,
         "domain": [
          0,
          1
         ],
         "range": [
          -0.7134128075253255,
          2.669126989869754
         ],
         "title": {
          "text": "model"
         },
         "type": "category"
        },
        "yaxis": {
         "anchor": "x",
         "autorange": true,
         "domain": [
          0,
          1
         ],
         "range": [
          -45.308540473767266,
          145.64540284142848
         ],
         "title": {
          "text": "value"
         },
         "type": "linear"
        }
       }
      },
      "image/png": "[encoded data removed]",
      "text/html": [
       "<div>                            <div id=\"25c8c6e1-c15a-4826-bebb-3e7bfc559e05\" class=\"plotly-graph-div\" style=\"height:525px; width:100%;\"></div>            <script type=\"text/javascript\">                require([\"plotly\"], function(Plotly) {                    window.PLOTLYENV=window.PLOTLYENV || {};                                    if (document.getElementById(\"25c8c6e1-c15a-4826-bebb-3e7bfc559e05\")) {                    Plotly.newPlot(                        \"25c8c6e1-c15a-4826-bebb-3e7bfc559e05\",                        [{\"alignmentgroup\":\"True\",\"box\":{\"visible\":true},\"customdata\":[[\"bio_material_sam\",\"%tokens_found\"],[\"biological_material_preprocessing_sam\",\"%tokens_found\"],[\"collection_label_sam\",\"%tokens_found\"],[\"comments_sam\",\"%tokens_found\"],[\"conductivity_sam\",\"%tokens_found\"],[\"corrected_species_name_sam\",\"%tokens_found\"],[\"coverage_sam\",\"%tokens_found\"],[\"date_of_birth_sam\",\"%tokens_found\"],[\"derived_from_sam\",\"%tokens_found\"],[\"description_exp\",\"%tokens_found\"],[\"description_sam\",\"%tokens_found\"],[\"descriptor_sam\",\"%tokens_found\"],[\"details_sam\",\"%tokens_found\"],[\"diagnostic_pcr_ct_value_1_sam\",\"%tokens_found\"],[\"dissolved_oxygen_sam\",\"%tokens_found\"],[\"experimental_factor__rna_interference_exp\",\"%tokens_found\"],[\"experimental_factor__strain_exp\",\"%tokens_found\"],[\"extra_info_sam\",\"%tokens_found\"],[\"fiber_sam\",\"%tokens_found\"],[\"glucose_sam\",\"%tokens_found\"],[\"host_exp\",\"%tokens_found\"],[\"host_scietific_nam_sam\",\"%tokens_found\"],[\"isolate_run\",\"%tokens_found\"],[\"isolation_site_sam\",\"%tokens_found\"],[\"misc_param_sam\",\"%tokens_found\"],[\"mlst__scheme_sam\",\"%tokens_found\"],[\"nitrate_sam\",\"%tokens_found\"],[\"redox_potential_sam\",\"%tokens_found\"],[\"replicate_group_sam\",\"%tokens_found\"],[\"sample_comment_sam\",\"%tokens_found\"],[\"sampling_date_run\",\"%tokens_found\"],[\"sequence_sam\",\"%tokens_found\"],[\"single_cell_sam\",\"%tokens_found\"],[\"specimen_sam\",\"%tokens_found\"],[\"subsrc_note_sam\",\"%tokens_found\"],[\"symptom_sam\",\"%tokens_found\"],[\"taxonomy_species_sam\",\"%tokens_found\"],[\"time_of_collection_sam\",\"%tokens_found\"],[\"tretment_sam\",\"%tokens_found\"],[\"tumor_size_sam\",\"%tokens_found\"],[\"water_content_sam\",\"%tokens_found\"],[\"ww_surv_target_1_conc_sam\",\"%tokens_found\"],[\"bio_material_sam\",\"%tokens_found\"],[\"biological_material_preprocessing_sam\",\"%tokens_found\"],[\"collection_label_sam\",\"%tokens_found\"],[\"comments_sam\",\"%tokens_found\"],[\"conductivity_sam\",\"%tokens_found\"],[\"corrected_species_name_sam\",\"%tokens_found\"],[\"coverage_sam\",\"%tokens_found\"],[\"date_of_birth_sam\",\"%tokens_found\"],[\"derived_from_sam\",\"%tokens_found\"],[\"description_exp\",\"%tokens_found\"],[\"description_sam\",\"%tokens_found\"],[\"descriptor_sam\",\"%tokens_found\"],[\"details_sam\",\"%tokens_found\"],[\"diagnostic_pcr_ct_value_1_sam\",\"%tokens_found\"],[\"dissolved_oxygen_sam\",\"%tokens_found\"],[\"experimental_factor__rna_interference_exp\",\"%tokens_found\"],[\"experimental_factor__strain_exp\",\"%tokens_found\"],[\"extra_info_sam\",\"%tokens_found\"],[\"fiber_sam\",\"%tokens_found\"],[\"glucose_sam\",\"%tokens_found\"],[\"host_exp\",\"%tokens_found\"],[\"host_scietific_nam_sam\",\"%tokens_found\"],[\"isolate_run\",\"%tokens_found\"],[\"isolation_site_sam\",\"%tokens_found\"],[\"misc_param_sam\",\"%tokens_found\"],[\"mlst__scheme_sam\",\"%tokens_found\"],[\"nitrate_sam\",\"%tokens_found\"],[\"redox_potential_sam\",\"%tokens_found\"],[\"replicate_group_sam\",\"%tokens_found\"],[\"sample_comment_sam\",\"%tokens_found\"],[\"sampling_date_run\",\"%tokens_found\"],[\"sequence_sam\",\"%tokens_found\"],[\"single_cell_sam\",\"%tokens_found\"],[\"specimen_sam\",\"%tokens_found\"],[\"subsrc_note_sam\",\"%tokens_found\"],[\"symptom_sam\",\"%tokens_found\"],[\"taxonomy_species_sam\",\"%tokens_found\"],[\"time_of_collection_sam\",\"%tokens_found\"],[\"tretment_sam\",\"%tokens_found\"],[\"tumor_size_sam\",\"%tokens_found\"],[\"water_content_sam\",\"%tokens_found\"],[\"ww_surv_target_1_conc_sam\",\"%tokens_found\"],[\"bio_material_sam\",\"%tokens_found\"],[\"biological_material_preprocessing_sam\",\"%tokens_found\"],[\"collection_label_sam\",\"%tokens_found\"],[\"comments_sam\",\"%tokens_found\"],[\"conductivity_sam\",\"%tokens_found\"],[\"corrected_species_name_sam\",\"%tokens_found\"],[\"coverage_sam\",\"%tokens_found\"],[\"date_of_birth_sam\",\"%tokens_found\"],[\"derived_from_sam\",\"%tokens_found\"],[\"description_exp\",\"%tokens_found\"],[\"description_sam\",\"%tokens_found\"],[\"descriptor_sam\",\"%tokens_found\"],[\"details_sam\",\"%tokens_found\"],[\"diagnostic_pcr_ct_value_1_sam\",\"%tokens_found\"],[\"dissolved_oxygen_sam\",\"%tokens_found\"],[\"experimental_factor__rna_interference_exp\",\"%tokens_found\"],[\"experimental_factor__strain_exp\",\"%tokens_found\"],[\"extra_info_sam\",\"%tokens_found\"],[\"fiber_sam\",\"%tokens_found\"],[\"glucose_sam\",\"%tokens_found\"],[\"host_exp\",\"%tokens_found\"],[\"host_scietific_nam_sam\",\"%tokens_found\"],[\"isolate_run\",\"%tokens_found\"],[\"isolation_site_sam\",\"%tokens_found\"],[\"misc_param_sam\",\"%tokens_found\"],[\"mlst__scheme_sam\",\"%tokens_found\"],[\"nitrate_sam\",\"%tokens_found\"],[\"redox_potential_sam\",\"%tokens_found\"],[\"replicate_group_sam\",\"%tokens_found\"],[\"sample_comment_sam\",\"%tokens_found\"],[\"sampling_date_run\",\"%tokens_found\"],[\"sequence_sam\",\"%tokens_found\"],[\"single_cell_sam\",\"%tokens_found\"],[\"specimen_sam\",\"%tokens_found\"],[\"subsrc_note_sam\",\"%tokens_found\"],[\"symptom_sam\",\"%tokens_found\"],[\"taxonomy_species_sam\",\"%tokens_found\"],[\"time_of_collection_sam\",\"%tokens_found\"],[\"tretment_sam\",\"%tokens_found\"],[\"tumor_size_sam\",\"%tokens_found\"],[\"water_content_sam\",\"%tokens_found\"],[\"ww_surv_target_1_conc_sam\",\"%tokens_found\"]],\"hovertemplate\":\"measure=%{customdata[1]}\\u003cbr\\u003emodel=%{x}\\u003cbr\\u003evalue=%{y}\\u003cbr\\u003efield=%{customdata[0]}\\u003cextra\\u003e\\u003c\\u002fextra\\u003e\",\"legendgroup\":\"%tokens_found\",\"marker\":{\"color\":\"#636efa\"},\"name\":\"%tokens_found\",\"offsetgroup\":\"%tokens_found\",\"orientation\":\"v\",\"points\":\"all\",\"scalegroup\":\"True\",\"showlegend\":true,\"x\":[\"fasttext\",\"fasttext\",\"fasttext\",\"fasttext\",\"fasttext\",\"fasttext\",\"fasttext\",\"fasttext\",\"fasttext\",\"fasttext\",\"fasttext\",\"fasttext\",\"fasttext\",\"fasttext\",\"fasttext\",\"fasttext\",\"fasttext\",\"fasttext\",\"fasttext\",\"fasttext\",\"fasttext\",\"fasttext\",\"fasttext\",\"fasttext\",\"fasttext\",\"fasttext\",\"fasttext\",\"fasttext\",\"fasttext\",\"fasttext\",\"fasttext\",\"fasttext\",\"fasttext\",\"fasttext\",\"fasttext\",\"fasttext\",\"fasttext\",\"fasttext\",\"fasttext\",\"fasttext\",\"fasttext\",\"fasttext\",\"sbert\",\"sbert\",\"sbert\",\"sbert\",\"sbert\",\"sbert\",\"sbert\",\"sbert\",\"sbert\",\"sbert\",\"sbert\",\"sbert\",\"sbert\",\"sbert\",\"sbert\",\"sbert\",\"sbert\",\"sbert\",\"sbert\",\"sbert\",\"sbert\",\"sbert\",\"sbert\",\"sbert\",\"sbert\",\"sbert\",\"sbert\",\"sbert\",\"sbert\",\"sbert\",\"sbert\",\"sbert\",\"sbert\",\"sbert\",\"sbert\",\"sbert\",\"sbert\",\"sbert\",\"sbert\",\"sbert\",\"sbert\",\"sbert\",\"pbert\",\"pbert\",\"pbert\",\"pbert\",\"pbert\",\"pbert\",\"pbert\",\"pbert\",\"pbert\",\"pbert\",\"pbert\",\"pbert\",\"pbert\",\"pbert\",\"pbert\",\"pbert\",\"pbert\",\"pbert\",\"pbert\",\"pbert\",\"pbert\",\"pbert\",\"pbert\",\"pbert\",\"pbert\",\"pbert\",\"pbert\",\"pbert\",\"pbert\",\"pbert\",\"pbert\",\"pbert\",\"pbert\",\"pbert\",\"pbert\",\"pbert\",\"pbert\",\"pbert\",\"pbert\",\"pbert\",\"pbert\",\"pbert\"],\"x0\":\" \",\"xaxis\":\"x\",\"y\":[27.79838038295618,90.84967320261438,3.3090668431502315,80.15328761597418,87.23404255319149,92.85714285714286,77.27272727272727,0.41936713686618377,86.77341522263654,21.734397677793904,72.05112319130227,68.7024099222859,60.76325411334552,53.197893152746424,17.12707182320442,65.54621848739495,19.38046068308181,97.91666666666667,19.607843137254903,34.78260869565217,81.81818181818181,98.76847290640394,8.77730149010002,95.62356038170451,47.431054023422746,46.103896103896105,43.717277486910994,94.11764705882354,28.231292517006803,81.23941252898706,5.189620758483034,5.755395683453237,100.0,6.064801993907505,88.7878161394804,82.79069767441861,99.71751412429379,24.391285775309697,89.00883218842002,28.571428571428573,21.80851063829787,13.793103448275861,28.207068795882844,86.60130718954248,45.665122435473194,82.53327954820492,82.97872340425532,86.5079365079365,68.18181818181819,0.9912314144109798,84.84316736126344,26.433236574746008,75.2478215684707,71.4184786874951,72.8290676416819,53.04740406320542,17.679558011049725,63.02521008403362,19.698173153296267,92.70833333333333,19.607843137254903,37.68115942028985,100.0,86.45320197044335,18.922229026331905,94.9654491609082,68.83803767067839,48.268398268398265,40.31413612565445,85.29411764705883,32.993197278911566,82.9005147772314,5.189620758483034,45.68345323741007,100.0,6.56327887011908,88.74646819654056,75.81395348837209,87.09981167608287,24.41264416915848,86.26104023552503,29.128014842300555,20.21276595744681,36.55172413793103,53.697116476197685,93.13725490196079,67.0416942422237,90.68172650262203,89.36170212765957,86.94885361552028,77.27272727272727,0.9149828440716736,91.77451195437595,37.88098693759071,81.27748021424574,72.30551848653741,77.53656307129799,55.154251316779536,19.88950276243094,79.6078431372549,30.579825258141383,95.83333333333333,21.568627450980394,39.130434782608695,100.0,86.45320197044335,31.67993468054705,95.26159921026654,76.48820767445626,60.38961038961039,44.24083769633508,88.23529411764706,54.42176870748299,89.57781688403533,5.189620758483034,57.37410071942446,100.0,8.889504292439767,91.26180139204742,79.6124031007752,86.91148775894538,24.51943613840239,91.42950605168465,29.499072356215212,21.27659574468085,36.55172413793103],\"y0\":\" \",\"yaxis\":\"y\",\"type\":\"violin\"},{\"alignmentgroup\":\"True\",\"box\":{\"visible\":true},\"customdata\":[[\"bio_material_sam\",\"%uniq_found\"],[\"biological_material_preprocessing_sam\",\"%uniq_found\"],[\"collection_label_sam\",\"%uniq_found\"],[\"comments_sam\",\"%uniq_found\"],[\"conductivity_sam\",\"%uniq_found\"],[\"corrected_species_name_sam\",\"%uniq_found\"],[\"coverage_sam\",\"%uniq_found\"],[\"date_of_birth_sam\",\"%uniq_found\"],[\"derived_from_sam\",\"%uniq_found\"],[\"description_exp\",\"%uniq_found\"],[\"description_sam\",\"%uniq_found\"],[\"descriptor_sam\",\"%uniq_found\"],[\"details_sam\",\"%uniq_found\"],[\"diagnostic_pcr_ct_value_1_sam\",\"%uniq_found\"],[\"dissolved_oxygen_sam\",\"%uniq_found\"],[\"experimental_factor__rna_interference_exp\",\"%uniq_found\"],[\"experimental_factor__strain_exp\",\"%uniq_found\"],[\"extra_info_sam\",\"%uniq_found\"],[\"fiber_sam\",\"%uniq_found\"],[\"glucose_sam\",\"%uniq_found\"],[\"host_exp\",\"%uniq_found\"],[\"host_scietific_nam_sam\",\"%uniq_found\"],[\"isolate_run\",\"%uniq_found\"],[\"isolation_site_sam\",\"%uniq_found\"],[\"misc_param_sam\",\"%uniq_found\"],[\"mlst__scheme_sam\",\"%uniq_found\"],[\"nitrate_sam\",\"%uniq_found\"],[\"redox_potential_sam\",\"%uniq_found\"],[\"replicate_group_sam\",\"%uniq_found\"],[\"sample_comment_sam\",\"%uniq_found\"],[\"sampling_date_run\",\"%uniq_found\"],[\"sequence_sam\",\"%uniq_found\"],[\"single_cell_sam\",\"%uniq_found\"],[\"specimen_sam\",\"%uniq_found\"],[\"subsrc_note_sam\",\"%uniq_found\"],[\"symptom_sam\",\"%uniq_found\"],[\"taxonomy_species_sam\",\"%uniq_found\"],[\"time_of_collection_sam\",\"%uniq_found\"],[\"tretment_sam\",\"%uniq_found\"],[\"tumor_size_sam\",\"%uniq_found\"],[\"water_content_sam\",\"%uniq_found\"],[\"ww_surv_target_1_conc_sam\",\"%uniq_found\"],[\"bio_material_sam\",\"%uniq_found\"],[\"biological_material_preprocessing_sam\",\"%uniq_found\"],[\"collection_label_sam\",\"%uniq_found\"],[\"comments_sam\",\"%uniq_found\"],[\"conductivity_sam\",\"%uniq_found\"],[\"corrected_species_name_sam\",\"%uniq_found\"],[\"coverage_sam\",\"%uniq_found\"],[\"date_of_birth_sam\",\"%uniq_found\"],[\"derived_from_sam\",\"%uniq_found\"],[\"description_exp\",\"%uniq_found\"],[\"description_sam\",\"%uniq_found\"],[\"descriptor_sam\",\"%uniq_found\"],[\"details_sam\",\"%uniq_found\"],[\"diagnostic_pcr_ct_value_1_sam\",\"%uniq_found\"],[\"dissolved_oxygen_sam\",\"%uniq_found\"],[\"experimental_factor__rna_interference_exp\",\"%uniq_found\"],[\"experimental_factor__strain_exp\",\"%uniq_found\"],[\"extra_info_sam\",\"%uniq_found\"],[\"fiber_sam\",\"%uniq_found\"],[\"glucose_sam\",\"%uniq_found\"],[\"host_exp\",\"%uniq_found\"],[\"host_scietific_nam_sam\",\"%uniq_found\"],[\"isolate_run\",\"%uniq_found\"],[\"isolation_site_sam\",\"%uniq_found\"],[\"misc_param_sam\",\"%uniq_found\"],[\"mlst__scheme_sam\",\"%uniq_found\"],[\"nitrate_sam\",\"%uniq_found\"],[\"redox_potential_sam\",\"%uniq_found\"],[\"replicate_group_sam\",\"%uniq_found\"],[\"sample_comment_sam\",\"%uniq_found\"],[\"sampling_date_run\",\"%uniq_found\"],[\"sequence_sam\",\"%uniq_found\"],[\"single_cell_sam\",\"%uniq_found\"],[\"specimen_sam\",\"%uniq_found\"],[\"subsrc_note_sam\",\"%uniq_found\"],[\"symptom_sam\",\"%uniq_found\"],[\"taxonomy_species_sam\",\"%uniq_found\"],[\"time_of_collection_sam\",\"%uniq_found\"],[\"tretment_sam\",\"%uniq_found\"],[\"tumor_size_sam\",\"%uniq_found\"],[\"water_content_sam\",\"%uniq_found\"],[\"ww_surv_target_1_conc_sam\",\"%uniq_found\"],[\"bio_material_sam\",\"%uniq_found\"],[\"biological_material_preprocessing_sam\",\"%uniq_found\"],[\"collection_label_sam\",\"%uniq_found\"],[\"comments_sam\",\"%uniq_found\"],[\"conductivity_sam\",\"%uniq_found\"],[\"corrected_species_name_sam\",\"%uniq_found\"],[\"coverage_sam\",\"%uniq_found\"],[\"date_of_birth_sam\",\"%uniq_found\"],[\"derived_from_sam\",\"%uniq_found\"],[\"description_exp\",\"%uniq_found\"],[\"description_sam\",\"%uniq_found\"],[\"descriptor_sam\",\"%uniq_found\"],[\"details_sam\",\"%uniq_found\"],[\"diagnostic_pcr_ct_value_1_sam\",\"%uniq_found\"],[\"dissolved_oxygen_sam\",\"%uniq_found\"],[\"experimental_factor__rna_interference_exp\",\"%uniq_found\"],[\"experimental_factor__strain_exp\",\"%uniq_found\"],[\"extra_info_sam\",\"%uniq_found\"],[\"fiber_sam\",\"%uniq_found\"],[\"glucose_sam\",\"%uniq_found\"],[\"host_exp\",\"%uniq_found\"],[\"host_scietific_nam_sam\",\"%uniq_found\"],[\"isolate_run\",\"%uniq_found\"],[\"isolation_site_sam\",\"%uniq_found\"],[\"misc_param_sam\",\"%uniq_found\"],[\"mlst__scheme_sam\",\"%uniq_found\"],[\"nitrate_sam\",\"%uniq_found\"],[\"redox_potential_sam\",\"%uniq_found\"],[\"replicate_group_sam\",\"%uniq_found\"],[\"sample_comment_sam\",\"%uniq_found\"],[\"sampling_date_run\",\"%uniq_found\"],[\"sequence_sam\",\"%uniq_found\"],[\"single_cell_sam\",\"%uniq_found\"],[\"specimen_sam\",\"%uniq_found\"],[\"subsrc_note_sam\",\"%uniq_found\"],[\"symptom_sam\",\"%uniq_found\"],[\"taxonomy_species_sam\",\"%uniq_found\"],[\"time_of_collection_sam\",\"%uniq_found\"],[\"tretment_sam\",\"%uniq_found\"],[\"tumor_size_sam\",\"%uniq_found\"],[\"water_content_sam\",\"%uniq_found\"],[\"ww_surv_target_1_conc_sam\",\"%uniq_found\"]],\"hovertemplate\":\"measure=%{customdata[1]}\\u003cbr\\u003emodel=%{x}\\u003cbr\\u003evalue=%{y}\\u003cbr\\u003efield=%{customdata[0]}\\u003cextra\\u003e\\u003c\\u002fextra\\u003e\",\"legendgroup\":\"%uniq_found\",\"marker\":{\"color\":\"#EF553B\"},\"name\":\"%uniq_found\",\"offsetgroup\":\"%uniq_found\",\"orientation\":\"v\",\"points\":\"all\",\"scalegroup\":\"True\",\"showlegend\":true,\"x\":[\"fasttext\",\"fasttext\",\"fasttext\",\"fasttext\",\"fasttext\",\"fasttext\",\"fasttext\",\"fasttext\",\"fasttext\",\"fasttext\",\"fasttext\",\"fasttext\",\"fasttext\",\"fasttext\",\"fasttext\",\"fasttext\",\"fasttext\",\"fasttext\",\"fasttext\",\"fasttext\",\"fasttext\",\"fasttext\",\"fasttext\",\"fasttext\",\"fasttext\",\"fasttext\",\"fasttext\",\"fasttext\",\"fasttext\",\"fasttext\",\"fasttext\",\"fasttext\",\"fasttext\",\"fasttext\",\"fasttext\",\"fasttext\",\"fasttext\",\"fasttext\",\"fasttext\",\"fasttext\",\"fasttext\",\"fasttext\",\"sbert\",\"sbert\",\"sbert\",\"sbert\",\"sbert\",\"sbert\",\"sbert\",\"sbert\",\"sbert\",\"sbert\",\"sbert\",\"sbert\",\"sbert\",\"sbert\",\"sbert\",\"sbert\",\"sbert\",\"sbert\",\"sbert\",\"sbert\",\"sbert\",\"sbert\",\"sbert\",\"sbert\",\"sbert\",\"sbert\",\"sbert\",\"sbert\",\"sbert\",\"sbert\",\"sbert\",\"sbert\",\"sbert\",\"sbert\",\"sbert\",\"sbert\",\"sbert\",\"sbert\",\"sbert\",\"sbert\",\"sbert\",\"sbert\",\"pbert\",\"pbert\",\"pbert\",\"pbert\",\"pbert\",\"pbert\",\"pbert\",\"pbert\",\"pbert\",\"pbert\",\"pbert\",\"pbert\",\"pbert\",\"pbert\",\"pbert\",\"pbert\",\"pbert\",\"pbert\",\"pbert\",\"pbert\",\"pbert\",\"pbert\",\"pbert\",\"pbert\",\"pbert\",\"pbert\",\"pbert\",\"pbert\",\"pbert\",\"pbert\",\"pbert\",\"pbert\",\"pbert\",\"pbert\",\"pbert\",\"pbert\",\"pbert\",\"pbert\",\"pbert\",\"pbert\",\"pbert\",\"pbert\"],\"x0\":\" \",\"xaxis\":\"x\",\"y\":[6.0130854709731025,80.0,1.9528619528619529,55.66502463054187,72.72727272727273,91.0989010989011,51.61290322580645,0.3368623676612127,13.93939393939394,1.1300853842290306,23.42067281003664,2.099236641221374,12.462235649546828,5.28169014084507,8.536585365853659,24.86263736263736,12.015137180700094,97.14285714285714,18.0,23.728813559322035,71.42857142857143,98.43423799582463,0.5786779434676163,91.25,7.151583497791561,10.606060606060606,21.85185185185185,88.88888888888889,8.866995073891626,46.59637863855146,2.8629856850715747,5.7007125890736345,100.0,2.7267508610792195,29.96926229508197,81.81818181818181,99.66178128523111,1.4314928425357873,70.60998151571164,4.5,14.117647058823529,10.714285714285714,12.87776508464015,80.0,44.98316498316498,67.98029556650246,72.72727272727273,87.36263736263736,48.38709677419355,0.9624639076034649,14.848484848484848,7.659467604218985,33.601643166426115,4.3893129770992365,39.50151057401813,4.929577464788732,10.365853658536585,21.016483516483518,13.15042573320719,91.42857142857143,18.0,27.11864406779661,100.0,87.160751565762,11.640329401290897,90.234375,32.40296964570999,15.656565656565656,23.333333333333332,72.22222222222223,24.137931034482758,51.2491404996562,2.8629856850715747,58.66983372921615,100.0,3.960964408725603,30.43032786885246,72.72727272727273,87.82412626832019,1.5337423312883436,79.66728280961183,5.25,12.941176470588236,34.285714285714285,41.95658946931145,86.95652173913044,66.53198653198653,82.36453201970443,86.36363636363636,87.6923076923077,51.61290322580645,0.9143407122232916,46.06060606060606,20.165745856353592,44.3432885533474,11.577608142493638,44.86404833836858,6.866197183098592,12.804878048780488,54.67032967032967,24.12488174077578,94.28571428571429,20.0,28.8135593220339,100.0,87.05636743215031,25.506343200534165,90.625,43.74588854430974,36.36363636363637,27.77777777777778,77.77777777777777,36.45320197044335,63.98120559248224,2.8629856850715747,73.63420427553444,100.0,5.711825487944891,44.10860655737705,78.78787878787878,87.4859075535513,1.6359918200408998,86.13678373382625,5.75,14.117647058823529,34.285714285714285],\"y0\":\" \",\"yaxis\":\"y\",\"type\":\"violin\"}],                        {\"template\":{\"data\":{\"histogram2dcontour\":[{\"type\":\"histogram2dcontour\",\"colorbar\":{\"outlinewidth\":0,\"ticks\":\"\"},\"colorscale\":[[0.0,\"#0d0887\"],[0.1111111111111111,\"#46039f\"],[0.2222222222222222,\"#7201a8\"],[0.3333333333333333,\"#9c179e\"],[0.4444444444444444,\"#bd3786\"],[0.5555555555555556,\"#d8576b\"],[0.6666666666666666,\"#ed7953\"],[0.7777777777777778,\"#fb9f3a\"],[0.8888888888888888,\"#fdca26\"],[1.0,\"#f0f921\"]]}],\"choropleth\":[{\"type\":\"choropleth\",\"colorbar\":{\"outlinewidth\":0,\"ticks\":\"\"}}],\"histogram2d\":[{\"type\":\"histogram2d\",\"colorbar\":{\"outlinewidth\":0,\"ticks\":\"\"},\"colorscale\":[[0.0,\"#0d0887\"],[0.1111111111111111,\"#46039f\"],[0.2222222222222222,\"#7201a8\"],[0.3333333333333333,\"#9c179e\"],[0.4444444444444444,\"#bd3786\"],[0.5555555555555556,\"#d8576b\"],[0.6666666666666666,\"#ed7953\"],[0.7777777777777778,\"#fb9f3a\"],[0.8888888888888888,\"#fdca26\"],[1.0,\"#f0f921\"]]}],\"heatmap\":[{\"type\":\"heatmap\",\"colorbar\":{\"outlinewidth\":0,\"ticks\":\"\"},\"colorscale\":[[0.0,\"#0d0887\"],[0.1111111111111111,\"#46039f\"],[0.2222222222222222,\"#7201a8\"],[0.3333333333333333,\"#9c179e\"],[0.4444444444444444,\"#bd3786\"],[0.5555555555555556,\"#d8576b\"],[0.6666666666666666,\"#ed7953\"],[0.7777777777777778,\"#fb9f3a\"],[0.8888888888888888,\"#fdca26\"],[1.0,\"#f0f921\"]]}],\"heatmapgl\":[{\"type\":\"heatmapgl\",\"colorbar\":{\"outlinewidth\":0,\"ticks\":\"\"},\"colorscale\":[[0.0,\"#0d0887\"],[0.1111111111111111,\"#46039f\"],[0.2222222222222222,\"#7201a8\"],[0.3333333333333333,\"#9c179e\"],[0.4444444444444444,\"#bd3786\"],[0.5555555555555556,\"#d8576b\"],[0.6666666666666666,\"#ed7953\"],[0.7777777777777778,\"#fb9f3a\"],[0.8888888888888888,\"#fdca26\"],[1.0,\"#f0f921\"]]}],\"contourcarpet\":[{\"type\":\"contourcarpet\",\"colorbar\":{\"outlinewidth\":0,\"ticks\":\"\"}}],\"contour\":[{\"type\":\"contour\",\"colorbar\":{\"outlinewidth\":0,\"ticks\":\"\"},\"colorscale\":[[0.0,\"#0d0887\"],[0.1111111111111111,\"#46039f\"],[0.2222222222222222,\"#7201a8\"],[0.3333333333333333,\"#9c179e\"],[0.4444444444444444,\"#bd3786\"],[0.5555555555555556,\"#d8576b\"],[0.6666666666666666,\"#ed7953\"],[0.7777777777777778,\"#fb9f3a\"],[0.8888888888888888,\"#fdca26\"],[1.0,\"#f0f921\"]]}],\"surface\":[{\"type\":\"surface\",\"colorbar\":{\"outlinewidth\":0,\"ticks\":\"\"},\"colorscale\":[[0.0,\"#0d0887\"],[0.1111111111111111,\"#46039f\"],[0.2222222222222222,\"#7201a8\"],[0.3333333333333333,\"#9c179e\"],[0.4444444444444444,\"#bd3786\"],[0.5555555555555556,\"#d8576b\"],[0.6666666666666666,\"#ed7953\"],[0.7777777777777778,\"#fb9f3a\"],[0.8888888888888888,\"#fdca26\"],[1.0,\"#f0f921\"]]}],\"mesh3d\":[{\"type\":\"mesh3d\",\"colorbar\":{\"outlinewidth\":0,\"ticks\":\"\"}}],\"scatter\":[{\"fillpattern\":{\"fillmode\":\"overlay\",\"size\":10,\"solidity\":0.2},\"type\":\"scatter\"}],\"parcoords\":[{\"type\":\"parcoords\",\"line\":{\"colorbar\":{\"outlinewidth\":0,\"ticks\":\"\"}}}],\"scatterpolargl\":[{\"type\":\"scatterpolargl\",\"marker\":{\"colorbar\":{\"outlinewidth\":0,\"ticks\":\"\"}}}],\"bar\":[{\"error_x\":{\"color\":\"#2a3f5f\"},\"error_y\":{\"color\":\"#2a3f5f\"},\"marker\":{\"line\":{\"color\":\"#E5ECF6\",\"width\":0.5},\"pattern\":{\"fillmode\":\"overlay\",\"size\":10,\"solidity\":0.2}},\"type\":\"bar\"}],\"scattergeo\":[{\"type\":\"scattergeo\",\"marker\":{\"colorbar\":{\"outlinewidth\":0,\"ticks\":\"\"}}}],\"scatterpolar\":[{\"type\":\"scatterpolar\",\"marker\":{\"colorbar\":{\"outlinewidth\":0,\"ticks\":\"\"}}}],\"histogram\":[{\"marker\":{\"pattern\":{\"fillmode\":\"overlay\",\"size\":10,\"solidity\":0.2}},\"type\":\"histogram\"}],\"scattergl\":[{\"type\":\"scattergl\",\"marker\":{\"colorbar\":{\"outlinewidth\":0,\"ticks\":\"\"}}}],\"scatter3d\":[{\"type\":\"scatter3d\",\"line\":{\"colorbar\":{\"outlinewidth\":0,\"ticks\":\"\"}},\"marker\":{\"colorbar\":{\"outlinewidth\":0,\"ticks\":\"\"}}}],\"scattermapbox\":[{\"type\":\"scattermapbox\",\"marker\":{\"colorbar\":{\"outlinewidth\":0,\"ticks\":\"\"}}}],\"scatterternary\":[{\"type\":\"scatterternary\",\"marker\":{\"colorbar\":{\"outlinewidth\":0,\"ticks\":\"\"}}}],\"scattercarpet\":[{\"type\":\"scattercarpet\",\"marker\":{\"colorbar\":{\"outlinewidth\":0,\"ticks\":\"\"}}}],\"carpet\":[{\"aaxis\":{\"endlinecolor\":\"#2a3f5f\",\"gridcolor\":\"white\",\"linecolor\":\"white\",\"minorgridcolor\":\"white\",\"startlinecolor\":\"#2a3f5f\"},\"baxis\":{\"endlinecolor\":\"#2a3f5f\",\"gridcolor\":\"white\",\"linecolor\":\"white\",\"minorgridcolor\":\"white\",\"startlinecolor\":\"#2a3f5f\"},\"type\":\"carpet\"}],\"table\":[{\"cells\":{\"fill\":{\"color\":\"#EBF0F8\"},\"line\":{\"color\":\"white\"}},\"header\":{\"fill\":{\"color\":\"#C8D4E3\"},\"line\":{\"color\":\"white\"}},\"type\":\"table\"}],\"barpolar\":[{\"marker\":{\"line\":{\"color\":\"#E5ECF6\",\"width\":0.5},\"pattern\":{\"fillmode\":\"overlay\",\"size\":10,\"solidity\":0.2}},\"type\":\"barpolar\"}],\"pie\":[{\"automargin\":true,\"type\":\"pie\"}]},\"layout\":{\"autotypenumbers\":\"strict\",\"colorway\":[\"#636efa\",\"#EF553B\",\"#00cc96\",\"#ab63fa\",\"#FFA15A\",\"#19d3f3\",\"#FF6692\",\"#B6E880\",\"#FF97FF\",\"#FECB52\"],\"font\":{\"color\":\"#2a3f5f\"},\"hovermode\":\"closest\",\"hoverlabel\":{\"align\":\"left\"},\"paper_bgcolor\":\"white\",\"plot_bgcolor\":\"#E5ECF6\",\"polar\":{\"bgcolor\":\"#E5ECF6\",\"angularaxis\":{\"gridcolor\":\"white\",\"linecolor\":\"white\",\"ticks\":\"\"},\"radialaxis\":{\"gridcolor\":\"white\",\"linecolor\":\"white\",\"ticks\":\"\"}},\"ternary\":{\"bgcolor\":\"#E5ECF6\",\"aaxis\":{\"gridcolor\":\"white\",\"linecolor\":\"white\",\"ticks\":\"\"},\"baxis\":{\"gridcolor\":\"white\",\"linecolor\":\"white\",\"ticks\":\"\"},\"caxis\":{\"gridcolor\":\"white\",\"linecolor\":\"white\",\"ticks\":\"\"}},\"coloraxis\":{\"colorbar\":{\"outlinewidth\":0,\"ticks\":\"\"}},\"colorscale\":{\"sequential\":[[0.0,\"#0d0887\"],[0.1111111111111111,\"#46039f\"],[0.2222222222222222,\"#7201a8\"],[0.3333333333333333,\"#9c179e\"],[0.4444444444444444,\"#bd3786\"],[0.5555555555555556,\"#d8576b\"],[0.6666666666666666,\"#ed7953\"],[0.7777777777777778,\"#fb9f3a\"],[0.8888888888888888,\"#fdca26\"],[1.0,\"#f0f921\"]],\"sequentialminus\":[[0.0,\"#0d0887\"],[0.1111111111111111,\"#46039f\"],[0.2222222222222222,\"#7201a8\"],[0.3333333333333333,\"#9c179e\"],[0.4444444444444444,\"#bd3786\"],[0.5555555555555556,\"#d8576b\"],[0.6666666666666666,\"#ed7953\"],[0.7777777777777778,\"#fb9f3a\"],[0.8888888888888888,\"#fdca26\"],[1.0,\"#f0f921\"]],\"diverging\":[[0,\"#8e0152\"],[0.1,\"#c51b7d\"],[0.2,\"#de77ae\"],[0.3,\"#f1b6da\"],[0.4,\"#fde0ef\"],[0.5,\"#f7f7f7\"],[0.6,\"#e6f5d0\"],[0.7,\"#b8e186\"],[0.8,\"#7fbc41\"],[0.9,\"#4d9221\"],[1,\"#276419\"]]},\"xaxis\":{\"gridcolor\":\"white\",\"linecolor\":\"white\",\"ticks\":\"\",\"title\":{\"standoff\":15},\"zerolinecolor\":\"white\",\"automargin\":true,\"zerolinewidth\":2},\"yaxis\":{\"gridcolor\":\"white\",\"linecolor\":\"white\",\"ticks\":\"\",\"title\":{\"standoff\":15},\"zerolinecolor\":\"white\",\"automargin\":true,\"zerolinewidth\":2},\"scene\":{\"xaxis\":{\"backgroundcolor\":\"#E5ECF6\",\"gridcolor\":\"white\",\"linecolor\":\"white\",\"showbackground\":true,\"ticks\":\"\",\"zerolinecolor\":\"white\",\"gridwidth\":2},\"yaxis\":{\"backgroundcolor\":\"#E5ECF6\",\"gridcolor\":\"white\",\"linecolor\":\"white\",\"showbackground\":true,\"ticks\":\"\",\"zerolinecolor\":\"white\",\"gridwidth\":2},\"zaxis\":{\"backgroundcolor\":\"#E5ECF6\",\"gridcolor\":\"white\",\"linecolor\":\"white\",\"showbackground\":true,\"ticks\":\"\",\"zerolinecolor\":\"white\",\"gridwidth\":2}},\"shapedefaults\":{\"line\":{\"color\":\"#2a3f5f\"}},\"annotationdefaults\":{\"arrowcolor\":\"#2a3f5f\",\"arrowhead\":0,\"arrowwidth\":1},\"geo\":{\"bgcolor\":\"white\",\"landcolor\":\"#E5ECF6\",\"subunitcolor\":\"white\",\"showland\":true,\"showlakes\":true,\"lakecolor\":\"white\"},\"title\":{\"x\":0.05},\"mapbox\":{\"style\":\"light\"}}},\"xaxis\":{\"anchor\":\"y\",\"domain\":[0.0,1.0],\"title\":{\"text\":\"model\"}},\"yaxis\":{\"anchor\":\"x\",\"domain\":[0.0,1.0],\"title\":{\"text\":\"value\"}},\"legend\":{\"title\":{\"text\":\"measure\"},\"tracegroupgap\":0},\"margin\":{\"t\":60},\"violinmode\":\"group\"},                        {\"responsive\": true}                    ).then(function(){\n",
       "                            \n",
       "var gd = document.getElementById('25c8c6e1-c15a-4826-bebb-3e7bfc559e05');\n",
       "var x = new MutationObserver(function (mutations, observer) {{\n",
       "        var display = window.getComputedStyle(gd).display;\n",
       "        if (!display || display === 'none') {{\n",
       "            console.log([gd, 'removed!']);\n",
       "            Plotly.purge(gd);\n",
       "            observer.disconnect();\n",
       "        }}\n",
       "}});\n",
       "\n",
       "// Listen for the removal of the full notebook cells\n",
       "var notebookContainer = gd.closest('#notebook-container');\n",
       "if (notebookContainer) {{\n",
       "    x.observe(notebookContainer, {childList: true});\n",
       "}}\n",
       "\n",
       "// Listen for the clearing of the current output cell\n",
       "var outputEl = gd.closest('.output');\n",
       "if (outputEl) {{\n",
       "    x.observe(outputEl, {childList: true});\n",
       "}}\n",
       "\n",
       "                        })                };                });            </script>        </div>"
      ]
     },
     "metadata": {},
     "output_type": "display_data"
    }
   ],
   "source": [
    "fig = px.violin(vocab_df2,\n",
    "                y=\"value\",\n",
    "                x=\"model\",\n",
    "                color=\"measure\",\n",
    "                box=True,\n",
    "                points=\"all\",\n",
    "          hover_data=vocab_df2.columns)\n",
    "fig.write_image(\"vocab_violin.png\")\n",
    "fig.show()"
   ]
  },
  {
   "cell_type": "code",
   "execution_count": 28,
   "id": "c85c9809-c371-4858-83e6-0733036974c2",
   "metadata": {},
   "outputs": [
    {
     "name": "stdout",
     "output_type": "stream",
     "text": [
      "bio_material_sam results not found at ./results/fasttext-similarity-matrix/fasttext-bio_material_sam.similarity-score-matrix.npy\n",
      "\n",
      "biological_material_preprocessing_sam\n",
      "1.0000006 0.0 0.39976767 1.0000005960464478\n",
      "Estimated no. of clusters: 3\n",
      "Estimated no. of noise points: 1\n",
      "DBSCAN(eps=1.0000005961464478, min_samples=2)\n",
      "silhouette score: 0.79466444\n",
      "\n",
      "collection_label_sam\n",
      "1.0000004 0.0 0.99984676 1.0000003576278687\n",
      "Estimated no. of clusters: 8\n",
      "Estimated no. of noise points: 2\n",
      "DBSCAN(eps=1.0000003577278687, min_samples=2)\n",
      "silhouette score: 0.98978394\n",
      "\n",
      "comments_sam\n",
      "1.0000007 0.0 0.8654076 1.0000007152557373\n",
      "Estimated no. of clusters: 33\n",
      "Estimated no. of noise points: 107\n",
      "DBSCAN(eps=1.0000007153557373, min_samples=2)\n",
      "silhouette score: 0.47922608\n",
      "\n",
      "conductivity_sam\n",
      "1.0000007 0.0 0.59150904 1.0000007152557373\n",
      "Estimated no. of clusters: 3\n",
      "Estimated no. of noise points: 3\n",
      "DBSCAN(eps=1.0000007153557373, min_samples=2)\n",
      "silhouette score: 0.24337848\n",
      "\n",
      "corrected_species_name_sam\n",
      "1.0000007 0.0 0.5591744 1.0000007152557373\n",
      "Estimated no. of clusters: 29\n",
      "Estimated no. of noise points: 182\n",
      "DBSCAN(eps=1.0000007153557373, min_samples=2)\n",
      "silhouette score: -0.010948957\n",
      "\n",
      "coverage_sam\n",
      "1.0000004 0.0 0.86117685 1.0000003576278687\n",
      "Estimated no. of clusters: 4\n",
      "Estimated no. of noise points: 0\n",
      "DBSCAN(eps=1.0000003577278687, min_samples=2)\n",
      "silhouette score: 0.7091814\n",
      "\n",
      "date_of_birth_sam\n",
      "1.0000007 0.0 0.9999981 1.0000007152557373\n",
      "Estimated no. of clusters: 3\n",
      "Estimated no. of noise points: 2\n",
      "DBSCAN(eps=1.0000007153557373, min_samples=2)\n",
      "silhouette score: 0.9989398\n",
      "\n",
      "derived_from_sam\n",
      "1.0000006 0.0 0.6685752 1.0000005960464478\n",
      "Estimated no. of clusters: 3\n",
      "Estimated no. of noise points: 0\n",
      "DBSCAN(eps=1.0000005961464478, min_samples=2)\n",
      "silhouette score: 0.8566056\n",
      "\n",
      "description_exp\n",
      "1.0000005 0.0 0.9965463 1.0000004768371582\n",
      "Estimated no. of clusters: 12\n",
      "Estimated no. of noise points: 6\n",
      "DBSCAN(eps=1.0000004769371582, min_samples=2)\n",
      "silhouette score: 0.9824282\n",
      "\n",
      "description_sam results not found at ./results/fasttext-similarity-matrix/fasttext-description_sam.similarity-score-matrix.npy\n",
      "\n",
      "descriptor_sam\n",
      "1.0000005 0.0 0.17838125 1.0000004768371582\n",
      "Estimated no. of clusters: 12\n",
      "Estimated no. of noise points: 7\n",
      "DBSCAN(eps=1.0000004769371582, min_samples=2)\n",
      "silhouette score: 0.9865379\n",
      "\n",
      "details_sam\n",
      "1.0000007 0.0 0.92751515 1.0000007152557373\n",
      "Estimated no. of clusters: 20\n",
      "Estimated no. of noise points: 8\n",
      "DBSCAN(eps=1.0000007153557373, min_samples=2)\n",
      "silhouette score: 0.94038504\n",
      "\n",
      "diagnostic_pcr_ct_value_1_sam\n",
      "1.0000004 0.0 0.92235994 1.0000003576278687\n",
      "Estimated no. of clusters: 6\n",
      "Estimated no. of noise points: 14\n",
      "DBSCAN(eps=1.0000003577278687, min_samples=2)\n",
      "silhouette score: 0.9486325\n",
      "\n",
      "dissolved_oxygen_sam\n",
      "1.0000007 0.0 0.99482036 1.0000007152557373\n",
      "Estimated no. of clusters: 4\n",
      "Estimated no. of noise points: 2\n",
      "DBSCAN(eps=1.0000007153557373, min_samples=2)\n",
      "silhouette score: 0.93299484\n",
      "\n",
      "experimental_factor__rna_interference_exp\n",
      "1.0000005 0.0 0.3295314 1.0000004768371582\n",
      "Estimated no. of clusters: 16\n",
      "Estimated no. of noise points: 38\n",
      "DBSCAN(eps=1.0000004769371582, min_samples=2)\n",
      "silhouette score: 0.65469307\n",
      "\n",
      "experimental_factor__strain_exp\n",
      "1.0379477 0.0 0.99603474 1.037947654724121\n",
      "Estimated no. of clusters: 33\n",
      "Estimated no. of noise points: 41\n",
      "DBSCAN(eps=1.0000004769371582, min_samples=2)\n",
      "silhouette score: 0.9214332\n",
      "\n",
      "extra_info_sam\n",
      "0.90354913 0.0 0.5716588 0.9035491347312927\n",
      "Estimated no. of clusters: 4\n",
      "Estimated no. of noise points: 5\n",
      "DBSCAN(eps=0.8404338658855988, min_samples=2)\n",
      "silhouette score: 0.15785846\n",
      "\n",
      "fiber_sam\n",
      "1.0000004 0.0 0.9910788 1.0000003576278687\n",
      "Estimated no. of clusters: 3\n",
      "Estimated no. of noise points: 0\n",
      "DBSCAN(eps=1.0000003577278687, min_samples=2)\n",
      "silhouette score: 0.90411264\n",
      "\n",
      "glucose_sam\n",
      "1.0000007 0.0 0.97690874 1.0000007152557373\n",
      "Estimated no. of clusters: 4\n",
      "Estimated no. of noise points: 3\n",
      "DBSCAN(eps=1.0000007153557373, min_samples=2)\n",
      "silhouette score: 0.83487326\n",
      "\n",
      "host_exp\n",
      "0.83326036 0.0 0.3128242 0.8332603573799133\n",
      "Estimated no. of clusters: 2\n",
      "Estimated no. of noise points: 1\n",
      "DBSCAN(eps=0.8298082948731018, min_samples=2)\n",
      "silhouette score: 0.70544165\n",
      "\n",
      "host_scietific_nam_sam\n",
      "1.0000007 0.0 0.44017193 1.0000007152557373\n",
      "Estimated no. of clusters: 32\n",
      "Estimated no. of noise points: 253\n",
      "DBSCAN(eps=1.0000007153557373, min_samples=2)\n",
      "silhouette score: -0.17199847\n",
      "\n"
     ]
    },
    {
     "name": "stderr",
     "output_type": "stream",
     "text": [
      "/tmp/ipykernel_24554/3518333794.py:38: RuntimeWarning:\n",
      "\n",
      "More than 20 figures have been opened. Figures created through the pyplot interface (`matplotlib.pyplot.figure`) are retained until explicitly closed and may consume too much memory. (To control this warning, see the rcParam `figure.max_open_warning`). Consider using `matplotlib.pyplot.close()`.\n",
      "\n"
     ]
    },
    {
     "name": "stdout",
     "output_type": "stream",
     "text": [
      "isolate_run\n",
      "1.0000007 0.0 0.9921147 1.0000007152557373\n",
      "Estimated no. of clusters: 5\n",
      "Estimated no. of noise points: 6\n",
      "DBSCAN(eps=1.0000007153557373, min_samples=2)\n",
      "silhouette score: 0.99674195\n",
      "\n",
      "isolation_site_sam\n",
      "1.026366 0.0 0.5718805 1.0263659954071045\n",
      "Estimated no. of clusters: 63\n",
      "Estimated no. of noise points: 411\n",
      "DBSCAN(eps=1.0000005961464478, min_samples=2)\n",
      "silhouette score: -0.2587685\n",
      "\n",
      "misc_param_sam results not found at ./results/fasttext-similarity-matrix/fasttext-misc_param_sam.similarity-score-matrix.npy\n",
      "\n",
      "mlst__scheme_sam\n",
      "1.0000007 0.0 0.88474935 1.0000007152557373\n",
      "Estimated no. of clusters: 12\n",
      "Estimated no. of noise points: 4\n",
      "DBSCAN(eps=1.0000007153557373, min_samples=2)\n",
      "silhouette score: 0.84080493\n",
      "\n",
      "nitrate_sam\n",
      "1.0000007 0.0 0.9637972 1.0000007152557373\n",
      "Estimated no. of clusters: 8\n",
      "Estimated no. of noise points: 8\n",
      "DBSCAN(eps=1.0000007153557373, min_samples=2)\n",
      "silhouette score: 0.7442179\n",
      "\n",
      "redox_potential_sam\n",
      "0.9289057 0.0 0.6554564 0.928905725479126\n",
      "Estimated no. of clusters: 5\n",
      "Estimated no. of noise points: 3\n",
      "DBSCAN(eps=0.8896950782345368, min_samples=2)\n",
      "silhouette score: 0.47683942\n",
      "\n",
      "replicate_group_sam\n",
      "1.0000007 0.0 0.98426694 1.0000007152557373\n",
      "Estimated no. of clusters: 9\n",
      "Estimated no. of noise points: 5\n",
      "DBSCAN(eps=1.0000007153557373, min_samples=2)\n",
      "silhouette score: 0.94051135\n",
      "\n",
      "sample_comment_sam\n",
      "1.0097885 0.0 0.52717483 1.0097885131835938\n",
      "Estimated no. of clusters: 708\n",
      "Estimated no. of noise points: 1247\n",
      "DBSCAN(eps=1.0000007153557373, min_samples=2)\n",
      "silhouette score: 0.459211\n",
      "\n",
      "sampling_date_run\n",
      "1.0000004 0.0 0.99929893 1.0000003576278687\n",
      "Estimated no. of clusters: 3\n",
      "Estimated no. of noise points: 1\n",
      "DBSCAN(eps=1.0000003577278687, min_samples=2)\n",
      "silhouette score: 0.99581826\n",
      "\n",
      "sequence_sam\n",
      "1.0000005 0.0 0.99949044 1.0000004768371582\n",
      "Estimated no. of clusters: 3\n",
      "Estimated no. of noise points: 3\n",
      "DBSCAN(eps=1.0000004769371582, min_samples=2)\n",
      "silhouette score: 0.9697441\n",
      "\n",
      "single_cell_sam\n",
      "0.83136964 0.0 0.57805693 0.8313696384429932\n",
      "Estimated no. of clusters: 3\n",
      "Estimated no. of noise points: 3\n",
      "DBSCAN(eps=0.8124933243797852, min_samples=2)\n",
      "silhouette score: 0.40065536\n",
      "\n",
      "specimen_sam\n",
      "1.0064139 0.0 0.99969614 1.0064139366149902\n",
      "Estimated no. of clusters: 11\n",
      "Estimated no. of noise points: 18\n",
      "DBSCAN(eps=1.0000007153557373, min_samples=2)\n",
      "silhouette score: 0.97563183\n",
      "\n",
      "subsrc_note_sam\n",
      "1.0000008 0.0 0.13059732 1.0000008344650269\n",
      "Estimated no. of clusters: 33\n",
      "Estimated no. of noise points: 114\n",
      "DBSCAN(eps=1.0000008345650269, min_samples=2)\n",
      "silhouette score: 0.828833\n",
      "\n",
      "symptom_sam\n",
      "1.0000008 0.0 0.32161134 1.0000008344650269\n",
      "Estimated no. of clusters: 24\n",
      "Estimated no. of noise points: 35\n",
      "DBSCAN(eps=1.0000008345650269, min_samples=2)\n",
      "silhouette score: 0.23491308\n",
      "\n",
      "taxonomy_species_sam\n",
      "0.95139354 0.0 0.43824154 0.9513935446739197\n",
      "Estimated no. of clusters: 43\n",
      "Estimated no. of noise points: 347\n",
      "DBSCAN(eps=0.841273158888681, min_samples=2)\n",
      "silhouette score: -0.26725462\n",
      "\n",
      "time_of_collection_sam\n",
      "1.0000005 0.0 0.931279 1.0000004768371582\n",
      "Estimated no. of clusters: 14\n",
      "Estimated no. of noise points: 5\n",
      "DBSCAN(eps=1.0000004769371582, min_samples=2)\n",
      "silhouette score: 0.99381816\n",
      "\n",
      "tretment_sam\n",
      "1.024354 0.0 0.32811326 1.0243539810180664\n",
      "Estimated no. of clusters: 25\n",
      "Estimated no. of noise points: 98\n",
      "DBSCAN(eps=1.0000007153557373, min_samples=2)\n",
      "silhouette score: 0.10121621\n",
      "\n",
      "tumor_size_sam\n",
      "1.0000007 0.0 0.991898 1.0000007152557373\n",
      "Estimated no. of clusters: 6\n",
      "Estimated no. of noise points: 4\n",
      "DBSCAN(eps=1.0000007153557373, min_samples=2)\n",
      "silhouette score: 0.940953\n",
      "\n",
      "water_content_sam\n",
      "1.0000007 0.0 0.99311036 1.0000007152557373\n",
      "Estimated no. of clusters: 6\n",
      "Estimated no. of noise points: 4\n",
      "DBSCAN(eps=1.0000007153557373, min_samples=2)\n",
      "silhouette score: 0.9019876\n",
      "\n",
      "ww_surv_target_1_conc_sam\n",
      "1.0000007 0.0 0.9972922 1.0000007152557373\n",
      "Estimated no. of clusters: 5\n",
      "Estimated no. of noise points: 4\n",
      "DBSCAN(eps=1.0000007153557373, min_samples=2)\n",
      "silhouette score: 0.94547766\n",
      "\n"
     ]
    },
    {
     "data": {
      "text/plain": [
       "<Figure size 1800x700 with 0 Axes>"
      ]
     },
     "metadata": {},
     "output_type": "display_data"
    },
    {
     "data": {
      "text/plain": [
       "<Figure size 1800x700 with 0 Axes>"
      ]
     },
     "metadata": {},
     "output_type": "display_data"
    },
    {
     "data": {
      "text/plain": [
       "<Figure size 1800x700 with 0 Axes>"
      ]
     },
     "metadata": {},
     "output_type": "display_data"
    },
    {
     "data": {
      "text/plain": [
       "<Figure size 1800x700 with 0 Axes>"
      ]
     },
     "metadata": {},
     "output_type": "display_data"
    },
    {
     "data": {
      "text/plain": [
       "<Figure size 1800x700 with 0 Axes>"
      ]
     },
     "metadata": {},
     "output_type": "display_data"
    },
    {
     "data": {
      "text/plain": [
       "<Figure size 1800x700 with 0 Axes>"
      ]
     },
     "metadata": {},
     "output_type": "display_data"
    },
    {
     "data": {
      "text/plain": [
       "<Figure size 1800x700 with 0 Axes>"
      ]
     },
     "metadata": {},
     "output_type": "display_data"
    },
    {
     "data": {
      "text/plain": [
       "<Figure size 1800x700 with 0 Axes>"
      ]
     },
     "metadata": {},
     "output_type": "display_data"
    },
    {
     "data": {
      "text/plain": [
       "<Figure size 1800x700 with 0 Axes>"
      ]
     },
     "metadata": {},
     "output_type": "display_data"
    },
    {
     "data": {
      "text/plain": [
       "<Figure size 1800x700 with 0 Axes>"
      ]
     },
     "metadata": {},
     "output_type": "display_data"
    },
    {
     "data": {
      "text/plain": [
       "<Figure size 1800x700 with 0 Axes>"
      ]
     },
     "metadata": {},
     "output_type": "display_data"
    },
    {
     "data": {
      "text/plain": [
       "<Figure size 1800x700 with 0 Axes>"
      ]
     },
     "metadata": {},
     "output_type": "display_data"
    },
    {
     "data": {
      "text/plain": [
       "<Figure size 1800x700 with 0 Axes>"
      ]
     },
     "metadata": {},
     "output_type": "display_data"
    },
    {
     "data": {
      "text/plain": [
       "<Figure size 1800x700 with 0 Axes>"
      ]
     },
     "metadata": {},
     "output_type": "display_data"
    },
    {
     "data": {
      "text/plain": [
       "<Figure size 1800x700 with 0 Axes>"
      ]
     },
     "metadata": {},
     "output_type": "display_data"
    },
    {
     "data": {
      "text/plain": [
       "<Figure size 1800x700 with 0 Axes>"
      ]
     },
     "metadata": {},
     "output_type": "display_data"
    },
    {
     "data": {
      "text/plain": [
       "<Figure size 1800x700 with 0 Axes>"
      ]
     },
     "metadata": {},
     "output_type": "display_data"
    },
    {
     "data": {
      "text/plain": [
       "<Figure size 1800x700 with 0 Axes>"
      ]
     },
     "metadata": {},
     "output_type": "display_data"
    },
    {
     "data": {
      "text/plain": [
       "<Figure size 1800x700 with 0 Axes>"
      ]
     },
     "metadata": {},
     "output_type": "display_data"
    },
    {
     "data": {
      "text/plain": [
       "<Figure size 1800x700 with 0 Axes>"
      ]
     },
     "metadata": {},
     "output_type": "display_data"
    },
    {
     "data": {
      "text/plain": [
       "<Figure size 1800x700 with 0 Axes>"
      ]
     },
     "metadata": {},
     "output_type": "display_data"
    },
    {
     "data": {
      "text/plain": [
       "<Figure size 1800x700 with 0 Axes>"
      ]
     },
     "metadata": {},
     "output_type": "display_data"
    },
    {
     "data": {
      "text/plain": [
       "<Figure size 1800x700 with 0 Axes>"
      ]
     },
     "metadata": {},
     "output_type": "display_data"
    },
    {
     "data": {
      "text/plain": [
       "<Figure size 1800x700 with 0 Axes>"
      ]
     },
     "metadata": {},
     "output_type": "display_data"
    },
    {
     "data": {
      "text/plain": [
       "<Figure size 1800x700 with 0 Axes>"
      ]
     },
     "metadata": {},
     "output_type": "display_data"
    },
    {
     "data": {
      "text/plain": [
       "<Figure size 1800x700 with 0 Axes>"
      ]
     },
     "metadata": {},
     "output_type": "display_data"
    },
    {
     "data": {
      "text/plain": [
       "<Figure size 1800x700 with 0 Axes>"
      ]
     },
     "metadata": {},
     "output_type": "display_data"
    },
    {
     "data": {
      "text/plain": [
       "<Figure size 1800x700 with 0 Axes>"
      ]
     },
     "metadata": {},
     "output_type": "display_data"
    },
    {
     "data": {
      "text/plain": [
       "<Figure size 1800x700 with 0 Axes>"
      ]
     },
     "metadata": {},
     "output_type": "display_data"
    },
    {
     "data": {
      "text/plain": [
       "<Figure size 1800x700 with 0 Axes>"
      ]
     },
     "metadata": {},
     "output_type": "display_data"
    },
    {
     "data": {
      "text/plain": [
       "<Figure size 1800x700 with 0 Axes>"
      ]
     },
     "metadata": {},
     "output_type": "display_data"
    },
    {
     "data": {
      "text/plain": [
       "<Figure size 1800x700 with 0 Axes>"
      ]
     },
     "metadata": {},
     "output_type": "display_data"
    },
    {
     "data": {
      "text/plain": [
       "<Figure size 1800x700 with 0 Axes>"
      ]
     },
     "metadata": {},
     "output_type": "display_data"
    },
    {
     "data": {
      "text/plain": [
       "<Figure size 1800x700 with 0 Axes>"
      ]
     },
     "metadata": {},
     "output_type": "display_data"
    },
    {
     "data": {
      "text/plain": [
       "<Figure size 1800x700 with 0 Axes>"
      ]
     },
     "metadata": {},
     "output_type": "display_data"
    },
    {
     "data": {
      "text/plain": [
       "<Figure size 1800x700 with 0 Axes>"
      ]
     },
     "metadata": {},
     "output_type": "display_data"
    },
    {
     "data": {
      "text/plain": [
       "<Figure size 1800x700 with 0 Axes>"
      ]
     },
     "metadata": {},
     "output_type": "display_data"
    },
    {
     "data": {
      "text/plain": [
       "<Figure size 1800x700 with 0 Axes>"
      ]
     },
     "metadata": {},
     "output_type": "display_data"
    },
    {
     "data": {
      "text/plain": [
       "<Figure size 1800x700 with 0 Axes>"
      ]
     },
     "metadata": {},
     "output_type": "display_data"
    }
   ],
   "source": [
    "groupings_dict = {}\n",
    "for a in vocab_df1.field.unique():\n",
    "    f1 = \"./results/fasttext-similarity-matrix/fasttext-{attribute}.similarity-score-matrix.npy\".format(attribute=a)\n",
    "    if not os.path.exists(f1):\n",
    "        print(a, 'results not found at', f1)\n",
    "        print(\"\")\n",
    "        continue\n",
    "    f2 = \"./attributes/{attribute}.entries.tsv\".format(attribute=a)\n",
    "    if not os.path.exists(f2):\n",
    "        print(a, 'results not found at', f2)\n",
    "        print(\"\")\n",
    "        continue\n",
    "    else:\n",
    "        test2_np = np.load(f1)\n",
    "        #print(a, 'first load success')\n",
    "        test2_np = np.nan_to_num(test2_np)\n",
    "        test2_np = test2_np.max() - test2_np\n",
    "        test2 = pd.DataFrame(test2_np)\n",
    "        test2_md = pd.read_csv(f2, sep='\\t', header=None)\n",
    "        #print(a, 'second load success')\n",
    "\n",
    "        \n",
    "        clustering = DBSCAN(eps=0.0000000001+test2.quantile(q=0.75).quantile(q=1), min_samples=2).fit(test2_np)\n",
    "        labels = clustering.labels_\n",
    "        no_clusters = len(np.unique(labels) )\n",
    "        no_noise = np.sum(np.array(labels) == -1, axis=0)\n",
    "        test2_sm = test2.copy(deep=True)\n",
    "        test2_sm['labels'] = labels\n",
    "        test2_sm = test2_sm[['labels']]\n",
    "        for i in test2_sm.index:\n",
    "            test2_sm.at[i, 'Value'] = test2_md[0].loc[i]\n",
    "        groupings = [test2_sm[test2_sm.labels==i].Value.to_list() for i in test2_sm.labels.unique()]\n",
    "        groupings_dict.update({a: groupings})\n",
    "        if len(set(labels))>1:\n",
    "            ss = silhouette_score(test2_np, labels)\n",
    "\n",
    "            # Create a subplot with 1 row and 2 columns\n",
    "            fig, ax1 = plt.subplots(1, 1)\n",
    "            fig.set_size_inches(18, 7)\n",
    "\n",
    "            # The 1st subplot is the silhouette plot\n",
    "            # The silhouette coefficient can range from -1, 1 but in this example all\n",
    "            # lie within [-0.1, 1]\n",
    "            ax1.set_xlim([-1, 1])\n",
    "            # The (n_clusters+1)*10 is for inserting blank space between silhouette\n",
    "            # plots of individual clusters, to demarcate them clearly.\n",
    "            ax1.set_ylim([0, len(test2_np) + (no_clusters + 1) * 10])\n",
    "            \n",
    "            # Compute the silhouette scores for each sample\n",
    "            sample_silhouette_values = silhouette_samples(test2_np, labels)\n",
    "\n",
    "            y_lower = 10\n",
    "            for i in range(no_clusters):\n",
    "                # Aggregate the silhouette scores for samples belonging to\n",
    "                # cluster i, and sort them\n",
    "                ith_cluster_silhouette_values = sample_silhouette_values[labels == i]\n",
    "\n",
    "                ith_cluster_silhouette_values.sort()\n",
    "\n",
    "                size_cluster_i = ith_cluster_silhouette_values.shape[0]\n",
    "                y_upper = y_lower + size_cluster_i\n",
    "\n",
    "                color = cm.nipy_spectral(float(i) / no_clusters)\n",
    "                ax1.fill_betweenx(\n",
    "                    np.arange(y_lower, y_upper),\n",
    "                    0,\n",
    "                    ith_cluster_silhouette_values,\n",
    "                    facecolor=color,\n",
    "                    edgecolor=color,\n",
    "                    alpha=0.7,\n",
    "                )\n",
    "\n",
    "                # Label the silhouette plots with their cluster numbers at the middle\n",
    "                ax1.text(-0.05, y_lower + 0.5 * size_cluster_i, str(i))\n",
    "\n",
    "                # Compute the new y_lower for next plot\n",
    "                y_lower = y_upper + 10  # 10 for the 0 samples\n",
    "\n",
    "            ax1.set_title(\"The silhouette plot for the various clusters found in {a}.\".format(a=a))\n",
    "            ax1.set_xlabel(\"The silhouette coefficient values\")\n",
    "            ax1.set_ylabel(\"Cluster label\")\n",
    "\n",
    "            # The vertical line for average silhouette score of all the values\n",
    "            ax1.axvline(x=ss, color=\"red\", linestyle=\"--\")\n",
    "\n",
    "            ax1.set_yticks([])  # Clear the yaxis labels / ticks\n",
    "            ax1.set_xticks([-1, -0.8, -0.6, -0.4, -0.2, 0, 0.2, 0.4, 0.6, 0.8, 1])\n",
    "        \n",
    "        print(a)\n",
    "        print(test2.max().max(), test2.min().min(), test2.mean().mean(), test2.quantile(q=1).quantile(q=1))\n",
    "        print('Estimated no. of clusters: %d' % no_clusters)\n",
    "        print('Estimated no. of noise points: %d' % no_noise)\n",
    "        print(clustering)\n",
    "        if len(set(labels))>1:\n",
    "            print('silhouette score:', ss)\n",
    "        #plt.show()\n",
    "        plt.savefig('{a}_fasttext_silhouette.png'.format(a=a))\n",
    "        plt.clf()\n",
    "        print('')"
   ]
  },
  {
   "cell_type": "code",
   "execution_count": 11,
   "id": "b44b4804-75c3-465a-a332-10f8693bf742",
   "metadata": {},
   "outputs": [
    {
     "name": "stdout",
     "output_type": "stream",
     "text": [
      "['numeric', 'number', 'not collected']\n",
      "['cellulose', 'pectin', 'fiber free', 'pea fiber']\n",
      "['16,90', '19,30', '15,20', 'cellulose/pectin', '42,40', '36,40', '52,10', '23,90', '16,80', '37,30', '29,40', '24,70', '11,50', '31,50', '31,60', '20,60', '15,60', '20,20', '14,60', '20,30', '36,10', '26,90', '13,80', '13,20', '41,10', '22,00', '34,10', '27,60', '5,90', '19,50', '55,10', '14,80', '57,60', '73,80', '58,90', '47,40', '48,00', '27,20', '58,10', '23,20', '12,20']\n"
     ]
    }
   ],
   "source": [
    "for x in groupings_dict['fiber_sam']:\n",
    "    print(x)"
   ]
  },
  {
   "cell_type": "code",
   "execution_count": null,
   "id": "05fbe212-b372-4b35-8551-bfd204233a02",
   "metadata": {},
   "outputs": [],
   "source": []
  },
  {
   "cell_type": "code",
   "execution_count": null,
   "id": "9c174efc-e18f-4fc4-ad1b-60850a820552",
   "metadata": {},
   "outputs": [],
   "source": []
  },
  {
   "cell_type": "code",
   "execution_count": null,
   "id": "76f77934-e318-4420-bd74-ce37857b4d42",
   "metadata": {},
   "outputs": [],
   "source": []
  },
  {
   "cell_type": "code",
   "execution_count": null,
   "id": "b5f17ebf-874b-41bb-9d6c-350dd8875e7d",
   "metadata": {},
   "outputs": [],
   "source": []
  },
  {
   "cell_type": "code",
   "execution_count": null,
   "id": "dd0be0cb-20b2-4d96-874b-456881b58149",
   "metadata": {},
   "outputs": [],
   "source": []
  },
  {
   "cell_type": "code",
   "execution_count": 92,
   "id": "484dad8e-f584-400e-be33-d6c79dbac3fd",
   "metadata": {},
   "outputs": [
    {
     "data": {
      "text/plain": [
       "1.0000007"
      ]
     },
     "execution_count": 92,
     "metadata": {},
     "output_type": "execute_result"
    }
   ],
   "source": [
    "test2_np.max()"
   ]
  }
 ],
 "metadata": {
  "kernelspec": {
   "display_name": "Python 3 (ipykernel)",
   "language": "python",
   "name": "python3"
  },
  "language_info": {
   "codemirror_mode": {
    "name": "ipython",
    "version": 3
   },
   "file_extension": ".py",
   "mimetype": "text/x-python",
   "name": "python",
   "nbconvert_exporter": "python",
   "pygments_lexer": "ipython3",
   "version": "3.10.13"
  }
 },
 "nbformat": 4,
 "nbformat_minor": 5
}
