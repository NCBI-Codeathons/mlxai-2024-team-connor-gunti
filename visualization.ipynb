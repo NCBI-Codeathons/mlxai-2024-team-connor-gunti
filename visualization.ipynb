{
 "cells": [
  {
   "cell_type": "code",
   "execution_count": 36,
   "id": "492a552a-268c-4cd6-8492-3752a85fe758",
   "metadata": {},
   "outputs": [],
   "source": [
    "import pickle\n",
    "import pandas as pd\n",
    "import plotly.express as px\n",
    "import seaborn as sns\n",
    "fasttext_vocab = pickle.load(open('./preprocessed/attibute.token-freqs.fasttext.info.pickle', \"rb\"))"
   ]
  },
  {
   "cell_type": "code",
   "execution_count": 46,
   "id": "3fffec6c-56a3-4f91-bef2-2da035484a40",
   "metadata": {},
   "outputs": [
    {
     "name": "stdout",
     "output_type": "stream",
     "text": [
      "df1 42       model                                  field  tokens  uniq_tokens  \\\n",
      "0  fasttext                       bio_material_sam   81947         9616   \n",
      "1  fasttext  biological_material_preprocessing_sam  385063          103   \n",
      "2  fasttext                   collection_label_sam    1826         1484   \n",
      "3  fasttext                           comments_sam   10443          970   \n",
      "4  fasttext                       conductivity_sam    7364           21   \n",
      "\n",
      "   %tokens_found  %uniq_found  \n",
      "0      70.543156     5.886023  \n",
      "1      97.601951    77.669903  \n",
      "2      10.350493     1.886792  \n",
      "3      90.338025    53.608247  \n",
      "4      98.302553    71.428571  \n",
      "df2 84       model                                  field        measure      value\n",
      "0  fasttext                       bio_material_sam  %tokens_found  70.543156\n",
      "1  fasttext                       bio_material_sam    %uniq_found   5.886023\n",
      "2  fasttext  biological_material_preprocessing_sam  %tokens_found  97.601951\n",
      "3  fasttext  biological_material_preprocessing_sam    %uniq_found  77.669903\n",
      "4  fasttext                   collection_label_sam  %tokens_found  10.350493\n"
     ]
    }
   ],
   "source": [
    "vocab_df1 = pd.DataFrame(columns=['model', 'field', 'tokens', 'uniq_tokens', '%tokens_found', '%uniq_found'])\n",
    "vocab_df2 = pd.DataFrame(columns=['model', 'field', 'measure', 'value'])\n",
    "for k, v in fasttext_vocab.items():\n",
    "    i1 = vocab_df1.index.size\n",
    "    i2 = vocab_df2.index.size\n",
    "    field = k\n",
    "    tokens = v['tokens']\n",
    "    uniq = v['uniq']\n",
    "    oovt = v['oov_tokens']\n",
    "    oovu = v['oov_uniq']\n",
    "    pcntid = 100*(tokens-oovt)/tokens\n",
    "    pcntuid = 100*(uniq-oovu)/uniq\n",
    "    vocab_df1.loc[i1] = ['fasttext', field, tokens, uniq, pcntid, pcntuid]\n",
    "    vocab_df2.loc[i2] = ['fasttext', field, '%tokens_found', pcntid]\n",
    "    vocab_df2.loc[i2+1] = ['fasttext', field, '%uniq_found', pcntuid]\n",
    "print('df1', vocab_df1.index.size, vocab_df1.head())\n",
    "print('df2', vocab_df2.index.size, vocab_df2.head())"
   ]
  },
  {
   "cell_type": "code",
   "execution_count": 38,
   "id": "516930c2-007f-4386-adbb-072a20f38cb9",
   "metadata": {},
   "outputs": [],
   "source": [
    "sns.set_theme(context='notebook', style='darkgrid', palette='deep', font='sans-serif', font_scale=1, color_codes=True, rc=None)"
   ]
  },
  {
   "cell_type": "code",
   "execution_count": 48,
   "id": "30b77620-d56e-4c85-a3ff-81bdc0f92769",
   "metadata": {},
   "outputs": [
    {
     "data": {
      "application/vnd.plotly.v1+json": {
       "config": {
        "plotlyServerURL": "https://plot.ly"
       },
       "data": [
        {
         "customdata": [
          [
           "bio_material_sam"
          ],
          [
           "biological_material_preprocessing_sam"
          ],
          [
           "collection_label_sam"
          ],
          [
           "comments_sam"
          ],
          [
           "conductivity_sam"
          ],
          [
           "corrected_species_name_sam"
          ],
          [
           "coverage_sam"
          ],
          [
           "date_of_birth_sam"
          ],
          [
           "derived_from_sam"
          ],
          [
           "description_exp"
          ],
          [
           "description_sam"
          ],
          [
           "descriptor_sam"
          ],
          [
           "details_sam"
          ],
          [
           "diagnostic_pcr_ct_value_1_sam"
          ],
          [
           "dissolved_oxygen_sam"
          ],
          [
           "experimental_factor__rna_interference_exp"
          ],
          [
           "experimental_factor__strain_exp"
          ],
          [
           "extra_info_sam"
          ],
          [
           "fiber_sam"
          ],
          [
           "glucose_sam"
          ],
          [
           "host_exp"
          ],
          [
           "host_scietific_nam_sam"
          ],
          [
           "isolate_run"
          ],
          [
           "isolation_site_sam"
          ],
          [
           "misc_param_sam"
          ],
          [
           "mlst__scheme_sam"
          ],
          [
           "nitrate_sam"
          ],
          [
           "redox_potential_sam"
          ],
          [
           "replicate_group_sam"
          ],
          [
           "sample_comment_sam"
          ],
          [
           "sampling_date_run"
          ],
          [
           "sequence_sam"
          ],
          [
           "single_cell_sam"
          ],
          [
           "specimen_sam"
          ],
          [
           "subsrc_note_sam"
          ],
          [
           "symptom_sam"
          ],
          [
           "taxonomy_species_sam"
          ],
          [
           "time_of_collection_sam"
          ],
          [
           "tretment_sam"
          ],
          [
           "tumor_size_sam"
          ],
          [
           "water_content_sam"
          ],
          [
           "ww_surv_target_1_conc_sam"
          ]
         ],
         "hovertemplate": "model=fasttext<br>%uniq_found=%{x}<br>%tokens_found=%{y}<br>field=%{customdata[0]}<extra></extra>",
         "legendgroup": "fasttext",
         "marker": {
          "color": "#636efa",
          "symbol": "circle"
         },
         "mode": "markers",
         "name": "fasttext",
         "orientation": "v",
         "showlegend": true,
         "type": "scatter",
         "x": [
          5.886023294509151,
          77.66990291262135,
          1.8867924528301887,
          53.608247422680414,
          71.42857142857143,
          91.08910891089108,
          46.42857142857143,
          0.1927710843373494,
          12.480739599383668,
          1.0306686777275011,
          23.203251127317262,
          1.9120458891013383,
          10.98310291858679,
          5.114638447971782,
          8.536585365853659,
          23.60335195530726,
          11.512844909609896,
          96.66666666666667,
          16.3265306122449,
          22.413793103448278,
          71.42857142857143,
          98.43260188087774,
          0.5786779434676163,
          91.05431309904154,
          6.93293142426526,
          9.23076923076923,
          20.973782771535582,
          87.5,
          8.866995073891626,
          46.33191293331798,
          2.8629856850715747,
          5.250596658711217,
          100,
          2.6708788052843193,
          28.764981761334028,
          81.25,
          99.66178128523111,
          1.2632297712529874,
          69.65648854961832,
          4.0201005025125625,
          13.609467455621301,
          10.071942446043165
         ],
         "xaxis": "x",
         "y": [
          70.54315594225535,
          97.60195084960124,
          10.350492880613363,
          90.33802547160778,
          98.30255296034764,
          90.31066695633282,
          99.92415815552634,
          0.8812337272181053,
          70.9090909090909,
          63.12363105378438,
          89.86923797067064,
          61.562084993359896,
          64.16584402764067,
          99.9496248783883,
          91.90821256038647,
          78.30918669739874,
          36.95931901415421,
          99.70172996619607,
          94.08983451536643,
          87.30496453900709,
          99.91067440821796,
          99.07933398628795,
          58.03871152060567,
          94.80340308116809,
          74.28796369193721,
          83.86773547094188,
          95.72141668647492,
          99.97135080933964,
          33.399014778325125,
          88.9758288638438,
          44.213417026284816,
          60.33383915022762,
          100,
          60.545561308920085,
          86.12176738728166,
          87.01635938717216,
          99.86940298507463,
          39.46857222145137,
          89.92968024412896,
          50.828729281767956,
          92.1311980289498,
          99.07790620376129
         ],
         "yaxis": "y"
        }
       ],
       "layout": {
        "autosize": true,
        "legend": {
         "title": {
          "text": "model"
         },
         "tracegroupgap": 0
        },
        "margin": {
         "t": 60
        },
        "template": {
         "data": {
          "bar": [
           {
            "error_x": {
             "color": "#2a3f5f"
            },
            "error_y": {
             "color": "#2a3f5f"
            },
            "marker": {
             "line": {
              "color": "#E5ECF6",
              "width": 0.5
             },
             "pattern": {
              "fillmode": "overlay",
              "size": 10,
              "solidity": 0.2
             }
            },
            "type": "bar"
           }
          ],
          "barpolar": [
           {
            "marker": {
             "line": {
              "color": "#E5ECF6",
              "width": 0.5
             },
             "pattern": {
              "fillmode": "overlay",
              "size": 10,
              "solidity": 0.2
             }
            },
            "type": "barpolar"
           }
          ],
          "carpet": [
           {
            "aaxis": {
             "endlinecolor": "#2a3f5f",
             "gridcolor": "white",
             "linecolor": "white",
             "minorgridcolor": "white",
             "startlinecolor": "#2a3f5f"
            },
            "baxis": {
             "endlinecolor": "#2a3f5f",
             "gridcolor": "white",
             "linecolor": "white",
             "minorgridcolor": "white",
             "startlinecolor": "#2a3f5f"
            },
            "type": "carpet"
           }
          ],
          "choropleth": [
           {
            "colorbar": {
             "outlinewidth": 0,
             "ticks": ""
            },
            "type": "choropleth"
           }
          ],
          "contour": [
           {
            "colorbar": {
             "outlinewidth": 0,
             "ticks": ""
            },
            "colorscale": [
             [
              0,
              "#0d0887"
             ],
             [
              0.1111111111111111,
              "#46039f"
             ],
             [
              0.2222222222222222,
              "#7201a8"
             ],
             [
              0.3333333333333333,
              "#9c179e"
             ],
             [
              0.4444444444444444,
              "#bd3786"
             ],
             [
              0.5555555555555556,
              "#d8576b"
             ],
             [
              0.6666666666666666,
              "#ed7953"
             ],
             [
              0.7777777777777778,
              "#fb9f3a"
             ],
             [
              0.8888888888888888,
              "#fdca26"
             ],
             [
              1,
              "#f0f921"
             ]
            ],
            "type": "contour"
           }
          ],
          "contourcarpet": [
           {
            "colorbar": {
             "outlinewidth": 0,
             "ticks": ""
            },
            "type": "contourcarpet"
           }
          ],
          "heatmap": [
           {
            "colorbar": {
             "outlinewidth": 0,
             "ticks": ""
            },
            "colorscale": [
             [
              0,
              "#0d0887"
             ],
             [
              0.1111111111111111,
              "#46039f"
             ],
             [
              0.2222222222222222,
              "#7201a8"
             ],
             [
              0.3333333333333333,
              "#9c179e"
             ],
             [
              0.4444444444444444,
              "#bd3786"
             ],
             [
              0.5555555555555556,
              "#d8576b"
             ],
             [
              0.6666666666666666,
              "#ed7953"
             ],
             [
              0.7777777777777778,
              "#fb9f3a"
             ],
             [
              0.8888888888888888,
              "#fdca26"
             ],
             [
              1,
              "#f0f921"
             ]
            ],
            "type": "heatmap"
           }
          ],
          "heatmapgl": [
           {
            "colorbar": {
             "outlinewidth": 0,
             "ticks": ""
            },
            "colorscale": [
             [
              0,
              "#0d0887"
             ],
             [
              0.1111111111111111,
              "#46039f"
             ],
             [
              0.2222222222222222,
              "#7201a8"
             ],
             [
              0.3333333333333333,
              "#9c179e"
             ],
             [
              0.4444444444444444,
              "#bd3786"
             ],
             [
              0.5555555555555556,
              "#d8576b"
             ],
             [
              0.6666666666666666,
              "#ed7953"
             ],
             [
              0.7777777777777778,
              "#fb9f3a"
             ],
             [
              0.8888888888888888,
              "#fdca26"
             ],
             [
              1,
              "#f0f921"
             ]
            ],
            "type": "heatmapgl"
           }
          ],
          "histogram": [
           {
            "marker": {
             "pattern": {
              "fillmode": "overlay",
              "size": 10,
              "solidity": 0.2
             }
            },
            "type": "histogram"
           }
          ],
          "histogram2d": [
           {
            "colorbar": {
             "outlinewidth": 0,
             "ticks": ""
            },
            "colorscale": [
             [
              0,
              "#0d0887"
             ],
             [
              0.1111111111111111,
              "#46039f"
             ],
             [
              0.2222222222222222,
              "#7201a8"
             ],
             [
              0.3333333333333333,
              "#9c179e"
             ],
             [
              0.4444444444444444,
              "#bd3786"
             ],
             [
              0.5555555555555556,
              "#d8576b"
             ],
             [
              0.6666666666666666,
              "#ed7953"
             ],
             [
              0.7777777777777778,
              "#fb9f3a"
             ],
             [
              0.8888888888888888,
              "#fdca26"
             ],
             [
              1,
              "#f0f921"
             ]
            ],
            "type": "histogram2d"
           }
          ],
          "histogram2dcontour": [
           {
            "colorbar": {
             "outlinewidth": 0,
             "ticks": ""
            },
            "colorscale": [
             [
              0,
              "#0d0887"
             ],
             [
              0.1111111111111111,
              "#46039f"
             ],
             [
              0.2222222222222222,
              "#7201a8"
             ],
             [
              0.3333333333333333,
              "#9c179e"
             ],
             [
              0.4444444444444444,
              "#bd3786"
             ],
             [
              0.5555555555555556,
              "#d8576b"
             ],
             [
              0.6666666666666666,
              "#ed7953"
             ],
             [
              0.7777777777777778,
              "#fb9f3a"
             ],
             [
              0.8888888888888888,
              "#fdca26"
             ],
             [
              1,
              "#f0f921"
             ]
            ],
            "type": "histogram2dcontour"
           }
          ],
          "mesh3d": [
           {
            "colorbar": {
             "outlinewidth": 0,
             "ticks": ""
            },
            "type": "mesh3d"
           }
          ],
          "parcoords": [
           {
            "line": {
             "colorbar": {
              "outlinewidth": 0,
              "ticks": ""
             }
            },
            "type": "parcoords"
           }
          ],
          "pie": [
           {
            "automargin": true,
            "type": "pie"
           }
          ],
          "scatter": [
           {
            "fillpattern": {
             "fillmode": "overlay",
             "size": 10,
             "solidity": 0.2
            },
            "type": "scatter"
           }
          ],
          "scatter3d": [
           {
            "line": {
             "colorbar": {
              "outlinewidth": 0,
              "ticks": ""
             }
            },
            "marker": {
             "colorbar": {
              "outlinewidth": 0,
              "ticks": ""
             }
            },
            "type": "scatter3d"
           }
          ],
          "scattercarpet": [
           {
            "marker": {
             "colorbar": {
              "outlinewidth": 0,
              "ticks": ""
             }
            },
            "type": "scattercarpet"
           }
          ],
          "scattergeo": [
           {
            "marker": {
             "colorbar": {
              "outlinewidth": 0,
              "ticks": ""
             }
            },
            "type": "scattergeo"
           }
          ],
          "scattergl": [
           {
            "marker": {
             "colorbar": {
              "outlinewidth": 0,
              "ticks": ""
             }
            },
            "type": "scattergl"
           }
          ],
          "scattermapbox": [
           {
            "marker": {
             "colorbar": {
              "outlinewidth": 0,
              "ticks": ""
             }
            },
            "type": "scattermapbox"
           }
          ],
          "scatterpolar": [
           {
            "marker": {
             "colorbar": {
              "outlinewidth": 0,
              "ticks": ""
             }
            },
            "type": "scatterpolar"
           }
          ],
          "scatterpolargl": [
           {
            "marker": {
             "colorbar": {
              "outlinewidth": 0,
              "ticks": ""
             }
            },
            "type": "scatterpolargl"
           }
          ],
          "scatterternary": [
           {
            "marker": {
             "colorbar": {
              "outlinewidth": 0,
              "ticks": ""
             }
            },
            "type": "scatterternary"
           }
          ],
          "surface": [
           {
            "colorbar": {
             "outlinewidth": 0,
             "ticks": ""
            },
            "colorscale": [
             [
              0,
              "#0d0887"
             ],
             [
              0.1111111111111111,
              "#46039f"
             ],
             [
              0.2222222222222222,
              "#7201a8"
             ],
             [
              0.3333333333333333,
              "#9c179e"
             ],
             [
              0.4444444444444444,
              "#bd3786"
             ],
             [
              0.5555555555555556,
              "#d8576b"
             ],
             [
              0.6666666666666666,
              "#ed7953"
             ],
             [
              0.7777777777777778,
              "#fb9f3a"
             ],
             [
              0.8888888888888888,
              "#fdca26"
             ],
             [
              1,
              "#f0f921"
             ]
            ],
            "type": "surface"
           }
          ],
          "table": [
           {
            "cells": {
             "fill": {
              "color": "#EBF0F8"
             },
             "line": {
              "color": "white"
             }
            },
            "header": {
             "fill": {
              "color": "#C8D4E3"
             },
             "line": {
              "color": "white"
             }
            },
            "type": "table"
           }
          ]
         },
         "layout": {
          "annotationdefaults": {
           "arrowcolor": "#2a3f5f",
           "arrowhead": 0,
           "arrowwidth": 1
          },
          "autotypenumbers": "strict",
          "coloraxis": {
           "colorbar": {
            "outlinewidth": 0,
            "ticks": ""
           }
          },
          "colorscale": {
           "diverging": [
            [
             0,
             "#8e0152"
            ],
            [
             0.1,
             "#c51b7d"
            ],
            [
             0.2,
             "#de77ae"
            ],
            [
             0.3,
             "#f1b6da"
            ],
            [
             0.4,
             "#fde0ef"
            ],
            [
             0.5,
             "#f7f7f7"
            ],
            [
             0.6,
             "#e6f5d0"
            ],
            [
             0.7,
             "#b8e186"
            ],
            [
             0.8,
             "#7fbc41"
            ],
            [
             0.9,
             "#4d9221"
            ],
            [
             1,
             "#276419"
            ]
           ],
           "sequential": [
            [
             0,
             "#0d0887"
            ],
            [
             0.1111111111111111,
             "#46039f"
            ],
            [
             0.2222222222222222,
             "#7201a8"
            ],
            [
             0.3333333333333333,
             "#9c179e"
            ],
            [
             0.4444444444444444,
             "#bd3786"
            ],
            [
             0.5555555555555556,
             "#d8576b"
            ],
            [
             0.6666666666666666,
             "#ed7953"
            ],
            [
             0.7777777777777778,
             "#fb9f3a"
            ],
            [
             0.8888888888888888,
             "#fdca26"
            ],
            [
             1,
             "#f0f921"
            ]
           ],
           "sequentialminus": [
            [
             0,
             "#0d0887"
            ],
            [
             0.1111111111111111,
             "#46039f"
            ],
            [
             0.2222222222222222,
             "#7201a8"
            ],
            [
             0.3333333333333333,
             "#9c179e"
            ],
            [
             0.4444444444444444,
             "#bd3786"
            ],
            [
             0.5555555555555556,
             "#d8576b"
            ],
            [
             0.6666666666666666,
             "#ed7953"
            ],
            [
             0.7777777777777778,
             "#fb9f3a"
            ],
            [
             0.8888888888888888,
             "#fdca26"
            ],
            [
             1,
             "#f0f921"
            ]
           ]
          },
          "colorway": [
           "#636efa",
           "#EF553B",
           "#00cc96",
           "#ab63fa",
           "#FFA15A",
           "#19d3f3",
           "#FF6692",
           "#B6E880",
           "#FF97FF",
           "#FECB52"
          ],
          "font": {
           "color": "#2a3f5f"
          },
          "geo": {
           "bgcolor": "white",
           "lakecolor": "white",
           "landcolor": "#E5ECF6",
           "showlakes": true,
           "showland": true,
           "subunitcolor": "white"
          },
          "hoverlabel": {
           "align": "left"
          },
          "hovermode": "closest",
          "mapbox": {
           "style": "light"
          },
          "paper_bgcolor": "white",
          "plot_bgcolor": "#E5ECF6",
          "polar": {
           "angularaxis": {
            "gridcolor": "white",
            "linecolor": "white",
            "ticks": ""
           },
           "bgcolor": "#E5ECF6",
           "radialaxis": {
            "gridcolor": "white",
            "linecolor": "white",
            "ticks": ""
           }
          },
          "scene": {
           "xaxis": {
            "backgroundcolor": "#E5ECF6",
            "gridcolor": "white",
            "gridwidth": 2,
            "linecolor": "white",
            "showbackground": true,
            "ticks": "",
            "zerolinecolor": "white"
           },
           "yaxis": {
            "backgroundcolor": "#E5ECF6",
            "gridcolor": "white",
            "gridwidth": 2,
            "linecolor": "white",
            "showbackground": true,
            "ticks": "",
            "zerolinecolor": "white"
           },
           "zaxis": {
            "backgroundcolor": "#E5ECF6",
            "gridcolor": "white",
            "gridwidth": 2,
            "linecolor": "white",
            "showbackground": true,
            "ticks": "",
            "zerolinecolor": "white"
           }
          },
          "shapedefaults": {
           "line": {
            "color": "#2a3f5f"
           }
          },
          "ternary": {
           "aaxis": {
            "gridcolor": "white",
            "linecolor": "white",
            "ticks": ""
           },
           "baxis": {
            "gridcolor": "white",
            "linecolor": "white",
            "ticks": ""
           },
           "bgcolor": "#E5ECF6",
           "caxis": {
            "gridcolor": "white",
            "linecolor": "white",
            "ticks": ""
           }
          },
          "title": {
           "x": 0.05
          },
          "xaxis": {
           "automargin": true,
           "gridcolor": "white",
           "linecolor": "white",
           "ticks": "",
           "title": {
            "standoff": 15
           },
           "zerolinecolor": "white",
           "zerolinewidth": 2
          },
          "yaxis": {
           "automargin": true,
           "gridcolor": "white",
           "linecolor": "white",
           "ticks": "",
           "title": {
            "standoff": 15
           },
           "zerolinecolor": "white",
           "zerolinewidth": 2
          }
         }
        },
        "xaxis": {
         "anchor": "y",
         "autorange": true,
         "domain": [
          0,
          1
         ],
         "range": [
          -5.669721967613811,
          105.86249305195116
         ],
         "title": {
          "text": "%uniq_found"
         },
         "type": "linear"
        },
        "yaxis": {
         "anchor": "x",
         "autorange": true,
         "domain": [
          0,
          1
         ],
         "range": [
          -6.793316417262383,
          107.67455014448049
         ],
         "title": {
          "text": "%tokens_found"
         },
         "type": "linear"
        }
       }
      },
      "image/png": "[encoded data removed]",
      "text/html": [
       "<div>                            <div id=\"baed3520-116f-4b84-8705-21ba3b65c44c\" class=\"plotly-graph-div\" style=\"height:525px; width:100%;\"></div>            <script type=\"text/javascript\">                require([\"plotly\"], function(Plotly) {                    window.PLOTLYENV=window.PLOTLYENV || {};                                    if (document.getElementById(\"baed3520-116f-4b84-8705-21ba3b65c44c\")) {                    Plotly.newPlot(                        \"baed3520-116f-4b84-8705-21ba3b65c44c\",                        [{\"customdata\":[[\"bio_material_sam\"],[\"biological_material_preprocessing_sam\"],[\"collection_label_sam\"],[\"comments_sam\"],[\"conductivity_sam\"],[\"corrected_species_name_sam\"],[\"coverage_sam\"],[\"date_of_birth_sam\"],[\"derived_from_sam\"],[\"description_exp\"],[\"description_sam\"],[\"descriptor_sam\"],[\"details_sam\"],[\"diagnostic_pcr_ct_value_1_sam\"],[\"dissolved_oxygen_sam\"],[\"experimental_factor__rna_interference_exp\"],[\"experimental_factor__strain_exp\"],[\"extra_info_sam\"],[\"fiber_sam\"],[\"glucose_sam\"],[\"host_exp\"],[\"host_scietific_nam_sam\"],[\"isolate_run\"],[\"isolation_site_sam\"],[\"misc_param_sam\"],[\"mlst__scheme_sam\"],[\"nitrate_sam\"],[\"redox_potential_sam\"],[\"replicate_group_sam\"],[\"sample_comment_sam\"],[\"sampling_date_run\"],[\"sequence_sam\"],[\"single_cell_sam\"],[\"specimen_sam\"],[\"subsrc_note_sam\"],[\"symptom_sam\"],[\"taxonomy_species_sam\"],[\"time_of_collection_sam\"],[\"tretment_sam\"],[\"tumor_size_sam\"],[\"water_content_sam\"],[\"ww_surv_target_1_conc_sam\"]],\"hovertemplate\":\"model=fasttext\\u003cbr\\u003e%uniq_found=%{x}\\u003cbr\\u003e%tokens_found=%{y}\\u003cbr\\u003efield=%{customdata[0]}\\u003cextra\\u003e\\u003c\\u002fextra\\u003e\",\"legendgroup\":\"fasttext\",\"marker\":{\"color\":\"#636efa\",\"symbol\":\"circle\"},\"mode\":\"markers\",\"name\":\"fasttext\",\"orientation\":\"v\",\"showlegend\":true,\"x\":[5.886023294509151,77.66990291262135,1.8867924528301887,53.608247422680414,71.42857142857143,91.08910891089108,46.42857142857143,0.1927710843373494,12.480739599383668,1.0306686777275011,23.203251127317262,1.9120458891013383,10.98310291858679,5.114638447971782,8.536585365853659,23.60335195530726,11.512844909609896,96.66666666666667,16.3265306122449,22.413793103448278,71.42857142857143,98.43260188087774,0.5786779434676163,91.05431309904154,6.93293142426526,9.23076923076923,20.973782771535582,87.5,8.866995073891626,46.33191293331798,2.8629856850715747,5.250596658711217,100.0,2.6708788052843193,28.764981761334028,81.25,99.66178128523111,1.2632297712529874,69.65648854961832,4.0201005025125625,13.609467455621301,10.071942446043165],\"xaxis\":\"x\",\"y\":[70.54315594225535,97.60195084960124,10.350492880613363,90.33802547160778,98.30255296034764,90.31066695633282,99.92415815552634,0.8812337272181053,70.9090909090909,63.12363105378438,89.86923797067064,61.562084993359896,64.16584402764067,99.9496248783883,91.90821256038647,78.30918669739874,36.95931901415421,99.70172996619607,94.08983451536643,87.30496453900709,99.91067440821796,99.07933398628795,58.03871152060567,94.80340308116809,74.28796369193721,83.86773547094188,95.72141668647492,99.97135080933964,33.399014778325125,88.9758288638438,44.213417026284816,60.33383915022762,100.0,60.545561308920085,86.12176738728166,87.01635938717216,99.86940298507463,39.46857222145137,89.92968024412896,50.828729281767956,92.1311980289498,99.07790620376129],\"yaxis\":\"y\",\"type\":\"scatter\"}],                        {\"template\":{\"data\":{\"histogram2dcontour\":[{\"type\":\"histogram2dcontour\",\"colorbar\":{\"outlinewidth\":0,\"ticks\":\"\"},\"colorscale\":[[0.0,\"#0d0887\"],[0.1111111111111111,\"#46039f\"],[0.2222222222222222,\"#7201a8\"],[0.3333333333333333,\"#9c179e\"],[0.4444444444444444,\"#bd3786\"],[0.5555555555555556,\"#d8576b\"],[0.6666666666666666,\"#ed7953\"],[0.7777777777777778,\"#fb9f3a\"],[0.8888888888888888,\"#fdca26\"],[1.0,\"#f0f921\"]]}],\"choropleth\":[{\"type\":\"choropleth\",\"colorbar\":{\"outlinewidth\":0,\"ticks\":\"\"}}],\"histogram2d\":[{\"type\":\"histogram2d\",\"colorbar\":{\"outlinewidth\":0,\"ticks\":\"\"},\"colorscale\":[[0.0,\"#0d0887\"],[0.1111111111111111,\"#46039f\"],[0.2222222222222222,\"#7201a8\"],[0.3333333333333333,\"#9c179e\"],[0.4444444444444444,\"#bd3786\"],[0.5555555555555556,\"#d8576b\"],[0.6666666666666666,\"#ed7953\"],[0.7777777777777778,\"#fb9f3a\"],[0.8888888888888888,\"#fdca26\"],[1.0,\"#f0f921\"]]}],\"heatmap\":[{\"type\":\"heatmap\",\"colorbar\":{\"outlinewidth\":0,\"ticks\":\"\"},\"colorscale\":[[0.0,\"#0d0887\"],[0.1111111111111111,\"#46039f\"],[0.2222222222222222,\"#7201a8\"],[0.3333333333333333,\"#9c179e\"],[0.4444444444444444,\"#bd3786\"],[0.5555555555555556,\"#d8576b\"],[0.6666666666666666,\"#ed7953\"],[0.7777777777777778,\"#fb9f3a\"],[0.8888888888888888,\"#fdca26\"],[1.0,\"#f0f921\"]]}],\"heatmapgl\":[{\"type\":\"heatmapgl\",\"colorbar\":{\"outlinewidth\":0,\"ticks\":\"\"},\"colorscale\":[[0.0,\"#0d0887\"],[0.1111111111111111,\"#46039f\"],[0.2222222222222222,\"#7201a8\"],[0.3333333333333333,\"#9c179e\"],[0.4444444444444444,\"#bd3786\"],[0.5555555555555556,\"#d8576b\"],[0.6666666666666666,\"#ed7953\"],[0.7777777777777778,\"#fb9f3a\"],[0.8888888888888888,\"#fdca26\"],[1.0,\"#f0f921\"]]}],\"contourcarpet\":[{\"type\":\"contourcarpet\",\"colorbar\":{\"outlinewidth\":0,\"ticks\":\"\"}}],\"contour\":[{\"type\":\"contour\",\"colorbar\":{\"outlinewidth\":0,\"ticks\":\"\"},\"colorscale\":[[0.0,\"#0d0887\"],[0.1111111111111111,\"#46039f\"],[0.2222222222222222,\"#7201a8\"],[0.3333333333333333,\"#9c179e\"],[0.4444444444444444,\"#bd3786\"],[0.5555555555555556,\"#d8576b\"],[0.6666666666666666,\"#ed7953\"],[0.7777777777777778,\"#fb9f3a\"],[0.8888888888888888,\"#fdca26\"],[1.0,\"#f0f921\"]]}],\"surface\":[{\"type\":\"surface\",\"colorbar\":{\"outlinewidth\":0,\"ticks\":\"\"},\"colorscale\":[[0.0,\"#0d0887\"],[0.1111111111111111,\"#46039f\"],[0.2222222222222222,\"#7201a8\"],[0.3333333333333333,\"#9c179e\"],[0.4444444444444444,\"#bd3786\"],[0.5555555555555556,\"#d8576b\"],[0.6666666666666666,\"#ed7953\"],[0.7777777777777778,\"#fb9f3a\"],[0.8888888888888888,\"#fdca26\"],[1.0,\"#f0f921\"]]}],\"mesh3d\":[{\"type\":\"mesh3d\",\"colorbar\":{\"outlinewidth\":0,\"ticks\":\"\"}}],\"scatter\":[{\"fillpattern\":{\"fillmode\":\"overlay\",\"size\":10,\"solidity\":0.2},\"type\":\"scatter\"}],\"parcoords\":[{\"type\":\"parcoords\",\"line\":{\"colorbar\":{\"outlinewidth\":0,\"ticks\":\"\"}}}],\"scatterpolargl\":[{\"type\":\"scatterpolargl\",\"marker\":{\"colorbar\":{\"outlinewidth\":0,\"ticks\":\"\"}}}],\"bar\":[{\"error_x\":{\"color\":\"#2a3f5f\"},\"error_y\":{\"color\":\"#2a3f5f\"},\"marker\":{\"line\":{\"color\":\"#E5ECF6\",\"width\":0.5},\"pattern\":{\"fillmode\":\"overlay\",\"size\":10,\"solidity\":0.2}},\"type\":\"bar\"}],\"scattergeo\":[{\"type\":\"scattergeo\",\"marker\":{\"colorbar\":{\"outlinewidth\":0,\"ticks\":\"\"}}}],\"scatterpolar\":[{\"type\":\"scatterpolar\",\"marker\":{\"colorbar\":{\"outlinewidth\":0,\"ticks\":\"\"}}}],\"histogram\":[{\"marker\":{\"pattern\":{\"fillmode\":\"overlay\",\"size\":10,\"solidity\":0.2}},\"type\":\"histogram\"}],\"scattergl\":[{\"type\":\"scattergl\",\"marker\":{\"colorbar\":{\"outlinewidth\":0,\"ticks\":\"\"}}}],\"scatter3d\":[{\"type\":\"scatter3d\",\"line\":{\"colorbar\":{\"outlinewidth\":0,\"ticks\":\"\"}},\"marker\":{\"colorbar\":{\"outlinewidth\":0,\"ticks\":\"\"}}}],\"scattermapbox\":[{\"type\":\"scattermapbox\",\"marker\":{\"colorbar\":{\"outlinewidth\":0,\"ticks\":\"\"}}}],\"scatterternary\":[{\"type\":\"scatterternary\",\"marker\":{\"colorbar\":{\"outlinewidth\":0,\"ticks\":\"\"}}}],\"scattercarpet\":[{\"type\":\"scattercarpet\",\"marker\":{\"colorbar\":{\"outlinewidth\":0,\"ticks\":\"\"}}}],\"carpet\":[{\"aaxis\":{\"endlinecolor\":\"#2a3f5f\",\"gridcolor\":\"white\",\"linecolor\":\"white\",\"minorgridcolor\":\"white\",\"startlinecolor\":\"#2a3f5f\"},\"baxis\":{\"endlinecolor\":\"#2a3f5f\",\"gridcolor\":\"white\",\"linecolor\":\"white\",\"minorgridcolor\":\"white\",\"startlinecolor\":\"#2a3f5f\"},\"type\":\"carpet\"}],\"table\":[{\"cells\":{\"fill\":{\"color\":\"#EBF0F8\"},\"line\":{\"color\":\"white\"}},\"header\":{\"fill\":{\"color\":\"#C8D4E3\"},\"line\":{\"color\":\"white\"}},\"type\":\"table\"}],\"barpolar\":[{\"marker\":{\"line\":{\"color\":\"#E5ECF6\",\"width\":0.5},\"pattern\":{\"fillmode\":\"overlay\",\"size\":10,\"solidity\":0.2}},\"type\":\"barpolar\"}],\"pie\":[{\"automargin\":true,\"type\":\"pie\"}]},\"layout\":{\"autotypenumbers\":\"strict\",\"colorway\":[\"#636efa\",\"#EF553B\",\"#00cc96\",\"#ab63fa\",\"#FFA15A\",\"#19d3f3\",\"#FF6692\",\"#B6E880\",\"#FF97FF\",\"#FECB52\"],\"font\":{\"color\":\"#2a3f5f\"},\"hovermode\":\"closest\",\"hoverlabel\":{\"align\":\"left\"},\"paper_bgcolor\":\"white\",\"plot_bgcolor\":\"#E5ECF6\",\"polar\":{\"bgcolor\":\"#E5ECF6\",\"angularaxis\":{\"gridcolor\":\"white\",\"linecolor\":\"white\",\"ticks\":\"\"},\"radialaxis\":{\"gridcolor\":\"white\",\"linecolor\":\"white\",\"ticks\":\"\"}},\"ternary\":{\"bgcolor\":\"#E5ECF6\",\"aaxis\":{\"gridcolor\":\"white\",\"linecolor\":\"white\",\"ticks\":\"\"},\"baxis\":{\"gridcolor\":\"white\",\"linecolor\":\"white\",\"ticks\":\"\"},\"caxis\":{\"gridcolor\":\"white\",\"linecolor\":\"white\",\"ticks\":\"\"}},\"coloraxis\":{\"colorbar\":{\"outlinewidth\":0,\"ticks\":\"\"}},\"colorscale\":{\"sequential\":[[0.0,\"#0d0887\"],[0.1111111111111111,\"#46039f\"],[0.2222222222222222,\"#7201a8\"],[0.3333333333333333,\"#9c179e\"],[0.4444444444444444,\"#bd3786\"],[0.5555555555555556,\"#d8576b\"],[0.6666666666666666,\"#ed7953\"],[0.7777777777777778,\"#fb9f3a\"],[0.8888888888888888,\"#fdca26\"],[1.0,\"#f0f921\"]],\"sequentialminus\":[[0.0,\"#0d0887\"],[0.1111111111111111,\"#46039f\"],[0.2222222222222222,\"#7201a8\"],[0.3333333333333333,\"#9c179e\"],[0.4444444444444444,\"#bd3786\"],[0.5555555555555556,\"#d8576b\"],[0.6666666666666666,\"#ed7953\"],[0.7777777777777778,\"#fb9f3a\"],[0.8888888888888888,\"#fdca26\"],[1.0,\"#f0f921\"]],\"diverging\":[[0,\"#8e0152\"],[0.1,\"#c51b7d\"],[0.2,\"#de77ae\"],[0.3,\"#f1b6da\"],[0.4,\"#fde0ef\"],[0.5,\"#f7f7f7\"],[0.6,\"#e6f5d0\"],[0.7,\"#b8e186\"],[0.8,\"#7fbc41\"],[0.9,\"#4d9221\"],[1,\"#276419\"]]},\"xaxis\":{\"gridcolor\":\"white\",\"linecolor\":\"white\",\"ticks\":\"\",\"title\":{\"standoff\":15},\"zerolinecolor\":\"white\",\"automargin\":true,\"zerolinewidth\":2},\"yaxis\":{\"gridcolor\":\"white\",\"linecolor\":\"white\",\"ticks\":\"\",\"title\":{\"standoff\":15},\"zerolinecolor\":\"white\",\"automargin\":true,\"zerolinewidth\":2},\"scene\":{\"xaxis\":{\"backgroundcolor\":\"#E5ECF6\",\"gridcolor\":\"white\",\"linecolor\":\"white\",\"showbackground\":true,\"ticks\":\"\",\"zerolinecolor\":\"white\",\"gridwidth\":2},\"yaxis\":{\"backgroundcolor\":\"#E5ECF6\",\"gridcolor\":\"white\",\"linecolor\":\"white\",\"showbackground\":true,\"ticks\":\"\",\"zerolinecolor\":\"white\",\"gridwidth\":2},\"zaxis\":{\"backgroundcolor\":\"#E5ECF6\",\"gridcolor\":\"white\",\"linecolor\":\"white\",\"showbackground\":true,\"ticks\":\"\",\"zerolinecolor\":\"white\",\"gridwidth\":2}},\"shapedefaults\":{\"line\":{\"color\":\"#2a3f5f\"}},\"annotationdefaults\":{\"arrowcolor\":\"#2a3f5f\",\"arrowhead\":0,\"arrowwidth\":1},\"geo\":{\"bgcolor\":\"white\",\"landcolor\":\"#E5ECF6\",\"subunitcolor\":\"white\",\"showland\":true,\"showlakes\":true,\"lakecolor\":\"white\"},\"title\":{\"x\":0.05},\"mapbox\":{\"style\":\"light\"}}},\"xaxis\":{\"anchor\":\"y\",\"domain\":[0.0,1.0],\"title\":{\"text\":\"%uniq_found\"}},\"yaxis\":{\"anchor\":\"x\",\"domain\":[0.0,1.0],\"title\":{\"text\":\"%tokens_found\"}},\"legend\":{\"title\":{\"text\":\"model\"},\"tracegroupgap\":0},\"margin\":{\"t\":60}},                        {\"responsive\": true}                    ).then(function(){\n",
       "                            \n",
       "var gd = document.getElementById('baed3520-116f-4b84-8705-21ba3b65c44c');\n",
       "var x = new MutationObserver(function (mutations, observer) {{\n",
       "        var display = window.getComputedStyle(gd).display;\n",
       "        if (!display || display === 'none') {{\n",
       "            console.log([gd, 'removed!']);\n",
       "            Plotly.purge(gd);\n",
       "            observer.disconnect();\n",
       "        }}\n",
       "}});\n",
       "\n",
       "// Listen for the removal of the full notebook cells\n",
       "var notebookContainer = gd.closest('#notebook-container');\n",
       "if (notebookContainer) {{\n",
       "    x.observe(notebookContainer, {childList: true});\n",
       "}}\n",
       "\n",
       "// Listen for the clearing of the current output cell\n",
       "var outputEl = gd.closest('.output');\n",
       "if (outputEl) {{\n",
       "    x.observe(outputEl, {childList: true});\n",
       "}}\n",
       "\n",
       "                        })                };                });            </script>        </div>"
      ]
     },
     "metadata": {},
     "output_type": "display_data"
    }
   ],
   "source": [
    "fig = px.scatter(vocab_df1, x='%uniq_found', y='%tokens_found', color='model', hover_data=['field', '%tokens_found', '%uniq_found'])\n",
    "fig.show()"
   ]
  },
  {
   "cell_type": "code",
   "execution_count": 47,
   "id": "29736faa-18ba-4571-8b3f-f89ecfb78161",
   "metadata": {
    "scrolled": true
   },
   "outputs": [
    {
     "data": {
      "application/vnd.plotly.v1+json": {
       "config": {
        "plotlyServerURL": "https://plot.ly"
       },
       "data": [
        {
         "alignmentgroup": "True",
         "box": {
          "visible": true
         },
         "customdata": [
          [
           "bio_material_sam",
           "%tokens_found"
          ],
          [
           "biological_material_preprocessing_sam",
           "%tokens_found"
          ],
          [
           "collection_label_sam",
           "%tokens_found"
          ],
          [
           "comments_sam",
           "%tokens_found"
          ],
          [
           "conductivity_sam",
           "%tokens_found"
          ],
          [
           "corrected_species_name_sam",
           "%tokens_found"
          ],
          [
           "coverage_sam",
           "%tokens_found"
          ],
          [
           "date_of_birth_sam",
           "%tokens_found"
          ],
          [
           "derived_from_sam",
           "%tokens_found"
          ],
          [
           "description_exp",
           "%tokens_found"
          ],
          [
           "description_sam",
           "%tokens_found"
          ],
          [
           "descriptor_sam",
           "%tokens_found"
          ],
          [
           "details_sam",
           "%tokens_found"
          ],
          [
           "diagnostic_pcr_ct_value_1_sam",
           "%tokens_found"
          ],
          [
           "dissolved_oxygen_sam",
           "%tokens_found"
          ],
          [
           "experimental_factor__rna_interference_exp",
           "%tokens_found"
          ],
          [
           "experimental_factor__strain_exp",
           "%tokens_found"
          ],
          [
           "extra_info_sam",
           "%tokens_found"
          ],
          [
           "fiber_sam",
           "%tokens_found"
          ],
          [
           "glucose_sam",
           "%tokens_found"
          ],
          [
           "host_exp",
           "%tokens_found"
          ],
          [
           "host_scietific_nam_sam",
           "%tokens_found"
          ],
          [
           "isolate_run",
           "%tokens_found"
          ],
          [
           "isolation_site_sam",
           "%tokens_found"
          ],
          [
           "misc_param_sam",
           "%tokens_found"
          ],
          [
           "mlst__scheme_sam",
           "%tokens_found"
          ],
          [
           "nitrate_sam",
           "%tokens_found"
          ],
          [
           "redox_potential_sam",
           "%tokens_found"
          ],
          [
           "replicate_group_sam",
           "%tokens_found"
          ],
          [
           "sample_comment_sam",
           "%tokens_found"
          ],
          [
           "sampling_date_run",
           "%tokens_found"
          ],
          [
           "sequence_sam",
           "%tokens_found"
          ],
          [
           "single_cell_sam",
           "%tokens_found"
          ],
          [
           "specimen_sam",
           "%tokens_found"
          ],
          [
           "subsrc_note_sam",
           "%tokens_found"
          ],
          [
           "symptom_sam",
           "%tokens_found"
          ],
          [
           "taxonomy_species_sam",
           "%tokens_found"
          ],
          [
           "time_of_collection_sam",
           "%tokens_found"
          ],
          [
           "tretment_sam",
           "%tokens_found"
          ],
          [
           "tumor_size_sam",
           "%tokens_found"
          ],
          [
           "water_content_sam",
           "%tokens_found"
          ],
          [
           "ww_surv_target_1_conc_sam",
           "%tokens_found"
          ]
         ],
         "hovertemplate": "measure=%{customdata[1]}<br>model=%{x}<br>value=%{y}<br>field=%{customdata[0]}<extra></extra>",
         "legendgroup": "%tokens_found",
         "marker": {
          "color": "#636efa"
         },
         "name": "%tokens_found",
         "offsetgroup": "%tokens_found",
         "orientation": "v",
         "points": "all",
         "scalegroup": "True",
         "showlegend": true,
         "type": "violin",
         "x": [
          "fasttext",
          "fasttext",
          "fasttext",
          "fasttext",
          "fasttext",
          "fasttext",
          "fasttext",
          "fasttext",
          "fasttext",
          "fasttext",
          "fasttext",
          "fasttext",
          "fasttext",
          "fasttext",
          "fasttext",
          "fasttext",
          "fasttext",
          "fasttext",
          "fasttext",
          "fasttext",
          "fasttext",
          "fasttext",
          "fasttext",
          "fasttext",
          "fasttext",
          "fasttext",
          "fasttext",
          "fasttext",
          "fasttext",
          "fasttext",
          "fasttext",
          "fasttext",
          "fasttext",
          "fasttext",
          "fasttext",
          "fasttext",
          "fasttext",
          "fasttext",
          "fasttext",
          "fasttext",
          "fasttext",
          "fasttext"
         ],
         "x0": " ",
         "xaxis": "x",
         "y": [
          70.54315594225535,
          97.60195084960124,
          10.350492880613363,
          90.33802547160778,
          98.30255296034764,
          90.31066695633282,
          99.92415815552634,
          0.8812337272181053,
          70.9090909090909,
          63.12363105378438,
          89.86923797067064,
          61.562084993359896,
          64.16584402764067,
          99.9496248783883,
          91.90821256038647,
          78.30918669739874,
          36.95931901415421,
          99.70172996619607,
          94.08983451536643,
          87.30496453900709,
          99.91067440821796,
          99.07933398628795,
          58.03871152060567,
          94.80340308116809,
          74.28796369193721,
          83.86773547094188,
          95.72141668647492,
          99.97135080933964,
          33.399014778325125,
          88.9758288638438,
          44.213417026284816,
          60.33383915022762,
          100,
          60.545561308920085,
          86.12176738728166,
          87.01635938717216,
          99.86940298507463,
          39.46857222145137,
          89.92968024412896,
          50.828729281767956,
          92.1311980289498,
          99.07790620376129
         ],
         "y0": " ",
         "yaxis": "y"
        },
        {
         "alignmentgroup": "True",
         "box": {
          "visible": true
         },
         "customdata": [
          [
           "bio_material_sam",
           "%uniq_found"
          ],
          [
           "biological_material_preprocessing_sam",
           "%uniq_found"
          ],
          [
           "collection_label_sam",
           "%uniq_found"
          ],
          [
           "comments_sam",
           "%uniq_found"
          ],
          [
           "conductivity_sam",
           "%uniq_found"
          ],
          [
           "corrected_species_name_sam",
           "%uniq_found"
          ],
          [
           "coverage_sam",
           "%uniq_found"
          ],
          [
           "date_of_birth_sam",
           "%uniq_found"
          ],
          [
           "derived_from_sam",
           "%uniq_found"
          ],
          [
           "description_exp",
           "%uniq_found"
          ],
          [
           "description_sam",
           "%uniq_found"
          ],
          [
           "descriptor_sam",
           "%uniq_found"
          ],
          [
           "details_sam",
           "%uniq_found"
          ],
          [
           "diagnostic_pcr_ct_value_1_sam",
           "%uniq_found"
          ],
          [
           "dissolved_oxygen_sam",
           "%uniq_found"
          ],
          [
           "experimental_factor__rna_interference_exp",
           "%uniq_found"
          ],
          [
           "experimental_factor__strain_exp",
           "%uniq_found"
          ],
          [
           "extra_info_sam",
           "%uniq_found"
          ],
          [
           "fiber_sam",
           "%uniq_found"
          ],
          [
           "glucose_sam",
           "%uniq_found"
          ],
          [
           "host_exp",
           "%uniq_found"
          ],
          [
           "host_scietific_nam_sam",
           "%uniq_found"
          ],
          [
           "isolate_run",
           "%uniq_found"
          ],
          [
           "isolation_site_sam",
           "%uniq_found"
          ],
          [
           "misc_param_sam",
           "%uniq_found"
          ],
          [
           "mlst__scheme_sam",
           "%uniq_found"
          ],
          [
           "nitrate_sam",
           "%uniq_found"
          ],
          [
           "redox_potential_sam",
           "%uniq_found"
          ],
          [
           "replicate_group_sam",
           "%uniq_found"
          ],
          [
           "sample_comment_sam",
           "%uniq_found"
          ],
          [
           "sampling_date_run",
           "%uniq_found"
          ],
          [
           "sequence_sam",
           "%uniq_found"
          ],
          [
           "single_cell_sam",
           "%uniq_found"
          ],
          [
           "specimen_sam",
           "%uniq_found"
          ],
          [
           "subsrc_note_sam",
           "%uniq_found"
          ],
          [
           "symptom_sam",
           "%uniq_found"
          ],
          [
           "taxonomy_species_sam",
           "%uniq_found"
          ],
          [
           "time_of_collection_sam",
           "%uniq_found"
          ],
          [
           "tretment_sam",
           "%uniq_found"
          ],
          [
           "tumor_size_sam",
           "%uniq_found"
          ],
          [
           "water_content_sam",
           "%uniq_found"
          ],
          [
           "ww_surv_target_1_conc_sam",
           "%uniq_found"
          ]
         ],
         "hovertemplate": "measure=%{customdata[1]}<br>model=%{x}<br>value=%{y}<br>field=%{customdata[0]}<extra></extra>",
         "legendgroup": "%uniq_found",
         "marker": {
          "color": "#EF553B"
         },
         "name": "%uniq_found",
         "offsetgroup": "%uniq_found",
         "orientation": "v",
         "points": "all",
         "scalegroup": "True",
         "showlegend": true,
         "type": "violin",
         "x": [
          "fasttext",
          "fasttext",
          "fasttext",
          "fasttext",
          "fasttext",
          "fasttext",
          "fasttext",
          "fasttext",
          "fasttext",
          "fasttext",
          "fasttext",
          "fasttext",
          "fasttext",
          "fasttext",
          "fasttext",
          "fasttext",
          "fasttext",
          "fasttext",
          "fasttext",
          "fasttext",
          "fasttext",
          "fasttext",
          "fasttext",
          "fasttext",
          "fasttext",
          "fasttext",
          "fasttext",
          "fasttext",
          "fasttext",
          "fasttext",
          "fasttext",
          "fasttext",
          "fasttext",
          "fasttext",
          "fasttext",
          "fasttext",
          "fasttext",
          "fasttext",
          "fasttext",
          "fasttext",
          "fasttext",
          "fasttext"
         ],
         "x0": " ",
         "xaxis": "x",
         "y": [
          5.886023294509151,
          77.66990291262135,
          1.8867924528301887,
          53.608247422680414,
          71.42857142857143,
          91.08910891089108,
          46.42857142857143,
          0.1927710843373494,
          12.480739599383668,
          1.0306686777275011,
          23.203251127317262,
          1.9120458891013383,
          10.98310291858679,
          5.114638447971782,
          8.536585365853659,
          23.60335195530726,
          11.512844909609896,
          96.66666666666667,
          16.3265306122449,
          22.413793103448278,
          71.42857142857143,
          98.43260188087774,
          0.5786779434676163,
          91.05431309904154,
          6.93293142426526,
          9.23076923076923,
          20.973782771535582,
          87.5,
          8.866995073891626,
          46.33191293331798,
          2.8629856850715747,
          5.250596658711217,
          100,
          2.6708788052843193,
          28.764981761334028,
          81.25,
          99.66178128523111,
          1.2632297712529874,
          69.65648854961832,
          4.0201005025125625,
          13.609467455621301,
          10.071942446043165
         ],
         "y0": " ",
         "yaxis": "y"
        }
       ],
       "layout": {
        "autosize": true,
        "legend": {
         "title": {
          "text": "measure"
         },
         "tracegroupgap": 0
        },
        "margin": {
         "t": 60
        },
        "template": {
         "data": {
          "bar": [
           {
            "error_x": {
             "color": "#2a3f5f"
            },
            "error_y": {
             "color": "#2a3f5f"
            },
            "marker": {
             "line": {
              "color": "#E5ECF6",
              "width": 0.5
             },
             "pattern": {
              "fillmode": "overlay",
              "size": 10,
              "solidity": 0.2
             }
            },
            "type": "bar"
           }
          ],
          "barpolar": [
           {
            "marker": {
             "line": {
              "color": "#E5ECF6",
              "width": 0.5
             },
             "pattern": {
              "fillmode": "overlay",
              "size": 10,
              "solidity": 0.2
             }
            },
            "type": "barpolar"
           }
          ],
          "carpet": [
           {
            "aaxis": {
             "endlinecolor": "#2a3f5f",
             "gridcolor": "white",
             "linecolor": "white",
             "minorgridcolor": "white",
             "startlinecolor": "#2a3f5f"
            },
            "baxis": {
             "endlinecolor": "#2a3f5f",
             "gridcolor": "white",
             "linecolor": "white",
             "minorgridcolor": "white",
             "startlinecolor": "#2a3f5f"
            },
            "type": "carpet"
           }
          ],
          "choropleth": [
           {
            "colorbar": {
             "outlinewidth": 0,
             "ticks": ""
            },
            "type": "choropleth"
           }
          ],
          "contour": [
           {
            "colorbar": {
             "outlinewidth": 0,
             "ticks": ""
            },
            "colorscale": [
             [
              0,
              "#0d0887"
             ],
             [
              0.1111111111111111,
              "#46039f"
             ],
             [
              0.2222222222222222,
              "#7201a8"
             ],
             [
              0.3333333333333333,
              "#9c179e"
             ],
             [
              0.4444444444444444,
              "#bd3786"
             ],
             [
              0.5555555555555556,
              "#d8576b"
             ],
             [
              0.6666666666666666,
              "#ed7953"
             ],
             [
              0.7777777777777778,
              "#fb9f3a"
             ],
             [
              0.8888888888888888,
              "#fdca26"
             ],
             [
              1,
              "#f0f921"
             ]
            ],
            "type": "contour"
           }
          ],
          "contourcarpet": [
           {
            "colorbar": {
             "outlinewidth": 0,
             "ticks": ""
            },
            "type": "contourcarpet"
           }
          ],
          "heatmap": [
           {
            "colorbar": {
             "outlinewidth": 0,
             "ticks": ""
            },
            "colorscale": [
             [
              0,
              "#0d0887"
             ],
             [
              0.1111111111111111,
              "#46039f"
             ],
             [
              0.2222222222222222,
              "#7201a8"
             ],
             [
              0.3333333333333333,
              "#9c179e"
             ],
             [
              0.4444444444444444,
              "#bd3786"
             ],
             [
              0.5555555555555556,
              "#d8576b"
             ],
             [
              0.6666666666666666,
              "#ed7953"
             ],
             [
              0.7777777777777778,
              "#fb9f3a"
             ],
             [
              0.8888888888888888,
              "#fdca26"
             ],
             [
              1,
              "#f0f921"
             ]
            ],
            "type": "heatmap"
           }
          ],
          "heatmapgl": [
           {
            "colorbar": {
             "outlinewidth": 0,
             "ticks": ""
            },
            "colorscale": [
             [
              0,
              "#0d0887"
             ],
             [
              0.1111111111111111,
              "#46039f"
             ],
             [
              0.2222222222222222,
              "#7201a8"
             ],
             [
              0.3333333333333333,
              "#9c179e"
             ],
             [
              0.4444444444444444,
              "#bd3786"
             ],
             [
              0.5555555555555556,
              "#d8576b"
             ],
             [
              0.6666666666666666,
              "#ed7953"
             ],
             [
              0.7777777777777778,
              "#fb9f3a"
             ],
             [
              0.8888888888888888,
              "#fdca26"
             ],
             [
              1,
              "#f0f921"
             ]
            ],
            "type": "heatmapgl"
           }
          ],
          "histogram": [
           {
            "marker": {
             "pattern": {
              "fillmode": "overlay",
              "size": 10,
              "solidity": 0.2
             }
            },
            "type": "histogram"
           }
          ],
          "histogram2d": [
           {
            "colorbar": {
             "outlinewidth": 0,
             "ticks": ""
            },
            "colorscale": [
             [
              0,
              "#0d0887"
             ],
             [
              0.1111111111111111,
              "#46039f"
             ],
             [
              0.2222222222222222,
              "#7201a8"
             ],
             [
              0.3333333333333333,
              "#9c179e"
             ],
             [
              0.4444444444444444,
              "#bd3786"
             ],
             [
              0.5555555555555556,
              "#d8576b"
             ],
             [
              0.6666666666666666,
              "#ed7953"
             ],
             [
              0.7777777777777778,
              "#fb9f3a"
             ],
             [
              0.8888888888888888,
              "#fdca26"
             ],
             [
              1,
              "#f0f921"
             ]
            ],
            "type": "histogram2d"
           }
          ],
          "histogram2dcontour": [
           {
            "colorbar": {
             "outlinewidth": 0,
             "ticks": ""
            },
            "colorscale": [
             [
              0,
              "#0d0887"
             ],
             [
              0.1111111111111111,
              "#46039f"
             ],
             [
              0.2222222222222222,
              "#7201a8"
             ],
             [
              0.3333333333333333,
              "#9c179e"
             ],
             [
              0.4444444444444444,
              "#bd3786"
             ],
             [
              0.5555555555555556,
              "#d8576b"
             ],
             [
              0.6666666666666666,
              "#ed7953"
             ],
             [
              0.7777777777777778,
              "#fb9f3a"
             ],
             [
              0.8888888888888888,
              "#fdca26"
             ],
             [
              1,
              "#f0f921"
             ]
            ],
            "type": "histogram2dcontour"
           }
          ],
          "mesh3d": [
           {
            "colorbar": {
             "outlinewidth": 0,
             "ticks": ""
            },
            "type": "mesh3d"
           }
          ],
          "parcoords": [
           {
            "line": {
             "colorbar": {
              "outlinewidth": 0,
              "ticks": ""
             }
            },
            "type": "parcoords"
           }
          ],
          "pie": [
           {
            "automargin": true,
            "type": "pie"
           }
          ],
          "scatter": [
           {
            "fillpattern": {
             "fillmode": "overlay",
             "size": 10,
             "solidity": 0.2
            },
            "type": "scatter"
           }
          ],
          "scatter3d": [
           {
            "line": {
             "colorbar": {
              "outlinewidth": 0,
              "ticks": ""
             }
            },
            "marker": {
             "colorbar": {
              "outlinewidth": 0,
              "ticks": ""
             }
            },
            "type": "scatter3d"
           }
          ],
          "scattercarpet": [
           {
            "marker": {
             "colorbar": {
              "outlinewidth": 0,
              "ticks": ""
             }
            },
            "type": "scattercarpet"
           }
          ],
          "scattergeo": [
           {
            "marker": {
             "colorbar": {
              "outlinewidth": 0,
              "ticks": ""
             }
            },
            "type": "scattergeo"
           }
          ],
          "scattergl": [
           {
            "marker": {
             "colorbar": {
              "outlinewidth": 0,
              "ticks": ""
             }
            },
            "type": "scattergl"
           }
          ],
          "scattermapbox": [
           {
            "marker": {
             "colorbar": {
              "outlinewidth": 0,
              "ticks": ""
             }
            },
            "type": "scattermapbox"
           }
          ],
          "scatterpolar": [
           {
            "marker": {
             "colorbar": {
              "outlinewidth": 0,
              "ticks": ""
             }
            },
            "type": "scatterpolar"
           }
          ],
          "scatterpolargl": [
           {
            "marker": {
             "colorbar": {
              "outlinewidth": 0,
              "ticks": ""
             }
            },
            "type": "scatterpolargl"
           }
          ],
          "scatterternary": [
           {
            "marker": {
             "colorbar": {
              "outlinewidth": 0,
              "ticks": ""
             }
            },
            "type": "scatterternary"
           }
          ],
          "surface": [
           {
            "colorbar": {
             "outlinewidth": 0,
             "ticks": ""
            },
            "colorscale": [
             [
              0,
              "#0d0887"
             ],
             [
              0.1111111111111111,
              "#46039f"
             ],
             [
              0.2222222222222222,
              "#7201a8"
             ],
             [
              0.3333333333333333,
              "#9c179e"
             ],
             [
              0.4444444444444444,
              "#bd3786"
             ],
             [
              0.5555555555555556,
              "#d8576b"
             ],
             [
              0.6666666666666666,
              "#ed7953"
             ],
             [
              0.7777777777777778,
              "#fb9f3a"
             ],
             [
              0.8888888888888888,
              "#fdca26"
             ],
             [
              1,
              "#f0f921"
             ]
            ],
            "type": "surface"
           }
          ],
          "table": [
           {
            "cells": {
             "fill": {
              "color": "#EBF0F8"
             },
             "line": {
              "color": "white"
             }
            },
            "header": {
             "fill": {
              "color": "#C8D4E3"
             },
             "line": {
              "color": "white"
             }
            },
            "type": "table"
           }
          ]
         },
         "layout": {
          "annotationdefaults": {
           "arrowcolor": "#2a3f5f",
           "arrowhead": 0,
           "arrowwidth": 1
          },
          "autotypenumbers": "strict",
          "coloraxis": {
           "colorbar": {
            "outlinewidth": 0,
            "ticks": ""
           }
          },
          "colorscale": {
           "diverging": [
            [
             0,
             "#8e0152"
            ],
            [
             0.1,
             "#c51b7d"
            ],
            [
             0.2,
             "#de77ae"
            ],
            [
             0.3,
             "#f1b6da"
            ],
            [
             0.4,
             "#fde0ef"
            ],
            [
             0.5,
             "#f7f7f7"
            ],
            [
             0.6,
             "#e6f5d0"
            ],
            [
             0.7,
             "#b8e186"
            ],
            [
             0.8,
             "#7fbc41"
            ],
            [
             0.9,
             "#4d9221"
            ],
            [
             1,
             "#276419"
            ]
           ],
           "sequential": [
            [
             0,
             "#0d0887"
            ],
            [
             0.1111111111111111,
             "#46039f"
            ],
            [
             0.2222222222222222,
             "#7201a8"
            ],
            [
             0.3333333333333333,
             "#9c179e"
            ],
            [
             0.4444444444444444,
             "#bd3786"
            ],
            [
             0.5555555555555556,
             "#d8576b"
            ],
            [
             0.6666666666666666,
             "#ed7953"
            ],
            [
             0.7777777777777778,
             "#fb9f3a"
            ],
            [
             0.8888888888888888,
             "#fdca26"
            ],
            [
             1,
             "#f0f921"
            ]
           ],
           "sequentialminus": [
            [
             0,
             "#0d0887"
            ],
            [
             0.1111111111111111,
             "#46039f"
            ],
            [
             0.2222222222222222,
             "#7201a8"
            ],
            [
             0.3333333333333333,
             "#9c179e"
            ],
            [
             0.4444444444444444,
             "#bd3786"
            ],
            [
             0.5555555555555556,
             "#d8576b"
            ],
            [
             0.6666666666666666,
             "#ed7953"
            ],
            [
             0.7777777777777778,
             "#fb9f3a"
            ],
            [
             0.8888888888888888,
             "#fdca26"
            ],
            [
             1,
             "#f0f921"
            ]
           ]
          },
          "colorway": [
           "#636efa",
           "#EF553B",
           "#00cc96",
           "#ab63fa",
           "#FFA15A",
           "#19d3f3",
           "#FF6692",
           "#B6E880",
           "#FF97FF",
           "#FECB52"
          ],
          "font": {
           "color": "#2a3f5f"
          },
          "geo": {
           "bgcolor": "white",
           "lakecolor": "white",
           "landcolor": "#E5ECF6",
           "showlakes": true,
           "showland": true,
           "subunitcolor": "white"
          },
          "hoverlabel": {
           "align": "left"
          },
          "hovermode": "closest",
          "mapbox": {
           "style": "light"
          },
          "paper_bgcolor": "white",
          "plot_bgcolor": "#E5ECF6",
          "polar": {
           "angularaxis": {
            "gridcolor": "white",
            "linecolor": "white",
            "ticks": ""
           },
           "bgcolor": "#E5ECF6",
           "radialaxis": {
            "gridcolor": "white",
            "linecolor": "white",
            "ticks": ""
           }
          },
          "scene": {
           "xaxis": {
            "backgroundcolor": "#E5ECF6",
            "gridcolor": "white",
            "gridwidth": 2,
            "linecolor": "white",
            "showbackground": true,
            "ticks": "",
            "zerolinecolor": "white"
           },
           "yaxis": {
            "backgroundcolor": "#E5ECF6",
            "gridcolor": "white",
            "gridwidth": 2,
            "linecolor": "white",
            "showbackground": true,
            "ticks": "",
            "zerolinecolor": "white"
           },
           "zaxis": {
            "backgroundcolor": "#E5ECF6",
            "gridcolor": "white",
            "gridwidth": 2,
            "linecolor": "white",
            "showbackground": true,
            "ticks": "",
            "zerolinecolor": "white"
           }
          },
          "shapedefaults": {
           "line": {
            "color": "#2a3f5f"
           }
          },
          "ternary": {
           "aaxis": {
            "gridcolor": "white",
            "linecolor": "white",
            "ticks": ""
           },
           "baxis": {
            "gridcolor": "white",
            "linecolor": "white",
            "ticks": ""
           },
           "bgcolor": "#E5ECF6",
           "caxis": {
            "gridcolor": "white",
            "linecolor": "white",
            "ticks": ""
           }
          },
          "title": {
           "x": 0.05
          },
          "xaxis": {
           "automargin": true,
           "gridcolor": "white",
           "linecolor": "white",
           "ticks": "",
           "title": {
            "standoff": 15
           },
           "zerolinecolor": "white",
           "zerolinewidth": 2
          },
          "yaxis": {
           "automargin": true,
           "gridcolor": "white",
           "linecolor": "white",
           "ticks": "",
           "title": {
            "standoff": 15
           },
           "zerolinecolor": "white",
           "zerolinewidth": 2
          }
         }
        },
        "violinmode": "group",
        "xaxis": {
         "anchor": "y",
         "autorange": true,
         "domain": [
          0,
          1
         ],
         "range": [
          -0.5956050656291755,
          0.5576634245067987
         ],
         "title": {
          "text": "model"
         },
         "type": "category"
        },
        "yaxis": {
         "anchor": "x",
         "autorange": true,
         "domain": [
          0,
          1
         ],
         "range": [
          -45.336541788314804,
          145.52931287265216
         ],
         "title": {
          "text": "value"
         },
         "type": "linear"
        }
       }
      },
      "image/png": "[encoded data removed]",
      "text/html": [
       "<div>                            <div id=\"0d1e2ee4-bd0e-49b1-8519-1b65f5ac8821\" class=\"plotly-graph-div\" style=\"height:525px; width:100%;\"></div>            <script type=\"text/javascript\">                require([\"plotly\"], function(Plotly) {                    window.PLOTLYENV=window.PLOTLYENV || {};                                    if (document.getElementById(\"0d1e2ee4-bd0e-49b1-8519-1b65f5ac8821\")) {                    Plotly.newPlot(                        \"0d1e2ee4-bd0e-49b1-8519-1b65f5ac8821\",                        [{\"alignmentgroup\":\"True\",\"box\":{\"visible\":true},\"customdata\":[[\"bio_material_sam\",\"%tokens_found\"],[\"biological_material_preprocessing_sam\",\"%tokens_found\"],[\"collection_label_sam\",\"%tokens_found\"],[\"comments_sam\",\"%tokens_found\"],[\"conductivity_sam\",\"%tokens_found\"],[\"corrected_species_name_sam\",\"%tokens_found\"],[\"coverage_sam\",\"%tokens_found\"],[\"date_of_birth_sam\",\"%tokens_found\"],[\"derived_from_sam\",\"%tokens_found\"],[\"description_exp\",\"%tokens_found\"],[\"description_sam\",\"%tokens_found\"],[\"descriptor_sam\",\"%tokens_found\"],[\"details_sam\",\"%tokens_found\"],[\"diagnostic_pcr_ct_value_1_sam\",\"%tokens_found\"],[\"dissolved_oxygen_sam\",\"%tokens_found\"],[\"experimental_factor__rna_interference_exp\",\"%tokens_found\"],[\"experimental_factor__strain_exp\",\"%tokens_found\"],[\"extra_info_sam\",\"%tokens_found\"],[\"fiber_sam\",\"%tokens_found\"],[\"glucose_sam\",\"%tokens_found\"],[\"host_exp\",\"%tokens_found\"],[\"host_scietific_nam_sam\",\"%tokens_found\"],[\"isolate_run\",\"%tokens_found\"],[\"isolation_site_sam\",\"%tokens_found\"],[\"misc_param_sam\",\"%tokens_found\"],[\"mlst__scheme_sam\",\"%tokens_found\"],[\"nitrate_sam\",\"%tokens_found\"],[\"redox_potential_sam\",\"%tokens_found\"],[\"replicate_group_sam\",\"%tokens_found\"],[\"sample_comment_sam\",\"%tokens_found\"],[\"sampling_date_run\",\"%tokens_found\"],[\"sequence_sam\",\"%tokens_found\"],[\"single_cell_sam\",\"%tokens_found\"],[\"specimen_sam\",\"%tokens_found\"],[\"subsrc_note_sam\",\"%tokens_found\"],[\"symptom_sam\",\"%tokens_found\"],[\"taxonomy_species_sam\",\"%tokens_found\"],[\"time_of_collection_sam\",\"%tokens_found\"],[\"tretment_sam\",\"%tokens_found\"],[\"tumor_size_sam\",\"%tokens_found\"],[\"water_content_sam\",\"%tokens_found\"],[\"ww_surv_target_1_conc_sam\",\"%tokens_found\"]],\"hovertemplate\":\"measure=%{customdata[1]}\\u003cbr\\u003emodel=%{x}\\u003cbr\\u003evalue=%{y}\\u003cbr\\u003efield=%{customdata[0]}\\u003cextra\\u003e\\u003c\\u002fextra\\u003e\",\"legendgroup\":\"%tokens_found\",\"marker\":{\"color\":\"#636efa\"},\"name\":\"%tokens_found\",\"offsetgroup\":\"%tokens_found\",\"orientation\":\"v\",\"points\":\"all\",\"scalegroup\":\"True\",\"showlegend\":true,\"x\":[\"fasttext\",\"fasttext\",\"fasttext\",\"fasttext\",\"fasttext\",\"fasttext\",\"fasttext\",\"fasttext\",\"fasttext\",\"fasttext\",\"fasttext\",\"fasttext\",\"fasttext\",\"fasttext\",\"fasttext\",\"fasttext\",\"fasttext\",\"fasttext\",\"fasttext\",\"fasttext\",\"fasttext\",\"fasttext\",\"fasttext\",\"fasttext\",\"fasttext\",\"fasttext\",\"fasttext\",\"fasttext\",\"fasttext\",\"fasttext\",\"fasttext\",\"fasttext\",\"fasttext\",\"fasttext\",\"fasttext\",\"fasttext\",\"fasttext\",\"fasttext\",\"fasttext\",\"fasttext\",\"fasttext\",\"fasttext\"],\"x0\":\" \",\"xaxis\":\"x\",\"y\":[70.54315594225535,97.60195084960124,10.350492880613363,90.33802547160778,98.30255296034764,90.31066695633282,99.92415815552634,0.8812337272181053,70.9090909090909,63.12363105378438,89.86923797067064,61.562084993359896,64.16584402764067,99.9496248783883,91.90821256038647,78.30918669739874,36.95931901415421,99.70172996619607,94.08983451536643,87.30496453900709,99.91067440821796,99.07933398628795,58.03871152060567,94.80340308116809,74.28796369193721,83.86773547094188,95.72141668647492,99.97135080933964,33.399014778325125,88.9758288638438,44.213417026284816,60.33383915022762,100.0,60.545561308920085,86.12176738728166,87.01635938717216,99.86940298507463,39.46857222145137,89.92968024412896,50.828729281767956,92.1311980289498,99.07790620376129],\"y0\":\" \",\"yaxis\":\"y\",\"type\":\"violin\"},{\"alignmentgroup\":\"True\",\"box\":{\"visible\":true},\"customdata\":[[\"bio_material_sam\",\"%uniq_found\"],[\"biological_material_preprocessing_sam\",\"%uniq_found\"],[\"collection_label_sam\",\"%uniq_found\"],[\"comments_sam\",\"%uniq_found\"],[\"conductivity_sam\",\"%uniq_found\"],[\"corrected_species_name_sam\",\"%uniq_found\"],[\"coverage_sam\",\"%uniq_found\"],[\"date_of_birth_sam\",\"%uniq_found\"],[\"derived_from_sam\",\"%uniq_found\"],[\"description_exp\",\"%uniq_found\"],[\"description_sam\",\"%uniq_found\"],[\"descriptor_sam\",\"%uniq_found\"],[\"details_sam\",\"%uniq_found\"],[\"diagnostic_pcr_ct_value_1_sam\",\"%uniq_found\"],[\"dissolved_oxygen_sam\",\"%uniq_found\"],[\"experimental_factor__rna_interference_exp\",\"%uniq_found\"],[\"experimental_factor__strain_exp\",\"%uniq_found\"],[\"extra_info_sam\",\"%uniq_found\"],[\"fiber_sam\",\"%uniq_found\"],[\"glucose_sam\",\"%uniq_found\"],[\"host_exp\",\"%uniq_found\"],[\"host_scietific_nam_sam\",\"%uniq_found\"],[\"isolate_run\",\"%uniq_found\"],[\"isolation_site_sam\",\"%uniq_found\"],[\"misc_param_sam\",\"%uniq_found\"],[\"mlst__scheme_sam\",\"%uniq_found\"],[\"nitrate_sam\",\"%uniq_found\"],[\"redox_potential_sam\",\"%uniq_found\"],[\"replicate_group_sam\",\"%uniq_found\"],[\"sample_comment_sam\",\"%uniq_found\"],[\"sampling_date_run\",\"%uniq_found\"],[\"sequence_sam\",\"%uniq_found\"],[\"single_cell_sam\",\"%uniq_found\"],[\"specimen_sam\",\"%uniq_found\"],[\"subsrc_note_sam\",\"%uniq_found\"],[\"symptom_sam\",\"%uniq_found\"],[\"taxonomy_species_sam\",\"%uniq_found\"],[\"time_of_collection_sam\",\"%uniq_found\"],[\"tretment_sam\",\"%uniq_found\"],[\"tumor_size_sam\",\"%uniq_found\"],[\"water_content_sam\",\"%uniq_found\"],[\"ww_surv_target_1_conc_sam\",\"%uniq_found\"]],\"hovertemplate\":\"measure=%{customdata[1]}\\u003cbr\\u003emodel=%{x}\\u003cbr\\u003evalue=%{y}\\u003cbr\\u003efield=%{customdata[0]}\\u003cextra\\u003e\\u003c\\u002fextra\\u003e\",\"legendgroup\":\"%uniq_found\",\"marker\":{\"color\":\"#EF553B\"},\"name\":\"%uniq_found\",\"offsetgroup\":\"%uniq_found\",\"orientation\":\"v\",\"points\":\"all\",\"scalegroup\":\"True\",\"showlegend\":true,\"x\":[\"fasttext\",\"fasttext\",\"fasttext\",\"fasttext\",\"fasttext\",\"fasttext\",\"fasttext\",\"fasttext\",\"fasttext\",\"fasttext\",\"fasttext\",\"fasttext\",\"fasttext\",\"fasttext\",\"fasttext\",\"fasttext\",\"fasttext\",\"fasttext\",\"fasttext\",\"fasttext\",\"fasttext\",\"fasttext\",\"fasttext\",\"fasttext\",\"fasttext\",\"fasttext\",\"fasttext\",\"fasttext\",\"fasttext\",\"fasttext\",\"fasttext\",\"fasttext\",\"fasttext\",\"fasttext\",\"fasttext\",\"fasttext\",\"fasttext\",\"fasttext\",\"fasttext\",\"fasttext\",\"fasttext\",\"fasttext\"],\"x0\":\" \",\"xaxis\":\"x\",\"y\":[5.886023294509151,77.66990291262135,1.8867924528301887,53.608247422680414,71.42857142857143,91.08910891089108,46.42857142857143,0.1927710843373494,12.480739599383668,1.0306686777275011,23.203251127317262,1.9120458891013383,10.98310291858679,5.114638447971782,8.536585365853659,23.60335195530726,11.512844909609896,96.66666666666667,16.3265306122449,22.413793103448278,71.42857142857143,98.43260188087774,0.5786779434676163,91.05431309904154,6.93293142426526,9.23076923076923,20.973782771535582,87.5,8.866995073891626,46.33191293331798,2.8629856850715747,5.250596658711217,100.0,2.6708788052843193,28.764981761334028,81.25,99.66178128523111,1.2632297712529874,69.65648854961832,4.0201005025125625,13.609467455621301,10.071942446043165],\"y0\":\" \",\"yaxis\":\"y\",\"type\":\"violin\"}],                        {\"template\":{\"data\":{\"histogram2dcontour\":[{\"type\":\"histogram2dcontour\",\"colorbar\":{\"outlinewidth\":0,\"ticks\":\"\"},\"colorscale\":[[0.0,\"#0d0887\"],[0.1111111111111111,\"#46039f\"],[0.2222222222222222,\"#7201a8\"],[0.3333333333333333,\"#9c179e\"],[0.4444444444444444,\"#bd3786\"],[0.5555555555555556,\"#d8576b\"],[0.6666666666666666,\"#ed7953\"],[0.7777777777777778,\"#fb9f3a\"],[0.8888888888888888,\"#fdca26\"],[1.0,\"#f0f921\"]]}],\"choropleth\":[{\"type\":\"choropleth\",\"colorbar\":{\"outlinewidth\":0,\"ticks\":\"\"}}],\"histogram2d\":[{\"type\":\"histogram2d\",\"colorbar\":{\"outlinewidth\":0,\"ticks\":\"\"},\"colorscale\":[[0.0,\"#0d0887\"],[0.1111111111111111,\"#46039f\"],[0.2222222222222222,\"#7201a8\"],[0.3333333333333333,\"#9c179e\"],[0.4444444444444444,\"#bd3786\"],[0.5555555555555556,\"#d8576b\"],[0.6666666666666666,\"#ed7953\"],[0.7777777777777778,\"#fb9f3a\"],[0.8888888888888888,\"#fdca26\"],[1.0,\"#f0f921\"]]}],\"heatmap\":[{\"type\":\"heatmap\",\"colorbar\":{\"outlinewidth\":0,\"ticks\":\"\"},\"colorscale\":[[0.0,\"#0d0887\"],[0.1111111111111111,\"#46039f\"],[0.2222222222222222,\"#7201a8\"],[0.3333333333333333,\"#9c179e\"],[0.4444444444444444,\"#bd3786\"],[0.5555555555555556,\"#d8576b\"],[0.6666666666666666,\"#ed7953\"],[0.7777777777777778,\"#fb9f3a\"],[0.8888888888888888,\"#fdca26\"],[1.0,\"#f0f921\"]]}],\"heatmapgl\":[{\"type\":\"heatmapgl\",\"colorbar\":{\"outlinewidth\":0,\"ticks\":\"\"},\"colorscale\":[[0.0,\"#0d0887\"],[0.1111111111111111,\"#46039f\"],[0.2222222222222222,\"#7201a8\"],[0.3333333333333333,\"#9c179e\"],[0.4444444444444444,\"#bd3786\"],[0.5555555555555556,\"#d8576b\"],[0.6666666666666666,\"#ed7953\"],[0.7777777777777778,\"#fb9f3a\"],[0.8888888888888888,\"#fdca26\"],[1.0,\"#f0f921\"]]}],\"contourcarpet\":[{\"type\":\"contourcarpet\",\"colorbar\":{\"outlinewidth\":0,\"ticks\":\"\"}}],\"contour\":[{\"type\":\"contour\",\"colorbar\":{\"outlinewidth\":0,\"ticks\":\"\"},\"colorscale\":[[0.0,\"#0d0887\"],[0.1111111111111111,\"#46039f\"],[0.2222222222222222,\"#7201a8\"],[0.3333333333333333,\"#9c179e\"],[0.4444444444444444,\"#bd3786\"],[0.5555555555555556,\"#d8576b\"],[0.6666666666666666,\"#ed7953\"],[0.7777777777777778,\"#fb9f3a\"],[0.8888888888888888,\"#fdca26\"],[1.0,\"#f0f921\"]]}],\"surface\":[{\"type\":\"surface\",\"colorbar\":{\"outlinewidth\":0,\"ticks\":\"\"},\"colorscale\":[[0.0,\"#0d0887\"],[0.1111111111111111,\"#46039f\"],[0.2222222222222222,\"#7201a8\"],[0.3333333333333333,\"#9c179e\"],[0.4444444444444444,\"#bd3786\"],[0.5555555555555556,\"#d8576b\"],[0.6666666666666666,\"#ed7953\"],[0.7777777777777778,\"#fb9f3a\"],[0.8888888888888888,\"#fdca26\"],[1.0,\"#f0f921\"]]}],\"mesh3d\":[{\"type\":\"mesh3d\",\"colorbar\":{\"outlinewidth\":0,\"ticks\":\"\"}}],\"scatter\":[{\"fillpattern\":{\"fillmode\":\"overlay\",\"size\":10,\"solidity\":0.2},\"type\":\"scatter\"}],\"parcoords\":[{\"type\":\"parcoords\",\"line\":{\"colorbar\":{\"outlinewidth\":0,\"ticks\":\"\"}}}],\"scatterpolargl\":[{\"type\":\"scatterpolargl\",\"marker\":{\"colorbar\":{\"outlinewidth\":0,\"ticks\":\"\"}}}],\"bar\":[{\"error_x\":{\"color\":\"#2a3f5f\"},\"error_y\":{\"color\":\"#2a3f5f\"},\"marker\":{\"line\":{\"color\":\"#E5ECF6\",\"width\":0.5},\"pattern\":{\"fillmode\":\"overlay\",\"size\":10,\"solidity\":0.2}},\"type\":\"bar\"}],\"scattergeo\":[{\"type\":\"scattergeo\",\"marker\":{\"colorbar\":{\"outlinewidth\":0,\"ticks\":\"\"}}}],\"scatterpolar\":[{\"type\":\"scatterpolar\",\"marker\":{\"colorbar\":{\"outlinewidth\":0,\"ticks\":\"\"}}}],\"histogram\":[{\"marker\":{\"pattern\":{\"fillmode\":\"overlay\",\"size\":10,\"solidity\":0.2}},\"type\":\"histogram\"}],\"scattergl\":[{\"type\":\"scattergl\",\"marker\":{\"colorbar\":{\"outlinewidth\":0,\"ticks\":\"\"}}}],\"scatter3d\":[{\"type\":\"scatter3d\",\"line\":{\"colorbar\":{\"outlinewidth\":0,\"ticks\":\"\"}},\"marker\":{\"colorbar\":{\"outlinewidth\":0,\"ticks\":\"\"}}}],\"scattermapbox\":[{\"type\":\"scattermapbox\",\"marker\":{\"colorbar\":{\"outlinewidth\":0,\"ticks\":\"\"}}}],\"scatterternary\":[{\"type\":\"scatterternary\",\"marker\":{\"colorbar\":{\"outlinewidth\":0,\"ticks\":\"\"}}}],\"scattercarpet\":[{\"type\":\"scattercarpet\",\"marker\":{\"colorbar\":{\"outlinewidth\":0,\"ticks\":\"\"}}}],\"carpet\":[{\"aaxis\":{\"endlinecolor\":\"#2a3f5f\",\"gridcolor\":\"white\",\"linecolor\":\"white\",\"minorgridcolor\":\"white\",\"startlinecolor\":\"#2a3f5f\"},\"baxis\":{\"endlinecolor\":\"#2a3f5f\",\"gridcolor\":\"white\",\"linecolor\":\"white\",\"minorgridcolor\":\"white\",\"startlinecolor\":\"#2a3f5f\"},\"type\":\"carpet\"}],\"table\":[{\"cells\":{\"fill\":{\"color\":\"#EBF0F8\"},\"line\":{\"color\":\"white\"}},\"header\":{\"fill\":{\"color\":\"#C8D4E3\"},\"line\":{\"color\":\"white\"}},\"type\":\"table\"}],\"barpolar\":[{\"marker\":{\"line\":{\"color\":\"#E5ECF6\",\"width\":0.5},\"pattern\":{\"fillmode\":\"overlay\",\"size\":10,\"solidity\":0.2}},\"type\":\"barpolar\"}],\"pie\":[{\"automargin\":true,\"type\":\"pie\"}]},\"layout\":{\"autotypenumbers\":\"strict\",\"colorway\":[\"#636efa\",\"#EF553B\",\"#00cc96\",\"#ab63fa\",\"#FFA15A\",\"#19d3f3\",\"#FF6692\",\"#B6E880\",\"#FF97FF\",\"#FECB52\"],\"font\":{\"color\":\"#2a3f5f\"},\"hovermode\":\"closest\",\"hoverlabel\":{\"align\":\"left\"},\"paper_bgcolor\":\"white\",\"plot_bgcolor\":\"#E5ECF6\",\"polar\":{\"bgcolor\":\"#E5ECF6\",\"angularaxis\":{\"gridcolor\":\"white\",\"linecolor\":\"white\",\"ticks\":\"\"},\"radialaxis\":{\"gridcolor\":\"white\",\"linecolor\":\"white\",\"ticks\":\"\"}},\"ternary\":{\"bgcolor\":\"#E5ECF6\",\"aaxis\":{\"gridcolor\":\"white\",\"linecolor\":\"white\",\"ticks\":\"\"},\"baxis\":{\"gridcolor\":\"white\",\"linecolor\":\"white\",\"ticks\":\"\"},\"caxis\":{\"gridcolor\":\"white\",\"linecolor\":\"white\",\"ticks\":\"\"}},\"coloraxis\":{\"colorbar\":{\"outlinewidth\":0,\"ticks\":\"\"}},\"colorscale\":{\"sequential\":[[0.0,\"#0d0887\"],[0.1111111111111111,\"#46039f\"],[0.2222222222222222,\"#7201a8\"],[0.3333333333333333,\"#9c179e\"],[0.4444444444444444,\"#bd3786\"],[0.5555555555555556,\"#d8576b\"],[0.6666666666666666,\"#ed7953\"],[0.7777777777777778,\"#fb9f3a\"],[0.8888888888888888,\"#fdca26\"],[1.0,\"#f0f921\"]],\"sequentialminus\":[[0.0,\"#0d0887\"],[0.1111111111111111,\"#46039f\"],[0.2222222222222222,\"#7201a8\"],[0.3333333333333333,\"#9c179e\"],[0.4444444444444444,\"#bd3786\"],[0.5555555555555556,\"#d8576b\"],[0.6666666666666666,\"#ed7953\"],[0.7777777777777778,\"#fb9f3a\"],[0.8888888888888888,\"#fdca26\"],[1.0,\"#f0f921\"]],\"diverging\":[[0,\"#8e0152\"],[0.1,\"#c51b7d\"],[0.2,\"#de77ae\"],[0.3,\"#f1b6da\"],[0.4,\"#fde0ef\"],[0.5,\"#f7f7f7\"],[0.6,\"#e6f5d0\"],[0.7,\"#b8e186\"],[0.8,\"#7fbc41\"],[0.9,\"#4d9221\"],[1,\"#276419\"]]},\"xaxis\":{\"gridcolor\":\"white\",\"linecolor\":\"white\",\"ticks\":\"\",\"title\":{\"standoff\":15},\"zerolinecolor\":\"white\",\"automargin\":true,\"zerolinewidth\":2},\"yaxis\":{\"gridcolor\":\"white\",\"linecolor\":\"white\",\"ticks\":\"\",\"title\":{\"standoff\":15},\"zerolinecolor\":\"white\",\"automargin\":true,\"zerolinewidth\":2},\"scene\":{\"xaxis\":{\"backgroundcolor\":\"#E5ECF6\",\"gridcolor\":\"white\",\"linecolor\":\"white\",\"showbackground\":true,\"ticks\":\"\",\"zerolinecolor\":\"white\",\"gridwidth\":2},\"yaxis\":{\"backgroundcolor\":\"#E5ECF6\",\"gridcolor\":\"white\",\"linecolor\":\"white\",\"showbackground\":true,\"ticks\":\"\",\"zerolinecolor\":\"white\",\"gridwidth\":2},\"zaxis\":{\"backgroundcolor\":\"#E5ECF6\",\"gridcolor\":\"white\",\"linecolor\":\"white\",\"showbackground\":true,\"ticks\":\"\",\"zerolinecolor\":\"white\",\"gridwidth\":2}},\"shapedefaults\":{\"line\":{\"color\":\"#2a3f5f\"}},\"annotationdefaults\":{\"arrowcolor\":\"#2a3f5f\",\"arrowhead\":0,\"arrowwidth\":1},\"geo\":{\"bgcolor\":\"white\",\"landcolor\":\"#E5ECF6\",\"subunitcolor\":\"white\",\"showland\":true,\"showlakes\":true,\"lakecolor\":\"white\"},\"title\":{\"x\":0.05},\"mapbox\":{\"style\":\"light\"}}},\"xaxis\":{\"anchor\":\"y\",\"domain\":[0.0,1.0],\"title\":{\"text\":\"model\"}},\"yaxis\":{\"anchor\":\"x\",\"domain\":[0.0,1.0],\"title\":{\"text\":\"value\"}},\"legend\":{\"title\":{\"text\":\"measure\"},\"tracegroupgap\":0},\"margin\":{\"t\":60},\"violinmode\":\"group\"},                        {\"responsive\": true}                    ).then(function(){\n",
       "                            \n",
       "var gd = document.getElementById('0d1e2ee4-bd0e-49b1-8519-1b65f5ac8821');\n",
       "var x = new MutationObserver(function (mutations, observer) {{\n",
       "        var display = window.getComputedStyle(gd).display;\n",
       "        if (!display || display === 'none') {{\n",
       "            console.log([gd, 'removed!']);\n",
       "            Plotly.purge(gd);\n",
       "            observer.disconnect();\n",
       "        }}\n",
       "}});\n",
       "\n",
       "// Listen for the removal of the full notebook cells\n",
       "var notebookContainer = gd.closest('#notebook-container');\n",
       "if (notebookContainer) {{\n",
       "    x.observe(notebookContainer, {childList: true});\n",
       "}}\n",
       "\n",
       "// Listen for the clearing of the current output cell\n",
       "var outputEl = gd.closest('.output');\n",
       "if (outputEl) {{\n",
       "    x.observe(outputEl, {childList: true});\n",
       "}}\n",
       "\n",
       "                        })                };                });            </script>        </div>"
      ]
     },
     "metadata": {},
     "output_type": "display_data"
    }
   ],
   "source": [
    "fig = px.violin(vocab_df2, y=\"value\", x=\"model\", color=\"measure\", box=True, points=\"all\",\n",
    "          hover_data=vocab_df2.columns)\n",
    "fig.show()"
   ]
  },
  {
   "cell_type": "code",
   "execution_count": null,
   "id": "c85c9809-c371-4858-83e6-0733036974c2",
   "metadata": {},
   "outputs": [],
   "source": []
  }
 ],
 "metadata": {
  "kernelspec": {
   "display_name": "Python 3 (ipykernel)",
   "language": "python",
   "name": "python3"
  },
  "language_info": {
   "codemirror_mode": {
    "name": "ipython",
    "version": 3
   },
   "file_extension": ".py",
   "mimetype": "text/x-python",
   "name": "python",
   "nbconvert_exporter": "python",
   "pygments_lexer": "ipython3",
   "version": "3.10.13"
  }
 },
 "nbformat": 4,
 "nbformat_minor": 5
}
